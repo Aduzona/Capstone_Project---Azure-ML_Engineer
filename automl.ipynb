{
  "cells": [
    {
      "cell_type": "markdown",
      "metadata": {},
      "source": [
        "# Automated ML\n",
        "\n",
        "TODO: Import Dependencies. In the cell below, import all the dependencies that you will need to complete the project."
      ]
    },
    {
      "cell_type": "code",
      "execution_count": 1,
      "metadata": {
        "gather": {
          "logged": 1648987401136
        },
        "jupyter": {
          "outputs_hidden": false,
          "source_hidden": false
        },
        "nteract": {
          "transient": {
            "deleting": false
          }
        }
      },
      "outputs": [
        {
          "name": "stdout",
          "output_type": "stream",
          "text": [
            "SDK version: 1.39.0\n"
          ]
        }
      ],
      "source": [
        "import logging\n",
        "import os\n",
        "import csv\n",
        "\n",
        "from matplotlib import pyplot as plt\n",
        "import numpy as np\n",
        "import pandas as pd\n",
        "from sklearn import datasets\n",
        "import pkg_resources\n",
        "\n",
        "import azureml.core\n",
        "from azureml.core.experiment import Experiment\n",
        "from azureml.core.workspace import Workspace\n",
        "from azureml.train.automl import AutoMLConfig\n",
        "from azureml.core.dataset import Dataset\n",
        "from azureml.widgets import RunDetails\n",
        "\n",
        "#from azureml.pipeline.steps import AutoMLStep\n",
        "\n",
        "# Check core SDK version number\n",
        "print(\"SDK version:\", azureml.core.VERSION)"
      ]
    },
    {
      "cell_type": "markdown",
      "metadata": {},
      "source": [
        "## Dataset\n",
        "\n",
        "### Overview\n",
        "TODO: In this markdown cell, give an overview of the dataset you are using. Also mention the task you will be performing.\n",
        "\n",
        "\n",
        "TODO: Get data. In the cell below, write code to access the data you will be using in this project. Remember that the dataset needs to be external."
      ]
    },
    {
      "cell_type": "code",
      "execution_count": 2,
      "metadata": {
        "gather": {
          "logged": 1648987409014
        },
        "jupyter": {
          "outputs_hidden": false,
          "source_hidden": false
        },
        "nteract": {
          "transient": {
            "deleting": false
          }
        }
      },
      "outputs": [],
      "source": [
        "ws = Workspace.from_config()\n",
        "\n",
        "# choose a name for experiment\n",
        "experiment_name = 'automl_heart_failure_exp'\n",
        "\n",
        "experiment=Experiment(ws, experiment_name)"
      ]
    },
    {
      "cell_type": "markdown",
      "metadata": {
        "nteract": {
          "transient": {
            "deleting": false
          }
        }
      },
      "source": [
        "## Dataset"
      ]
    },
    {
      "cell_type": "code",
      "execution_count": 3,
      "metadata": {
        "gather": {
          "logged": 1648987430100
        },
        "jupyter": {
          "outputs_hidden": false,
          "source_hidden": false
        },
        "nteract": {
          "transient": {
            "deleting": false
          }
        }
      },
      "outputs": [
        {
          "name": "stderr",
          "output_type": "stream",
          "text": [
            "\"datastore.upload_files\" is deprecated after version 1.0.69. Please use \"FileDatasetFactory.upload_directory\" instead. See Dataset API change notice at https://aka.ms/dataset-deprecation.\n"
          ]
        }
      ],
      "source": [
        "default_ds = ws.get_default_datastore()\n",
        "\n",
        "if 'Heart Failure' not in ws.datasets:\n",
        "    default_ds.upload_files(files=['./heart_failure_clinical_records_dataset.csv'], # Upload the diabetes csv files in /data\n",
        "                        target_path='data/', # Put it in a folder path in the datastore\n",
        "                        overwrite=True, # Replace existing files of the same name\n",
        "                        show_progress=True)\n",
        "\n",
        "    #Create a tabular dataset from the path on the datastore (this may take a short while)\n",
        "    tab_data_set = Dataset.Tabular.from_delimited_files(path=(default_ds, 'data/*.csv'))\n",
        "\n",
        "    # Register the tabular dataset\n",
        "    try:\n",
        "        tab_data_set = tab_data_set.register(workspace=ws, \n",
        "                                name='Heart Failure',\n",
        "                                description='Clinic data',\n",
        "                                tags = {'format':'CSV'},\n",
        "                                create_new_version=True)\n",
        "        print('Dataset registered.')\n",
        "    except Exception as ex:\n",
        "        print(ex)\n",
        "else:\n",
        "    print('Dataset already registered.')"
      ]
    },
    {
      "cell_type": "code",
      "execution_count": 4,
      "metadata": {
        "gather": {
          "logged": 1648987449083
        },
        "jupyter": {
          "outputs_hidden": false,
          "source_hidden": false
        },
        "nteract": {
          "transient": {
            "deleting": false
          }
        }
      },
      "outputs": [],
      "source": [
        "#folder name created in hyperdrive\n",
        "#import os, shutil\n",
        "\n",
        "# Create a folder for the experiment files\n",
        "folder_name = 'training'\n",
        "experiment_folder = './' + folder_name\n",
        "os.makedirs(folder_name, exist_ok=True)"
      ]
    },
    {
      "cell_type": "markdown",
      "metadata": {
        "nteract": {
          "transient": {
            "deleting": false
          }
        }
      },
      "source": [
        "## Get data\n",
        "\n",
        "Data has been registered using Hyperdrive, if not run hyperdrive first"
      ]
    },
    {
      "cell_type": "code",
      "execution_count": 5,
      "metadata": {
        "gather": {
          "logged": 1648987459075
        },
        "jupyter": {
          "outputs_hidden": false,
          "source_hidden": false
        },
        "nteract": {
          "transient": {
            "deleting": false
          }
        }
      },
      "outputs": [
        {
          "name": "stdout",
          "output_type": "stream",
          "text": [
            "Data ready!\n"
          ]
        }
      ],
      "source": [
        "# Split the dataset into training and validation subsets\n",
        "# Get the training dataset\n",
        "heart_ds = ws.datasets.get(\"Heart Failure\")\n",
        "#heart_ds=heart_ds.to_pandas_dataframe()\n",
        "\n",
        "\n",
        "train_ds, test_ds = heart_ds.random_split(percentage=0.7, seed=123)\n",
        "print(\"Data ready!\")"
      ]
    },
    {
      "cell_type": "code",
      "execution_count": 6,
      "metadata": {
        "gather": {
          "logged": 1648987481034
        },
        "jupyter": {
          "outputs_hidden": false,
          "source_hidden": false
        },
        "nteract": {
          "transient": {
            "deleting": false
          }
        }
      },
      "outputs": [
        {
          "name": "stdout",
          "output_type": "stream",
          "text": [
            "InProgress..\n",
            "SucceededProvisioning operation finished, operation \"Succeeded\"\n",
            "Succeeded\n",
            "AmlCompute wait for completion finished\n",
            "\n",
            "Minimum number of nodes requested have been provisioned\n"
          ]
        }
      ],
      "source": [
        "from azureml.core.compute import ComputeTarget, AmlCompute\n",
        "from azureml.core.compute_target import ComputeTargetException\n",
        "\n",
        "cluster_name = \"aml-cluster\"\n",
        "\n",
        "try:\n",
        "    # Check for existing compute target\n",
        "    training_cluster = ComputeTarget(workspace=ws, name=cluster_name)\n",
        "    print('Found existing cluster, use it.')\n",
        "except ComputeTargetException:\n",
        "    # If it doesn't already exist, create it\n",
        "    try:\n",
        "        compute_config = AmlCompute.provisioning_configuration(vm_size='STANDARD_DS11_V2', max_nodes=2)\n",
        "        training_cluster = ComputeTarget.create(ws, cluster_name, compute_config)\n",
        "        training_cluster.wait_for_completion(show_output=True)\n",
        "    except Exception as ex:\n",
        "        print(ex)"
      ]
    },
    {
      "cell_type": "markdown",
      "metadata": {},
      "source": [
        "## AutoML Configuration\n",
        "\n",
        "TODO: Explain why you chose the automl settings and cofiguration you used below."
      ]
    },
    {
      "cell_type": "code",
      "execution_count": 7,
      "metadata": {
        "gather": {
          "logged": 1648987487784
        },
        "jupyter": {
          "outputs_hidden": false,
          "source_hidden": false
        },
        "nteract": {
          "transient": {
            "deleting": false
          }
        }
      },
      "outputs": [],
      "source": [
        "#from azureml.train.automl import AutoMLConfig\n",
        "\n",
        "# TODO: Put your automl settings here\n",
        "automl_settings = {\n",
        "    \"experiment_timeout_minutes\": 30,\n",
        "    \"max_concurrent_iterations\": 5,\n",
        "    \"primary_metric\" : 'AUC_weighted'\n",
        "}\n",
        "\n",
        "# TODO: Put your automl config here\n",
        "automl_config = AutoMLConfig(compute_target=training_cluster,\n",
        "                             task = \"classification\",\n",
        "                             training_data=train_ds,\n",
        "                             validation_data = test_ds,\n",
        "                             label_column_name=\"DEATH_EVENT\",   \n",
        "                             path = experiment_folder,\n",
        "                             enable_early_stopping= True,\n",
        "                             featurization= 'auto',\n",
        "                             debug_log = \"automl_errors.log\",\n",
        "                             **automl_settings\n",
        "\n",
        ")"
      ]
    },
    {
      "cell_type": "code",
      "execution_count": 8,
      "metadata": {
        "gather": {
          "logged": 1648987505062
        },
        "jupyter": {
          "outputs_hidden": false,
          "source_hidden": false
        },
        "nteract": {
          "transient": {
            "deleting": false
          }
        }
      },
      "outputs": [
        {
          "name": "stdout",
          "output_type": "stream",
          "text": [
            "Submitting Auto ML experiment...\n",
            "Submitting remote run.\n"
          ]
        },
        {
          "data": {
            "text/html": [
              "<table style=\"width:100%\"><tr><th>Experiment</th><th>Id</th><th>Type</th><th>Status</th><th>Details Page</th><th>Docs Page</th></tr><tr><td>heart-automl-sdk</td><td>AutoML_7d88ea04-4d00-4249-89a6-42973cabd9a9</td><td>automl</td><td>NotStarted</td><td><a href=\"https://ml.azure.com/runs/AutoML_7d88ea04-4d00-4249-89a6-42973cabd9a9?wsid=/subscriptions/6eee9ed4-ef02-4ad0-bbbd-194153ad2069/resourcegroups/aml-resource/workspaces/aml-workspace&amp;tid=b8f88a0b-3d95-478b-b123-a494d78523a4\" target=\"_blank\" rel=\"noopener\">Link to Azure Machine Learning studio</a></td><td><a href=\"https://docs.microsoft.com/en-us/python/api/overview/azure/ml/intro?view=azure-ml-py\" target=\"_blank\" rel=\"noopener\">Link to Documentation</a></td></tr></table>"
            ],
            "text/plain": [
              "<IPython.core.display.HTML object>"
            ]
          },
          "metadata": {},
          "output_type": "display_data"
        }
      ],
      "source": [
        "from azureml.widgets import RunDetails\n",
        "\n",
        "# TODO: Submit your experiment\n",
        "print('Submitting Auto ML experiment...')\n",
        "automl_experiment = Experiment(ws, 'heart-automl-sdk')\n",
        "remote_run = automl_experiment.submit(automl_config)"
      ]
    },
    {
      "cell_type": "markdown",
      "metadata": {},
      "source": [
        "## Run Details\n",
        "\n",
        "OPTIONAL: Write about the different models trained and their performance. Why do you think some models did better than others?\n",
        "\n",
        "TODO: In the cell below, use the `RunDetails` widget to show the different experiments."
      ]
    },
    {
      "cell_type": "code",
      "execution_count": 9,
      "metadata": {
        "gather": {
          "logged": 1648987548274
        },
        "jupyter": {
          "outputs_hidden": false,
          "source_hidden": false
        },
        "nteract": {
          "transient": {
            "deleting": false
          }
        }
      },
      "outputs": [
        {
          "data": {
            "application/vnd.jupyter.widget-view+json": {
              "model_id": "8a6b77bdb1cd40e0bc11ce6d2ce3345a",
              "version_major": 2,
              "version_minor": 0
            },
            "text/plain": [
              "_AutoMLWidget(widget_settings={'childWidgetDisplay': 'popup', 'send_telemetry': False, 'log_level': 'INFO', 's…"
            ]
          },
          "metadata": {},
          "output_type": "display_data"
        },
        {
          "data": {
            "application/aml.mini.widget.v1": "{\"status\": \"Completed\", \"workbench_run_details_uri\": \"https://ml.azure.com/runs/AutoML_7d88ea04-4d00-4249-89a6-42973cabd9a9?wsid=/subscriptions/6eee9ed4-ef02-4ad0-bbbd-194153ad2069/resourcegroups/aml-resource/workspaces/aml-workspace&tid=b8f88a0b-3d95-478b-b123-a494d78523a4\", \"run_id\": \"AutoML_7d88ea04-4d00-4249-89a6-42973cabd9a9\", \"run_properties\": {\"run_id\": \"AutoML_7d88ea04-4d00-4249-89a6-42973cabd9a9\", \"created_utc\": \"2022-04-03T12:04:52.271619Z\", \"properties\": {\"num_iterations\": \"1000\", \"training_type\": \"TrainFull\", \"acquisition_function\": \"EI\", \"primary_metric\": \"AUC_weighted\", \"train_split\": \"0\", \"acquisition_parameter\": \"0\", \"num_cross_validation\": null, \"target\": \"aml-cluster\", \"AMLSettingsJsonString\": \"{\\\"path\\\":null,\\\"name\\\":\\\"heart-automl-sdk\\\",\\\"subscription_id\\\":\\\"6eee9ed4-ef02-4ad0-bbbd-194153ad2069\\\",\\\"resource_group\\\":\\\"aml-resource\\\",\\\"workspace_name\\\":\\\"aml-workspace\\\",\\\"region\\\":\\\"westeurope\\\",\\\"compute_target\\\":\\\"aml-cluster\\\",\\\"spark_service\\\":null,\\\"azure_service\\\":\\\"remote\\\",\\\"many_models\\\":false,\\\"pipeline_fetch_max_batch_size\\\":1,\\\"enable_batch_run\\\":true,\\\"enable_run_restructure\\\":false,\\\"start_auxiliary_runs_before_parent_complete\\\":false,\\\"enable_code_generation\\\":false,\\\"iterations\\\":1000,\\\"primary_metric\\\":\\\"AUC_weighted\\\",\\\"task_type\\\":\\\"classification\\\",\\\"positive_label\\\":null,\\\"data_script\\\":null,\\\"test_size\\\":0.0,\\\"test_include_predictions_only\\\":false,\\\"validation_size\\\":0.0,\\\"n_cross_validations\\\":null,\\\"y_min\\\":null,\\\"y_max\\\":null,\\\"num_classes\\\":null,\\\"featurization\\\":\\\"auto\\\",\\\"_ignore_package_version_incompatibilities\\\":false,\\\"is_timeseries\\\":false,\\\"max_cores_per_iteration\\\":1,\\\"max_concurrent_iterations\\\":5,\\\"iteration_timeout_minutes\\\":null,\\\"mem_in_mb\\\":null,\\\"enforce_time_on_windows\\\":false,\\\"experiment_timeout_minutes\\\":30,\\\"experiment_exit_score\\\":null,\\\"partition_column_names\\\":null,\\\"whitelist_models\\\":null,\\\"blacklist_algos\\\":[\\\"TensorFlowLinearClassifier\\\",\\\"TensorFlowDNN\\\"],\\\"supported_models\\\":[\\\"TensorFlowDNN\\\",\\\"GradientBoosting\\\",\\\"AveragedPerceptronClassifier\\\",\\\"LinearSVM\\\",\\\"KNN\\\",\\\"BernoulliNaiveBayes\\\",\\\"SGD\\\",\\\"DecisionTree\\\",\\\"XGBoostClassifier\\\",\\\"LogisticRegression\\\",\\\"MultinomialNaiveBayes\\\",\\\"TensorFlowLinearClassifier\\\",\\\"SVM\\\",\\\"TabnetClassifier\\\",\\\"LightGBM\\\",\\\"ExtremeRandomTrees\\\",\\\"RandomForest\\\"],\\\"private_models\\\":[],\\\"auto_blacklist\\\":true,\\\"blacklist_samples_reached\\\":false,\\\"exclude_nan_labels\\\":true,\\\"verbosity\\\":20,\\\"_debug_log\\\":\\\"azureml_automl.log\\\",\\\"show_warnings\\\":false,\\\"model_explainability\\\":true,\\\"service_url\\\":null,\\\"sdk_url\\\":null,\\\"sdk_packages\\\":null,\\\"enable_onnx_compatible_models\\\":false,\\\"enable_split_onnx_featurizer_estimator_models\\\":false,\\\"vm_type\\\":\\\"STANDARD_DS11_V2\\\",\\\"telemetry_verbosity\\\":20,\\\"send_telemetry\\\":true,\\\"enable_dnn\\\":false,\\\"scenario\\\":\\\"SDK-1.13.0\\\",\\\"environment_label\\\":null,\\\"save_mlflow\\\":false,\\\"enable_categorical_indicators\\\":false,\\\"force_text_dnn\\\":false,\\\"enable_feature_sweeping\\\":true,\\\"enable_early_stopping\\\":true,\\\"early_stopping_n_iters\\\":10,\\\"arguments\\\":null,\\\"dataset_id\\\":\\\"d3d372e2-fb53-49e2-b962-8a5bd4277645\\\",\\\"hyperdrive_config\\\":null,\\\"validation_dataset_id\\\":\\\"cf5f7932-67c2-4b7b-a9cc-a52970fa2fd2\\\",\\\"run_source\\\":null,\\\"metrics\\\":null,\\\"enable_metric_confidence\\\":false,\\\"enable_ensembling\\\":true,\\\"enable_stack_ensembling\\\":true,\\\"ensemble_iterations\\\":15,\\\"enable_tf\\\":false,\\\"enable_subsampling\\\":null,\\\"subsample_seed\\\":null,\\\"enable_nimbusml\\\":false,\\\"enable_streaming\\\":false,\\\"force_streaming\\\":false,\\\"track_child_runs\\\":true,\\\"allowed_private_models\\\":[],\\\"label_column_name\\\":\\\"DEATH_EVENT\\\",\\\"weight_column_name\\\":null,\\\"cv_split_column_names\\\":null,\\\"enable_local_managed\\\":false,\\\"_local_managed_run_id\\\":null,\\\"cost_mode\\\":1,\\\"lag_length\\\":0,\\\"metric_operation\\\":\\\"maximize\\\",\\\"preprocess\\\":true}\", \"DataPrepJsonString\": \"{\\\\\\\"training_data\\\\\\\": {\\\\\\\"datasetId\\\\\\\": \\\\\\\"d3d372e2-fb53-49e2-b962-8a5bd4277645\\\\\\\"}, \\\\\\\"validation_data\\\\\\\": {\\\\\\\"datasetId\\\\\\\": \\\\\\\"cf5f7932-67c2-4b7b-a9cc-a52970fa2fd2\\\\\\\"}, \\\\\\\"datasets\\\\\\\": 0}\", \"EnableSubsampling\": null, \"runTemplate\": \"AutoML\", \"azureml.runsource\": \"automl\", \"display_task_type\": \"classification\", \"dependencies_versions\": \"{\\\"azureml-widgets\\\": \\\"1.39.0\\\", \\\"azureml-training-tabular\\\": \\\"1.39.0\\\", \\\"azureml-train\\\": \\\"1.39.0\\\", \\\"azureml-train-restclients-hyperdrive\\\": \\\"1.39.0\\\", \\\"azureml-train-core\\\": \\\"1.39.0\\\", \\\"azureml-train-automl\\\": \\\"1.39.0\\\", \\\"azureml-train-automl-runtime\\\": \\\"1.39.0\\\", \\\"azureml-train-automl-client\\\": \\\"1.39.0\\\", \\\"azureml-tensorboard\\\": \\\"1.39.0\\\", \\\"azureml-telemetry\\\": \\\"1.39.0\\\", \\\"azureml-sdk\\\": \\\"1.39.0\\\", \\\"azureml-samples\\\": \\\"0+unknown\\\", \\\"azureml-responsibleai\\\": \\\"1.39.0\\\", \\\"azureml-pipeline\\\": \\\"1.39.0\\\", \\\"azureml-pipeline-steps\\\": \\\"1.39.0\\\", \\\"azureml-pipeline-core\\\": \\\"1.39.0\\\", \\\"azureml-opendatasets\\\": \\\"1.39.0\\\", \\\"azureml-mlflow\\\": \\\"1.39.0\\\", \\\"azureml-interpret\\\": \\\"1.39.0\\\", \\\"azureml-inference-server-http\\\": \\\"0.4.10\\\", \\\"azureml-explain-model\\\": \\\"1.39.0\\\", \\\"azureml-defaults\\\": \\\"1.39.0\\\", \\\"azureml-dataset-runtime\\\": \\\"1.39.0\\\", \\\"azureml-dataprep\\\": \\\"2.27.1\\\", \\\"azureml-dataprep-rslex\\\": \\\"2.3.1\\\", \\\"azureml-dataprep-native\\\": \\\"38.0.0\\\", \\\"azureml-datadrift\\\": \\\"1.39.0\\\", \\\"azureml-core\\\": \\\"1.39.0\\\", \\\"azureml-contrib-services\\\": \\\"1.39.0\\\", \\\"azureml-contrib-server\\\": \\\"1.39.0\\\", \\\"azureml-contrib-reinforcementlearning\\\": \\\"1.39.0\\\", \\\"azureml-contrib-pipeline-steps\\\": \\\"1.39.0\\\", \\\"azureml-contrib-notebook\\\": \\\"1.39.0\\\", \\\"azureml-contrib-fairness\\\": \\\"1.39.0\\\", \\\"azureml-contrib-dataset\\\": \\\"1.39.0\\\", \\\"azureml-contrib-automl-pipeline-steps\\\": \\\"1.39.0\\\", \\\"azureml-cli-common\\\": \\\"1.39.0\\\", \\\"azureml-automl-runtime\\\": \\\"1.39.0\\\", \\\"azureml-automl-dnn-nlp\\\": \\\"1.39.0\\\", \\\"azureml-automl-core\\\": \\\"1.39.0\\\", \\\"azureml-accel-models\\\": \\\"1.39.0\\\"}\", \"_aml_system_scenario_identification\": \"Remote.Parent\", \"ClientType\": \"SDK\", \"environment_cpu_name\": \"AzureML-AutoML\", \"environment_cpu_label\": \"prod\", \"environment_gpu_name\": \"AzureML-AutoML-GPU\", \"environment_gpu_label\": \"prod\", \"root_attribution\": \"automl\", \"attribution\": \"AutoML\", \"Orchestrator\": \"AutoML\", \"CancelUri\": \"https://westeurope.api.azureml.ms/jasmine/v1.0/subscriptions/6eee9ed4-ef02-4ad0-bbbd-194153ad2069/resourceGroups/aml-resource/providers/Microsoft.MachineLearningServices/workspaces/aml-workspace/experimentids/d720990e-6811-4a20-ae9d-2f4d79e6bb1e/cancel/AutoML_7d88ea04-4d00-4249-89a6-42973cabd9a9\", \"azureml.git.repository_uri\": \"https://github.com/Aduzona/Capstone_Project---Azure-ML_Engineer.git\", \"mlflow.source.git.repoURL\": \"https://github.com/Aduzona/Capstone_Project---Azure-ML_Engineer.git\", \"azureml.git.branch\": \"master\", \"mlflow.source.git.branch\": \"master\", \"azureml.git.commit\": \"4c98e2a4eb96ea93f321d05c9a8a1c5ace753c16\", \"mlflow.source.git.commit\": \"4c98e2a4eb96ea93f321d05c9a8a1c5ace753c16\", \"azureml.git.dirty\": \"False\", \"ClientSdkVersion\": \"1.39.1\", \"snapshotId\": \"00000000-0000-0000-0000-000000000000\", \"SetupRunId\": \"AutoML_7d88ea04-4d00-4249-89a6-42973cabd9a9_setup\", \"SetupRunContainerId\": \"dcid.AutoML_7d88ea04-4d00-4249-89a6-42973cabd9a9_setup\", \"FeaturizationRunJsonPath\": \"featurizer_container.json\", \"FeaturizationRunId\": \"AutoML_7d88ea04-4d00-4249-89a6-42973cabd9a9_featurize\", \"ProblemInfoJsonString\": \"{\\\"dataset_num_categorical\\\": 0, \\\"is_sparse\\\": false, \\\"subsampling\\\": false, \\\"has_extra_col\\\": true, \\\"dataset_classes\\\": 2, \\\"dataset_features\\\": 12, \\\"dataset_samples\\\": 209, \\\"single_frequency_class_detected\\\": false}\", \"ModelExplainRunId\": \"AutoML_7d88ea04-4d00-4249-89a6-42973cabd9a9_ModelExplain\"}, \"tags\": {\"model_explain_run\": \"best_run\", \"_aml_system_automl_run_workspace_id\": \"44b642ef-dcaa-4461-970d-65016c789eb0\", \"_aml_system_azureml.automlComponent\": \"AutoML\", \"pipeline_id\": \"\", \"score\": \"\", \"predicted_cost\": \"\", \"fit_time\": \"\", \"training_percent\": \"\", \"iteration\": \"\", \"run_preprocessor\": \"\", \"run_algorithm\": \"\", \"dynamic_whitelisting_iterations\": \"<24>;<30>;<34>;<40>;<45>;\", \"_aml_system_azureml.automl_early_exit_message\": \"Experiment timeout reached, hence experiment stopped. Current experiment timeout: 0 hour(s) 30 minute(s)\", \"automl_best_child_run_id\": \"AutoML_7d88ea04-4d00-4249-89a6-42973cabd9a9_47\", \"model_explain_best_run_child_id\": \"AutoML_7d88ea04-4d00-4249-89a6-42973cabd9a9_47\"}, \"end_time_utc\": \"2022-04-03T12:43:48.633999Z\", \"status\": \"Completed\", \"log_files\": {}, \"log_groups\": [], \"run_duration\": \"0:38:56\", \"run_number\": \"1648987492\", \"run_queued_details\": {\"status\": \"Completed\", \"details\": null}}, \"child_runs\": [{\"run_id\": \"AutoML_7d88ea04-4d00-4249-89a6-42973cabd9a9_setup\", \"run_number\": 1648987507, \"metric\": null, \"status\": \"Completed\", \"run_type\": \"azureml.scriptrun\", \"training_percent\": null, \"start_time\": \"2022-04-03T12:09:13.347599Z\", \"end_time\": \"2022-04-03T12:10:33.987957Z\", \"created_time\": \"2022-04-03T12:05:07.437258Z\", \"created_time_dt\": \"2022-04-03T12:05:07.437258Z\", \"duration\": \"0:05:26\", \"iteration\": null, \"goal\": null, \"run_name\": \"Completed\", \"run_properties\": null}, {\"run_id\": \"AutoML_7d88ea04-4d00-4249-89a6-42973cabd9a9_featurize\", \"run_number\": 1648987834, \"metric\": null, \"status\": \"Completed\", \"run_type\": \"automl.featurization\", \"training_percent\": null, \"start_time\": \"2022-04-03T12:10:34.689999Z\", \"end_time\": \"2022-04-03T12:11:11.160921Z\", \"created_time\": \"2022-04-03T12:10:34.414136Z\", \"created_time_dt\": \"2022-04-03T12:10:34.414136Z\", \"duration\": \"0:00:36\", \"iteration\": null, \"goal\": null, \"run_name\": \"Completed\", \"run_properties\": null}, {\"run_id\": \"AutoML_7d88ea04-4d00-4249-89a6-42973cabd9a9_0\", \"run_number\": 1648987872, \"metric\": null, \"status\": \"Completed\", \"run_type\": null, \"training_percent\": \"100\", \"start_time\": \"2022-04-03T12:11:27.495301Z\", \"end_time\": \"2022-04-03T12:11:40.80283Z\", \"created_time\": \"2022-04-03T12:11:12.245603Z\", \"created_time_dt\": \"2022-04-03T12:11:12.245603Z\", \"duration\": \"0:00:28\", \"iteration\": \"0\", \"goal\": \"AUC_weighted_max\", \"run_name\": \"MaxAbsScaler, LightGBM\", \"run_properties\": \"copy=True\", \"primary_metric\": 0.90220464, \"best_metric\": 0.90220464}, {\"run_id\": \"AutoML_7d88ea04-4d00-4249-89a6-42973cabd9a9_2\", \"run_number\": 1648987873, \"metric\": null, \"status\": \"Completed\", \"run_type\": null, \"training_percent\": \"100\", \"start_time\": \"2022-04-03T12:11:55.034611Z\", \"end_time\": \"2022-04-03T12:12:07.897293Z\", \"created_time\": \"2022-04-03T12:11:13.066387Z\", \"created_time_dt\": \"2022-04-03T12:11:13.066387Z\", \"duration\": \"0:00:54\", \"iteration\": \"2\", \"goal\": \"AUC_weighted_max\", \"run_name\": \"MaxAbsScaler, ExtremeRandomTrees\", \"run_properties\": \"copy=True\", \"primary_metric\": 0.87733183, \"best_metric\": 0.90220464}, {\"run_id\": \"AutoML_7d88ea04-4d00-4249-89a6-42973cabd9a9_4\", \"run_number\": 1648987874, \"metric\": null, \"status\": \"Completed\", \"run_type\": null, \"training_percent\": \"100\", \"start_time\": \"2022-04-03T12:12:52.621343Z\", \"end_time\": \"2022-04-03T12:13:06.123994Z\", \"created_time\": \"2022-04-03T12:11:13.999804Z\", \"created_time_dt\": \"2022-04-03T12:11:13.999804Z\", \"duration\": \"0:01:52\", \"iteration\": \"4\", \"goal\": \"AUC_weighted_max\", \"run_name\": \"StandardScalerWrapper, LightGBM\", \"run_properties\": \"copy=True, with_mean=False, with_std=True\", \"primary_metric\": 0.91181458, \"best_metric\": 0.91181458}, {\"run_id\": \"AutoML_7d88ea04-4d00-4249-89a6-42973cabd9a9_6\", \"run_number\": 1648987876, \"metric\": null, \"status\": \"Completed\", \"run_type\": null, \"training_percent\": \"100\", \"start_time\": \"2022-04-03T12:13:20.180227Z\", \"end_time\": \"2022-04-03T12:13:33.265669Z\", \"created_time\": \"2022-04-03T12:11:15.999594Z\", \"created_time_dt\": \"2022-04-03T12:11:15.999594Z\", \"duration\": \"0:02:17\", \"iteration\": \"6\", \"goal\": \"AUC_weighted_max\", \"run_name\": \"SparseNormalizer, XGBoostClassifier\", \"run_properties\": \"copy=True, norm='max'\", \"primary_metric\": 0.87733183, \"best_metric\": 0.91181458}, {\"run_id\": \"AutoML_7d88ea04-4d00-4249-89a6-42973cabd9a9_9\", \"run_number\": 1648987877, \"metric\": null, \"status\": \"Completed\", \"run_type\": null, \"training_percent\": \"100\", \"start_time\": \"2022-04-03T12:14:20.227766Z\", \"end_time\": \"2022-04-03T12:14:36.600606Z\", \"created_time\": \"2022-04-03T12:11:17.387048Z\", \"created_time_dt\": \"2022-04-03T12:11:17.387048Z\", \"duration\": \"0:03:19\", \"iteration\": \"9\", \"goal\": \"AUC_weighted_max\", \"run_name\": \"MinMaxScaler, RandomForest\", \"run_properties\": \"copy=True, feature_range=(0, 1\", \"primary_metric\": 0.90842284, \"best_metric\": 0.91181458}, {\"run_id\": \"AutoML_7d88ea04-4d00-4249-89a6-42973cabd9a9_11\", \"run_number\": 1648987878, \"metric\": null, \"status\": \"Completed\", \"run_type\": null, \"training_percent\": \"100\", \"start_time\": \"2022-04-03T12:14:52.115444Z\", \"end_time\": \"2022-04-03T12:15:05.023283Z\", \"created_time\": \"2022-04-03T12:11:18.196327Z\", \"created_time_dt\": \"2022-04-03T12:11:18.196327Z\", \"duration\": \"0:03:46\", \"iteration\": \"11\", \"goal\": \"AUC_weighted_max\", \"run_name\": \"StandardScalerWrapper, SVM\", \"run_properties\": \"copy=True, with_mean=True, with_std=True\", \"primary_metric\": 0.78801583, \"best_metric\": 0.91181458}, {\"run_id\": \"AutoML_7d88ea04-4d00-4249-89a6-42973cabd9a9_13\", \"run_number\": 1648987879, \"metric\": null, \"status\": \"Completed\", \"run_type\": null, \"training_percent\": \"100\", \"start_time\": \"2022-04-03T12:15:36.505237Z\", \"end_time\": \"2022-04-03T12:15:49.798956Z\", \"created_time\": \"2022-04-03T12:11:19.033829Z\", \"created_time_dt\": \"2022-04-03T12:11:19.033829Z\", \"duration\": \"0:04:30\", \"iteration\": \"13\", \"goal\": \"AUC_weighted_max\", \"run_name\": \"SparseNormalizer, KNN\", \"run_properties\": \"copy=True, norm='max'\", \"primary_metric\": 0.71735444, \"best_metric\": 0.91181458}, {\"run_id\": \"AutoML_7d88ea04-4d00-4249-89a6-42973cabd9a9_worker_3\", \"run_number\": 1648987880, \"metric\": null, \"status\": \"Completed\", \"run_type\": \"azureml.scriptrun\", \"training_percent\": null, \"start_time\": \"2022-04-03T12:16:20.086093Z\", \"end_time\": \"2022-04-03T12:16:23.674287Z\", \"created_time\": \"2022-04-03T12:11:20.209951Z\", \"created_time_dt\": \"2022-04-03T12:11:20.209951Z\", \"duration\": \"0:05:03\", \"iteration\": null, \"goal\": null, \"run_name\": \"Completed\", \"run_properties\": null}, {\"run_id\": \"AutoML_7d88ea04-4d00-4249-89a6-42973cabd9a9_18\", \"run_number\": 1648987881, \"metric\": null, \"status\": \"Completed\", \"run_type\": null, \"training_percent\": \"100\", \"start_time\": \"2022-04-03T12:17:02.475908Z\", \"end_time\": \"2022-04-03T12:17:15.172003Z\", \"created_time\": \"2022-04-03T12:11:21.20172Z\", \"created_time_dt\": \"2022-04-03T12:11:21.20172Z\", \"duration\": \"0:05:53\", \"iteration\": \"18\", \"goal\": \"AUC_weighted_max\", \"run_name\": \"SparseNormalizer, LightGBM\", \"run_properties\": \"copy=True, norm='l1'\", \"primary_metric\": 0.87563595, \"best_metric\": 0.91181458}, {\"run_id\": \"AutoML_7d88ea04-4d00-4249-89a6-42973cabd9a9_21\", \"run_number\": 1648988182, \"metric\": null, \"status\": \"Completed\", \"run_type\": \"azureml.scriptrun\", \"training_percent\": \"100\", \"start_time\": \"2022-04-03T12:17:59.8143Z\", \"end_time\": \"2022-04-03T12:18:03.373465Z\", \"created_time\": \"2022-04-03T12:16:22.621304Z\", \"created_time_dt\": \"2022-04-03T12:16:22.621304Z\", \"duration\": \"0:01:40\", \"iteration\": \"21\", \"goal\": \"AUC_weighted_max\", \"run_name\": \"StandardScalerWrapper, RandomForest\", \"run_properties\": \"copy=True, with_mean=False, with_std=False\", \"primary_metric\": 0.93103448, \"best_metric\": 0.93103448}, {\"run_id\": \"AutoML_7d88ea04-4d00-4249-89a6-42973cabd9a9_23\", \"run_number\": 1648988237, \"metric\": null, \"status\": \"Completed\", \"run_type\": \"azureml.scriptrun\", \"training_percent\": \"100\", \"start_time\": \"2022-04-03T12:21:23.700095Z\", \"end_time\": \"2022-04-03T12:21:27.338035Z\", \"created_time\": \"2022-04-03T12:17:17.786576Z\", \"created_time_dt\": \"2022-04-03T12:17:17.786576Z\", \"duration\": \"0:04:09\", \"iteration\": \"23\", \"goal\": \"AUC_weighted_max\", \"run_name\": \"MaxAbsScaler, LogisticRegression\", \"run_properties\": \"copy=True\", \"primary_metric\": 0.85528547, \"best_metric\": 0.93103448}, {\"run_id\": \"AutoML_7d88ea04-4d00-4249-89a6-42973cabd9a9_24\", \"run_number\": 1648988287, \"metric\": null, \"status\": \"Completed\", \"run_type\": \"azureml.scriptrun\", \"training_percent\": \"100\", \"start_time\": \"2022-04-03T12:21:56.890813Z\", \"end_time\": \"2022-04-03T12:22:00.473805Z\", \"created_time\": \"2022-04-03T12:18:07.546352Z\", \"created_time_dt\": \"2022-04-03T12:18:07.546352Z\", \"duration\": \"0:03:52\", \"iteration\": \"24\", \"goal\": \"AUC_weighted_max\", \"run_name\": \"MaxAbsScaler, RandomForest\", \"run_properties\": \"copy=True\", \"primary_metric\": 0.94007914, \"best_metric\": 0.94007914}, {\"run_id\": \"AutoML_7d88ea04-4d00-4249-89a6-42973cabd9a9_26\", \"run_number\": 1648988366, \"metric\": null, \"status\": \"Completed\", \"run_type\": \"azureml.scriptrun\", \"training_percent\": \"100\", \"start_time\": \"2022-04-03T12:24:05.158391Z\", \"end_time\": \"2022-04-03T12:24:08.756715Z\", \"created_time\": \"2022-04-03T12:19:26.468475Z\", \"created_time_dt\": \"2022-04-03T12:19:26.468475Z\", \"duration\": \"0:04:42\", \"iteration\": \"26\", \"goal\": \"AUC_weighted_max\", \"run_name\": \"StandardScalerWrapper, LogisticRegression\", \"run_properties\": \"copy=True, with_mean=False, with_std=True\", \"primary_metric\": 0.87959299, \"best_metric\": 0.94007914}, {\"run_id\": \"AutoML_7d88ea04-4d00-4249-89a6-42973cabd9a9_27\", \"run_number\": 1648988397, \"metric\": null, \"status\": \"Completed\", \"run_type\": \"azureml.scriptrun\", \"training_percent\": \"100\", \"start_time\": \"2022-04-03T12:25:35.393012Z\", \"end_time\": \"2022-04-03T12:25:38.986931Z\", \"created_time\": \"2022-04-03T12:19:57.329491Z\", \"created_time_dt\": \"2022-04-03T12:19:57.329491Z\", \"duration\": \"0:05:41\", \"iteration\": \"27\", \"goal\": \"AUC_weighted_max\", \"run_name\": \"StandardScalerWrapper, ExtremeRandomTrees\", \"run_properties\": \"copy=True, with_mean=True, with_std=True\", \"primary_metric\": 0.88298474, \"best_metric\": 0.94007914}, {\"run_id\": \"AutoML_7d88ea04-4d00-4249-89a6-42973cabd9a9_28\", \"run_number\": 1648988489, \"metric\": null, \"status\": \"Completed\", \"run_type\": \"azureml.scriptrun\", \"training_percent\": \"100\", \"start_time\": \"2022-04-03T12:26:05.580068Z\", \"end_time\": \"2022-04-03T12:26:09.157457Z\", \"created_time\": \"2022-04-03T12:21:29.145995Z\", \"created_time_dt\": \"2022-04-03T12:21:29.145995Z\", \"duration\": \"0:04:40\", \"iteration\": \"28\", \"goal\": \"AUC_weighted_max\", \"run_name\": \"MaxAbsScaler, ExtremeRandomTrees\", \"run_properties\": \"copy=True\", \"primary_metric\": 0.86998304, \"best_metric\": 0.94007914}, {\"run_id\": \"AutoML_7d88ea04-4d00-4249-89a6-42973cabd9a9_29\", \"run_number\": 1648988522, \"metric\": null, \"status\": \"Completed\", \"run_type\": \"azureml.scriptrun\", \"training_percent\": \"100\", \"start_time\": \"2022-04-03T12:27:30.530636Z\", \"end_time\": \"2022-04-03T12:27:34.125332Z\", \"created_time\": \"2022-04-03T12:22:02.248888Z\", \"created_time_dt\": \"2022-04-03T12:22:02.248888Z\", \"duration\": \"0:05:31\", \"iteration\": \"29\", \"goal\": \"AUC_weighted_max\", \"run_name\": \"StandardScalerWrapper, RandomForest\", \"run_properties\": \"copy=True, with_mean=True, with_std=False\", \"primary_metric\": 0.92877332, \"best_metric\": 0.94007914}, {\"run_id\": \"AutoML_7d88ea04-4d00-4249-89a6-42973cabd9a9_30\", \"run_number\": 1648988619, \"metric\": null, \"status\": \"Completed\", \"run_type\": \"azureml.scriptrun\", \"training_percent\": \"100\", \"start_time\": \"2022-04-03T12:28:05.819898Z\", \"end_time\": \"2022-04-03T12:28:09.40848Z\", \"created_time\": \"2022-04-03T12:23:39.089111Z\", \"created_time_dt\": \"2022-04-03T12:23:39.089111Z\", \"duration\": \"0:04:30\", \"iteration\": \"30\", \"goal\": \"AUC_weighted_max\", \"run_name\": \"StandardScalerWrapper, RandomForest\", \"run_properties\": \"copy=True, with_mean=True, with_std=False\", \"primary_metric\": 0.78518937, \"best_metric\": 0.94007914}, {\"run_id\": \"AutoML_7d88ea04-4d00-4249-89a6-42973cabd9a9_31\", \"run_number\": 1648988650, \"metric\": null, \"status\": \"Completed\", \"run_type\": \"azureml.scriptrun\", \"training_percent\": \"100\", \"start_time\": \"2022-04-03T12:29:40.066696Z\", \"end_time\": \"2022-04-03T12:29:43.681039Z\", \"created_time\": \"2022-04-03T12:24:10.376105Z\", \"created_time_dt\": \"2022-04-03T12:24:10.376105Z\", \"duration\": \"0:05:33\", \"iteration\": \"31\", \"goal\": \"AUC_weighted_max\", \"run_name\": \"MaxAbsScaler, RandomForest\", \"run_properties\": \"copy=True\", \"primary_metric\": 0.89768231, \"best_metric\": 0.94007914}, {\"run_id\": \"AutoML_7d88ea04-4d00-4249-89a6-42973cabd9a9_32\", \"run_number\": 1648988740, \"metric\": null, \"status\": \"Completed\", \"run_type\": \"azureml.scriptrun\", \"training_percent\": \"100\", \"start_time\": \"2022-04-03T12:30:12.283182Z\", \"end_time\": \"2022-04-03T12:30:15.884678Z\", \"created_time\": \"2022-04-03T12:25:40.759378Z\", \"created_time_dt\": \"2022-04-03T12:25:40.759378Z\", \"duration\": \"0:04:35\", \"iteration\": \"32\", \"goal\": \"AUC_weighted_max\", \"run_name\": \"StandardScalerWrapper, SVM\", \"run_properties\": \"copy=True, with_mean=False, with_std=True\", \"primary_metric\": 0.85076314, \"best_metric\": 0.94007914}, {\"run_id\": \"AutoML_7d88ea04-4d00-4249-89a6-42973cabd9a9_33\", \"run_number\": 1648988771, \"metric\": null, \"status\": \"Completed\", \"run_type\": \"azureml.scriptrun\", \"training_percent\": \"100\", \"start_time\": \"2022-04-03T12:31:43.02432Z\", \"end_time\": \"2022-04-03T12:31:46.637314Z\", \"created_time\": \"2022-04-03T12:26:11.023547Z\", \"created_time_dt\": \"2022-04-03T12:26:11.023547Z\", \"duration\": \"0:05:35\", \"iteration\": \"33\", \"goal\": \"AUC_weighted_max\", \"run_name\": \"MinMaxScaler, RandomForest\", \"run_properties\": \"copy=True, feature_range=(0, 1\", \"primary_metric\": 0.92707744, \"best_metric\": 0.94007914}, {\"run_id\": \"AutoML_7d88ea04-4d00-4249-89a6-42973cabd9a9_34\", \"run_number\": 1648989157, \"metric\": null, \"status\": \"Completed\", \"run_type\": \"azureml.scriptrun\", \"training_percent\": \"100\", \"start_time\": \"2022-04-03T12:33:12.240766Z\", \"end_time\": \"2022-04-03T12:33:15.84841Z\", \"created_time\": \"2022-04-03T12:32:37.258085Z\", \"created_time_dt\": \"2022-04-03T12:32:37.258085Z\", \"duration\": \"0:00:38\", \"iteration\": \"34\", \"goal\": \"AUC_weighted_max\", \"run_name\": \"StandardScalerWrapper, RandomForest\", \"run_properties\": \"copy=True, with_mean=False, with_std=True\", \"primary_metric\": 0.95308084, \"best_metric\": 0.95308084}, {\"run_id\": \"AutoML_7d88ea04-4d00-4249-89a6-42973cabd9a9_39\", \"run_number\": 1648989197, \"metric\": null, \"status\": \"Completed\", \"run_type\": \"azureml.scriptrun\", \"training_percent\": \"100\", \"start_time\": \"2022-04-03T12:37:44.833715Z\", \"end_time\": \"2022-04-03T12:37:48.442919Z\", \"created_time\": \"2022-04-03T12:33:17.493609Z\", \"created_time_dt\": \"2022-04-03T12:33:17.493609Z\", \"duration\": \"0:04:30\", \"iteration\": \"39\", \"goal\": \"AUC_weighted_max\", \"run_name\": \"StandardScalerWrapper, RandomForest\", \"run_properties\": \"copy=True, with_mean=False, with_std=True\", \"primary_metric\": 0.91407575, \"best_metric\": 0.95308084}, {\"run_id\": \"AutoML_7d88ea04-4d00-4249-89a6-42973cabd9a9_40\", \"run_number\": 1648989228, \"metric\": null, \"status\": \"Completed\", \"run_type\": \"azureml.scriptrun\", \"training_percent\": \"100\", \"start_time\": \"2022-04-03T12:39:18.251708Z\", \"end_time\": \"2022-04-03T12:39:21.865807Z\", \"created_time\": \"2022-04-03T12:33:48.472171Z\", \"created_time_dt\": \"2022-04-03T12:33:48.472171Z\", \"duration\": \"0:05:33\", \"iteration\": \"40\", \"goal\": \"AUC_weighted_max\", \"run_name\": \"PCA, RandomForest\", \"run_properties\": \"copy=True, iterated_power='auto', n_components=0.01, random_state=None,\\n    svd_solver='auto', tol=0.0, whiten=True\", \"primary_metric\": 0.60910119, \"best_metric\": 0.95308084}, {\"run_id\": \"AutoML_7d88ea04-4d00-4249-89a6-42973cabd9a9_41\", \"run_number\": 1648989319, \"metric\": null, \"status\": \"Completed\", \"run_type\": \"azureml.scriptrun\", \"training_percent\": \"100\", \"start_time\": \"2022-04-03T12:39:49.431881Z\", \"end_time\": \"2022-04-03T12:39:53.060875Z\", \"created_time\": \"2022-04-03T12:35:19.347539Z\", \"created_time_dt\": \"2022-04-03T12:35:19.347539Z\", \"duration\": \"0:04:33\", \"iteration\": \"41\", \"goal\": \"AUC_weighted_max\", \"run_name\": \"StandardScalerWrapper, XGBoostClassifier\", \"run_properties\": \"copy=True, with_mean=False, with_std=False\", \"primary_metric\": 0.9044658, \"best_metric\": 0.95308084}, {\"run_id\": \"AutoML_7d88ea04-4d00-4249-89a6-42973cabd9a9_42\", \"run_number\": 1648989349, \"metric\": null, \"status\": \"Completed\", \"run_type\": \"azureml.scriptrun\", \"training_percent\": \"100\", \"start_time\": \"2022-04-03T12:41:18.298634Z\", \"end_time\": \"2022-04-03T12:41:21.86425Z\", \"created_time\": \"2022-04-03T12:35:49.145092Z\", \"created_time_dt\": \"2022-04-03T12:35:49.145092Z\", \"duration\": \"0:05:32\", \"iteration\": \"42\", \"goal\": \"AUC_weighted_max\", \"run_name\": \"StandardScalerWrapper, XGBoostClassifier\", \"run_properties\": \"copy=True, with_mean=False, with_std=False\", \"primary_metric\": 0.9299039, \"best_metric\": 0.95308084}, {\"run_id\": \"AutoML_7d88ea04-4d00-4249-89a6-42973cabd9a9_43\", \"run_number\": 1648989440, \"metric\": null, \"status\": \"Canceled\", \"run_type\": \"azureml.scriptrun\", \"training_percent\": \"100\", \"start_time\": \"2022-04-03T12:41:22.589898Z\", \"end_time\": \"2022-04-03T12:41:22.856583Z\", \"created_time\": \"2022-04-03T12:37:20.214349Z\", \"created_time_dt\": \"2022-04-03T12:37:20.214349Z\", \"duration\": \"0:04:02\", \"iteration\": \"43\", \"goal\": null, \"run_name\": \"Canceled\", \"run_properties\": null}, {\"run_id\": \"AutoML_7d88ea04-4d00-4249-89a6-42973cabd9a9_44\", \"run_number\": 1648989470, \"metric\": null, \"status\": \"Canceled\", \"run_type\": \"azureml.scriptrun\", \"training_percent\": \"100\", \"start_time\": \"2022-04-03T12:41:22.595762Z\", \"end_time\": \"2022-04-03T12:41:22.908324Z\", \"created_time\": \"2022-04-03T12:37:50.208638Z\", \"created_time_dt\": \"2022-04-03T12:37:50.208638Z\", \"duration\": \"0:03:32\", \"iteration\": \"44\", \"goal\": null, \"run_name\": \"Canceled\", \"run_properties\": null}, {\"run_id\": \"AutoML_7d88ea04-4d00-4249-89a6-42973cabd9a9_45\", \"run_number\": 1648989564, \"metric\": null, \"status\": \"Canceled\", \"run_type\": \"azureml.scriptrun\", \"training_percent\": \"100\", \"start_time\": \"2022-04-03T12:41:22.612994Z\", \"end_time\": \"2022-04-03T12:41:22.870376Z\", \"created_time\": \"2022-04-03T12:39:24.704766Z\", \"created_time_dt\": \"2022-04-03T12:39:24.704766Z\", \"duration\": \"0:01:58\", \"iteration\": \"45\", \"goal\": null, \"run_name\": \"Canceled\", \"run_properties\": null}, {\"run_id\": \"AutoML_7d88ea04-4d00-4249-89a6-42973cabd9a9_46\", \"run_number\": 1648989594, \"metric\": null, \"status\": \"Canceled\", \"run_type\": \"azureml.scriptrun\", \"training_percent\": \"100\", \"start_time\": \"2022-04-03T12:41:22.746561Z\", \"end_time\": \"2022-04-03T12:41:22.987267Z\", \"created_time\": \"2022-04-03T12:39:54.680204Z\", \"created_time_dt\": \"2022-04-03T12:39:54.680204Z\", \"duration\": \"0:01:28\", \"iteration\": \"46\", \"goal\": null, \"run_name\": \"Canceled\", \"run_properties\": null}, {\"run_id\": \"AutoML_7d88ea04-4d00-4249-89a6-42973cabd9a9_47\", \"run_number\": 1648989683, \"metric\": null, \"status\": \"Completed\", \"run_type\": \"azureml.scriptrun\", \"training_percent\": \"100\", \"start_time\": \"2022-04-03T12:42:13.393088Z\", \"end_time\": \"2022-04-03T12:42:17.012915Z\", \"created_time\": \"2022-04-03T12:41:23.792041Z\", \"created_time_dt\": \"2022-04-03T12:41:23.792041Z\", \"duration\": \"0:00:53\", \"iteration\": \"47\", \"goal\": \"AUC_weighted_max\", \"run_name\": \"VotingEnsemble\", \"run_properties\": \"classification_labels=array([0, 1]\", \"primary_metric\": 0.95816846, \"best_metric\": 0.95816846}], \"children_metrics\": {\"categories\": [0], \"series\": {\"precision_score_weighted\": [{\"categories\": [\"0\", \"2\", \"4\", \"6\", \"9\", \"11\", \"13\", \"18\", \"21\", \"23\", \"24\", \"26\", \"27\", \"28\", \"29\", \"30\", \"31\", \"32\", \"33\", \"34\", \"39\", \"40\", \"41\", \"42\", \"47\"], \"mode\": \"markers\", \"name\": \"precision_score_weighted\", \"stepped\": false, \"type\": \"scatter\", \"data\": [0.8710835058661145, 0.8223348348348348, 0.8691358024691359, 0.8096825396825397, 0.8710835058661145, 0.8124444444444445, 0.7200828157349897, 0.8354761904761906, 0.8870634920634921, 0.8015522875816994, 0.8479193244638844, 0.865025641025641, 0.8175047892720306, 0.8342940685045948, 0.865025641025641, 0.45938271604938274, 0.8662280701754387, 0.8064814814814816, 0.832106723968126, 0.9011111111111112, 0.8691358024691359, 0.634863339275104, 0.8612698412698412, 0.8870634920634921, 0.8962502875546353]}, {\"categories\": [\"0\", \"2\", \"4\", \"6\", \"9\", \"11\", \"13\", \"18\", \"21\", \"23\", \"24\", \"26\", \"27\", \"28\", \"29\", \"30\", \"31\", \"32\", \"33\", \"34\", \"39\", \"40\", \"41\", \"42\", \"47\"], \"mode\": \"lines\", \"name\": \"precision_score_weighted_max\", \"stepped\": true, \"type\": \"scatter\", \"data\": [0.8710835058661145, 0.8710835058661145, 0.8710835058661145, 0.8710835058661145, 0.8710835058661145, 0.8710835058661145, 0.8710835058661145, 0.8710835058661145, 0.8870634920634921, 0.8870634920634921, 0.8870634920634921, 0.8870634920634921, 0.8870634920634921, 0.8870634920634921, 0.8870634920634921, 0.8870634920634921, 0.8870634920634921, 0.8870634920634921, 0.8870634920634921, 0.9011111111111112, 0.9011111111111112, 0.9011111111111112, 0.9011111111111112, 0.9011111111111112, 0.9011111111111112]}], \"accuracy\": [{\"categories\": [\"0\", \"2\", \"4\", \"6\", \"9\", \"11\", \"13\", \"18\", \"21\", \"23\", \"24\", \"26\", \"27\", \"28\", \"29\", \"30\", \"31\", \"32\", \"33\", \"34\", \"39\", \"40\", \"41\", \"42\", \"47\"], \"mode\": \"markers\", \"name\": \"accuracy\", \"stepped\": false, \"type\": \"scatter\", \"data\": [0.8666666666666667, 0.8111111111111111, 0.8555555555555555, 0.8111111111111111, 0.8666666666666667, 0.8, 0.7333333333333333, 0.8333333333333334, 0.8777777777777778, 0.7888888888888889, 0.8444444444444444, 0.8666666666666667, 0.8111111111111111, 0.8111111111111111, 0.8666666666666667, 0.6777777777777778, 0.8333333333333334, 0.8111111111111111, 0.8222222222222222, 0.9, 0.8555555555555555, 0.6555555555555556, 0.8555555555555555, 0.8777777777777778, 0.8888888888888888]}, {\"categories\": [\"0\", \"2\", \"4\", \"6\", \"9\", \"11\", \"13\", \"18\", \"21\", \"23\", \"24\", \"26\", \"27\", \"28\", \"29\", \"30\", \"31\", \"32\", \"33\", \"34\", \"39\", \"40\", \"41\", \"42\", \"47\"], \"mode\": \"lines\", \"name\": \"accuracy_max\", \"stepped\": true, \"type\": \"scatter\", \"data\": [0.8666666666666667, 0.8666666666666667, 0.8666666666666667, 0.8666666666666667, 0.8666666666666667, 0.8666666666666667, 0.8666666666666667, 0.8666666666666667, 0.8777777777777778, 0.8777777777777778, 0.8777777777777778, 0.8777777777777778, 0.8777777777777778, 0.8777777777777778, 0.8777777777777778, 0.8777777777777778, 0.8777777777777778, 0.8777777777777778, 0.8777777777777778, 0.9, 0.9, 0.9, 0.9, 0.9, 0.9]}], \"f1_score_micro\": [{\"categories\": [\"0\", \"2\", \"4\", \"6\", \"9\", \"11\", \"13\", \"18\", \"21\", \"23\", \"24\", \"26\", \"27\", \"28\", \"29\", \"30\", \"31\", \"32\", \"33\", \"34\", \"39\", \"40\", \"41\", \"42\", \"47\"], \"mode\": \"markers\", \"name\": \"f1_score_micro\", \"stepped\": false, \"type\": \"scatter\", \"data\": [0.8666666666666667, 0.8111111111111111, 0.8555555555555555, 0.8111111111111111, 0.8666666666666667, 0.8000000000000002, 0.7333333333333333, 0.8333333333333334, 0.8777777777777779, 0.7888888888888889, 0.8444444444444444, 0.8666666666666667, 0.8111111111111111, 0.8111111111111111, 0.8666666666666667, 0.6777777777777778, 0.8333333333333334, 0.8111111111111111, 0.8222222222222222, 0.9, 0.8555555555555555, 0.6555555555555556, 0.8555555555555555, 0.8777777777777779, 0.8888888888888888]}, {\"categories\": [\"0\", \"2\", \"4\", \"6\", \"9\", \"11\", \"13\", \"18\", \"21\", \"23\", \"24\", \"26\", \"27\", \"28\", \"29\", \"30\", \"31\", \"32\", \"33\", \"34\", \"39\", \"40\", \"41\", \"42\", \"47\"], \"mode\": \"lines\", \"name\": \"f1_score_micro_max\", \"stepped\": true, \"type\": \"scatter\", \"data\": [0.8666666666666667, 0.8666666666666667, 0.8666666666666667, 0.8666666666666667, 0.8666666666666667, 0.8666666666666667, 0.8666666666666667, 0.8666666666666667, 0.8777777777777779, 0.8777777777777779, 0.8777777777777779, 0.8777777777777779, 0.8777777777777779, 0.8777777777777779, 0.8777777777777779, 0.8777777777777779, 0.8777777777777779, 0.8777777777777779, 0.8777777777777779, 0.9, 0.9, 0.9, 0.9, 0.9, 0.9]}], \"precision_score_macro\": [{\"categories\": [\"0\", \"2\", \"4\", \"6\", \"9\", \"11\", \"13\", \"18\", \"21\", \"23\", \"24\", \"26\", \"27\", \"28\", \"29\", \"30\", \"31\", \"32\", \"33\", \"34\", \"39\", \"40\", \"41\", \"42\", \"47\"], \"mode\": \"markers\", \"name\": \"precision_score_macro\", \"stepped\": false, \"type\": \"scatter\", \"data\": [0.8799171842650104, 0.8361486486486487, 0.8888888888888888, 0.8071428571428572, 0.8799171842650104, 0.8266666666666667, 0.6935817805383022, 0.8392857142857143, 0.9035714285714285, 0.7610294117647058, 0.8201202843083653, 0.8584615384615384, 0.7834051724137931, 0.8590225563909775, 0.8584615384615384, 0.3388888888888889, 0.9013157894736843, 0.7916666666666667, 0.8452860596293312, 0.8833333333333333, 0.8888888888888888, 0.5875668449197861, 0.8714285714285714, 0.9035714285714285, 0.9109730848861284]}, {\"categories\": [\"0\", \"2\", \"4\", \"6\", \"9\", \"11\", \"13\", \"18\", \"21\", \"23\", \"24\", \"26\", \"27\", \"28\", \"29\", \"30\", \"31\", \"32\", \"33\", \"34\", \"39\", \"40\", \"41\", \"42\", \"47\"], \"mode\": \"lines\", \"name\": \"precision_score_macro_max\", \"stepped\": true, \"type\": \"scatter\", \"data\": [0.8799171842650104, 0.8799171842650104, 0.8888888888888888, 0.8888888888888888, 0.8888888888888888, 0.8888888888888888, 0.8888888888888888, 0.8888888888888888, 0.9035714285714285, 0.9035714285714285, 0.9035714285714285, 0.9035714285714285, 0.9035714285714285, 0.9035714285714285, 0.9035714285714285, 0.9035714285714285, 0.9035714285714285, 0.9035714285714285, 0.9035714285714285, 0.9035714285714285, 0.9035714285714285, 0.9035714285714285, 0.9035714285714285, 0.9035714285714285, 0.9109730848861284]}], \"f1_score_weighted\": [{\"categories\": [\"0\", \"2\", \"4\", \"6\", \"9\", \"11\", \"13\", \"18\", \"21\", \"23\", \"24\", \"26\", \"27\", \"28\", \"29\", \"30\", \"31\", \"32\", \"33\", \"34\", \"39\", \"40\", \"41\", \"42\", \"47\"], \"mode\": \"markers\", \"name\": \"f1_score_weighted\", \"stepped\": false, \"type\": \"scatter\", \"data\": [0.860102564102564, 0.7929218106995886, 0.8446257487690859, 0.8002527219539215, 0.860102564102564, 0.778475935828877, 0.7202051282051282, 0.8237524017240484, 0.8707517612643021, 0.7927553927553928, 0.8457407407407408, 0.8638447971781306, 0.8133749674733283, 0.788506007280409, 0.8638447971781306, 0.5476085356880058, 0.8133876534827138, 0.8059195430759835, 0.8069940154300957, 0.900434234486623, 0.8446257487690859, 0.6412626032325075, 0.8472520814941753, 0.8707517612643021, 0.8834188034188034]}, {\"categories\": [\"0\", \"2\", \"4\", \"6\", \"9\", \"11\", \"13\", \"18\", \"21\", \"23\", \"24\", \"26\", \"27\", \"28\", \"29\", \"30\", \"31\", \"32\", \"33\", \"34\", \"39\", \"40\", \"41\", \"42\", \"47\"], \"mode\": \"lines\", \"name\": \"f1_score_weighted_max\", \"stepped\": true, \"type\": \"scatter\", \"data\": [0.860102564102564, 0.860102564102564, 0.860102564102564, 0.860102564102564, 0.860102564102564, 0.860102564102564, 0.860102564102564, 0.860102564102564, 0.8707517612643021, 0.8707517612643021, 0.8707517612643021, 0.8707517612643021, 0.8707517612643021, 0.8707517612643021, 0.8707517612643021, 0.8707517612643021, 0.8707517612643021, 0.8707517612643021, 0.8707517612643021, 0.900434234486623, 0.900434234486623, 0.900434234486623, 0.900434234486623, 0.900434234486623, 0.900434234486623]}], \"AUC_weighted\": [{\"categories\": [\"0\", \"2\", \"4\", \"6\", \"9\", \"11\", \"13\", \"18\", \"21\", \"23\", \"24\", \"26\", \"27\", \"28\", \"29\", \"30\", \"31\", \"32\", \"33\", \"34\", \"39\", \"40\", \"41\", \"42\", \"47\"], \"mode\": \"markers\", \"name\": \"AUC_weighted\", \"stepped\": false, \"type\": \"scatter\", \"data\": [0.9022046353872244, 0.8773318258903335, 0.9118145845110232, 0.8773318258903335, 0.9084228377614472, 0.788015828151498, 0.7173544375353307, 0.8756359525155456, 0.9310344827586207, 0.8552854720180894, 0.9400791407574901, 0.8795929903900508, 0.8829847371396268, 0.8699830412662521, 0.9287733182589033, 0.7851893725268512, 0.8976823063877897, 0.8507631430186546, 0.9270774448841154, 0.953080836630865, 0.9140757490107406, 0.6091011871113624, 0.9044657998869418, 0.929903900508762, 0.958168456755229]}, {\"categories\": [\"0\", \"2\", \"4\", \"6\", \"9\", \"11\", \"13\", \"18\", \"21\", \"23\", \"24\", \"26\", \"27\", \"28\", \"29\", \"30\", \"31\", \"32\", \"33\", \"34\", \"39\", \"40\", \"41\", \"42\", \"47\"], \"mode\": \"lines\", \"name\": \"AUC_weighted_max\", \"stepped\": true, \"type\": \"scatter\", \"data\": [0.9022046353872244, 0.9022046353872244, 0.9118145845110232, 0.9118145845110232, 0.9118145845110232, 0.9118145845110232, 0.9118145845110232, 0.9118145845110232, 0.9310344827586207, 0.9310344827586207, 0.9400791407574901, 0.9400791407574901, 0.9400791407574901, 0.9400791407574901, 0.9400791407574901, 0.9400791407574901, 0.9400791407574901, 0.9400791407574901, 0.9400791407574901, 0.953080836630865, 0.953080836630865, 0.953080836630865, 0.953080836630865, 0.953080836630865, 0.958168456755229]}], \"norm_macro_recall\": [{\"categories\": [\"0\", \"2\", \"4\", \"6\", \"9\", \"11\", \"13\", \"18\", \"21\", \"23\", \"24\", \"26\", \"27\", \"28\", \"29\", \"30\", \"31\", \"32\", \"33\", \"34\", \"39\", \"40\", \"41\", \"42\", \"47\"], \"mode\": \"markers\", \"name\": \"norm_macro_recall\", \"stepped\": false, \"type\": \"scatter\", \"data\": [0.6223855285472017, 0.4499717354437536, 0.5698134539287731, 0.48615036743923135, 0.6223855285472017, 0.41548897682306385, 0.31712832108535904, 0.5370265686828715, 0.6387789711701526, 0.5618993781797625, 0.6619559072922554, 0.6585641605426795, 0.5946862634256642, 0.4318824194460147, 0.6585641605426795, 0.0, 0.48275862068965525, 0.5223289994347089, 0.4844544940644431, 0.7801017524024871, 0.5698134539287731, 0.14810627473148674, 0.587902769926512, 0.6387789711701526, 0.6732617297908423]}, {\"categories\": [\"0\", \"2\", \"4\", \"6\", \"9\", \"11\", \"13\", \"18\", \"21\", \"23\", \"24\", \"26\", \"27\", \"28\", \"29\", \"30\", \"31\", \"32\", \"33\", \"34\", \"39\", \"40\", \"41\", \"42\", \"47\"], \"mode\": \"lines\", \"name\": \"norm_macro_recall_max\", \"stepped\": true, \"type\": \"scatter\", \"data\": [0.6223855285472017, 0.6223855285472017, 0.6223855285472017, 0.6223855285472017, 0.6223855285472017, 0.6223855285472017, 0.6223855285472017, 0.6223855285472017, 0.6387789711701526, 0.6387789711701526, 0.6619559072922554, 0.6619559072922554, 0.6619559072922554, 0.6619559072922554, 0.6619559072922554, 0.6619559072922554, 0.6619559072922554, 0.6619559072922554, 0.6619559072922554, 0.7801017524024871, 0.7801017524024871, 0.7801017524024871, 0.7801017524024871, 0.7801017524024871, 0.7801017524024871]}], \"recall_score_weighted\": [{\"categories\": [\"0\", \"2\", \"4\", \"6\", \"9\", \"11\", \"13\", \"18\", \"21\", \"23\", \"24\", \"26\", \"27\", \"28\", \"29\", \"30\", \"31\", \"32\", \"33\", \"34\", \"39\", \"40\", \"41\", \"42\", \"47\"], \"mode\": \"markers\", \"name\": \"recall_score_weighted\", \"stepped\": false, \"type\": \"scatter\", \"data\": [0.8666666666666667, 0.8111111111111111, 0.8555555555555555, 0.8111111111111111, 0.8666666666666667, 0.8, 0.7333333333333333, 0.8333333333333334, 0.8777777777777778, 0.7888888888888889, 0.8444444444444444, 0.8666666666666667, 0.8111111111111111, 0.8111111111111111, 0.8666666666666667, 0.6777777777777778, 0.8333333333333334, 0.8111111111111111, 0.8222222222222222, 0.9, 0.8555555555555555, 0.6555555555555556, 0.8555555555555555, 0.8777777777777778, 0.8888888888888888]}, {\"categories\": [\"0\", \"2\", \"4\", \"6\", \"9\", \"11\", \"13\", \"18\", \"21\", \"23\", \"24\", \"26\", \"27\", \"28\", \"29\", \"30\", \"31\", \"32\", \"33\", \"34\", \"39\", \"40\", \"41\", \"42\", \"47\"], \"mode\": \"lines\", \"name\": \"recall_score_weighted_max\", \"stepped\": true, \"type\": \"scatter\", \"data\": [0.8666666666666667, 0.8666666666666667, 0.8666666666666667, 0.8666666666666667, 0.8666666666666667, 0.8666666666666667, 0.8666666666666667, 0.8666666666666667, 0.8777777777777778, 0.8777777777777778, 0.8777777777777778, 0.8777777777777778, 0.8777777777777778, 0.8777777777777778, 0.8777777777777778, 0.8777777777777778, 0.8777777777777778, 0.8777777777777778, 0.8777777777777778, 0.9, 0.9, 0.9, 0.9, 0.9, 0.9]}], \"recall_score_macro\": [{\"categories\": [\"0\", \"2\", \"4\", \"6\", \"9\", \"11\", \"13\", \"18\", \"21\", \"23\", \"24\", \"26\", \"27\", \"28\", \"29\", \"30\", \"31\", \"32\", \"33\", \"34\", \"39\", \"40\", \"41\", \"42\", \"47\"], \"mode\": \"markers\", \"name\": \"recall_score_macro\", \"stepped\": false, \"type\": \"scatter\", \"data\": [0.8111927642736009, 0.7249858677218768, 0.7849067269643866, 0.7430751837196157, 0.8111927642736009, 0.7077444884115319, 0.6585641605426795, 0.7685132843414357, 0.8193894855850763, 0.7809496890898813, 0.8309779536461277, 0.8292820802713398, 0.7973431317128321, 0.7159412097230073, 0.8292820802713398, 0.5, 0.7413793103448276, 0.7611644997173544, 0.7422272470322215, 0.8900508762012436, 0.7849067269643866, 0.5740531373657434, 0.793951384963256, 0.8193894855850763, 0.8366308648954212]}, {\"categories\": [\"0\", \"2\", \"4\", \"6\", \"9\", \"11\", \"13\", \"18\", \"21\", \"23\", \"24\", \"26\", \"27\", \"28\", \"29\", \"30\", \"31\", \"32\", \"33\", \"34\", \"39\", \"40\", \"41\", \"42\", \"47\"], \"mode\": \"lines\", \"name\": \"recall_score_macro_max\", \"stepped\": true, \"type\": \"scatter\", \"data\": [0.8111927642736009, 0.8111927642736009, 0.8111927642736009, 0.8111927642736009, 0.8111927642736009, 0.8111927642736009, 0.8111927642736009, 0.8111927642736009, 0.8193894855850763, 0.8193894855850763, 0.8309779536461277, 0.8309779536461277, 0.8309779536461277, 0.8309779536461277, 0.8309779536461277, 0.8309779536461277, 0.8309779536461277, 0.8309779536461277, 0.8309779536461277, 0.8900508762012436, 0.8900508762012436, 0.8900508762012436, 0.8900508762012436, 0.8900508762012436, 0.8900508762012436]}], \"average_precision_score_weighted\": [{\"categories\": [\"0\", \"2\", \"4\", \"6\", \"9\", \"11\", \"13\", \"18\", \"21\", \"23\", \"24\", \"26\", \"27\", \"28\", \"29\", \"30\", \"31\", \"32\", \"33\", \"34\", \"39\", \"40\", \"41\", \"42\", \"47\"], \"mode\": \"markers\", \"name\": \"average_precision_score_weighted\", \"stepped\": false, \"type\": \"scatter\", \"data\": [0.9208829749458941, 0.8972333110209962, 0.9276040733497664, 0.8833235102797419, 0.9214513913744835, 0.8123863653934544, 0.7531022249976391, 0.8965467816341011, 0.941683005265998, 0.8795460399429713, 0.9488905482522358, 0.898706121257729, 0.9073577358598469, 0.8975965558493647, 0.9429538337677819, 0.7816116442402276, 0.9207434469538165, 0.8742009848892337, 0.9335087869289137, 0.9597910679210458, 0.925965379512105, 0.641081459712503, 0.9209745975771274, 0.9401889966921592, 0.9637870902941987]}, {\"categories\": [\"0\", \"2\", \"4\", \"6\", \"9\", \"11\", \"13\", \"18\", \"21\", \"23\", \"24\", \"26\", \"27\", \"28\", \"29\", \"30\", \"31\", \"32\", \"33\", \"34\", \"39\", \"40\", \"41\", \"42\", \"47\"], \"mode\": \"lines\", \"name\": \"average_precision_score_weighted_max\", \"stepped\": true, \"type\": \"scatter\", \"data\": [0.9208829749458941, 0.9208829749458941, 0.9276040733497664, 0.9276040733497664, 0.9276040733497664, 0.9276040733497664, 0.9276040733497664, 0.9276040733497664, 0.941683005265998, 0.941683005265998, 0.9488905482522358, 0.9488905482522358, 0.9488905482522358, 0.9488905482522358, 0.9488905482522358, 0.9488905482522358, 0.9488905482522358, 0.9488905482522358, 0.9488905482522358, 0.9597910679210458, 0.9597910679210458, 0.9597910679210458, 0.9597910679210458, 0.9597910679210458, 0.9637870902941987]}], \"f1_score_macro\": [{\"categories\": [\"0\", \"2\", \"4\", \"6\", \"9\", \"11\", \"13\", \"18\", \"21\", \"23\", \"24\", \"26\", \"27\", \"28\", \"29\", \"30\", \"31\", \"32\", \"33\", \"34\", \"39\", \"40\", \"41\", \"42\", \"47\"], \"mode\": \"markers\", \"name\": \"f1_score_macro\", \"stepped\": false, \"type\": \"scatter\", \"data\": [0.8338461538461538, 0.7481481481481481, 0.8128299472084466, 0.7616451160616918, 0.8338461538461538, 0.7292780748663101, 0.6676923076923077, 0.7896868671132575, 0.8457703692163888, 0.768009768009768, 0.825, 0.8412698412698413, 0.7892271662763466, 0.7402817857749109, 0.8412698412698413, 0.40397350993377484, 0.770836869801392, 0.7726935076511663, 0.7663854639844256, 0.8865387309146939, 0.8128299472084466, 0.5759233926128591, 0.8177286181648231, 0.8457703692163888, 0.8615384615384615]}, {\"categories\": [\"0\", \"2\", \"4\", \"6\", \"9\", \"11\", \"13\", \"18\", \"21\", \"23\", \"24\", \"26\", \"27\", \"28\", \"29\", \"30\", \"31\", \"32\", \"33\", \"34\", \"39\", \"40\", \"41\", \"42\", \"47\"], \"mode\": \"lines\", \"name\": \"f1_score_macro_max\", \"stepped\": true, \"type\": \"scatter\", \"data\": [0.8338461538461538, 0.8338461538461538, 0.8338461538461538, 0.8338461538461538, 0.8338461538461538, 0.8338461538461538, 0.8338461538461538, 0.8338461538461538, 0.8457703692163888, 0.8457703692163888, 0.8457703692163888, 0.8457703692163888, 0.8457703692163888, 0.8457703692163888, 0.8457703692163888, 0.8457703692163888, 0.8457703692163888, 0.8457703692163888, 0.8457703692163888, 0.8865387309146939, 0.8865387309146939, 0.8865387309146939, 0.8865387309146939, 0.8865387309146939, 0.8865387309146939]}], \"precision_score_micro\": [{\"categories\": [\"0\", \"2\", \"4\", \"6\", \"9\", \"11\", \"13\", \"18\", \"21\", \"23\", \"24\", \"26\", \"27\", \"28\", \"29\", \"30\", \"31\", \"32\", \"33\", \"34\", \"39\", \"40\", \"41\", \"42\", \"47\"], \"mode\": \"markers\", \"name\": \"precision_score_micro\", \"stepped\": false, \"type\": \"scatter\", \"data\": [0.8666666666666667, 0.8111111111111111, 0.8555555555555555, 0.8111111111111111, 0.8666666666666667, 0.8, 0.7333333333333333, 0.8333333333333334, 0.8777777777777778, 0.7888888888888889, 0.8444444444444444, 0.8666666666666667, 0.8111111111111111, 0.8111111111111111, 0.8666666666666667, 0.6777777777777778, 0.8333333333333334, 0.8111111111111111, 0.8222222222222222, 0.9, 0.8555555555555555, 0.6555555555555556, 0.8555555555555555, 0.8777777777777778, 0.8888888888888888]}, {\"categories\": [\"0\", \"2\", \"4\", \"6\", \"9\", \"11\", \"13\", \"18\", \"21\", \"23\", \"24\", \"26\", \"27\", \"28\", \"29\", \"30\", \"31\", \"32\", \"33\", \"34\", \"39\", \"40\", \"41\", \"42\", \"47\"], \"mode\": \"lines\", \"name\": \"precision_score_micro_max\", \"stepped\": true, \"type\": \"scatter\", \"data\": [0.8666666666666667, 0.8666666666666667, 0.8666666666666667, 0.8666666666666667, 0.8666666666666667, 0.8666666666666667, 0.8666666666666667, 0.8666666666666667, 0.8777777777777778, 0.8777777777777778, 0.8777777777777778, 0.8777777777777778, 0.8777777777777778, 0.8777777777777778, 0.8777777777777778, 0.8777777777777778, 0.8777777777777778, 0.8777777777777778, 0.8777777777777778, 0.9, 0.9, 0.9, 0.9, 0.9, 0.9]}], \"AUC_macro\": [{\"categories\": [\"0\", \"2\", \"4\", \"6\", \"9\", \"11\", \"13\", \"18\", \"21\", \"23\", \"24\", \"26\", \"27\", \"28\", \"29\", \"30\", \"31\", \"32\", \"33\", \"34\", \"39\", \"40\", \"41\", \"42\", \"47\"], \"mode\": \"markers\", \"name\": \"AUC_macro\", \"stepped\": false, \"type\": \"scatter\", \"data\": [0.9022046353872244, 0.8773318258903335, 0.9118145845110232, 0.8773318258903335, 0.9084228377614472, 0.788015828151498, 0.7173544375353307, 0.8756359525155455, 0.9310344827586208, 0.8552854720180894, 0.9400791407574901, 0.8795929903900508, 0.8829847371396269, 0.8699830412662521, 0.9287733182589033, 0.7851893725268513, 0.8976823063877897, 0.8507631430186546, 0.9270774448841153, 0.953080836630865, 0.9140757490107405, 0.6091011871113623, 0.9044657998869418, 0.9299039005087619, 0.9581684567552289]}, {\"categories\": [\"0\", \"2\", \"4\", \"6\", \"9\", \"11\", \"13\", \"18\", \"21\", \"23\", \"24\", \"26\", \"27\", \"28\", \"29\", \"30\", \"31\", \"32\", \"33\", \"34\", \"39\", \"40\", \"41\", \"42\", \"47\"], \"mode\": \"lines\", \"name\": \"AUC_macro_max\", \"stepped\": true, \"type\": \"scatter\", \"data\": [0.9022046353872244, 0.9022046353872244, 0.9118145845110232, 0.9118145845110232, 0.9118145845110232, 0.9118145845110232, 0.9118145845110232, 0.9118145845110232, 0.9310344827586208, 0.9310344827586208, 0.9400791407574901, 0.9400791407574901, 0.9400791407574901, 0.9400791407574901, 0.9400791407574901, 0.9400791407574901, 0.9400791407574901, 0.9400791407574901, 0.9400791407574901, 0.953080836630865, 0.953080836630865, 0.953080836630865, 0.953080836630865, 0.953080836630865, 0.9581684567552289]}], \"log_loss\": [{\"categories\": [\"0\", \"2\", \"4\", \"6\", \"9\", \"11\", \"13\", \"18\", \"21\", \"23\", \"24\", \"26\", \"27\", \"28\", \"29\", \"30\", \"31\", \"32\", \"33\", \"34\", \"39\", \"40\", \"41\", \"42\", \"47\"], \"mode\": \"markers\", \"name\": \"log_loss\", \"stepped\": false, \"type\": \"scatter\", \"data\": [0.3786010774807543, 0.4136310213032644, 0.38680641624712975, 0.3903600825728703, 0.3501154773434284, 0.5006776400728967, 1.2578156253613448, 0.41008210413334517, 0.33061276393598993, 0.46516846340443696, 0.4357934901938616, 0.3990895033612364, 0.5791401253200124, 0.4494051643349775, 0.4286362938176512, 0.578111727870419, 0.4326726437105632, 0.4275849585143412, 0.4060317893371365, 0.5230426400710075, 0.34647873565337534, 0.6779823639839072, 0.3783666483977208, 0.33388602332520106, 0.42807530388914206]}, {\"categories\": [\"0\", \"2\", \"4\", \"6\", \"9\", \"11\", \"13\", \"18\", \"21\", \"23\", \"24\", \"26\", \"27\", \"28\", \"29\", \"30\", \"31\", \"32\", \"33\", \"34\", \"39\", \"40\", \"41\", \"42\", \"47\"], \"mode\": \"lines\", \"name\": \"log_loss_min\", \"stepped\": true, \"type\": \"scatter\", \"data\": [0.3786010774807543, 0.3786010774807543, 0.3786010774807543, 0.3786010774807543, 0.3501154773434284, 0.3501154773434284, 0.3501154773434284, 0.3501154773434284, 0.33061276393598993, 0.33061276393598993, 0.33061276393598993, 0.33061276393598993, 0.33061276393598993, 0.33061276393598993, 0.33061276393598993, 0.33061276393598993, 0.33061276393598993, 0.33061276393598993, 0.33061276393598993, 0.33061276393598993, 0.33061276393598993, 0.33061276393598993, 0.33061276393598993, 0.33061276393598993, 0.33061276393598993]}], \"matthews_correlation\": [{\"categories\": [\"0\", \"2\", \"4\", \"6\", \"9\", \"11\", \"13\", \"18\", \"21\", \"23\", \"24\", \"26\", \"27\", \"28\", \"29\", \"30\", \"31\", \"32\", \"33\", \"34\", \"39\", \"40\", \"41\", \"42\", \"47\"], \"mode\": \"markers\", \"name\": \"matthews_correlation\", \"stepped\": false, \"type\": \"scatter\", \"data\": [0.6876844589387536, 0.5500134376531268, 0.6657238481116636, 0.5464752745666273, 0.6876844589387536, 0.5210113225171488, 0.35040052812410605, 0.6036645474863905, 0.7180430933259171, 0.5416128952623219, 0.6510077007870163, 0.68712432959947, 0.5805810245233042, 0.5568761626965705, 0.68712432959947, 0.0, 0.6224767577786272, 0.5519890545444841, 0.5784036364429823, 0.7733550350099495, 0.6657238481116636, 0.16105402317892795, 0.6608538204061538, 0.7180430933259171, 0.7438984474078615]}, {\"categories\": [\"0\", \"2\", \"4\", \"6\", \"9\", \"11\", \"13\", \"18\", \"21\", \"23\", \"24\", \"26\", \"27\", \"28\", \"29\", \"30\", \"31\", \"32\", \"33\", \"34\", \"39\", \"40\", \"41\", \"42\", \"47\"], \"mode\": \"lines\", \"name\": \"matthews_correlation_max\", \"stepped\": true, \"type\": \"scatter\", \"data\": [0.6876844589387536, 0.6876844589387536, 0.6876844589387536, 0.6876844589387536, 0.6876844589387536, 0.6876844589387536, 0.6876844589387536, 0.6876844589387536, 0.7180430933259171, 0.7180430933259171, 0.7180430933259171, 0.7180430933259171, 0.7180430933259171, 0.7180430933259171, 0.7180430933259171, 0.7180430933259171, 0.7180430933259171, 0.7180430933259171, 0.7180430933259171, 0.7733550350099495, 0.7733550350099495, 0.7733550350099495, 0.7733550350099495, 0.7733550350099495, 0.7733550350099495]}], \"weighted_accuracy\": [{\"categories\": [\"0\", \"2\", \"4\", \"6\", \"9\", \"11\", \"13\", \"18\", \"21\", \"23\", \"24\", \"26\", \"27\", \"28\", \"29\", \"30\", \"31\", \"32\", \"33\", \"34\", \"39\", \"40\", \"41\", \"42\", \"47\"], \"mode\": \"markers\", \"name\": \"weighted_accuracy\", \"stepped\": false, \"type\": \"scatter\", \"data\": [0.9096887330118368, 0.8779044278825077, 0.9103463393248575, 0.8638754932047347, 0.909688733011837, 0.8715475668566418, 0.7913195966681279, 0.8836036825953528, 0.9230600613765892, 0.7950460324419115, 0.8548882069267866, 0.895659798334064, 0.8217886891714161, 0.8849188952213942, 0.895659798334064, 0.8156510302498904, 0.9046470846120124, 0.8498465585269618, 0.8842612889083734, 0.9077159140727751, 0.9103463393248576, 0.7187637001315212, 0.9033318719859711, 0.9230600613765892, 0.929416922402455]}, {\"categories\": [\"0\", \"2\", \"4\", \"6\", \"9\", \"11\", \"13\", \"18\", \"21\", \"23\", \"24\", \"26\", \"27\", \"28\", \"29\", \"30\", \"31\", \"32\", \"33\", \"34\", \"39\", \"40\", \"41\", \"42\", \"47\"], \"mode\": \"lines\", \"name\": \"weighted_accuracy_max\", \"stepped\": true, \"type\": \"scatter\", \"data\": [0.9096887330118368, 0.9096887330118368, 0.9103463393248575, 0.9103463393248575, 0.9103463393248575, 0.9103463393248575, 0.9103463393248575, 0.9103463393248575, 0.9230600613765892, 0.9230600613765892, 0.9230600613765892, 0.9230600613765892, 0.9230600613765892, 0.9230600613765892, 0.9230600613765892, 0.9230600613765892, 0.9230600613765892, 0.9230600613765892, 0.9230600613765892, 0.9230600613765892, 0.9230600613765892, 0.9230600613765892, 0.9230600613765892, 0.9230600613765892, 0.929416922402455]}], \"average_precision_score_macro\": [{\"categories\": [\"0\", \"2\", \"4\", \"6\", \"9\", \"11\", \"13\", \"18\", \"21\", \"23\", \"24\", \"26\", \"27\", \"28\", \"29\", \"30\", \"31\", \"32\", \"33\", \"34\", \"39\", \"40\", \"41\", \"42\", \"47\"], \"mode\": \"markers\", \"name\": \"average_precision_score_macro\", \"stepped\": false, \"type\": \"scatter\", \"data\": [0.9065259896532297, 0.8774313640406273, 0.9124696354291708, 0.869088217207731, 0.9047262139227084, 0.7927095046238509, 0.7207360471796543, 0.8789796899783806, 0.9293048215131541, 0.8567502843589203, 0.9366441399996732, 0.8785370290605753, 0.8910875408127124, 0.8821120047846839, 0.932459667872328, 0.7240872025628013, 0.9098969118896886, 0.8484516770031689, 0.9161795002233548, 0.950795603659059, 0.9083195895949685, 0.5756738728396004, 0.9067968416956353, 0.926577463690525, 0.9547616140167826]}, {\"categories\": [\"0\", \"2\", \"4\", \"6\", \"9\", \"11\", \"13\", \"18\", \"21\", \"23\", \"24\", \"26\", \"27\", \"28\", \"29\", \"30\", \"31\", \"32\", \"33\", \"34\", \"39\", \"40\", \"41\", \"42\", \"47\"], \"mode\": \"lines\", \"name\": \"average_precision_score_macro_max\", \"stepped\": true, \"type\": \"scatter\", \"data\": [0.9065259896532297, 0.9065259896532297, 0.9124696354291708, 0.9124696354291708, 0.9124696354291708, 0.9124696354291708, 0.9124696354291708, 0.9124696354291708, 0.9293048215131541, 0.9293048215131541, 0.9366441399996732, 0.9366441399996732, 0.9366441399996732, 0.9366441399996732, 0.9366441399996732, 0.9366441399996732, 0.9366441399996732, 0.9366441399996732, 0.9366441399996732, 0.950795603659059, 0.950795603659059, 0.950795603659059, 0.950795603659059, 0.950795603659059, 0.9547616140167826]}], \"balanced_accuracy\": [{\"categories\": [\"0\", \"2\", \"4\", \"6\", \"9\", \"11\", \"13\", \"18\", \"21\", \"23\", \"24\", \"26\", \"27\", \"28\", \"29\", \"30\", \"31\", \"32\", \"33\", \"34\", \"39\", \"40\", \"41\", \"42\", \"47\"], \"mode\": \"markers\", \"name\": \"balanced_accuracy\", \"stepped\": false, \"type\": \"scatter\", \"data\": [0.8111927642736009, 0.7249858677218768, 0.7849067269643866, 0.7430751837196157, 0.8111927642736009, 0.7077444884115319, 0.6585641605426795, 0.7685132843414357, 0.8193894855850763, 0.7809496890898813, 0.8309779536461277, 0.8292820802713398, 0.7973431317128321, 0.7159412097230073, 0.8292820802713398, 0.5, 0.7413793103448276, 0.7611644997173544, 0.7422272470322215, 0.8900508762012436, 0.7849067269643866, 0.5740531373657434, 0.793951384963256, 0.8193894855850763, 0.8366308648954212]}, {\"categories\": [\"0\", \"2\", \"4\", \"6\", \"9\", \"11\", \"13\", \"18\", \"21\", \"23\", \"24\", \"26\", \"27\", \"28\", \"29\", \"30\", \"31\", \"32\", \"33\", \"34\", \"39\", \"40\", \"41\", \"42\", \"47\"], \"mode\": \"lines\", \"name\": \"balanced_accuracy_max\", \"stepped\": true, \"type\": \"scatter\", \"data\": [0.8111927642736009, 0.8111927642736009, 0.8111927642736009, 0.8111927642736009, 0.8111927642736009, 0.8111927642736009, 0.8111927642736009, 0.8111927642736009, 0.8193894855850763, 0.8193894855850763, 0.8309779536461277, 0.8309779536461277, 0.8309779536461277, 0.8309779536461277, 0.8309779536461277, 0.8309779536461277, 0.8309779536461277, 0.8309779536461277, 0.8309779536461277, 0.8900508762012436, 0.8900508762012436, 0.8900508762012436, 0.8900508762012436, 0.8900508762012436, 0.8900508762012436]}], \"recall_score_micro\": [{\"categories\": [\"0\", \"2\", \"4\", \"6\", \"9\", \"11\", \"13\", \"18\", \"21\", \"23\", \"24\", \"26\", \"27\", \"28\", \"29\", \"30\", \"31\", \"32\", \"33\", \"34\", \"39\", \"40\", \"41\", \"42\", \"47\"], \"mode\": \"markers\", \"name\": \"recall_score_micro\", \"stepped\": false, \"type\": \"scatter\", \"data\": [0.8666666666666667, 0.8111111111111111, 0.8555555555555555, 0.8111111111111111, 0.8666666666666667, 0.8, 0.7333333333333333, 0.8333333333333334, 0.8777777777777778, 0.7888888888888889, 0.8444444444444444, 0.8666666666666667, 0.8111111111111111, 0.8111111111111111, 0.8666666666666667, 0.6777777777777778, 0.8333333333333334, 0.8111111111111111, 0.8222222222222222, 0.9, 0.8555555555555555, 0.6555555555555556, 0.8555555555555555, 0.8777777777777778, 0.8888888888888888]}, {\"categories\": [\"0\", \"2\", \"4\", \"6\", \"9\", \"11\", \"13\", \"18\", \"21\", \"23\", \"24\", \"26\", \"27\", \"28\", \"29\", \"30\", \"31\", \"32\", \"33\", \"34\", \"39\", \"40\", \"41\", \"42\", \"47\"], \"mode\": \"lines\", \"name\": \"recall_score_micro_max\", \"stepped\": true, \"type\": \"scatter\", \"data\": [0.8666666666666667, 0.8666666666666667, 0.8666666666666667, 0.8666666666666667, 0.8666666666666667, 0.8666666666666667, 0.8666666666666667, 0.8666666666666667, 0.8777777777777778, 0.8777777777777778, 0.8777777777777778, 0.8777777777777778, 0.8777777777777778, 0.8777777777777778, 0.8777777777777778, 0.8777777777777778, 0.8777777777777778, 0.8777777777777778, 0.8777777777777778, 0.9, 0.9, 0.9, 0.9, 0.9, 0.9]}], \"AUC_micro\": [{\"categories\": [\"0\", \"2\", \"4\", \"6\", \"9\", \"11\", \"13\", \"18\", \"21\", \"23\", \"24\", \"26\", \"27\", \"28\", \"29\", \"30\", \"31\", \"32\", \"33\", \"34\", \"39\", \"40\", \"41\", \"42\", \"47\"], \"mode\": \"markers\", \"name\": \"AUC_micro\", \"stepped\": false, \"type\": \"scatter\", \"data\": [0.9244444444444444, 0.9001234567901235, 0.9171604938271606, 0.9050617283950618, 0.9195061728395062, 0.8416666666666667, 0.7945679012345679, 0.8998765432098766, 0.9340740740740741, 0.8660493827160494, 0.9491358024691359, 0.9041975308641975, 0.898641975308642, 0.8848148148148148, 0.9491358024691359, 0.8023456790123458, 0.8991358024691359, 0.8838271604938271, 0.9165432098765431, 0.9588888888888889, 0.9253086419753087, 0.6437037037037037, 0.9255555555555556, 0.9341975308641975, 0.9580246913580247]}, {\"categories\": [\"0\", \"2\", \"4\", \"6\", \"9\", \"11\", \"13\", \"18\", \"21\", \"23\", \"24\", \"26\", \"27\", \"28\", \"29\", \"30\", \"31\", \"32\", \"33\", \"34\", \"39\", \"40\", \"41\", \"42\", \"47\"], \"mode\": \"lines\", \"name\": \"AUC_micro_max\", \"stepped\": true, \"type\": \"scatter\", \"data\": [0.9244444444444444, 0.9244444444444444, 0.9244444444444444, 0.9244444444444444, 0.9244444444444444, 0.9244444444444444, 0.9244444444444444, 0.9244444444444444, 0.9340740740740741, 0.9340740740740741, 0.9491358024691359, 0.9491358024691359, 0.9491358024691359, 0.9491358024691359, 0.9491358024691359, 0.9491358024691359, 0.9491358024691359, 0.9491358024691359, 0.9491358024691359, 0.9588888888888889, 0.9588888888888889, 0.9588888888888889, 0.9588888888888889, 0.9588888888888889, 0.9588888888888889]}], \"average_precision_score_micro\": [{\"categories\": [\"0\", \"2\", \"4\", \"6\", \"9\", \"11\", \"13\", \"18\", \"21\", \"23\", \"24\", \"26\", \"27\", \"28\", \"29\", \"30\", \"31\", \"32\", \"33\", \"34\", \"39\", \"40\", \"41\", \"42\", \"47\"], \"mode\": \"markers\", \"name\": \"average_precision_score_micro\", \"stepped\": false, \"type\": \"scatter\", \"data\": [0.9246674485582461, 0.9002748359683748, 0.9193656172917812, 0.8890259265197369, 0.9200444778150989, 0.817066302109267, 0.7719055898962629, 0.8972939967607452, 0.9351543430372178, 0.8715740793255565, 0.952751821245003, 0.9051431939650318, 0.9049616210608606, 0.8827319995328144, 0.9513575079119211, 0.8088637149455841, 0.8984432564018596, 0.8859764706377584, 0.9203074852216425, 0.9608596350388984, 0.9291591035625208, 0.6251793878259813, 0.9252621665664947, 0.9362776495018119, 0.9603017813113567]}, {\"categories\": [\"0\", \"2\", \"4\", \"6\", \"9\", \"11\", \"13\", \"18\", \"21\", \"23\", \"24\", \"26\", \"27\", \"28\", \"29\", \"30\", \"31\", \"32\", \"33\", \"34\", \"39\", \"40\", \"41\", \"42\", \"47\"], \"mode\": \"lines\", \"name\": \"average_precision_score_micro_max\", \"stepped\": true, \"type\": \"scatter\", \"data\": [0.9246674485582461, 0.9246674485582461, 0.9246674485582461, 0.9246674485582461, 0.9246674485582461, 0.9246674485582461, 0.9246674485582461, 0.9246674485582461, 0.9351543430372178, 0.9351543430372178, 0.952751821245003, 0.952751821245003, 0.952751821245003, 0.952751821245003, 0.952751821245003, 0.952751821245003, 0.952751821245003, 0.952751821245003, 0.952751821245003, 0.9608596350388984, 0.9608596350388984, 0.9608596350388984, 0.9608596350388984, 0.9608596350388984, 0.9608596350388984]}]}, \"metricName\": null, \"primaryMetricName\": \"AUC_weighted\", \"showLegend\": false}, \"run_metrics\": [{\"name\": \"experiment_status\", \"run_id\": \"AutoML_7d88ea04-4d00-4249-89a6-42973cabd9a9\", \"categories\": [0, 1, 2, 3, 4, 5, 6, 7, 8, 9, 10, 11, 12], \"series\": [{\"data\": [\"DatasetEvaluation\", \"FeaturesGeneration\", \"DatasetFeaturization\", \"DatasetFeaturizationCompleted\", \"ModelSelection\", \"BestRunExplainModel\", \"ModelExplanationDataSetSetup\", \"PickSurrogateModel\", \"EngineeredFeatureExplanations\", \"EngineeredFeatureExplanations\", \"RawFeaturesExplanations\", \"RawFeaturesExplanations\", \"BestRunExplainModel\"]}]}, {\"name\": \"experiment_status_description\", \"run_id\": \"AutoML_7d88ea04-4d00-4249-89a6-42973cabd9a9\", \"categories\": [0, 1, 2, 3, 4, 5, 6, 7, 8, 9, 10, 11, 12], \"series\": [{\"data\": [\"Gathering dataset statistics.\", \"Generating features for the dataset.\", \"Beginning to fit featurizers and featurize the dataset.\", \"Completed fit featurizers and featurizing the dataset.\", \"Beginning model selection.\", \"Best run model explanations started\", \"Model explanations data setup completed\", \"Choosing LightGBM as the surrogate model for explanations\", \"Computation of engineered features started\", \"Computation of engineered features completed\", \"Computation of raw features started\", \"Computation of raw features completed\", \"Best run model explanations completed\"]}]}, {\"name\": \"average_precision_score_macro\", \"run_id\": \"AutoML_7d88ea04-4d00-4249-89a6-42973cabd9a9\", \"categories\": [0], \"series\": [{\"data\": [0.9547616140167826]}]}, {\"name\": \"f1_score_macro\", \"run_id\": \"AutoML_7d88ea04-4d00-4249-89a6-42973cabd9a9\", \"categories\": [0], \"series\": [{\"data\": [0.8615384615384615]}]}, {\"name\": \"f1_score_micro\", \"run_id\": \"AutoML_7d88ea04-4d00-4249-89a6-42973cabd9a9\", \"categories\": [0], \"series\": [{\"data\": [0.8888888888888888]}]}, {\"name\": \"norm_macro_recall\", \"run_id\": \"AutoML_7d88ea04-4d00-4249-89a6-42973cabd9a9\", \"categories\": [0], \"series\": [{\"data\": [0.6732617297908423]}]}, {\"name\": \"recall_score_weighted\", \"run_id\": \"AutoML_7d88ea04-4d00-4249-89a6-42973cabd9a9\", \"categories\": [0], \"series\": [{\"data\": [0.8888888888888888]}]}, {\"name\": \"precision_score_macro\", \"run_id\": \"AutoML_7d88ea04-4d00-4249-89a6-42973cabd9a9\", \"categories\": [0], \"series\": [{\"data\": [0.9109730848861284]}]}, {\"name\": \"matthews_correlation\", \"run_id\": \"AutoML_7d88ea04-4d00-4249-89a6-42973cabd9a9\", \"categories\": [0], \"series\": [{\"data\": [0.7438984474078615]}]}, {\"name\": \"AUC_micro\", \"run_id\": \"AutoML_7d88ea04-4d00-4249-89a6-42973cabd9a9\", \"categories\": [0], \"series\": [{\"data\": [0.9580246913580247]}]}, {\"name\": \"weighted_accuracy\", \"run_id\": \"AutoML_7d88ea04-4d00-4249-89a6-42973cabd9a9\", \"categories\": [0], \"series\": [{\"data\": [0.929416922402455]}]}, {\"name\": \"f1_score_weighted\", \"run_id\": \"AutoML_7d88ea04-4d00-4249-89a6-42973cabd9a9\", \"categories\": [0], \"series\": [{\"data\": [0.8834188034188034]}]}, {\"name\": \"average_precision_score_weighted\", \"run_id\": \"AutoML_7d88ea04-4d00-4249-89a6-42973cabd9a9\", \"categories\": [0], \"series\": [{\"data\": [0.9637870902941987]}]}, {\"name\": \"precision_score_micro\", \"run_id\": \"AutoML_7d88ea04-4d00-4249-89a6-42973cabd9a9\", \"categories\": [0], \"series\": [{\"data\": [0.8888888888888888]}]}, {\"name\": \"precision_score_weighted\", \"run_id\": \"AutoML_7d88ea04-4d00-4249-89a6-42973cabd9a9\", \"categories\": [0], \"series\": [{\"data\": [0.8962502875546353]}]}, {\"name\": \"recall_score_macro\", \"run_id\": \"AutoML_7d88ea04-4d00-4249-89a6-42973cabd9a9\", \"categories\": [0], \"series\": [{\"data\": [0.8366308648954212]}]}, {\"name\": \"average_precision_score_micro\", \"run_id\": \"AutoML_7d88ea04-4d00-4249-89a6-42973cabd9a9\", \"categories\": [0], \"series\": [{\"data\": [0.9603017813113567]}]}, {\"name\": \"log_loss\", \"run_id\": \"AutoML_7d88ea04-4d00-4249-89a6-42973cabd9a9\", \"categories\": [0], \"series\": [{\"data\": [0.42807530388914206]}]}, {\"name\": \"AUC_macro\", \"run_id\": \"AutoML_7d88ea04-4d00-4249-89a6-42973cabd9a9\", \"categories\": [0], \"series\": [{\"data\": [0.9581684567552289]}]}, {\"name\": \"recall_score_micro\", \"run_id\": \"AutoML_7d88ea04-4d00-4249-89a6-42973cabd9a9\", \"categories\": [0], \"series\": [{\"data\": [0.8888888888888888]}]}, {\"name\": \"AUC_weighted\", \"run_id\": \"AutoML_7d88ea04-4d00-4249-89a6-42973cabd9a9\", \"categories\": [0], \"series\": [{\"data\": [0.958168456755229]}]}, {\"name\": \"accuracy\", \"run_id\": \"AutoML_7d88ea04-4d00-4249-89a6-42973cabd9a9\", \"categories\": [0], \"series\": [{\"data\": [0.8888888888888888]}]}, {\"name\": \"balanced_accuracy\", \"run_id\": \"AutoML_7d88ea04-4d00-4249-89a6-42973cabd9a9\", \"categories\": [0], \"series\": [{\"data\": [0.8366308648954212]}]}], \"run_logs\": \"\\nRun is completed.\", \"graph\": {}, \"widget_settings\": {\"childWidgetDisplay\": \"popup\", \"send_telemetry\": false, \"log_level\": \"INFO\", \"sdk_version\": \"1.39.0\"}, \"loading\": false}"
          },
          "metadata": {},
          "output_type": "display_data"
        }
      ],
      "source": [
        "RunDetails(remote_run).show()"
      ]
    },
    {
      "cell_type": "code",
      "execution_count": 10,
      "metadata": {
        "gather": {
          "logged": 1648989851538
        },
        "jupyter": {
          "outputs_hidden": false,
          "source_hidden": false
        },
        "nteract": {
          "transient": {
            "deleting": false
          }
        }
      },
      "outputs": [
        {
          "data": {
            "text/html": [
              "<table style=\"width:100%\"><tr><th>Experiment</th><th>Id</th><th>Type</th><th>Status</th><th>Details Page</th><th>Docs Page</th></tr><tr><td>heart-automl-sdk</td><td>AutoML_7d88ea04-4d00-4249-89a6-42973cabd9a9</td><td>automl</td><td>NotStarted</td><td><a href=\"https://ml.azure.com/runs/AutoML_7d88ea04-4d00-4249-89a6-42973cabd9a9?wsid=/subscriptions/6eee9ed4-ef02-4ad0-bbbd-194153ad2069/resourcegroups/aml-resource/workspaces/aml-workspace&amp;tid=b8f88a0b-3d95-478b-b123-a494d78523a4\" target=\"_blank\" rel=\"noopener\">Link to Azure Machine Learning studio</a></td><td><a href=\"https://docs.microsoft.com/en-us/python/api/overview/azure/ml/intro?view=azure-ml-py\" target=\"_blank\" rel=\"noopener\">Link to Documentation</a></td></tr></table>"
            ],
            "text/plain": [
              "<IPython.core.display.HTML object>"
            ]
          },
          "metadata": {},
          "output_type": "display_data"
        },
        {
          "name": "stdout",
          "output_type": "stream",
          "text": [
            "\n",
            "Current status: FeaturesGeneration. Generating features for the dataset.\n",
            "Current status: DatasetFeaturizationCompleted. Completed fit featurizers and featurizing the dataset.\n",
            "Current status: ModelSelection. Beginning model selection.\n",
            "\n",
            "********************************************************************************************\n",
            "DATA GUARDRAILS: \n",
            "\n",
            "TYPE:         Class balancing detection\n",
            "STATUS:       PASSED\n",
            "DESCRIPTION:  Your inputs were analyzed, and all classes are balanced in your training data.\n",
            "              Learn more about imbalanced data: https://aka.ms/AutomatedMLImbalancedData\n",
            "\n",
            "********************************************************************************************\n",
            "\n",
            "TYPE:         Missing feature values imputation\n",
            "STATUS:       PASSED\n",
            "DESCRIPTION:  No feature missing values were detected in the training data.\n",
            "              Learn more about missing value imputation: https://aka.ms/AutomatedMLFeaturization\n",
            "\n",
            "********************************************************************************************\n",
            "\n",
            "TYPE:         High cardinality feature detection\n",
            "STATUS:       PASSED\n",
            "DESCRIPTION:  Your inputs were analyzed, and no high cardinality features were detected.\n",
            "              Learn more about high cardinality feature handling: https://aka.ms/AutomatedMLFeaturization\n",
            "\n",
            "********************************************************************************************\n",
            "\n",
            "********************************************************************************************\n",
            "ITER: The iteration being evaluated.\n",
            "PIPELINE: A summary description of the pipeline being evaluated.\n",
            "DURATION: Time taken for the current iteration.\n",
            "METRIC: The result of computing score on the fitted pipeline.\n",
            "BEST: The best observed score thus far.\n",
            "********************************************************************************************\n",
            "\n",
            " ITER   PIPELINE                                       DURATION            METRIC      BEST\n",
            "    0   MaxAbsScaler LightGBM                          0:00:13             0.9022    0.9022\n",
            "    1   MaxAbsScaler XGBoostClassifier                 0:00:14             0.8864    0.9022\n",
            "    2   MaxAbsScaler ExtremeRandomTrees                0:00:13             0.8773    0.9022\n",
            "    3   MaxAbsScaler RandomForest                      0:00:13             0.9227    0.9227\n",
            "    4   StandardScalerWrapper LightGBM                 0:00:14             0.9118    0.9227\n",
            "    5   StandardScalerWrapper KNN                      0:00:14             0.5336    0.9227\n",
            "    6   SparseNormalizer XGBoostClassifier             0:00:13             0.8773    0.9227\n",
            "    7   SparseNormalizer RandomForest                  0:00:15             0.9141    0.9227\n",
            "    8   RobustScaler KNN                               0:00:13             0.8615    0.9227\n",
            "    9   MinMaxScaler RandomForest                      0:00:16             0.9084    0.9227\n",
            "   10   StandardScalerWrapper LogisticRegression       0:00:15             0.8508    0.9227\n",
            "   11   StandardScalerWrapper SVM                      0:00:13             0.7880    0.9227\n",
            "   12   StandardScalerWrapper XGBoostClassifier        0:00:14             0.8242    0.9227\n",
            "   13   SparseNormalizer KNN                           0:00:13             0.7174    0.9227\n",
            "   14   RobustScaler ExtremeRandomTrees                0:00:14             0.9033    0.9227\n",
            "   15   SparseNormalizer XGBoostClassifier             0:00:15             0.8598    0.9227\n",
            "   16   MinMaxScaler ExtremeRandomTrees                0:00:14             0.9056    0.9227\n",
            "   17   MinMaxScaler ExtremeRandomTrees                0:00:14             0.9101    0.9227\n",
            "   18   SparseNormalizer LightGBM                      0:00:13             0.8756    0.9227\n",
            "   19   MaxAbsScaler ExtremeRandomTrees                0:00:14             0.8621    0.9227\n",
            "   21   StandardScalerWrapper RandomForest             0:00:04             0.9310    0.9310\n",
            "   22   MaxAbsScaler LightGBM                          0:00:04             0.9050    0.9310\n",
            "   20   StandardScalerWrapper XGBoostClassifier        0:00:04             0.9271    0.9310\n",
            "   23   MaxAbsScaler LogisticRegression                0:00:04             0.8553    0.9310\n",
            "   24   MaxAbsScaler RandomForest                      0:00:04             0.9401    0.9401\n",
            "   25   StandardScalerWrapper ExtremeRandomTrees       0:00:04             0.9237    0.9401\n",
            "   26   StandardScalerWrapper LogisticRegression       0:00:04             0.8796    0.9401\n",
            "   27   StandardScalerWrapper ExtremeRandomTrees       0:00:04             0.8830    0.9401\n",
            "   28   MaxAbsScaler ExtremeRandomTrees                0:00:04             0.8700    0.9401\n",
            "   29   StandardScalerWrapper RandomForest             0:00:04             0.9288    0.9401\n",
            "   30   StandardScalerWrapper RandomForest             0:00:04             0.7852    0.9401\n",
            "   31   MaxAbsScaler RandomForest                      0:00:04             0.8977    0.9401\n",
            "   32   StandardScalerWrapper SVM                      0:00:04             0.8508    0.9401\n",
            "   33   MinMaxScaler RandomForest                      0:00:04             0.9271    0.9401\n",
            "   34   StandardScalerWrapper RandomForest             0:00:04             0.9531    0.9531\n",
            "   37   StandardScalerWrapper LightGBM                 0:00:04             0.9469    0.9531\n",
            "   36   RobustScaler GradientBoosting                  0:00:04             0.9211    0.9531\n",
            "   35   StandardScalerWrapper GradientBoosting         0:00:04             0.9339    0.9531\n",
            "   38   StandardScalerWrapper XGBoostClassifier        0:00:04             0.9062    0.9531\n",
            "   39   StandardScalerWrapper RandomForest             0:00:04             0.9141    0.9531\n",
            "   40   PCA RandomForest                               0:00:04             0.6091    0.9531\n",
            "   41   StandardScalerWrapper XGBoostClassifier        0:00:04             0.9045    0.9531\n",
            "   42   StandardScalerWrapper XGBoostClassifier        0:00:04             0.9299    0.9531\n",
            "   43                                                  0:00:00                nan    0.9531\n",
            "ERROR: {\n",
            "    \"additional_properties\": {},\n",
            "    \"error\": {\n",
            "        \"additional_properties\": {\n",
            "            \"debugInfo\": null\n",
            "        },\n",
            "        \"code\": \"UserError\",\n",
            "        \"severity\": null,\n",
            "        \"message\": \"Experiment timeout reached, please consider increasing your experiment timeout.\",\n",
            "        \"message_format\": \"Experiment timeout reached, please consider increasing your experiment timeout.\",\n",
            "        \"message_parameters\": {},\n",
            "        \"reference_code\": null,\n",
            "        \"details_uri\": null,\n",
            "        \"target\": null,\n",
            "        \"details\": [],\n",
            "        \"inner_error\": {\n",
            "            \"additional_properties\": {},\n",
            "            \"code\": \"ResourceExhausted\",\n",
            "            \"inner_error\": {\n",
            "                \"additional_properties\": {},\n",
            "                \"code\": \"Timeout\",\n",
            "                \"inner_error\": {\n",
            "                    \"additional_properties\": {},\n",
            "                    \"code\": \"ExperimentTimeoutForIterations\",\n",
            "                    \"inner_error\": null\n",
            "                }\n",
            "            }\n",
            "        },\n",
            "        \"additional_info\": null\n",
            "    },\n",
            "    \"correlation\": null,\n",
            "    \"environment\": null,\n",
            "    \"location\": null,\n",
            "    \"time\": {},\n",
            "    \"component_name\": null\n",
            "}\n",
            "   44                                                  0:00:00                nan    0.9531\n",
            "ERROR: {\n",
            "    \"additional_properties\": {},\n",
            "    \"error\": {\n",
            "        \"additional_properties\": {\n",
            "            \"debugInfo\": null\n",
            "        },\n",
            "        \"code\": \"UserError\",\n",
            "        \"severity\": null,\n",
            "        \"message\": \"Experiment timeout reached, please consider increasing your experiment timeout.\",\n",
            "        \"message_format\": \"Experiment timeout reached, please consider increasing your experiment timeout.\",\n",
            "        \"message_parameters\": {},\n",
            "        \"reference_code\": null,\n",
            "        \"details_uri\": null,\n",
            "        \"target\": null,\n",
            "        \"details\": [],\n",
            "        \"inner_error\": {\n",
            "            \"additional_properties\": {},\n",
            "            \"code\": \"ResourceExhausted\",\n",
            "            \"inner_error\": {\n",
            "                \"additional_properties\": {},\n",
            "                \"code\": \"Timeout\",\n",
            "                \"inner_error\": {\n",
            "                    \"additional_properties\": {},\n",
            "                    \"code\": \"ExperimentTimeoutForIterations\",\n",
            "                    \"inner_error\": null\n",
            "                }\n",
            "            }\n",
            "        },\n",
            "        \"additional_info\": null\n",
            "    },\n",
            "    \"correlation\": null,\n",
            "    \"environment\": null,\n",
            "    \"location\": null,\n",
            "    \"time\": {},\n",
            "    \"component_name\": null\n",
            "}\n",
            "   45                                                  0:00:00                nan    0.9531\n",
            "ERROR: {\n",
            "    \"additional_properties\": {},\n",
            "    \"error\": {\n",
            "        \"additional_properties\": {\n",
            "            \"debugInfo\": null\n",
            "        },\n",
            "        \"code\": \"UserError\",\n",
            "        \"severity\": null,\n",
            "        \"message\": \"Experiment timeout reached, please consider increasing your experiment timeout.\",\n",
            "        \"message_format\": \"Experiment timeout reached, please consider increasing your experiment timeout.\",\n",
            "        \"message_parameters\": {},\n",
            "        \"reference_code\": null,\n",
            "        \"details_uri\": null,\n",
            "        \"target\": null,\n",
            "        \"details\": [],\n",
            "        \"inner_error\": {\n",
            "            \"additional_properties\": {},\n",
            "            \"code\": \"ResourceExhausted\",\n",
            "            \"inner_error\": {\n",
            "                \"additional_properties\": {},\n",
            "                \"code\": \"Timeout\",\n",
            "                \"inner_error\": {\n",
            "                    \"additional_properties\": {},\n",
            "                    \"code\": \"ExperimentTimeoutForIterations\",\n",
            "                    \"inner_error\": null\n",
            "                }\n",
            "            }\n",
            "        },\n",
            "        \"additional_info\": null\n",
            "    },\n",
            "    \"correlation\": null,\n",
            "    \"environment\": null,\n",
            "    \"location\": null,\n",
            "    \"time\": {},\n",
            "    \"component_name\": null\n",
            "}\n",
            "   46                                                  0:00:00                nan    0.9531\n",
            "ERROR: {\n",
            "    \"additional_properties\": {},\n",
            "    \"error\": {\n",
            "        \"additional_properties\": {\n",
            "            \"debugInfo\": null\n",
            "        },\n",
            "        \"code\": \"UserError\",\n",
            "        \"severity\": null,\n",
            "        \"message\": \"Experiment timeout reached, please consider increasing your experiment timeout.\",\n",
            "        \"message_format\": \"Experiment timeout reached, please consider increasing your experiment timeout.\",\n",
            "        \"message_parameters\": {},\n",
            "        \"reference_code\": null,\n",
            "        \"details_uri\": null,\n",
            "        \"target\": null,\n",
            "        \"details\": [],\n",
            "        \"inner_error\": {\n",
            "            \"additional_properties\": {},\n",
            "            \"code\": \"ResourceExhausted\",\n",
            "            \"inner_error\": {\n",
            "                \"additional_properties\": {},\n",
            "                \"code\": \"Timeout\",\n",
            "                \"inner_error\": {\n",
            "                    \"additional_properties\": {},\n",
            "                    \"code\": \"ExperimentTimeoutForIterations\",\n",
            "                    \"inner_error\": null\n",
            "                }\n",
            "            }\n",
            "        },\n",
            "        \"additional_info\": null\n",
            "    },\n",
            "    \"correlation\": null,\n",
            "    \"environment\": null,\n",
            "    \"location\": null,\n",
            "    \"time\": {},\n",
            "    \"component_name\": null\n",
            "}\n",
            "   47    VotingEnsemble                                0:00:04             0.9582    0.9582\n",
            "   48    StackEnsemble                                 0:00:04             0.9514    0.9582\n"
          ]
        },
        {
          "data": {
            "text/plain": [
              "{'runId': 'AutoML_7d88ea04-4d00-4249-89a6-42973cabd9a9',\n",
              " 'target': 'aml-cluster',\n",
              " 'status': 'Completed',\n",
              " 'startTimeUtc': '2022-04-03T12:05:08.849519Z',\n",
              " 'endTimeUtc': '2022-04-03T12:43:48.633999Z',\n",
              " 'services': {},\n",
              " 'warnings': [{'source': 'JasmineService',\n",
              "   'message': 'Experiment timeout reached, hence experiment stopped. Current experiment timeout: 0 hour(s) 30 minute(s)'}],\n",
              " 'properties': {'num_iterations': '1000',\n",
              "  'training_type': 'TrainFull',\n",
              "  'acquisition_function': 'EI',\n",
              "  'primary_metric': 'AUC_weighted',\n",
              "  'train_split': '0',\n",
              "  'acquisition_parameter': '0',\n",
              "  'num_cross_validation': None,\n",
              "  'target': 'aml-cluster',\n",
              "  'AMLSettingsJsonString': '{\"path\":null,\"name\":\"heart-automl-sdk\",\"subscription_id\":\"6eee9ed4-ef02-4ad0-bbbd-194153ad2069\",\"resource_group\":\"aml-resource\",\"workspace_name\":\"aml-workspace\",\"region\":\"westeurope\",\"compute_target\":\"aml-cluster\",\"spark_service\":null,\"azure_service\":\"remote\",\"many_models\":false,\"pipeline_fetch_max_batch_size\":1,\"enable_batch_run\":true,\"enable_run_restructure\":false,\"start_auxiliary_runs_before_parent_complete\":false,\"enable_code_generation\":false,\"iterations\":1000,\"primary_metric\":\"AUC_weighted\",\"task_type\":\"classification\",\"positive_label\":null,\"data_script\":null,\"test_size\":0.0,\"test_include_predictions_only\":false,\"validation_size\":0.0,\"n_cross_validations\":null,\"y_min\":null,\"y_max\":null,\"num_classes\":null,\"featurization\":\"auto\",\"_ignore_package_version_incompatibilities\":false,\"is_timeseries\":false,\"max_cores_per_iteration\":1,\"max_concurrent_iterations\":5,\"iteration_timeout_minutes\":null,\"mem_in_mb\":null,\"enforce_time_on_windows\":false,\"experiment_timeout_minutes\":30,\"experiment_exit_score\":null,\"partition_column_names\":null,\"whitelist_models\":null,\"blacklist_algos\":[\"TensorFlowLinearClassifier\",\"TensorFlowDNN\"],\"supported_models\":[\"TensorFlowDNN\",\"GradientBoosting\",\"AveragedPerceptronClassifier\",\"LinearSVM\",\"KNN\",\"BernoulliNaiveBayes\",\"SGD\",\"DecisionTree\",\"XGBoostClassifier\",\"LogisticRegression\",\"MultinomialNaiveBayes\",\"TensorFlowLinearClassifier\",\"SVM\",\"TabnetClassifier\",\"LightGBM\",\"ExtremeRandomTrees\",\"RandomForest\"],\"private_models\":[],\"auto_blacklist\":true,\"blacklist_samples_reached\":false,\"exclude_nan_labels\":true,\"verbosity\":20,\"_debug_log\":\"azureml_automl.log\",\"show_warnings\":false,\"model_explainability\":true,\"service_url\":null,\"sdk_url\":null,\"sdk_packages\":null,\"enable_onnx_compatible_models\":false,\"enable_split_onnx_featurizer_estimator_models\":false,\"vm_type\":\"STANDARD_DS11_V2\",\"telemetry_verbosity\":20,\"send_telemetry\":true,\"enable_dnn\":false,\"scenario\":\"SDK-1.13.0\",\"environment_label\":null,\"save_mlflow\":false,\"enable_categorical_indicators\":false,\"force_text_dnn\":false,\"enable_feature_sweeping\":true,\"enable_early_stopping\":true,\"early_stopping_n_iters\":10,\"arguments\":null,\"dataset_id\":\"d3d372e2-fb53-49e2-b962-8a5bd4277645\",\"hyperdrive_config\":null,\"validation_dataset_id\":\"cf5f7932-67c2-4b7b-a9cc-a52970fa2fd2\",\"run_source\":null,\"metrics\":null,\"enable_metric_confidence\":false,\"enable_ensembling\":true,\"enable_stack_ensembling\":true,\"ensemble_iterations\":15,\"enable_tf\":false,\"enable_subsampling\":null,\"subsample_seed\":null,\"enable_nimbusml\":false,\"enable_streaming\":false,\"force_streaming\":false,\"track_child_runs\":true,\"allowed_private_models\":[],\"label_column_name\":\"DEATH_EVENT\",\"weight_column_name\":null,\"cv_split_column_names\":null,\"enable_local_managed\":false,\"_local_managed_run_id\":null,\"cost_mode\":1,\"lag_length\":0,\"metric_operation\":\"maximize\",\"preprocess\":true}',\n",
              "  'DataPrepJsonString': '{\\\\\"training_data\\\\\": {\\\\\"datasetId\\\\\": \\\\\"d3d372e2-fb53-49e2-b962-8a5bd4277645\\\\\"}, \\\\\"validation_data\\\\\": {\\\\\"datasetId\\\\\": \\\\\"cf5f7932-67c2-4b7b-a9cc-a52970fa2fd2\\\\\"}, \\\\\"datasets\\\\\": 0}',\n",
              "  'EnableSubsampling': None,\n",
              "  'runTemplate': 'AutoML',\n",
              "  'azureml.runsource': 'automl',\n",
              "  'display_task_type': 'classification',\n",
              "  'dependencies_versions': '{\"azureml-widgets\": \"1.39.0\", \"azureml-training-tabular\": \"1.39.0\", \"azureml-train\": \"1.39.0\", \"azureml-train-restclients-hyperdrive\": \"1.39.0\", \"azureml-train-core\": \"1.39.0\", \"azureml-train-automl\": \"1.39.0\", \"azureml-train-automl-runtime\": \"1.39.0\", \"azureml-train-automl-client\": \"1.39.0\", \"azureml-tensorboard\": \"1.39.0\", \"azureml-telemetry\": \"1.39.0\", \"azureml-sdk\": \"1.39.0\", \"azureml-samples\": \"0+unknown\", \"azureml-responsibleai\": \"1.39.0\", \"azureml-pipeline\": \"1.39.0\", \"azureml-pipeline-steps\": \"1.39.0\", \"azureml-pipeline-core\": \"1.39.0\", \"azureml-opendatasets\": \"1.39.0\", \"azureml-mlflow\": \"1.39.0\", \"azureml-interpret\": \"1.39.0\", \"azureml-inference-server-http\": \"0.4.10\", \"azureml-explain-model\": \"1.39.0\", \"azureml-defaults\": \"1.39.0\", \"azureml-dataset-runtime\": \"1.39.0\", \"azureml-dataprep\": \"2.27.1\", \"azureml-dataprep-rslex\": \"2.3.1\", \"azureml-dataprep-native\": \"38.0.0\", \"azureml-datadrift\": \"1.39.0\", \"azureml-core\": \"1.39.0\", \"azureml-contrib-services\": \"1.39.0\", \"azureml-contrib-server\": \"1.39.0\", \"azureml-contrib-reinforcementlearning\": \"1.39.0\", \"azureml-contrib-pipeline-steps\": \"1.39.0\", \"azureml-contrib-notebook\": \"1.39.0\", \"azureml-contrib-fairness\": \"1.39.0\", \"azureml-contrib-dataset\": \"1.39.0\", \"azureml-contrib-automl-pipeline-steps\": \"1.39.0\", \"azureml-cli-common\": \"1.39.0\", \"azureml-automl-runtime\": \"1.39.0\", \"azureml-automl-dnn-nlp\": \"1.39.0\", \"azureml-automl-core\": \"1.39.0\", \"azureml-accel-models\": \"1.39.0\"}',\n",
              "  '_aml_system_scenario_identification': 'Remote.Parent',\n",
              "  'ClientType': 'SDK',\n",
              "  'environment_cpu_name': 'AzureML-AutoML',\n",
              "  'environment_cpu_label': 'prod',\n",
              "  'environment_gpu_name': 'AzureML-AutoML-GPU',\n",
              "  'environment_gpu_label': 'prod',\n",
              "  'root_attribution': 'automl',\n",
              "  'attribution': 'AutoML',\n",
              "  'Orchestrator': 'AutoML',\n",
              "  'CancelUri': 'https://westeurope.api.azureml.ms/jasmine/v1.0/subscriptions/6eee9ed4-ef02-4ad0-bbbd-194153ad2069/resourceGroups/aml-resource/providers/Microsoft.MachineLearningServices/workspaces/aml-workspace/experimentids/d720990e-6811-4a20-ae9d-2f4d79e6bb1e/cancel/AutoML_7d88ea04-4d00-4249-89a6-42973cabd9a9',\n",
              "  'azureml.git.repository_uri': 'https://github.com/Aduzona/Capstone_Project---Azure-ML_Engineer.git',\n",
              "  'mlflow.source.git.repoURL': 'https://github.com/Aduzona/Capstone_Project---Azure-ML_Engineer.git',\n",
              "  'azureml.git.branch': 'master',\n",
              "  'mlflow.source.git.branch': 'master',\n",
              "  'azureml.git.commit': '4c98e2a4eb96ea93f321d05c9a8a1c5ace753c16',\n",
              "  'mlflow.source.git.commit': '4c98e2a4eb96ea93f321d05c9a8a1c5ace753c16',\n",
              "  'azureml.git.dirty': 'False',\n",
              "  'ClientSdkVersion': '1.39.1',\n",
              "  'snapshotId': '00000000-0000-0000-0000-000000000000',\n",
              "  'SetupRunId': 'AutoML_7d88ea04-4d00-4249-89a6-42973cabd9a9_setup',\n",
              "  'SetupRunContainerId': 'dcid.AutoML_7d88ea04-4d00-4249-89a6-42973cabd9a9_setup',\n",
              "  'FeaturizationRunJsonPath': 'featurizer_container.json',\n",
              "  'FeaturizationRunId': 'AutoML_7d88ea04-4d00-4249-89a6-42973cabd9a9_featurize',\n",
              "  'ProblemInfoJsonString': '{\"dataset_num_categorical\": 0, \"is_sparse\": false, \"subsampling\": false, \"has_extra_col\": true, \"dataset_classes\": 2, \"dataset_features\": 12, \"dataset_samples\": 209, \"single_frequency_class_detected\": false}',\n",
              "  'ModelExplainRunId': 'AutoML_7d88ea04-4d00-4249-89a6-42973cabd9a9_ModelExplain'},\n",
              " 'inputDatasets': [{'dataset': {'id': 'd3d372e2-fb53-49e2-b962-8a5bd4277645'}, 'consumptionDetails': {'type': 'RunInput', 'inputName': 'training_data', 'mechanism': 'Direct'}}, {'dataset': {'id': 'cf5f7932-67c2-4b7b-a9cc-a52970fa2fd2'}, 'consumptionDetails': {'type': 'RunInput', 'inputName': 'validation_data', 'mechanism': 'Direct'}}],\n",
              " 'outputDatasets': [],\n",
              " 'logFiles': {},\n",
              " 'submittedBy': 'Diego uchendu'}"
            ]
          },
          "execution_count": 10,
          "metadata": {},
          "output_type": "execute_result"
        }
      ],
      "source": [
        "remote_run.wait_for_completion(show_output=True)"
      ]
    },
    {
      "cell_type": "markdown",
      "metadata": {},
      "source": [
        "## Best Model\n",
        "\n",
        "TODO: In the cell below, get the best model from the automl experiments and display all the properties of the model.\n",
        "\n"
      ]
    },
    {
      "cell_type": "code",
      "execution_count": null,
      "metadata": {
        "gather": {
          "logged": 1598431425670
        },
        "jupyter": {
          "outputs_hidden": false,
          "source_hidden": false
        },
        "nteract": {
          "transient": {
            "deleting": false
          }
        }
      },
      "outputs": [],
      "source": [
        "'''\n",
        "for run in automl_run.get_children():\n",
        "    print('Run ID', run.id)\n",
        "    for metric in run.get_metrics():\n",
        "        print('\\t', run.get_metrics(metric))\n",
        "'''"
      ]
    },
    {
      "cell_type": "code",
      "execution_count": 11,
      "metadata": {
        "gather": {
          "logged": 1648990401714
        },
        "jupyter": {
          "outputs_hidden": false,
          "source_hidden": false
        },
        "nteract": {
          "transient": {
            "deleting": false
          }
        }
      },
      "outputs": [
        {
          "name": "stdout",
          "output_type": "stream",
          "text": [
            "Best Run Id:  AutoML_7d88ea04-4d00-4249-89a6-42973cabd9a9_47\n",
            " -AUC: 0.958168456755229\n",
            " -Accuracy: 0.8888888888888888\n",
            " -Arguments: []\n"
          ]
        }
      ],
      "source": [
        "# Get the best run, and its metrics and arguments\n",
        "best_run,fitted_model= remote_run.get_output()\n",
        "best_run_metrics = best_run.get_metrics()\n",
        "script_arguments = best_run.get_details() ['runDefinition']['arguments']\n",
        "print('Best Run Id: ', best_run.id)\n",
        "print(' -AUC:', best_run_metrics['AUC_weighted'])\n",
        "print(' -Accuracy:', best_run_metrics['accuracy'])\n",
        "print(' -Arguments:',script_arguments)"
      ]
    },
    {
      "cell_type": "code",
      "execution_count": 12,
      "metadata": {
        "gather": {
          "logged": 1648990433210
        },
        "jupyter": {
          "outputs_hidden": false,
          "source_hidden": false
        },
        "nteract": {
          "transient": {
            "deleting": false
          }
        }
      },
      "outputs": [
        {
          "name": "stdout",
          "output_type": "stream",
          "text": [
            "Run(Experiment: heart-automl-sdk,\n",
            "Id: AutoML_7d88ea04-4d00-4249-89a6-42973cabd9a9_47,\n",
            "Type: azureml.scriptrun,\n",
            "Status: Completed)\n",
            "\n",
            "Best Model Definition:\n",
            "Pipeline(memory=None,\n",
            "         steps=[('datatransformer',\n",
            "                 DataTransformer(enable_dnn=False, enable_feature_sweeping=True, feature_sweeping_config={}, feature_sweeping_timeout=86400, featurization_config=None, force_text_dnn=False, is_cross_validation=False, is_onnx_compatible=False, observer=None, task='classification', working_dir='/mnt/batch/tasks/shared/LS_root/moun...\n",
            "                 PreFittedSoftVotingClassifier(classification_labels=array([0, 1]), estimators=[('34', Pipeline(memory=None, steps=[('standardscalerwrapper', StandardScalerWrapper(copy=True, with_mean=False, with_std=True)), ('randomforestclassifier', RandomForestClassifier(bootstrap=False, ccp_alpha=0.0, class_weight='balanced', criterion='entropy', max_depth=None, max_features=0.3, max_leaf_nodes=None, max_samples=None, min_impurity_decrease=0.0, min_impurity_split=None, min_samples_leaf=0.26789473684210524, min_samples_split=0.5721052631578947, min_weight_fraction_leaf=0.0, n_estimators=200, n_jobs=1, oob_score=False, random_state=None, verbose=0, warm_start=False))], verbose=False)), ('37', Pipeline(memory=None, steps=[('standardscalerwrapper', StandardScalerWrapper(copy=True, with_mean=True, with_std=True)), ('lightgbmclassifier', LightGBMClassifier(boosting_type='goss', colsample_bytree=0.3966666666666666, learning_rate=0.010535263157894737, max_bin=160, max_depth=5, min_child_weight=3, min_data_in_leaf=0.1, min_split_gain=0.8421052631578947, n_estimators=200, n_jobs=1, num_leaves=32, problem_info=ProblemInfo(gpu_training_param_dict={'processing_unit_type': 'cpu'}), random_state=None, reg_alpha=0.2631578947368421, reg_lambda=0, subsample=1))], verbose=False)), ('24', Pipeline(memory=None, steps=[('maxabsscaler', MaxAbsScaler(copy=True)), ('randomforestclassifier', RandomForestClassifier(bootstrap=True, ccp_alpha=0.0, class_weight='balanced', criterion='gini', max_depth=None, max_features='log2', max_leaf_nodes=None, max_samples=None, min_impurity_decrease=0.0, min_impurity_split=None, min_samples_leaf=0.06157894736842105, min_samples_split=0.10368421052631578, min_weight_fraction_leaf=0.0, n_estimators=25, n_jobs=1, oob_score=True, random_state=None, verbose=0, warm_start=False))], verbose=False)), ('35', Pipeline(memory=None, steps=[('standardscalerwrapper', StandardScalerWrapper(copy=True, with_mean=True, with_std=False)), ('gradientboostingclassifier', GradientBoostingClassifier(ccp_alpha=0.0, criterion='mse', init=None, learning_rate=0.1, loss='deviance', max_depth=3, max_features=0.8, max_leaf_nodes=None, min_impurity_decrease=0.0, min_impurity_split=None, min_samples_leaf=0.06157894736842105, min_samples_split=0.5252631578947369, min_weight_fraction_leaf=0.0, n_estimators=100, n_iter_no_change=None, presort='deprecated', random_state=None, subsample=0.6210526315789474, tol=0.0001, validation_fraction=0.1, verbose=0, warm_start=False))], verbose=False)), ('21', Pipeline(memory=None, steps=[('standardscalerwrapper', StandardScalerWrapper(copy=True, with_mean=False, with_std=False)), ('randomforestclassifier', RandomForestClassifier(bootstrap=True, ccp_alpha=0.0, class_weight=None, criterion='gini', max_depth=None, max_features='auto', max_leaf_nodes=None, max_samples=None, min_impurity_decrease=0.0, min_impurity_split=None, min_samples_leaf=1, min_samples_split=2, min_weight_fraction_leaf=0.0, n_estimators=100, n_jobs=1, oob_score=False, random_state=None, verbose=0, warm_start=False))], verbose=False)), ('40', Pipeline(memory=None, steps=[('pca', PCA(copy=True, iterated_power='auto', n_components=0.01, random_state=None, svd_solver='auto', tol=0.0, whiten=True)), ('randomforestclassifier', RandomForestClassifier(bootstrap=True, ccp_alpha=0.0, class_weight='balanced', criterion='gini', max_depth=None, max_features=None, max_leaf_nodes=None, max_samples=None, min_impurity_decrease=0.0, min_impurity_split=None, min_samples_leaf=0.16473684210526315, min_samples_split=0.6189473684210526, min_weight_fraction_leaf=0.0, n_estimators=10, n_jobs=1, oob_score=False, random_state=None, verbose=0, warm_start=False))], verbose=False)), ('3', Pipeline(memory=None, steps=[('maxabsscaler', MaxAbsScaler(copy=True)), ('randomforestclassifier', RandomForestClassifier(bootstrap=True, ccp_alpha=0.0, class_weight=None, criterion='gini', max_depth=None, max_features='log2', max_leaf_nodes=None, max_samples=None, min_impurity_decrease=0.0, min_impurity_split=None, min_samples_leaf=0.01, min_samples_split=0.01, min_weight_fraction_leaf=0.0, n_estimators=10, n_jobs=1, oob_score=False, random_state=None, verbose=0, warm_start=False))], verbose=False)), ('7', Pipeline(memory=None, steps=[('sparsenormalizer', Normalizer(copy=True, norm='l2')), ('randomforestclassifier', RandomForestClassifier(bootstrap=True, ccp_alpha=0.0, class_weight='balanced', criterion='gini', max_depth=None, max_features='sqrt', max_leaf_nodes=None, max_samples=None, min_impurity_decrease=0.0, min_impurity_split=None, min_samples_leaf=0.01, min_samples_split=0.01, min_weight_fraction_leaf=0.0, n_estimators=100, n_jobs=1, oob_score=True, random_state=None, verbose=0, warm_start=False))], verbose=False))], flatten_transform=None, weights=[0.4, 0.13333333333333333, 0.06666666666666667, 0.06666666666666667, 0.06666666666666667, 0.06666666666666667, 0.13333333333333333, 0.06666666666666667]))],\n",
            "         verbose=False)\n",
            "\n",
            "Best Run Transformations:\n",
            "datatransformer\n",
            "prefittedsoftvotingclassifier\n",
            "\n",
            "Best Run Metrics:\n",
            "AUC_weighted 0.958168456755229\n",
            "balanced_accuracy 0.8366308648954212\n",
            "norm_macro_recall 0.6732617297908423\n",
            "accuracy 0.8888888888888888\n",
            "recall_score_macro 0.8366308648954212\n",
            "f1_score_weighted 0.8834188034188034\n",
            "recall_score_micro 0.8888888888888888\n",
            "weighted_accuracy 0.929416922402455\n",
            "f1_score_micro 0.8888888888888888\n",
            "precision_score_weighted 0.8962502875546353\n",
            "average_precision_score_macro 0.9547616140167826\n",
            "matthews_correlation 0.7438984474078615\n",
            "AUC_micro 0.9580246913580247\n",
            "precision_score_micro 0.8888888888888888\n",
            "AUC_macro 0.9581684567552289\n",
            "average_precision_score_micro 0.9603017813113567\n",
            "average_precision_score_weighted 0.9637870902941987\n",
            "log_loss 0.42807530388914206\n",
            "f1_score_macro 0.8615384615384615\n",
            "recall_score_weighted 0.8888888888888888\n",
            "precision_score_macro 0.9109730848861284\n",
            "accuracy_table aml://artifactId/ExperimentRun/dcid.AutoML_7d88ea04-4d00-4249-89a6-42973cabd9a9_47/accuracy_table\n",
            "confusion_matrix aml://artifactId/ExperimentRun/dcid.AutoML_7d88ea04-4d00-4249-89a6-42973cabd9a9_47/confusion_matrix\n"
          ]
        }
      ],
      "source": [
        "best_run, fitted_model = remote_run.get_output()\n",
        "print(best_run)\n",
        "print('\\nBest Model Definition:')\n",
        "print(fitted_model)\n",
        "print('\\nBest Run Transformations:')\n",
        "for step in fitted_model.named_steps:\n",
        "    print(step)\n",
        "print('\\nBest Run Metrics:')\n",
        "best_run_metrics = best_run.get_metrics()\n",
        "for metric_name in best_run_metrics:\n",
        "    metric = best_run_metrics[metric_name]\n",
        "    print(metric_name, metric)"
      ]
    },
    {
      "cell_type": "code",
      "execution_count": 13,
      "metadata": {
        "gather": {
          "logged": 1648990494215
        },
        "jupyter": {
          "outputs_hidden": false,
          "source_hidden": false
        },
        "nteract": {
          "transient": {
            "deleting": false
          }
        }
      },
      "outputs": [
        {
          "data": {
            "text/plain": [
              "<azureml._restclient.models.batch_artifact_content_information_dto.BatchArtifactContentInformationDto at 0x7f769eee6130>"
            ]
          },
          "execution_count": 13,
          "metadata": {},
          "output_type": "execute_result"
        }
      ],
      "source": [
        "import joblib\n",
        "import os\n",
        "from azureml.core import Model\n",
        "#model = ws.models['AutoML_heart_model']\n",
        "#print(model.name, 'version', model.version)\n",
        "\n",
        "# Save the trained model\n",
        "model_file = 'heart_model.pkl'\n",
        "joblib.dump(value=Model, filename=model_file)\n",
        "remote_run.upload_file(name = 'outputs/' + model_file, path_or_stream = './' + model_file)\n"
      ]
    },
    {
      "cell_type": "code",
      "execution_count": 28,
      "metadata": {
        "gather": {
          "logged": 1648416613811
        },
        "jupyter": {
          "outputs_hidden": false,
          "source_hidden": false
        },
        "nteract": {
          "transient": {
            "deleting": false
          }
        }
      },
      "outputs": [
        {
          "data": {
            "text/plain": [
              "['outputs/AutoML_heart_model.pkl']"
            ]
          },
          "execution_count": 28,
          "metadata": {},
          "output_type": "execute_result"
        }
      ],
      "source": [
        "'''\n",
        "import joblib\n",
        "import os\n",
        "\n",
        "from azureml.core import Model\n",
        "# Save the trained model in the outputs folder\n",
        "os.makedirs('outputs', exist_ok=True)\n",
        "joblib.dump(value=Model, filename='outputs/AutoML_heart_model.pkl')\n",
        "'''"
      ]
    },
    {
      "cell_type": "code",
      "execution_count": 18,
      "metadata": {
        "gather": {
          "logged": 1648413735328
        },
        "jupyter": {
          "outputs_hidden": false,
          "source_hidden": false
        },
        "nteract": {
          "transient": {
            "deleting": false
          }
        }
      },
      "outputs": [
        {
          "data": {
            "text/plain": [
              "'AutoML6c8cea2b343'"
            ]
          },
          "execution_count": 18,
          "metadata": {},
          "output_type": "execute_result"
        }
      ],
      "source": [
        "#best_run.properties['model_name']"
      ]
    },
    {
      "cell_type": "code",
      "execution_count": 14,
      "metadata": {
        "gather": {
          "logged": 1648990521535
        },
        "jupyter": {
          "outputs_hidden": false,
          "source_hidden": false
        },
        "nteract": {
          "transient": {
            "deleting": false
          }
        }
      },
      "outputs": [
        {
          "name": "stdout",
          "output_type": "stream",
          "text": [
            "Model registered\n"
          ]
        }
      ],
      "source": [
        "#TODO: Save the best model\n",
        "\n",
        "from azureml.core import Model\n",
        "\n",
        "#model_path='outputs/AutoML_heart_model.pkl', properties={'AUC': best_run_metrics['AUC_weighted'], 'Accuracy': best_run_metrics['accuracy']}\n",
        "# Register model\n",
        "#remote_run.register_model(model_name='AutoML_heart_model',\n",
        "#                        tags={'Training context':'Auto ML'})\n",
        "\n",
        "\n",
        "remote_run.register_model(model_name='AutoML_heart_model',\n",
        "                        tags={'Training context':'AutoML'}\n",
        "                        )\n",
        "\n",
        "\n",
        "'''\n",
        "best_run.register_model(model_path='./', model_name='AutoML_heart_model',\n",
        "                        tags={'Training context':'AutoML'},\n",
        "                        properties={'AUC': best_run_metrics['AUC_weighted'], 'Accuracy': best_run_metrics['accuracy']})\n",
        "'''\n",
        "print('Model registered')"
      ]
    },
    {
      "cell_type": "code",
      "execution_count": 25,
      "metadata": {
        "gather": {
          "logged": 1648511015970
        },
        "jupyter": {
          "outputs_hidden": false,
          "source_hidden": false
        },
        "nteract": {
          "transient": {
            "deleting": false
          }
        }
      },
      "outputs": [
        {
          "name": "stdout",
          "output_type": "stream",
          "text": [
            "AutoML_heart_model version: 2\n",
            "\t Training context : AutoML\n",
            "\t AUC : 0.958168456755229\n",
            "\t Accuracy : 0.8888888888888888\n",
            "\n",
            "\n"
          ]
        }
      ],
      "source": [
        "from azureml.core import Model\n",
        "\n",
        "# List registered models\n",
        "for model in Model.list(ws):\n",
        "    print(model.name, 'version:', model.version)\n",
        "    for tag_name in model.tags:\n",
        "        tag = model.tags[tag_name]\n",
        "        print ('\\t',tag_name, ':', tag)\n",
        "    for prop_name in model.properties:\n",
        "        prop = model.properties[prop_name]\n",
        "        print ('\\t',prop_name, ':', prop)\n",
        "    print('\\n')"
      ]
    },
    {
      "cell_type": "markdown",
      "metadata": {},
      "source": [
        "## Model Deployment\n",
        "\n",
        "Remember you have to deploy only one of the two models you trained but you still need to register both the models. Perform the steps in the rest of this notebook only if you wish to deploy this model.\n",
        "\n",
        "TODO: In the cell below, register the model, create an inference config and deploy the model as a web service."
      ]
    },
    {
      "cell_type": "code",
      "execution_count": 15,
      "metadata": {
        "gather": {
          "logged": 1648990558564
        },
        "jupyter": {
          "outputs_hidden": false,
          "source_hidden": false
        },
        "nteract": {
          "transient": {
            "deleting": false
          }
        }
      },
      "outputs": [
        {
          "name": "stdout",
          "output_type": "stream",
          "text": [
            "AutoML_heart_model version 1\n"
          ]
        }
      ],
      "source": [
        "model = ws.models['AutoML_heart_model']\n",
        "print(model.name, 'version', model.version)"
      ]
    },
    {
      "cell_type": "code",
      "execution_count": 33,
      "metadata": {
        "gather": {
          "logged": 1648495815179
        },
        "jupyter": {
          "outputs_hidden": false,
          "source_hidden": false
        },
        "nteract": {
          "transient": {
            "deleting": false
          }
        }
      },
      "outputs": [
        {
          "name": "stdout",
          "output_type": "stream",
          "text": [
            "AutoML_heart_model\n"
          ]
        }
      ],
      "source": [
        "#print(model.name)"
      ]
    },
    {
      "cell_type": "markdown",
      "metadata": {
        "nteract": {
          "transient": {
            "deleting": false
          }
        }
      },
      "source": [
        "Create a folder for configuration files"
      ]
    },
    {
      "cell_type": "code",
      "execution_count": 16,
      "metadata": {
        "gather": {
          "logged": 1648990572756
        },
        "jupyter": {
          "outputs_hidden": false,
          "source_hidden": false
        },
        "nteract": {
          "transient": {
            "deleting": false
          }
        }
      },
      "outputs": [
        {
          "name": "stdout",
          "output_type": "stream",
          "text": [
            "heart_service folder created.\n"
          ]
        }
      ],
      "source": [
        "import os\n",
        "\n",
        "folder_name = 'heart_service'\n",
        "\n",
        "# Create a folder for the web service files\n",
        "experiment_folder = './' + folder_name\n",
        "os.makedirs(folder_name, exist_ok=True)\n",
        "\n",
        "print(folder_name, 'folder created.')"
      ]
    },
    {
      "cell_type": "code",
      "execution_count": 56,
      "metadata": {
        "jupyter": {
          "outputs_hidden": false,
          "source_hidden": false
        },
        "nteract": {
          "transient": {
            "deleting": false
          }
        }
      },
      "outputs": [
        {
          "name": "stdout",
          "output_type": "stream",
          "text": [
            "Overwriting heart_service/score_heart.py\n"
          ]
        }
      ],
      "source": [
        "%%writefile $folder_name/score_heart.py\n",
        "import json\n",
        "import joblib\n",
        "import numpy as np\n",
        "#import os\n",
        "from azureml.core.model import Model\n",
        "\n",
        "# Called when the service is loaded\n",
        "def init():\n",
        "    global model\n",
        "    # Get the path to the deployed model file and load it\n",
        "    #model_path = os.path.join(os.getenv('AZUREML_MODEL_DIR'), 'heart_model.pkl')\n",
        "    model_path=Model.get_model_path('AutoML_heart_model')\n",
        "    model = joblib.load(model_path)\n",
        "\n",
        "\n",
        "def run(raw_data):\n",
        "    # Get the input data as a numpy array\n",
        "    data = np.array(json.loads(raw_data)['data'])\n",
        "    # Get a prediction from the model\n",
        "    predictions = model.predict(data)\n",
        "    # Get the corresponding classname for each prediction (0 or 1)\n",
        "    classnames = [1, 0]\n",
        "    predicted_classes = []\n",
        "    for prediction in predictions:\n",
        "        predicted_classes.append(classnames[prediction])\n",
        "    # Return the predictions as JSON\n",
        "    return json.dumps(predicted_classes)"
      ]
    },
    {
      "cell_type": "code",
      "execution_count": 62,
      "metadata": {
        "gather": {
          "logged": 1649006919326
        },
        "jupyter": {
          "outputs_hidden": false,
          "source_hidden": false
        },
        "nteract": {
          "transient": {
            "deleting": false
          }
        }
      },
      "outputs": [
        {
          "name": "stdout",
          "output_type": "stream",
          "text": [
            "Tips: You can try get_logs(): https://aka.ms/debugimage#dockerlog or local deployment: https://aka.ms/debugimage#debug-locally to debug if deployment takes longer than 10 minutes.\n",
            "Running\n",
            "2022-04-03 17:26:11+00:00 Creating Container Registry if not exists.\n",
            "2022-04-03 17:26:11+00:00 Registering the environment.\n",
            "2022-04-03 17:26:11+00:00 Use the existing image.\n",
            "2022-04-03 17:26:12+00:00 Generating deployment configuration.\n",
            "2022-04-03 17:26:13+00:00 Submitting deployment to compute.\n",
            "2022-04-03 17:26:16+00:00 Checking the status of deployment heart-service..\n",
            "2022-04-03 17:28:28+00:00 Checking the status of inference endpoint heart-service.\n",
            "Succeeded\n",
            "ACI service creation operation finished, operation \"Succeeded\"\n",
            "Healthy\n"
          ]
        }
      ],
      "source": [
        "from azureml.core.webservice import AciWebservice\n",
        "from azureml.core.model import InferenceConfig\n",
        "from azureml.core.model import Model\n",
        "\n",
        "\n",
        "# Configure the scoring environment\n",
        "inference_config = InferenceConfig(environment=best_run.get_environment(),  #runtime= \"python\",\n",
        "                                   source_directory = folder_name,\n",
        "                                   entry_script=\"score_heart.py\")\n",
        "                                   #conda_file=\"heart_env.yml\")\n",
        "\n",
        "deployment_config = AciWebservice.deploy_configuration(cpu_cores = 2, memory_gb = 4)\n",
        "\n",
        "service_name = \"heart-service\"\n",
        "\n",
        "service = Model.deploy(ws, service_name, [model], inference_config, deployment_config,overwrite=True)\n",
        "\n",
        "service.wait_for_deployment(True)\n",
        "print(service.state)"
      ]
    },
    {
      "cell_type": "code",
      "execution_count": 63,
      "metadata": {
        "gather": {
          "logged": 1649006981753
        },
        "jupyter": {
          "outputs_hidden": false,
          "source_hidden": false
        },
        "nteract": {
          "transient": {
            "deleting": false
          }
        }
      },
      "outputs": [],
      "source": [
        "endpoint = service.scoring_uri\n",
        "#print(endpoint)"
      ]
    },
    {
      "cell_type": "markdown",
      "metadata": {
        "collapsed": true,
        "gather": {
          "logged": 1598431657736
        },
        "jupyter": {
          "outputs_hidden": false,
          "source_hidden": false
        },
        "nteract": {
          "transient": {
            "deleting": false
          }
        }
      },
      "source": [
        "TODO: In the cell below, send a request to the web service you deployed to test it."
      ]
    },
    {
      "cell_type": "markdown",
      "metadata": {
        "nteract": {
          "transient": {
            "deleting": false
          }
        }
      },
      "source": [
        "Enable Application insights and get service logs"
      ]
    },
    {
      "cell_type": "code",
      "execution_count": 54,
      "metadata": {
        "gather": {
          "logged": 1649004777839
        },
        "jupyter": {
          "outputs_hidden": false,
          "source_hidden": false
        },
        "nteract": {
          "transient": {
            "deleting": false
          }
        }
      },
      "outputs": [
        {
          "name": "stdout",
          "output_type": "stream",
          "text": [
            "2022-04-03T16:16:15,675359000+00:00 - gunicorn/run \n",
            "Dynamic Python package installation is disabled.\n",
            "2022-04-03T16:16:15,675789900+00:00 - nginx/run \n",
            "2022-04-03T16:16:15,675155400+00:00 - iot-server/run \n",
            "Starting HTTP server\n",
            "2022-04-03T16:16:15,683582000+00:00 - rsyslog/run \n",
            "rsyslogd: /azureml-envs/azureml_2039c3f5cc4ae631ef3fdf7a2e093d5a/lib/libuuid.so.1: no version information available (required by rsyslogd)\n",
            "EdgeHubConnectionString and IOTEDGE_IOTHUBHOSTNAME are not set. Exiting...\n",
            "2022-04-03T16:16:15,893483900+00:00 - iot-server/finish 1 0\n",
            "2022-04-03T16:16:15,896834700+00:00 - Exit code 1 is normal. Not restarting iot-server.\n",
            "Starting gunicorn 20.1.0\n",
            "Listening at: http://127.0.0.1:31311 (82)\n",
            "Using worker: sync\n",
            "worker timeout is set to 300\n",
            "Booting worker with pid: 110\n",
            "SPARK_HOME not set. Skipping PySpark Initialization.\n",
            "Initializing logger\n",
            "2022-04-03 16:16:19,303 | root | INFO | Starting up app insights client\n",
            "logging socket was found. logging is available.\n",
            "logging socket was found. logging is available.\n",
            "2022-04-03 16:16:19,303 | root | INFO | Starting up request id generator\n",
            "2022-04-03 16:16:19,303 | root | INFO | Starting up app insight hooks\n",
            "2022-04-03 16:16:19,303 | root | INFO | Invoking user's init function\n",
            "2022-04-03 16:16:23,899 | root | INFO | Users's init has completed successfully\n",
            "2022-04-03 16:16:23,902 | root | INFO | Skipping middleware: dbg_model_info as it's not enabled.\n",
            "2022-04-03 16:16:23,903 | root | INFO | Skipping middleware: dbg_resource_usage as it's not enabled.\n",
            "2022-04-03 16:16:23,906 | root | INFO | Scoring timeout is found from os.environ: 60000 ms\n",
            "2022-04-03 16:17:05,376 | root | INFO | Swagger file not present\n",
            "2022-04-03 16:17:05,377 | root | INFO | 404\n",
            "127.0.0.1 - - [03/Apr/2022:16:17:05 +0000] \"GET /swagger.json HTTP/1.0\" 404 19 \"-\" \"Go-http-client/1.1\"\n",
            "2022-04-03 16:17:08,481 | root | INFO | Swagger file not present\n",
            "2022-04-03 16:17:08,481 | root | INFO | 404\n",
            "127.0.0.1 - - [03/Apr/2022:16:17:08 +0000] \"GET /swagger.json HTTP/1.0\" 404 19 \"-\" \"Go-http-client/1.1\"\n",
            "127.0.0.1 - - [03/Apr/2022:16:47:06 +0000] \"GET /.env HTTP/1.0\" 404 232 \"-\" \"Mozilla/5.0 (X11; Linux x86_64) AppleWebKit/537.36 (KHTML, like Gecko) Chrome/81.0.4044.129 Safari/537.36\"\n",
            "2022-04-03 16:52:45,211 | root | INFO | Swagger file not present\n",
            "2022-04-03 16:52:45,211 | root | INFO | 404\n",
            "127.0.0.1 - - [03/Apr/2022:16:52:45 +0000] \"GET /swagger.json HTTP/1.0\" 404 19 \"-\" \"Go-http-client/1.1\"\n",
            "\n"
          ]
        }
      ],
      "source": [
        "# enable application insight\n",
        "service.update(enable_app_insights=True)\n",
        "\n",
        "logs = service.get_logs()\n",
        "\n",
        "for line in logs.split('\\n'):\n",
        "    print(line)\n",
        "#print('Swagger URI: {}'.format(service.swagger_uri))"
      ]
    },
    {
      "cell_type": "code",
      "execution_count": 61,
      "metadata": {
        "gather": {
          "logged": 1649006701036
        },
        "jupyter": {
          "outputs_hidden": false,
          "source_hidden": false
        },
        "nteract": {
          "transient": {
            "deleting": false
          }
        }
      },
      "outputs": [
        {
          "name": "stdout",
          "output_type": "stream",
          "text": [
            "b'\"{\\\\\"error\\\\\": \\\\\"DataException:\\\\\\\\n\\\\\\\\tMessage: The number of features in [fitted data](12) does not match with those in [input data](1). Please inspect your data, and make sure that features are aligned in both the Datasets.\\\\\\\\n\\\\\\\\tInnerException: None\\\\\\\\n\\\\\\\\tErrorResponse \\\\\\\\n{\\\\\\\\n    \\\\\\\\\\\\\"error\\\\\\\\\\\\\": {\\\\\\\\n        \\\\\\\\\\\\\"code\\\\\\\\\\\\\": \\\\\\\\\\\\\"UserError\\\\\\\\\\\\\",\\\\\\\\n        \\\\\\\\\\\\\"message\\\\\\\\\\\\\": \\\\\\\\\\\\\"The number of features in [fitted data](12) does not match with those in [input data](1). Please inspect your data, and make sure that features are aligned in both the Datasets.\\\\\\\\\\\\\",\\\\\\\\n        \\\\\\\\\\\\\"target\\\\\\\\\\\\\": \\\\\\\\\\\\\"X\\\\\\\\\\\\\",\\\\\\\\n        \\\\\\\\\\\\\"inner_error\\\\\\\\\\\\\": {\\\\\\\\n            \\\\\\\\\\\\\"code\\\\\\\\\\\\\": \\\\\\\\\\\\\"BadData\\\\\\\\\\\\\",\\\\\\\\n            \\\\\\\\\\\\\"inner_error\\\\\\\\\\\\\": {\\\\\\\\n                \\\\\\\\\\\\\"code\\\\\\\\\\\\\": \\\\\\\\\\\\\"InvalidDimension\\\\\\\\\\\\\",\\\\\\\\n                \\\\\\\\\\\\\"inner_error\\\\\\\\\\\\\": {\\\\\\\\n                    \\\\\\\\\\\\\"code\\\\\\\\\\\\\": \\\\\\\\\\\\\"DataShapeMismatch\\\\\\\\\\\\\"\\\\\\\\n                }\\\\\\\\n            }\\\\\\\\n        },\\\\\\\\n        \\\\\\\\\\\\\"reference_code\\\\\\\\\\\\\": \\\\\\\\\\\\\"c402b6c2-3870-45a7-8745-c063bd385962\\\\\\\\\\\\\"\\\\\\\\n    }\\\\\\\\n}\\\\\"}\"'\n"
          ]
        },
        {
          "data": {
            "text/plain": [
              "'\\npredicted_classes = json.loads(predictions.json())\\n\\nfor i in range(len(x_new)):\\n    print (\"Patient {}\".format(x_new[i]), predicted_classes[i] )\\n'"
            ]
          },
          "execution_count": 61,
          "metadata": {},
          "output_type": "execute_result"
        }
      ],
      "source": [
        "import requests\n",
        "import urllib.request\n",
        "import json\n",
        "\n",
        "\n",
        "x_new=train_ds.to_pandas_dataframe().iloc[0:3,0:12]\n",
        "# Convert the array to a serializable list in a JSON document\n",
        "#input_json = json.dumps({\"data\": x_new})\n",
        "input_json=str.encode(json.dumps({'data': x_new.to_dict(orient='records')}))\n",
        "\n",
        "# Set the content type\n",
        "headers = { 'Content-Type':'application/json' }\n",
        "\n",
        "req = urllib.request.Request(endpoint, input_json, headers = headers)\n",
        "\n",
        "try:\n",
        "    response = urllib.request.urlopen(req)\n",
        "\n",
        "    result = response.read()\n",
        "    print(result)\n",
        "except urllib.error.HTTPError as error:\n",
        "    print(\"The request failed with status code: \" + str(error.code))\n",
        "\n",
        "    # Print the headers - they include the requert ID and the timestamp, which are useful for debugging the failure\n",
        "    print(error.info())\n",
        "    print(error.read().decode(\"utf8\", 'ignore'))\n"
      ]
    },
    {
      "cell_type": "markdown",
      "metadata": {
        "collapsed": true,
        "gather": {
          "logged": 1598432765711
        },
        "jupyter": {
          "outputs_hidden": false,
          "source_hidden": false
        },
        "nteract": {
          "transient": {
            "deleting": false
          }
        }
      },
      "source": [
        "TODO: In the cell below, print the logs of the web service and delete the service"
      ]
    },
    {
      "cell_type": "code",
      "execution_count": null,
      "metadata": {
        "jupyter": {
          "outputs_hidden": false,
          "source_hidden": false
        },
        "nteract": {
          "transient": {
            "deleting": false
          }
        }
      },
      "outputs": [],
      "source": []
    },
    {
      "cell_type": "markdown",
      "metadata": {},
      "source": [
        "**Submission Checklist**\n",
        "- I have registered the model.\n",
        "- I have deployed the model with the best accuracy as a webservice.\n",
        "- I have tested the webservice by sending a request to the model endpoint.\n",
        "- I have deleted the webservice and shutdown all the computes that I have used.\n",
        "- I have taken a screenshot showing the model endpoint as active.\n",
        "- The project includes a file containing the environment details.\n"
      ]
    },
    {
      "cell_type": "markdown",
      "metadata": {},
      "source": []
    }
  ],
  "metadata": {
    "kernel_info": {
      "name": "python38-azureml"
    },
    "kernelspec": {
      "display_name": "Python 3.8 - AzureML",
      "language": "python",
      "name": "python38-azureml"
    },
    "language_info": {
      "codemirror_mode": {
        "name": "ipython",
        "version": 3
      },
      "file_extension": ".py",
      "mimetype": "text/x-python",
      "name": "python",
      "nbconvert_exporter": "python",
      "pygments_lexer": "ipython3",
      "version": "3.8.5"
    },
    "microsoft": {
      "host": {
        "AzureML": {
          "notebookHasBeenCompleted": true
        }
      }
    },
    "nteract": {
      "version": "nteract-front-end@1.0.0"
    }
  },
  "nbformat": 4,
  "nbformat_minor": 2
}
