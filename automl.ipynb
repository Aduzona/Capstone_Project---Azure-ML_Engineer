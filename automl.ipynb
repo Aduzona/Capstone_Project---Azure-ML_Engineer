{
  "cells": [
    {
      "cell_type": "markdown",
      "source": [
        "# Automated ML\n",
        "\n",
        "TODO: Import Dependencies. In the cell below, import all the dependencies that you will need to complete the project."
      ],
      "metadata": {}
    },
    {
      "cell_type": "code",
      "source": [
        "import logging\n",
        "import os\n",
        "import csv\n",
        "\n",
        "from matplotlib import pyplot as plt\n",
        "import numpy as np\n",
        "import pandas as pd\n",
        "from sklearn import datasets\n",
        "import pkg_resources\n",
        "\n",
        "import azureml.core\n",
        "from azureml.core.experiment import Experiment\n",
        "from azureml.core.workspace import Workspace\n",
        "from azureml.train.automl import AutoMLConfig\n",
        "from azureml.core.dataset import Dataset\n",
        "from azureml.widgets import RunDetails\n",
        "\n",
        "#from azureml.pipeline.steps import AutoMLStep\n",
        "\n",
        "# Check core SDK version number\n",
        "print(\"SDK version:\", azureml.core.VERSION)"
      ],
      "outputs": [
        {
          "output_type": "stream",
          "name": "stdout",
          "text": "SDK version: 1.38.0\n"
        }
      ],
      "execution_count": 1,
      "metadata": {
        "gather": {
          "logged": 1648506943858
        },
        "jupyter": {
          "outputs_hidden": false,
          "source_hidden": false
        },
        "nteract": {
          "transient": {
            "deleting": false
          }
        }
      }
    },
    {
      "cell_type": "markdown",
      "source": [
        "## Dataset\n",
        "\n",
        "### Overview\n",
        "TODO: In this markdown cell, give an overview of the dataset you are using. Also mention the task you will be performing.\n",
        "\n",
        "\n",
        "TODO: Get data. In the cell below, write code to access the data you will be using in this project. Remember that the dataset needs to be external."
      ],
      "metadata": {}
    },
    {
      "cell_type": "code",
      "source": [
        "ws = Workspace.from_config()\n",
        "\n",
        "# choose a name for experiment\n",
        "experiment_name = 'automl_heart_failure_exp'\n",
        "\n",
        "experiment=Experiment(ws, experiment_name)"
      ],
      "outputs": [],
      "execution_count": 2,
      "metadata": {
        "gather": {
          "logged": 1648506951637
        },
        "jupyter": {
          "outputs_hidden": false,
          "source_hidden": false
        },
        "nteract": {
          "transient": {
            "deleting": false
          }
        }
      }
    },
    {
      "cell_type": "markdown",
      "source": [
        "## Dataset"
      ],
      "metadata": {
        "nteract": {
          "transient": {
            "deleting": false
          }
        }
      }
    },
    {
      "cell_type": "code",
      "source": [
        "default_ds = ws.get_default_datastore()\r\n",
        "\r\n",
        "if 'Heart Failure' not in ws.datasets:\r\n",
        "    default_ds.upload_files(files=['./heart_failure_clinical_records_dataset.csv'], # Upload the diabetes csv files in /data\r\n",
        "                        target_path='data/', # Put it in a folder path in the datastore\r\n",
        "                        overwrite=True, # Replace existing files of the same name\r\n",
        "                        show_progress=True)\r\n",
        "\r\n",
        "    #Create a tabular dataset from the path on the datastore (this may take a short while)\r\n",
        "    tab_data_set = Dataset.Tabular.from_delimited_files(path=(default_ds, 'data/*.csv'))\r\n",
        "\r\n",
        "    # Register the tabular dataset\r\n",
        "    try:\r\n",
        "        tab_data_set = tab_data_set.register(workspace=ws, \r\n",
        "                                name='Heart Failure',\r\n",
        "                                description='Clinic data',\r\n",
        "                                tags = {'format':'CSV'},\r\n",
        "                                create_new_version=True)\r\n",
        "        print('Dataset registered.')\r\n",
        "    except Exception as ex:\r\n",
        "        print(ex)\r\n",
        "else:\r\n",
        "    print('Dataset already registered.')"
      ],
      "outputs": [
        {
          "output_type": "stream",
          "name": "stderr",
          "text": "\"datastore.upload_files\" is deprecated after version 1.0.69. Please use \"FileDatasetFactory.upload_directory\" instead. See Dataset API change notice at https://aka.ms/dataset-deprecation.\n"
        }
      ],
      "execution_count": 3,
      "metadata": {
        "jupyter": {
          "source_hidden": false,
          "outputs_hidden": false
        },
        "nteract": {
          "transient": {
            "deleting": false
          }
        },
        "gather": {
          "logged": 1648506985053
        }
      }
    },
    {
      "cell_type": "code",
      "source": [
        "#folder name created in hyperdrive\n",
        "#import os, shutil\n",
        "\n",
        "# Create a folder for the experiment files\n",
        "folder_name = 'training'\n",
        "experiment_folder = './' + folder_name\n",
        "os.makedirs(folder_name, exist_ok=True)"
      ],
      "outputs": [],
      "execution_count": 7,
      "metadata": {
        "jupyter": {
          "source_hidden": false,
          "outputs_hidden": false
        },
        "nteract": {
          "transient": {
            "deleting": false
          }
        },
        "gather": {
          "logged": 1648507200178
        }
      }
    },
    {
      "cell_type": "markdown",
      "source": [
        "## Get data\n",
        "\n",
        "Data has been registered using Hyperdrive, if not run hyperdrive first"
      ],
      "metadata": {
        "nteract": {
          "transient": {
            "deleting": false
          }
        }
      }
    },
    {
      "cell_type": "code",
      "source": [
        "# Split the dataset into training and validation subsets\n",
        "# Get the training dataset\n",
        "heart_ds = ws.datasets.get(\"Heart Failure\")\n",
        "#heart_ds=heart_ds.to_pandas_dataframe()\n",
        "\n",
        "\n",
        "train_ds, test_ds = heart_ds.random_split(percentage=0.7, seed=123)\n",
        "print(\"Data ready!\")"
      ],
      "outputs": [
        {
          "output_type": "stream",
          "name": "stdout",
          "text": "Data ready!\n"
        }
      ],
      "execution_count": 4,
      "metadata": {
        "jupyter": {
          "source_hidden": false,
          "outputs_hidden": false
        },
        "nteract": {
          "transient": {
            "deleting": false
          }
        },
        "gather": {
          "logged": 1648507033392
        }
      }
    },
    {
      "cell_type": "code",
      "source": [
        "from azureml.core.compute import ComputeTarget, AmlCompute\n",
        "from azureml.core.compute_target import ComputeTargetException\n",
        "\n",
        "cluster_name = \"aml-cluster\"\n",
        "\n",
        "try:\n",
        "    # Check for existing compute target\n",
        "    training_cluster = ComputeTarget(workspace=ws, name=cluster_name)\n",
        "    print('Found existing cluster, use it.')\n",
        "except ComputeTargetException:\n",
        "    # If it doesn't already exist, create it\n",
        "    try:\n",
        "        compute_config = AmlCompute.provisioning_configuration(vm_size='STANDARD_DS11_V2', max_nodes=2)\n",
        "        training_cluster = ComputeTarget.create(ws, cluster_name, compute_config)\n",
        "        training_cluster.wait_for_completion(show_output=True)\n",
        "    except Exception as ex:\n",
        "        print(ex)"
      ],
      "outputs": [
        {
          "output_type": "stream",
          "name": "stdout",
          "text": "InProgress.\nSucceededProvisioning operation finished, operation \"Succeeded\"\nSucceeded\nAmlCompute wait for completion finished\n\nMinimum number of nodes requested have been provisioned\n"
        }
      ],
      "execution_count": 5,
      "metadata": {
        "jupyter": {
          "source_hidden": false,
          "outputs_hidden": false
        },
        "nteract": {
          "transient": {
            "deleting": false
          }
        },
        "gather": {
          "logged": 1648507047076
        }
      }
    },
    {
      "cell_type": "markdown",
      "source": [
        "## AutoML Configuration\n",
        "\n",
        "TODO: Explain why you chose the automl settings and cofiguration you used below."
      ],
      "metadata": {}
    },
    {
      "cell_type": "code",
      "source": [
        "#from azureml.train.automl import AutoMLConfig\n",
        "\n",
        "# TODO: Put your automl settings here\n",
        "automl_settings = {\n",
        "    \"experiment_timeout_minutes\": 30,\n",
        "    \"max_concurrent_iterations\": 5,\n",
        "    \"primary_metric\" : 'AUC_weighted'\n",
        "}\n",
        "\n",
        "# TODO: Put your automl config here\n",
        "automl_config = AutoMLConfig(compute_target=training_cluster,\n",
        "                             task = \"classification\",\n",
        "                             training_data=train_ds,\n",
        "                             validation_data = test_ds,\n",
        "                             label_column_name=\"DEATH_EVENT\",   \n",
        "                             path = experiment_folder,\n",
        "                             enable_early_stopping= True,\n",
        "                             featurization= 'auto',\n",
        "                             debug_log = \"automl_errors.log\",\n",
        "                             **automl_settings\n",
        "\n",
        ")"
      ],
      "outputs": [],
      "execution_count": 8,
      "metadata": {
        "gather": {
          "logged": 1648507221486
        },
        "jupyter": {
          "outputs_hidden": false,
          "source_hidden": false
        },
        "nteract": {
          "transient": {
            "deleting": false
          }
        }
      }
    },
    {
      "cell_type": "code",
      "source": [
        "from azureml.widgets import RunDetails\n",
        "\n",
        "# TODO: Submit your experiment\n",
        "print('Submitting Auto ML experiment...')\n",
        "automl_experiment = Experiment(ws, 'heart-automl-sdk')\n",
        "remote_run = automl_experiment.submit(automl_config)"
      ],
      "outputs": [
        {
          "output_type": "stream",
          "name": "stdout",
          "text": "Submitting Auto ML experiment...\nSubmitting remote run.\n"
        },
        {
          "output_type": "display_data",
          "data": {
            "text/plain": "<IPython.core.display.HTML object>",
            "text/html": "<table style=\"width:100%\"><tr><th>Experiment</th><th>Id</th><th>Type</th><th>Status</th><th>Details Page</th><th>Docs Page</th></tr><tr><td>heart-automl-sdk</td><td>AutoML_23212e55-35dd-4e3e-80ac-4b38f66d122c</td><td>automl</td><td>NotStarted</td><td><a href=\"https://ml.azure.com/runs/AutoML_23212e55-35dd-4e3e-80ac-4b38f66d122c?wsid=/subscriptions/6eee9ed4-ef02-4ad0-bbbd-194153ad2069/resourcegroups/aml-resource/workspaces/aml-workspace&amp;tid=b8f88a0b-3d95-478b-b123-a494d78523a4\" target=\"_blank\" rel=\"noopener\">Link to Azure Machine Learning studio</a></td><td><a href=\"https://docs.microsoft.com/en-us/python/api/overview/azure/ml/intro?view=azure-ml-py\" target=\"_blank\" rel=\"noopener\">Link to Documentation</a></td></tr></table>"
          },
          "metadata": {}
        }
      ],
      "execution_count": 9,
      "metadata": {
        "gather": {
          "logged": 1648507262013
        },
        "jupyter": {
          "outputs_hidden": false,
          "source_hidden": false
        },
        "nteract": {
          "transient": {
            "deleting": false
          }
        }
      }
    },
    {
      "cell_type": "markdown",
      "source": [
        "## Run Details\n",
        "\n",
        "OPTIONAL: Write about the different models trained and their performance. Why do you think some models did better than others?\n",
        "\n",
        "TODO: In the cell below, use the `RunDetails` widget to show the different experiments."
      ],
      "metadata": {}
    },
    {
      "cell_type": "code",
      "source": [
        "RunDetails(remote_run).show()"
      ],
      "outputs": [
        {
          "output_type": "display_data",
          "data": {
            "text/plain": "_AutoMLWidget(widget_settings={'childWidgetDisplay': 'popup', 'send_telemetry': False, 'log_level': 'INFO', 's…",
            "application/vnd.jupyter.widget-view+json": {
              "version_major": 2,
              "version_minor": 0,
              "model_id": "1f152764d65d475e8c1d6cf621c50743"
            }
          },
          "metadata": {}
        },
        {
          "output_type": "display_data",
          "data": {
            "application/aml.mini.widget.v1": "{\"status\": \"Completed\", \"workbench_run_details_uri\": \"https://ml.azure.com/runs/AutoML_23212e55-35dd-4e3e-80ac-4b38f66d122c?wsid=/subscriptions/6eee9ed4-ef02-4ad0-bbbd-194153ad2069/resourcegroups/aml-resource/workspaces/aml-workspace&tid=b8f88a0b-3d95-478b-b123-a494d78523a4\", \"run_id\": \"AutoML_23212e55-35dd-4e3e-80ac-4b38f66d122c\", \"run_properties\": {\"run_id\": \"AutoML_23212e55-35dd-4e3e-80ac-4b38f66d122c\", \"created_utc\": \"2022-03-28T22:40:56.773567Z\", \"properties\": {\"num_iterations\": \"1000\", \"training_type\": \"TrainFull\", \"acquisition_function\": \"EI\", \"primary_metric\": \"AUC_weighted\", \"train_split\": \"0\", \"acquisition_parameter\": \"0\", \"num_cross_validation\": null, \"target\": \"aml-cluster\", \"AMLSettingsJsonString\": \"{\\\"path\\\":null,\\\"name\\\":\\\"heart-automl-sdk\\\",\\\"subscription_id\\\":\\\"6eee9ed4-ef02-4ad0-bbbd-194153ad2069\\\",\\\"resource_group\\\":\\\"aml-resource\\\",\\\"workspace_name\\\":\\\"aml-workspace\\\",\\\"region\\\":\\\"westeurope\\\",\\\"compute_target\\\":\\\"aml-cluster\\\",\\\"spark_service\\\":null,\\\"azure_service\\\":\\\"remote\\\",\\\"many_models\\\":false,\\\"pipeline_fetch_max_batch_size\\\":1,\\\"enable_batch_run\\\":true,\\\"enable_run_restructure\\\":false,\\\"start_auxiliary_runs_before_parent_complete\\\":false,\\\"enable_code_generation\\\":false,\\\"iterations\\\":1000,\\\"primary_metric\\\":\\\"AUC_weighted\\\",\\\"task_type\\\":\\\"classification\\\",\\\"positive_label\\\":null,\\\"data_script\\\":null,\\\"test_size\\\":0.0,\\\"test_include_predictions_only\\\":false,\\\"validation_size\\\":0.0,\\\"n_cross_validations\\\":null,\\\"y_min\\\":null,\\\"y_max\\\":null,\\\"num_classes\\\":null,\\\"featurization\\\":\\\"auto\\\",\\\"_ignore_package_version_incompatibilities\\\":false,\\\"is_timeseries\\\":false,\\\"max_cores_per_iteration\\\":1,\\\"max_concurrent_iterations\\\":5,\\\"iteration_timeout_minutes\\\":null,\\\"mem_in_mb\\\":null,\\\"enforce_time_on_windows\\\":false,\\\"experiment_timeout_minutes\\\":30,\\\"experiment_exit_score\\\":null,\\\"whitelist_models\\\":null,\\\"blacklist_algos\\\":[\\\"TensorFlowLinearClassifier\\\",\\\"TensorFlowDNN\\\"],\\\"supported_models\\\":[\\\"LightGBM\\\",\\\"KNN\\\",\\\"GradientBoosting\\\",\\\"TabnetClassifier\\\",\\\"XGBoostClassifier\\\",\\\"AveragedPerceptronClassifier\\\",\\\"TensorFlowDNN\\\",\\\"TensorFlowLinearClassifier\\\",\\\"MultinomialNaiveBayes\\\",\\\"SGD\\\",\\\"ExtremeRandomTrees\\\",\\\"LogisticRegression\\\",\\\"LinearSVM\\\",\\\"DecisionTree\\\",\\\"RandomForest\\\",\\\"SVM\\\",\\\"BernoulliNaiveBayes\\\"],\\\"private_models\\\":[],\\\"auto_blacklist\\\":true,\\\"blacklist_samples_reached\\\":false,\\\"exclude_nan_labels\\\":true,\\\"verbosity\\\":20,\\\"_debug_log\\\":\\\"azureml_automl.log\\\",\\\"show_warnings\\\":false,\\\"model_explainability\\\":true,\\\"service_url\\\":null,\\\"sdk_url\\\":null,\\\"sdk_packages\\\":null,\\\"enable_onnx_compatible_models\\\":false,\\\"enable_split_onnx_featurizer_estimator_models\\\":false,\\\"vm_type\\\":\\\"STANDARD_DS11_V2\\\",\\\"telemetry_verbosity\\\":20,\\\"send_telemetry\\\":true,\\\"enable_dnn\\\":false,\\\"scenario\\\":\\\"SDK-1.13.0\\\",\\\"environment_label\\\":null,\\\"save_mlflow\\\":false,\\\"enable_categorical_indicators\\\":false,\\\"force_text_dnn\\\":false,\\\"enable_feature_sweeping\\\":true,\\\"enable_early_stopping\\\":true,\\\"early_stopping_n_iters\\\":10,\\\"arguments\\\":null,\\\"dataset_id\\\":\\\"e6c0750e-b28a-4607-b9bd-9bb5ba8afb82\\\",\\\"hyperdrive_config\\\":null,\\\"validation_dataset_id\\\":\\\"5ffcbe41-ceac-4a9b-ba54-000f0dfaf20e\\\",\\\"run_source\\\":null,\\\"metrics\\\":null,\\\"enable_metric_confidence\\\":false,\\\"enable_ensembling\\\":true,\\\"enable_stack_ensembling\\\":true,\\\"ensemble_iterations\\\":15,\\\"enable_tf\\\":false,\\\"enable_subsampling\\\":null,\\\"subsample_seed\\\":null,\\\"enable_nimbusml\\\":false,\\\"enable_streaming\\\":false,\\\"force_streaming\\\":false,\\\"track_child_runs\\\":true,\\\"allowed_private_models\\\":[],\\\"label_column_name\\\":\\\"DEATH_EVENT\\\",\\\"weight_column_name\\\":null,\\\"cv_split_column_names\\\":null,\\\"enable_local_managed\\\":false,\\\"_local_managed_run_id\\\":null,\\\"cost_mode\\\":1,\\\"lag_length\\\":0,\\\"metric_operation\\\":\\\"maximize\\\",\\\"preprocess\\\":true}\", \"DataPrepJsonString\": \"{\\\\\\\"training_data\\\\\\\": {\\\\\\\"datasetId\\\\\\\": \\\\\\\"e6c0750e-b28a-4607-b9bd-9bb5ba8afb82\\\\\\\"}, \\\\\\\"validation_data\\\\\\\": {\\\\\\\"datasetId\\\\\\\": \\\\\\\"5ffcbe41-ceac-4a9b-ba54-000f0dfaf20e\\\\\\\"}, \\\\\\\"datasets\\\\\\\": 0}\", \"EnableSubsampling\": null, \"runTemplate\": \"AutoML\", \"azureml.runsource\": \"automl\", \"display_task_type\": \"classification\", \"dependencies_versions\": \"{\\\"azureml-widgets\\\": \\\"1.38.0\\\", \\\"azureml-train\\\": \\\"1.38.0\\\", \\\"azureml-train-restclients-hyperdrive\\\": \\\"1.38.0\\\", \\\"azureml-train-core\\\": \\\"1.38.0\\\", \\\"azureml-train-automl-client\\\": \\\"1.38.0\\\", \\\"azureml-tensorboard\\\": \\\"1.38.0\\\", \\\"azureml-telemetry\\\": \\\"1.38.0\\\", \\\"azureml-sdk\\\": \\\"1.38.0\\\", \\\"azureml-samples\\\": \\\"0+unknown\\\", \\\"azureml-responsibleai\\\": \\\"1.38.0\\\", \\\"azureml-pipeline\\\": \\\"1.38.0\\\", \\\"azureml-pipeline-steps\\\": \\\"1.38.0\\\", \\\"azureml-pipeline-core\\\": \\\"1.38.0\\\", \\\"azureml-opendatasets\\\": \\\"1.38.0\\\", \\\"azureml-mlflow\\\": \\\"1.38.0\\\", \\\"azureml-interpret\\\": \\\"1.38.0\\\", \\\"azureml-inference-server-http\\\": \\\"0.4.2\\\", \\\"azureml-explain-model\\\": \\\"1.38.0\\\", \\\"azureml-defaults\\\": \\\"1.38.0\\\", \\\"azureml-dataset-runtime\\\": \\\"1.38.0\\\", \\\"azureml-dataprep\\\": \\\"2.26.0\\\", \\\"azureml-dataprep-rslex\\\": \\\"2.2.0\\\", \\\"azureml-dataprep-native\\\": \\\"38.0.0\\\", \\\"azureml-datadrift\\\": \\\"1.38.0\\\", \\\"azureml-core\\\": \\\"1.38.0\\\", \\\"azureml-contrib-services\\\": \\\"1.38.0\\\", \\\"azureml-contrib-server\\\": \\\"1.38.0\\\", \\\"azureml-contrib-reinforcementlearning\\\": \\\"1.38.0\\\", \\\"azureml-contrib-pipeline-steps\\\": \\\"1.38.0\\\", \\\"azureml-contrib-notebook\\\": \\\"1.38.0\\\", \\\"azureml-contrib-fairness\\\": \\\"1.38.0\\\", \\\"azureml-contrib-dataset\\\": \\\"1.38.0\\\", \\\"azureml-cli-common\\\": \\\"1.38.0\\\", \\\"azureml-automl-core\\\": \\\"1.38.0\\\", \\\"azureml-accel-models\\\": \\\"1.38.0\\\"}\", \"_aml_system_scenario_identification\": \"Remote.Parent\", \"ClientType\": \"SDK\", \"environment_cpu_name\": \"AzureML-AutoML\", \"environment_cpu_label\": \"py36\", \"environment_gpu_name\": \"AzureML-AutoML-GPU\", \"environment_gpu_label\": \"py36\", \"root_attribution\": \"automl\", \"attribution\": \"AutoML\", \"Orchestrator\": \"AutoML\", \"CancelUri\": \"https://westeurope.api.azureml.ms/jasmine/v1.0/subscriptions/6eee9ed4-ef02-4ad0-bbbd-194153ad2069/resourceGroups/aml-resource/providers/Microsoft.MachineLearningServices/workspaces/aml-workspace/experimentids/99c73383-d161-4f72-93e1-02b59a5f9652/cancel/AutoML_23212e55-35dd-4e3e-80ac-4b38f66d122c\", \"azureml.git.repository_uri\": \"https://github.com/udacity/nd00333-capstone.git\", \"mlflow.source.git.repoURL\": \"https://github.com/udacity/nd00333-capstone.git\", \"azureml.git.branch\": \"master\", \"mlflow.source.git.branch\": \"master\", \"azureml.git.commit\": \"bda4bde975c124b07c3ad34e75a1d52e292276d3\", \"mlflow.source.git.commit\": \"bda4bde975c124b07c3ad34e75a1d52e292276d3\", \"azureml.git.dirty\": \"False\", \"ClientSdkVersion\": \"1.38.0\", \"snapshotId\": \"00000000-0000-0000-0000-000000000000\", \"SetupRunId\": \"AutoML_23212e55-35dd-4e3e-80ac-4b38f66d122c_setup\", \"SetupRunContainerId\": \"dcid.AutoML_23212e55-35dd-4e3e-80ac-4b38f66d122c_setup\", \"FeaturizationRunJsonPath\": \"featurizer_container.json\", \"FeaturizationRunId\": \"AutoML_23212e55-35dd-4e3e-80ac-4b38f66d122c_featurize\", \"ProblemInfoJsonString\": \"{\\\"dataset_num_categorical\\\": 0, \\\"is_sparse\\\": false, \\\"subsampling\\\": false, \\\"has_extra_col\\\": true, \\\"dataset_classes\\\": 2, \\\"dataset_features\\\": 12, \\\"dataset_samples\\\": 209, \\\"single_frequency_class_detected\\\": false}\", \"ModelExplainRunId\": \"AutoML_23212e55-35dd-4e3e-80ac-4b38f66d122c_ModelExplain\"}, \"tags\": {\"model_explain_run\": \"best_run\", \"_aml_system_automl_run_workspace_id\": \"2af3bb8a-079a-4728-819b-afe090e2cf82\", \"_aml_system_azureml.automlComponent\": \"AutoML\", \"pipeline_id\": \"\", \"score\": \"\", \"predicted_cost\": \"\", \"fit_time\": \"\", \"training_percent\": \"\", \"iteration\": \"\", \"run_preprocessor\": \"\", \"run_algorithm\": \"\", \"dynamic_whitelisting_iterations\": \"<24>;<30>;<35>;<40>;\", \"_aml_system_azureml.automl_early_exit_message\": \"No scores improved over last 20 iterations, so experiment stopped early. This early stopping behavior can be disabled by setting enable_early_stopping = False in AutoMLConfig for notebook/python SDK runs.\", \"automl_best_child_run_id\": \"AutoML_23212e55-35dd-4e3e-80ac-4b38f66d122c_43\", \"model_explain_best_run_child_id\": \"AutoML_23212e55-35dd-4e3e-80ac-4b38f66d122c_43\"}, \"end_time_utc\": \"2022-03-28T23:13:16.131886Z\", \"status\": \"Completed\", \"log_files\": {}, \"log_groups\": [], \"run_duration\": \"0:32:19\", \"run_number\": \"1648507256\", \"run_queued_details\": {\"status\": \"Completed\", \"details\": null}}, \"child_runs\": [{\"run_id\": \"AutoML_23212e55-35dd-4e3e-80ac-4b38f66d122c_setup\", \"run_number\": 1648507269, \"metric\": null, \"status\": \"Completed\", \"run_type\": \"azureml.scriptrun\", \"training_percent\": null, \"start_time\": \"2022-03-28T22:45:15.2574Z\", \"end_time\": \"2022-03-28T22:45:35.987525Z\", \"created_time\": \"2022-03-28T22:41:09.87632Z\", \"created_time_dt\": \"2022-03-28T22:41:09.87632Z\", \"duration\": \"0:04:26\", \"iteration\": null, \"goal\": null, \"run_name\": \"Completed\", \"run_properties\": null}, {\"run_id\": \"AutoML_23212e55-35dd-4e3e-80ac-4b38f66d122c_featurize\", \"run_number\": 1648507536, \"metric\": null, \"status\": \"Completed\", \"run_type\": \"automl.featurization\", \"training_percent\": null, \"start_time\": \"2022-03-28T22:45:36.856009Z\", \"end_time\": \"2022-03-28T22:46:24.217918Z\", \"created_time\": \"2022-03-28T22:45:36.429206Z\", \"created_time_dt\": \"2022-03-28T22:45:36.429206Z\", \"duration\": \"0:00:47\", \"iteration\": null, \"goal\": null, \"run_name\": \"Completed\", \"run_properties\": null}, {\"run_id\": \"AutoML_23212e55-35dd-4e3e-80ac-4b38f66d122c_0\", \"run_number\": 1648507585, \"metric\": null, \"status\": \"Completed\", \"run_type\": null, \"training_percent\": \"100\", \"start_time\": \"2022-03-28T22:47:28.600171Z\", \"end_time\": \"2022-03-28T22:47:36.851361Z\", \"created_time\": \"2022-03-28T22:46:25.886102Z\", \"created_time_dt\": \"2022-03-28T22:46:25.886102Z\", \"duration\": \"0:01:10\", \"iteration\": \"0\", \"goal\": \"AUC_weighted_max\", \"run_name\": \"MaxAbsScaler, LightGBM\", \"run_properties\": \"copy=True\", \"primary_metric\": 0.90672696, \"best_metric\": 0.90672696}, {\"run_id\": \"AutoML_23212e55-35dd-4e3e-80ac-4b38f66d122c_1\", \"run_number\": 1648507586, \"metric\": null, \"status\": \"Completed\", \"run_type\": null, \"training_percent\": \"100\", \"start_time\": \"2022-03-28T22:47:37.069971Z\", \"end_time\": \"2022-03-28T22:47:45.067213Z\", \"created_time\": \"2022-03-28T22:46:26.286947Z\", \"created_time_dt\": \"2022-03-28T22:46:26.286947Z\", \"duration\": \"0:01:18\", \"iteration\": \"1\", \"goal\": \"AUC_weighted_max\", \"run_name\": \"MaxAbsScaler, XGBoostClassifier\", \"run_properties\": \"copy=True\", \"primary_metric\": 0.88863765, \"best_metric\": 0.90672696}, {\"run_id\": \"AutoML_23212e55-35dd-4e3e-80ac-4b38f66d122c_3\", \"run_number\": 1648507587, \"metric\": null, \"status\": \"Completed\", \"run_type\": null, \"training_percent\": \"100\", \"start_time\": \"2022-03-28T22:47:54.051711Z\", \"end_time\": \"2022-03-28T22:48:02.135237Z\", \"created_time\": \"2022-03-28T22:46:27.147856Z\", \"created_time_dt\": \"2022-03-28T22:46:27.147856Z\", \"duration\": \"0:01:34\", \"iteration\": \"3\", \"goal\": \"AUC_weighted_max\", \"run_name\": \"MaxAbsScaler, RandomForest\", \"run_properties\": \"copy=True\", \"primary_metric\": 0.94686263, \"best_metric\": 0.94686263}, {\"run_id\": \"AutoML_23212e55-35dd-4e3e-80ac-4b38f66d122c_5\", \"run_number\": 1648507588, \"metric\": null, \"status\": \"Completed\", \"run_type\": null, \"training_percent\": \"100\", \"start_time\": \"2022-03-28T22:48:31.096912Z\", \"end_time\": \"2022-03-28T22:48:39.188158Z\", \"created_time\": \"2022-03-28T22:46:28.072591Z\", \"created_time_dt\": \"2022-03-28T22:46:28.072591Z\", \"duration\": \"0:02:11\", \"iteration\": \"5\", \"goal\": \"AUC_weighted_max\", \"run_name\": \"StandardScalerWrapper, KNN\", \"run_properties\": \"\\n    copy=True,\\n    with_mean=True,\\n    with_std=False\\n\", \"primary_metric\": 0.53363482, \"best_metric\": 0.94686263}, {\"run_id\": \"AutoML_23212e55-35dd-4e3e-80ac-4b38f66d122c_worker_1\", \"run_number\": 1648507589, \"metric\": null, \"status\": \"Completed\", \"run_type\": \"azureml.scriptrun\", \"training_percent\": null, \"start_time\": \"2022-03-28T22:48:57.321633Z\", \"end_time\": \"2022-03-28T22:49:01.021955Z\", \"created_time\": \"2022-03-28T22:46:29.127178Z\", \"created_time_dt\": \"2022-03-28T22:46:29.127178Z\", \"duration\": \"0:02:31\", \"iteration\": null, \"goal\": null, \"run_name\": \"Completed\", \"run_properties\": null}, {\"run_id\": \"AutoML_23212e55-35dd-4e3e-80ac-4b38f66d122c_10\", \"run_number\": 1648507590, \"metric\": null, \"status\": \"Completed\", \"run_type\": null, \"training_percent\": \"100\", \"start_time\": \"2022-03-28T22:49:47.304398Z\", \"end_time\": \"2022-03-28T22:49:55.390685Z\", \"created_time\": \"2022-03-28T22:46:30.119175Z\", \"created_time_dt\": \"2022-03-28T22:46:30.119175Z\", \"duration\": \"0:03:25\", \"iteration\": \"10\", \"goal\": \"AUC_weighted_max\", \"run_name\": \"StandardScalerWrapper, LogisticRegression\", \"run_properties\": \"\\n    copy=True,\\n    with_mean=True,\\n    with_std=True\\n\", \"primary_metric\": 0.85076314, \"best_metric\": 0.94686263}, {\"run_id\": \"AutoML_23212e55-35dd-4e3e-80ac-4b38f66d122c_13\", \"run_number\": 1648507591, \"metric\": null, \"status\": \"Completed\", \"run_type\": null, \"training_percent\": \"100\", \"start_time\": \"2022-03-28T22:50:29.161839Z\", \"end_time\": \"2022-03-28T22:50:37.453274Z\", \"created_time\": \"2022-03-28T22:46:31.354214Z\", \"created_time_dt\": \"2022-03-28T22:46:31.354214Z\", \"duration\": \"0:04:06\", \"iteration\": \"13\", \"goal\": \"AUC_weighted_max\", \"run_name\": \"SparseNormalizer, KNN\", \"run_properties\": \"copy=True, norm='max'\", \"primary_metric\": 0.71735444, \"best_metric\": 0.94686263}, {\"run_id\": \"AutoML_23212e55-35dd-4e3e-80ac-4b38f66d122c_15\", \"run_number\": 1648507592, \"metric\": null, \"status\": \"Completed\", \"run_type\": null, \"training_percent\": \"100\", \"start_time\": \"2022-03-28T22:50:46.134012Z\", \"end_time\": \"2022-03-28T22:50:54.381529Z\", \"created_time\": \"2022-03-28T22:46:32.15849Z\", \"created_time_dt\": \"2022-03-28T22:46:32.15849Z\", \"duration\": \"0:04:22\", \"iteration\": \"15\", \"goal\": \"AUC_weighted_max\", \"run_name\": \"SparseNormalizer, XGBoostClassifier\", \"run_properties\": \"copy=True, norm='max'\", \"primary_metric\": 0.85019785, \"best_metric\": 0.94686263}, {\"run_id\": \"AutoML_23212e55-35dd-4e3e-80ac-4b38f66d122c_18\", \"run_number\": 1648507593, \"metric\": null, \"status\": \"Completed\", \"run_type\": null, \"training_percent\": \"100\", \"start_time\": \"2022-03-28T22:51:52.056292Z\", \"end_time\": \"2022-03-28T22:52:01.878268Z\", \"created_time\": \"2022-03-28T22:46:33.420277Z\", \"created_time_dt\": \"2022-03-28T22:46:33.420277Z\", \"duration\": \"0:05:28\", \"iteration\": \"18\", \"goal\": \"AUC_weighted_max\", \"run_name\": \"SparseNormalizer, LightGBM\", \"run_properties\": \"copy=True, norm='l1'\", \"primary_metric\": 0.88976823, \"best_metric\": 0.94686263}, {\"run_id\": \"AutoML_23212e55-35dd-4e3e-80ac-4b38f66d122c_worker_4\", \"run_number\": 1648507594, \"metric\": null, \"status\": \"Completed\", \"run_type\": \"azureml.scriptrun\", \"training_percent\": null, \"start_time\": \"2022-03-28T22:52:12.602521Z\", \"end_time\": \"2022-03-28T22:52:16.351163Z\", \"created_time\": \"2022-03-28T22:46:34.192066Z\", \"created_time_dt\": \"2022-03-28T22:46:34.192066Z\", \"duration\": \"0:05:42\", \"iteration\": null, \"goal\": null, \"run_name\": \"Completed\", \"run_properties\": null}, {\"run_id\": \"AutoML_23212e55-35dd-4e3e-80ac-4b38f66d122c_21\", \"run_number\": 1648507857, \"metric\": null, \"status\": \"Completed\", \"run_type\": \"azureml.scriptrun\", \"training_percent\": \"100\", \"start_time\": \"2022-03-28T22:52:40.473097Z\", \"end_time\": \"2022-03-28T22:52:44.179824Z\", \"created_time\": \"2022-03-28T22:50:57.585054Z\", \"created_time_dt\": \"2022-03-28T22:50:57.585054Z\", \"duration\": \"0:01:46\", \"iteration\": \"21\", \"goal\": \"AUC_weighted_max\", \"run_name\": \"StandardScalerWrapper, RandomForest\", \"run_properties\": \"\\n    copy=True,\\n    with_mean=False,\\n    with_std=False\\n\", \"primary_metric\": 0.92509893, \"best_metric\": 0.94686263}, {\"run_id\": \"AutoML_23212e55-35dd-4e3e-80ac-4b38f66d122c_23\", \"run_number\": 1648507925, \"metric\": null, \"status\": \"Completed\", \"run_type\": \"azureml.scriptrun\", \"training_percent\": \"100\", \"start_time\": \"2022-03-28T22:55:44.831483Z\", \"end_time\": \"2022-03-28T22:55:48.529135Z\", \"created_time\": \"2022-03-28T22:52:05.017844Z\", \"created_time_dt\": \"2022-03-28T22:52:05.017844Z\", \"duration\": \"0:03:43\", \"iteration\": \"23\", \"goal\": \"AUC_weighted_max\", \"run_name\": \"MaxAbsScaler, LogisticRegression\", \"run_properties\": \"copy=True\", \"primary_metric\": 0.85528547, \"best_metric\": 0.94686263}, {\"run_id\": \"AutoML_23212e55-35dd-4e3e-80ac-4b38f66d122c_24\", \"run_number\": 1648507968, \"metric\": null, \"status\": \"Completed\", \"run_type\": \"azureml.scriptrun\", \"training_percent\": \"100\", \"start_time\": \"2022-03-28T22:56:12.176594Z\", \"end_time\": \"2022-03-28T22:56:15.956841Z\", \"created_time\": \"2022-03-28T22:52:48.43454Z\", \"created_time_dt\": \"2022-03-28T22:52:48.43454Z\", \"duration\": \"0:03:27\", \"iteration\": \"24\", \"goal\": \"AUC_weighted_max\", \"run_name\": \"MaxAbsScaler, RandomForest\", \"run_properties\": \"copy=True\", \"primary_metric\": 0.95590729, \"best_metric\": 0.95590729}, {\"run_id\": \"AutoML_23212e55-35dd-4e3e-80ac-4b38f66d122c_26\", \"run_number\": 1648508026, \"metric\": null, \"status\": \"Completed\", \"run_type\": \"azureml.scriptrun\", \"training_percent\": \"100\", \"start_time\": \"2022-03-28T22:58:17.274603Z\", \"end_time\": \"2022-03-28T22:58:21.078951Z\", \"created_time\": \"2022-03-28T22:53:46.499808Z\", \"created_time_dt\": \"2022-03-28T22:53:46.499808Z\", \"duration\": \"0:04:34\", \"iteration\": \"26\", \"goal\": \"AUC_weighted_max\", \"run_name\": \"RobustScaler, ExtremeRandomTrees\", \"run_properties\": \"copy=True, quantile_range=[10, 90], with_centering=True,\\n             with_scaling=False\", \"primary_metric\": 0.85585076, \"best_metric\": 0.95590729}, {\"run_id\": \"AutoML_23212e55-35dd-4e3e-80ac-4b38f66d122c_27\", \"run_number\": 1648508053, \"metric\": null, \"status\": \"Completed\", \"run_type\": \"azureml.scriptrun\", \"training_percent\": \"100\", \"start_time\": \"2022-03-28T22:59:51.139273Z\", \"end_time\": \"2022-03-28T22:59:54.84298Z\", \"created_time\": \"2022-03-28T22:54:13.307417Z\", \"created_time_dt\": \"2022-03-28T22:54:13.307417Z\", \"duration\": \"0:05:41\", \"iteration\": \"27\", \"goal\": \"AUC_weighted_max\", \"run_name\": \"MaxAbsScaler, ExtremeRandomTrees\", \"run_properties\": \"copy=True\", \"primary_metric\": 0.87450537, \"best_metric\": 0.95590729}, {\"run_id\": \"AutoML_23212e55-35dd-4e3e-80ac-4b38f66d122c_28\", \"run_number\": 1648508150, \"metric\": null, \"status\": \"Completed\", \"run_type\": \"azureml.scriptrun\", \"training_percent\": \"100\", \"start_time\": \"2022-03-28T23:00:18.862531Z\", \"end_time\": \"2022-03-28T23:00:22.551525Z\", \"created_time\": \"2022-03-28T22:55:50.243971Z\", \"created_time_dt\": \"2022-03-28T22:55:50.243971Z\", \"duration\": \"0:04:32\", \"iteration\": \"28\", \"goal\": \"AUC_weighted_max\", \"run_name\": \"StandardScalerWrapper, ExtremeRandomTrees\", \"run_properties\": \"\\n    copy=True,\\n    with_mean=True,\\n    with_std=True\\n\", \"primary_metric\": 0.87733183, \"best_metric\": 0.95590729}, {\"run_id\": \"AutoML_23212e55-35dd-4e3e-80ac-4b38f66d122c_29\", \"run_number\": 1648508177, \"metric\": null, \"status\": \"Completed\", \"run_type\": \"azureml.scriptrun\", \"training_percent\": \"100\", \"start_time\": \"2022-03-28T23:01:53.902656Z\", \"end_time\": \"2022-03-28T23:01:57.626489Z\", \"created_time\": \"2022-03-28T22:56:17.517813Z\", \"created_time_dt\": \"2022-03-28T22:56:17.517813Z\", \"duration\": \"0:05:40\", \"iteration\": \"29\", \"goal\": \"AUC_weighted_max\", \"run_name\": \"StandardScalerWrapper, RandomForest\", \"run_properties\": \"\\n    copy=True,\\n    with_mean=True,\\n    with_std=False\\n\", \"primary_metric\": 0.93329565, \"best_metric\": 0.95590729}, {\"run_id\": \"AutoML_23212e55-35dd-4e3e-80ac-4b38f66d122c_30\", \"run_number\": 1648508277, \"metric\": null, \"status\": \"Completed\", \"run_type\": \"azureml.scriptrun\", \"training_percent\": \"100\", \"start_time\": \"2022-03-28T23:02:21.151678Z\", \"end_time\": \"2022-03-28T23:02:26.37041Z\", \"created_time\": \"2022-03-28T22:57:57.143008Z\", \"created_time_dt\": \"2022-03-28T22:57:57.143008Z\", \"duration\": \"0:04:29\", \"iteration\": \"30\", \"goal\": \"AUC_weighted_max\", \"run_name\": \"StandardScalerWrapper, RandomForest\", \"run_properties\": \"\\n    copy=True,\\n    with_mean=False,\\n    with_std=True\\n\", \"primary_metric\": 0.93159977, \"best_metric\": 0.95590729}, {\"run_id\": \"AutoML_23212e55-35dd-4e3e-80ac-4b38f66d122c_31\", \"run_number\": 1648508302, \"metric\": null, \"status\": \"Completed\", \"run_type\": \"azureml.scriptrun\", \"training_percent\": \"100\", \"start_time\": \"2022-03-28T23:03:50.021991Z\", \"end_time\": \"2022-03-28T23:03:53.783127Z\", \"created_time\": \"2022-03-28T22:58:22.649489Z\", \"created_time_dt\": \"2022-03-28T22:58:22.649489Z\", \"duration\": \"0:05:31\", \"iteration\": \"31\", \"goal\": \"AUC_weighted_max\", \"run_name\": \"RobustScaler, SVM\", \"run_properties\": \"copy=True, quantile_range=[10, 90], with_centering=False,\\n             with_scaling=True\", \"primary_metric\": 0.84595817, \"best_metric\": 0.95590729}, {\"run_id\": \"AutoML_23212e55-35dd-4e3e-80ac-4b38f66d122c_32\", \"run_number\": 1648508396, \"metric\": null, \"status\": \"Completed\", \"run_type\": \"azureml.scriptrun\", \"training_percent\": \"100\", \"start_time\": \"2022-03-28T23:04:25.663431Z\", \"end_time\": \"2022-03-28T23:04:29.358963Z\", \"created_time\": \"2022-03-28T22:59:56.502184Z\", \"created_time_dt\": \"2022-03-28T22:59:56.502184Z\", \"duration\": \"0:04:32\", \"iteration\": \"32\", \"goal\": \"AUC_weighted_max\", \"run_name\": \"StandardScalerWrapper, SVM\", \"run_properties\": \"\\n    copy=True,\\n    with_mean=False,\\n    with_std=True\\n\", \"primary_metric\": 0.84793669, \"best_metric\": 0.95590729}, {\"run_id\": \"AutoML_23212e55-35dd-4e3e-80ac-4b38f66d122c_33\", \"run_number\": 1648508424, \"metric\": null, \"status\": \"Completed\", \"run_type\": \"azureml.scriptrun\", \"training_percent\": \"100\", \"start_time\": \"2022-03-28T23:05:53.063949Z\", \"end_time\": \"2022-03-28T23:05:56.785144Z\", \"created_time\": \"2022-03-28T23:00:24.125691Z\", \"created_time_dt\": \"2022-03-28T23:00:24.125691Z\", \"duration\": \"0:05:32\", \"iteration\": \"33\", \"goal\": \"AUC_weighted_max\", \"run_name\": \"StandardScalerWrapper, SVM\", \"run_properties\": \"\\n    copy=True,\\n    with_mean=False,\\n    with_std=True\\n\", \"primary_metric\": 0.85076314, \"best_metric\": 0.95590729}, {\"run_id\": \"AutoML_23212e55-35dd-4e3e-80ac-4b38f66d122c_34\", \"run_number\": 1648508519, \"metric\": null, \"status\": \"Completed\", \"run_type\": \"azureml.scriptrun\", \"training_percent\": \"100\", \"start_time\": \"2022-03-28T23:06:21.239732Z\", \"end_time\": \"2022-03-28T23:06:24.950009Z\", \"created_time\": \"2022-03-28T23:01:59.862754Z\", \"created_time_dt\": \"2022-03-28T23:01:59.862754Z\", \"duration\": \"0:04:25\", \"iteration\": \"34\", \"goal\": \"AUC_weighted_max\", \"run_name\": \"RobustScaler, SVM\", \"run_properties\": \"copy=True, quantile_range=[25, 75], with_centering=False,\\n             with_scaling=True\", \"primary_metric\": 0.88468061, \"best_metric\": 0.95590729}, {\"run_id\": \"AutoML_23212e55-35dd-4e3e-80ac-4b38f66d122c_35\", \"run_number\": 1648508548, \"metric\": null, \"status\": \"Completed\", \"run_type\": \"azureml.scriptrun\", \"training_percent\": \"100\", \"start_time\": \"2022-03-28T23:07:55.700751Z\", \"end_time\": \"2022-03-28T23:07:59.42886Z\", \"created_time\": \"2022-03-28T23:02:28.875186Z\", \"created_time_dt\": \"2022-03-28T23:02:28.875186Z\", \"duration\": \"0:05:30\", \"iteration\": \"35\", \"goal\": \"AUC_weighted_max\", \"run_name\": \"MinMaxScaler, RandomForest\", \"run_properties\": \"copy=True, feature_range=(0, 1\", \"primary_metric\": 0.89033352, \"best_metric\": 0.95590729}, {\"run_id\": \"AutoML_23212e55-35dd-4e3e-80ac-4b38f66d122c_36\", \"run_number\": 1648508635, \"metric\": null, \"status\": \"Completed\", \"run_type\": \"azureml.scriptrun\", \"training_percent\": \"100\", \"start_time\": \"2022-03-28T23:08:22.515934Z\", \"end_time\": \"2022-03-28T23:08:26.292931Z\", \"created_time\": \"2022-03-28T23:03:55.3283Z\", \"created_time_dt\": \"2022-03-28T23:03:55.3283Z\", \"duration\": \"0:04:30\", \"iteration\": \"36\", \"goal\": \"AUC_weighted_max\", \"run_name\": \"MinMaxScaler, RandomForest\", \"run_properties\": \"copy=True, feature_range=(0, 1\", \"primary_metric\": 0.9169022, \"best_metric\": 0.95590729}, {\"run_id\": \"AutoML_23212e55-35dd-4e3e-80ac-4b38f66d122c_37\", \"run_number\": 1648508671, \"metric\": null, \"status\": \"Completed\", \"run_type\": \"azureml.scriptrun\", \"training_percent\": \"100\", \"start_time\": \"2022-03-28T23:09:57.764827Z\", \"end_time\": \"2022-03-28T23:10:01.606054Z\", \"created_time\": \"2022-03-28T23:04:31.340234Z\", \"created_time_dt\": \"2022-03-28T23:04:31.340234Z\", \"duration\": \"0:05:30\", \"iteration\": \"37\", \"goal\": \"AUC_weighted_max\", \"run_name\": \"MaxAbsScaler, RandomForest\", \"run_properties\": \"copy=True\", \"primary_metric\": 0.94064443, \"best_metric\": 0.95590729}, {\"run_id\": \"AutoML_23212e55-35dd-4e3e-80ac-4b38f66d122c_38\", \"run_number\": 1648508758, \"metric\": null, \"status\": \"Completed\", \"run_type\": \"azureml.scriptrun\", \"training_percent\": \"100\", \"start_time\": \"2022-03-28T23:10:25.771296Z\", \"end_time\": \"2022-03-28T23:10:29.489512Z\", \"created_time\": \"2022-03-28T23:05:58.570277Z\", \"created_time_dt\": \"2022-03-28T23:05:58.570277Z\", \"duration\": \"0:04:30\", \"iteration\": \"38\", \"goal\": \"AUC_weighted_max\", \"run_name\": \"MaxAbsScaler, RandomForest\", \"run_properties\": \"copy=True\", \"primary_metric\": 0.95025438, \"best_metric\": 0.95590729}, {\"run_id\": \"AutoML_23212e55-35dd-4e3e-80ac-4b38f66d122c_39\", \"run_number\": 1648508786, \"metric\": null, \"status\": \"Canceled\", \"run_type\": \"azureml.scriptrun\", \"training_percent\": \"100\", \"start_time\": \"2022-03-28T23:10:30.427217Z\", \"end_time\": \"2022-03-28T23:10:30.78996Z\", \"created_time\": \"2022-03-28T23:06:26.612128Z\", \"created_time_dt\": \"2022-03-28T23:06:26.612128Z\", \"duration\": \"0:04:04\", \"iteration\": \"39\", \"goal\": null, \"run_name\": \"Canceled\", \"run_properties\": null}, {\"run_id\": \"AutoML_23212e55-35dd-4e3e-80ac-4b38f66d122c_40\", \"run_number\": 1648508882, \"metric\": null, \"status\": \"Canceled\", \"run_type\": \"azureml.scriptrun\", \"training_percent\": \"100\", \"start_time\": \"2022-03-28T23:10:30.376644Z\", \"end_time\": \"2022-03-28T23:10:30.919765Z\", \"created_time\": \"2022-03-28T23:08:02.212437Z\", \"created_time_dt\": \"2022-03-28T23:08:02.212437Z\", \"duration\": \"0:02:28\", \"iteration\": \"40\", \"goal\": null, \"run_name\": \"Canceled\", \"run_properties\": null}, {\"run_id\": \"AutoML_23212e55-35dd-4e3e-80ac-4b38f66d122c_41\", \"run_number\": 1648508907, \"metric\": null, \"status\": \"Canceled\", \"run_type\": \"azureml.scriptrun\", \"training_percent\": \"100\", \"start_time\": \"2022-03-28T23:10:30.393529Z\", \"end_time\": \"2022-03-28T23:10:30.75721Z\", \"created_time\": \"2022-03-28T23:08:27.826576Z\", \"created_time_dt\": \"2022-03-28T23:08:27.826576Z\", \"duration\": \"0:02:02\", \"iteration\": \"41\", \"goal\": null, \"run_name\": \"Canceled\", \"run_properties\": null}, {\"run_id\": \"AutoML_23212e55-35dd-4e3e-80ac-4b38f66d122c_42\", \"run_number\": 1648509003, \"metric\": null, \"status\": \"Canceled\", \"run_type\": \"azureml.scriptrun\", \"training_percent\": \"100\", \"start_time\": \"2022-03-28T23:10:30.433401Z\", \"end_time\": \"2022-03-28T23:10:30.811875Z\", \"created_time\": \"2022-03-28T23:10:03.276358Z\", \"created_time_dt\": \"2022-03-28T23:10:03.276358Z\", \"duration\": \"0:00:27\", \"iteration\": \"42\", \"goal\": null, \"run_name\": \"Canceled\", \"run_properties\": null}, {\"run_id\": \"AutoML_23212e55-35dd-4e3e-80ac-4b38f66d122c_43\", \"run_number\": 1648509031, \"metric\": null, \"status\": \"Completed\", \"run_type\": \"azureml.scriptrun\", \"training_percent\": \"100\", \"start_time\": \"2022-03-28T23:12:18.569959Z\", \"end_time\": \"2022-03-28T23:12:22.266485Z\", \"created_time\": \"2022-03-28T23:10:31.750433Z\", \"created_time_dt\": \"2022-03-28T23:10:31.750433Z\", \"duration\": \"0:01:50\", \"iteration\": \"43\", \"goal\": \"AUC_weighted_max\", \"run_name\": \"VotingEnsemble\", \"run_properties\": \"\\n    estimators=[('24', Pipeline(\\n        memory=None,\\n        steps=[('maxabsscaler', MaxAbsScaler(\\n            copy=True\\n        \", \"primary_metric\": 0.95816846, \"best_metric\": 0.95816846}], \"children_metrics\": {\"categories\": [0], \"series\": {\"balanced_accuracy\": [{\"categories\": [\"0\", \"1\", \"3\", \"5\", \"10\", \"13\", \"15\", \"18\", \"21\", \"23\", \"24\", \"26\", \"27\", \"28\", \"29\", \"30\", \"31\", \"32\", \"33\", \"34\", \"35\", \"36\", \"37\", \"38\", \"43\"], \"mode\": \"markers\", \"name\": \"balanced_accuracy\", \"stepped\": false, \"type\": \"scatter\", \"data\": [0.8193894855850763, 0.8202374222724703, 0.8111927642736009, 0.546919163369135, 0.8046919163369135, 0.6585641605426795, 0.7594686263425664, 0.7849067269643866, 0.8021481062747315, 0.7809496890898813, 0.8728094968908988, 0.7973431317128321, 0.6986998304126625, 0.7973431317128321, 0.8383267382702091, 0.5, 0.7176370830977954, 0.7439231204070096, 0.7611644997173544, 0.8292820802713398, 0.7628603730921425, 0.8021481062747315, 0.8374788015828152, 0.8456755228942905, 0.8456755228942905]}, {\"categories\": [\"0\", \"1\", \"3\", \"5\", \"10\", \"13\", \"15\", \"18\", \"21\", \"23\", \"24\", \"26\", \"27\", \"28\", \"29\", \"30\", \"31\", \"32\", \"33\", \"34\", \"35\", \"36\", \"37\", \"38\", \"43\"], \"mode\": \"lines\", \"name\": \"balanced_accuracy_max\", \"stepped\": true, \"type\": \"scatter\", \"data\": [0.8193894855850763, 0.8202374222724703, 0.8202374222724703, 0.8202374222724703, 0.8202374222724703, 0.8202374222724703, 0.8202374222724703, 0.8202374222724703, 0.8202374222724703, 0.8202374222724703, 0.8728094968908988, 0.8728094968908988, 0.8728094968908988, 0.8728094968908988, 0.8728094968908988, 0.8728094968908988, 0.8728094968908988, 0.8728094968908988, 0.8728094968908988, 0.8728094968908988, 0.8728094968908988, 0.8728094968908988, 0.8728094968908988, 0.8728094968908988, 0.8728094968908988]}], \"precision_score_micro\": [{\"categories\": [\"0\", \"1\", \"3\", \"5\", \"10\", \"13\", \"15\", \"18\", \"21\", \"23\", \"24\", \"26\", \"27\", \"28\", \"29\", \"30\", \"31\", \"32\", \"33\", \"34\", \"35\", \"36\", \"37\", \"38\", \"43\"], \"mode\": \"markers\", \"name\": \"precision_score_micro\", \"stepped\": false, \"type\": \"scatter\", \"data\": [0.8777777777777778, 0.8666666666666667, 0.8666666666666667, 0.6555555555555556, 0.8333333333333334, 0.7333333333333333, 0.8333333333333334, 0.8555555555555555, 0.8666666666666667, 0.7888888888888889, 0.8888888888888888, 0.8111111111111111, 0.8, 0.8111111111111111, 0.8666666666666667, 0.6777777777777778, 0.7888888888888889, 0.8, 0.8111111111111111, 0.8666666666666667, 0.7888888888888889, 0.8666666666666667, 0.8777777777777778, 0.8888888888888888, 0.8888888888888888]}, {\"categories\": [\"0\", \"1\", \"3\", \"5\", \"10\", \"13\", \"15\", \"18\", \"21\", \"23\", \"24\", \"26\", \"27\", \"28\", \"29\", \"30\", \"31\", \"32\", \"33\", \"34\", \"35\", \"36\", \"37\", \"38\", \"43\"], \"mode\": \"lines\", \"name\": \"precision_score_micro_max\", \"stepped\": true, \"type\": \"scatter\", \"data\": [0.8777777777777778, 0.8777777777777778, 0.8777777777777778, 0.8777777777777778, 0.8777777777777778, 0.8777777777777778, 0.8777777777777778, 0.8777777777777778, 0.8777777777777778, 0.8777777777777778, 0.8888888888888888, 0.8888888888888888, 0.8888888888888888, 0.8888888888888888, 0.8888888888888888, 0.8888888888888888, 0.8888888888888888, 0.8888888888888888, 0.8888888888888888, 0.8888888888888888, 0.8888888888888888, 0.8888888888888888, 0.8888888888888888, 0.8888888888888888, 0.8888888888888888]}], \"f1_score_macro\": [{\"categories\": [\"0\", \"1\", \"3\", \"5\", \"10\", \"13\", \"15\", \"18\", \"21\", \"23\", \"24\", \"26\", \"27\", \"28\", \"29\", \"30\", \"31\", \"32\", \"33\", \"34\", \"35\", \"36\", \"37\", \"38\", \"43\"], \"mode\": \"markers\", \"name\": \"f1_score_macro\", \"stepped\": false, \"type\": \"scatter\", \"data\": [0.8457703692163888, 0.8377403846153846, 0.8338461538461538, 0.5407407407407407, 0.8074454428754814, 0.6676923076923077, 0.7840345544712846, 0.8128299472084466, 0.8295454545454546, 0.768009768009768, 0.8728094968908988, 0.7892271662763466, 0.7204968944099379, 0.7892271662763466, 0.8444700460829493, 0.40397350993377484, 0.7336033650101264, 0.756610576923077, 0.7726935076511663, 0.8412698412698413, 0.7604706541532429, 0.8295454545454546, 0.8529193284801664, 0.8647836538461537, 0.8647836538461537]}, {\"categories\": [\"0\", \"1\", \"3\", \"5\", \"10\", \"13\", \"15\", \"18\", \"21\", \"23\", \"24\", \"26\", \"27\", \"28\", \"29\", \"30\", \"31\", \"32\", \"33\", \"34\", \"35\", \"36\", \"37\", \"38\", \"43\"], \"mode\": \"lines\", \"name\": \"f1_score_macro_max\", \"stepped\": true, \"type\": \"scatter\", \"data\": [0.8457703692163888, 0.8457703692163888, 0.8457703692163888, 0.8457703692163888, 0.8457703692163888, 0.8457703692163888, 0.8457703692163888, 0.8457703692163888, 0.8457703692163888, 0.8457703692163888, 0.8728094968908988, 0.8728094968908988, 0.8728094968908988, 0.8728094968908988, 0.8728094968908988, 0.8728094968908988, 0.8728094968908988, 0.8728094968908988, 0.8728094968908988, 0.8728094968908988, 0.8728094968908988, 0.8728094968908988, 0.8728094968908988, 0.8728094968908988, 0.8728094968908988]}], \"accuracy\": [{\"categories\": [\"0\", \"1\", \"3\", \"5\", \"10\", \"13\", \"15\", \"18\", \"21\", \"23\", \"24\", \"26\", \"27\", \"28\", \"29\", \"30\", \"31\", \"32\", \"33\", \"34\", \"35\", \"36\", \"37\", \"38\", \"43\"], \"mode\": \"markers\", \"name\": \"accuracy\", \"stepped\": false, \"type\": \"scatter\", \"data\": [0.8777777777777778, 0.8666666666666667, 0.8666666666666667, 0.6555555555555556, 0.8333333333333334, 0.7333333333333333, 0.8333333333333334, 0.8555555555555555, 0.8666666666666667, 0.7888888888888889, 0.8888888888888888, 0.8111111111111111, 0.8, 0.8111111111111111, 0.8666666666666667, 0.6777777777777778, 0.7888888888888889, 0.8, 0.8111111111111111, 0.8666666666666667, 0.7888888888888889, 0.8666666666666667, 0.8777777777777778, 0.8888888888888888, 0.8888888888888888]}, {\"categories\": [\"0\", \"1\", \"3\", \"5\", \"10\", \"13\", \"15\", \"18\", \"21\", \"23\", \"24\", \"26\", \"27\", \"28\", \"29\", \"30\", \"31\", \"32\", \"33\", \"34\", \"35\", \"36\", \"37\", \"38\", \"43\"], \"mode\": \"lines\", \"name\": \"accuracy_max\", \"stepped\": true, \"type\": \"scatter\", \"data\": [0.8777777777777778, 0.8777777777777778, 0.8777777777777778, 0.8777777777777778, 0.8777777777777778, 0.8777777777777778, 0.8777777777777778, 0.8777777777777778, 0.8777777777777778, 0.8777777777777778, 0.8888888888888888, 0.8888888888888888, 0.8888888888888888, 0.8888888888888888, 0.8888888888888888, 0.8888888888888888, 0.8888888888888888, 0.8888888888888888, 0.8888888888888888, 0.8888888888888888, 0.8888888888888888, 0.8888888888888888, 0.8888888888888888, 0.8888888888888888, 0.8888888888888888]}], \"average_precision_score_weighted\": [{\"categories\": [\"0\", \"1\", \"3\", \"5\", \"10\", \"13\", \"15\", \"18\", \"21\", \"23\", \"24\", \"26\", \"27\", \"28\", \"29\", \"30\", \"31\", \"32\", \"33\", \"34\", \"35\", \"36\", \"37\", \"38\", \"43\"], \"mode\": \"markers\", \"name\": \"average_precision_score_weighted\", \"stepped\": false, \"type\": \"scatter\", \"data\": [0.9229178640610607, 0.9097229342847968, 0.9536915411199367, 0.5990556578484114, 0.8765287981690727, 0.7531022249976391, 0.8796819489710278, 0.9101551519917103, 0.9351286280747307, 0.8795460399429713, 0.9636506084971049, 0.8840518364710713, 0.900811957946065, 0.9009390566367788, 0.9461843326642616, 0.9399555998328342, 0.8746821351995818, 0.8691943395858477, 0.8744934825150648, 0.8962629353273537, 0.8829611491502132, 0.9333416718195527, 0.9511082471501568, 0.9574723087309779, 0.9631311010085262]}, {\"categories\": [\"0\", \"1\", \"3\", \"5\", \"10\", \"13\", \"15\", \"18\", \"21\", \"23\", \"24\", \"26\", \"27\", \"28\", \"29\", \"30\", \"31\", \"32\", \"33\", \"34\", \"35\", \"36\", \"37\", \"38\", \"43\"], \"mode\": \"lines\", \"name\": \"average_precision_score_weighted_max\", \"stepped\": true, \"type\": \"scatter\", \"data\": [0.9229178640610607, 0.9229178640610607, 0.9536915411199367, 0.9536915411199367, 0.9536915411199367, 0.9536915411199367, 0.9536915411199367, 0.9536915411199367, 0.9536915411199367, 0.9536915411199367, 0.9636506084971049, 0.9636506084971049, 0.9636506084971049, 0.9636506084971049, 0.9636506084971049, 0.9636506084971049, 0.9636506084971049, 0.9636506084971049, 0.9636506084971049, 0.9636506084971049, 0.9636506084971049, 0.9636506084971049, 0.9636506084971049, 0.9636506084971049, 0.9636506084971049]}], \"average_precision_score_macro\": [{\"categories\": [\"0\", \"1\", \"3\", \"5\", \"10\", \"13\", \"15\", \"18\", \"21\", \"23\", \"24\", \"26\", \"27\", \"28\", \"29\", \"30\", \"31\", \"32\", \"33\", \"34\", \"35\", \"36\", \"37\", \"38\", \"43\"], \"mode\": \"markers\", \"name\": \"average_precision_score_macro\", \"stepped\": false, \"type\": \"scatter\", \"data\": [0.9066553967279163, 0.8932583720269205, 0.9416884999679804, 0.5424076475967792, 0.8538893978189458, 0.7207360471796543, 0.8594780283910384, 0.8940392844935865, 0.9210505718122959, 0.8567502843589203, 0.956317737125408, 0.8655518797379931, 0.8844070534687571, 0.8832497717987481, 0.9358456401576072, 0.9251900570125712, 0.8524732326840498, 0.8408333159396428, 0.8489055526294584, 0.8703555421193061, 0.8516224321300099, 0.9202653908737715, 0.9405951922656299, 0.9470725553288198, 0.9534343574848019]}, {\"categories\": [\"0\", \"1\", \"3\", \"5\", \"10\", \"13\", \"15\", \"18\", \"21\", \"23\", \"24\", \"26\", \"27\", \"28\", \"29\", \"30\", \"31\", \"32\", \"33\", \"34\", \"35\", \"36\", \"37\", \"38\", \"43\"], \"mode\": \"lines\", \"name\": \"average_precision_score_macro_max\", \"stepped\": true, \"type\": \"scatter\", \"data\": [0.9066553967279163, 0.9066553967279163, 0.9416884999679804, 0.9416884999679804, 0.9416884999679804, 0.9416884999679804, 0.9416884999679804, 0.9416884999679804, 0.9416884999679804, 0.9416884999679804, 0.956317737125408, 0.956317737125408, 0.956317737125408, 0.956317737125408, 0.956317737125408, 0.956317737125408, 0.956317737125408, 0.956317737125408, 0.956317737125408, 0.956317737125408, 0.956317737125408, 0.956317737125408, 0.956317737125408, 0.956317737125408, 0.956317737125408]}], \"AUC_weighted\": [{\"categories\": [\"0\", \"1\", \"3\", \"5\", \"10\", \"13\", \"15\", \"18\", \"21\", \"23\", \"24\", \"26\", \"27\", \"28\", \"29\", \"30\", \"31\", \"32\", \"33\", \"34\", \"35\", \"36\", \"37\", \"38\", \"43\"], \"mode\": \"markers\", \"name\": \"AUC_weighted\", \"stepped\": false, \"type\": \"scatter\", \"data\": [0.906726964386659, 0.8886376483889203, 0.9468626342566422, 0.5336348219332956, 0.8507631430186546, 0.7173544375353307, 0.8501978518937253, 0.889768230638779, 0.9250989259468626, 0.8552854720180894, 0.9559072922555115, 0.8558507631430186, 0.8745053702656869, 0.8773318258903335, 0.9332956472583381, 0.93159977388355, 0.8459581684567551, 0.8479366873940078, 0.8507631430186546, 0.8846806105144149, 0.8903335217637083, 0.9169022046353872, 0.9406444318824195, 0.9502543810062183, 0.958168456755229]}, {\"categories\": [\"0\", \"1\", \"3\", \"5\", \"10\", \"13\", \"15\", \"18\", \"21\", \"23\", \"24\", \"26\", \"27\", \"28\", \"29\", \"30\", \"31\", \"32\", \"33\", \"34\", \"35\", \"36\", \"37\", \"38\", \"43\"], \"mode\": \"lines\", \"name\": \"AUC_weighted_max\", \"stepped\": true, \"type\": \"scatter\", \"data\": [0.906726964386659, 0.906726964386659, 0.9468626342566422, 0.9468626342566422, 0.9468626342566422, 0.9468626342566422, 0.9468626342566422, 0.9468626342566422, 0.9468626342566422, 0.9468626342566422, 0.9559072922555115, 0.9559072922555115, 0.9559072922555115, 0.9559072922555115, 0.9559072922555115, 0.9559072922555115, 0.9559072922555115, 0.9559072922555115, 0.9559072922555115, 0.9559072922555115, 0.9559072922555115, 0.9559072922555115, 0.9559072922555115, 0.9559072922555115, 0.958168456755229]}], \"average_precision_score_micro\": [{\"categories\": [\"0\", \"1\", \"3\", \"5\", \"10\", \"13\", \"15\", \"18\", \"21\", \"23\", \"24\", \"26\", \"27\", \"28\", \"29\", \"30\", \"31\", \"32\", \"33\", \"34\", \"35\", \"36\", \"37\", \"38\", \"43\"], \"mode\": \"markers\", \"name\": \"average_precision_score_micro\", \"stepped\": false, \"type\": \"scatter\", \"data\": [0.9287109587276008, 0.9169774414258822, 0.9503496946787847, 0.6335261434617832, 0.8871737005373421, 0.7719055898962629, 0.87673854506252, 0.9091864629866426, 0.9322125109904508, 0.8715740793255565, 0.9676313644696088, 0.8811356375817522, 0.8866634696413136, 0.9019320370030242, 0.9528865417924244, 0.8801056941642815, 0.8807272303697525, 0.8821497354729704, 0.8864491775021479, 0.907958946739881, 0.8701331959750489, 0.9226677549966874, 0.9554612976731739, 0.9592724860561915, 0.9588779283140292]}, {\"categories\": [\"0\", \"1\", \"3\", \"5\", \"10\", \"13\", \"15\", \"18\", \"21\", \"23\", \"24\", \"26\", \"27\", \"28\", \"29\", \"30\", \"31\", \"32\", \"33\", \"34\", \"35\", \"36\", \"37\", \"38\", \"43\"], \"mode\": \"lines\", \"name\": \"average_precision_score_micro_max\", \"stepped\": true, \"type\": \"scatter\", \"data\": [0.9287109587276008, 0.9287109587276008, 0.9503496946787847, 0.9503496946787847, 0.9503496946787847, 0.9503496946787847, 0.9503496946787847, 0.9503496946787847, 0.9503496946787847, 0.9503496946787847, 0.9676313644696088, 0.9676313644696088, 0.9676313644696088, 0.9676313644696088, 0.9676313644696088, 0.9676313644696088, 0.9676313644696088, 0.9676313644696088, 0.9676313644696088, 0.9676313644696088, 0.9676313644696088, 0.9676313644696088, 0.9676313644696088, 0.9676313644696088, 0.9676313644696088]}], \"precision_score_weighted\": [{\"categories\": [\"0\", \"1\", \"3\", \"5\", \"10\", \"13\", \"15\", \"18\", \"21\", \"23\", \"24\", \"26\", \"27\", \"28\", \"29\", \"30\", \"31\", \"32\", \"33\", \"34\", \"35\", \"36\", \"37\", \"38\", \"43\"], \"mode\": \"markers\", \"name\": \"precision_score_weighted\", \"stepped\": false, \"type\": \"scatter\", \"data\": [0.8870634920634921, 0.8669262383733506, 0.8710835058661145, 0.6172484984984986, 0.8319892473118279, 0.7200828157349897, 0.841820987654321, 0.8691358024691359, 0.87803311094638, 0.8015522875816994, 0.8888888888888888, 0.8175047892720306, 0.8255744255744256, 0.8175047892720306, 0.8650205761316871, 0.45938271604938274, 0.783888888888889, 0.7945489941596366, 0.8064814814814816, 0.865025641025641, 0.7909259259259259, 0.87803311094638, 0.87756734006734, 0.8910519864445886, 0.8910519864445886]}, {\"categories\": [\"0\", \"1\", \"3\", \"5\", \"10\", \"13\", \"15\", \"18\", \"21\", \"23\", \"24\", \"26\", \"27\", \"28\", \"29\", \"30\", \"31\", \"32\", \"33\", \"34\", \"35\", \"36\", \"37\", \"38\", \"43\"], \"mode\": \"lines\", \"name\": \"precision_score_weighted_max\", \"stepped\": true, \"type\": \"scatter\", \"data\": [0.8870634920634921, 0.8870634920634921, 0.8870634920634921, 0.8870634920634921, 0.8870634920634921, 0.8870634920634921, 0.8870634920634921, 0.8870634920634921, 0.8870634920634921, 0.8870634920634921, 0.8888888888888888, 0.8888888888888888, 0.8888888888888888, 0.8888888888888888, 0.8888888888888888, 0.8888888888888888, 0.8888888888888888, 0.8888888888888888, 0.8888888888888888, 0.8888888888888888, 0.8888888888888888, 0.8888888888888888, 0.8888888888888888, 0.8910519864445886, 0.8910519864445886]}], \"matthews_correlation\": [{\"categories\": [\"0\", \"1\", \"3\", \"5\", \"10\", \"13\", \"15\", \"18\", \"21\", \"23\", \"24\", \"26\", \"27\", \"28\", \"29\", \"30\", \"31\", \"32\", \"33\", \"34\", \"35\", \"36\", \"37\", \"38\", \"43\"], \"mode\": \"markers\", \"name\": \"matthews_correlation\", \"stepped\": false, \"type\": \"scatter\", \"data\": [0.7180430933259171, 0.6862220581477438, 0.6876844589387536, 0.1147012947869586, 0.6151485207228066, 0.35040052812410605, 0.6062842188159794, 0.6657238481116636, 0.6920027397757972, 0.5416128952623219, 0.7456189937817976, 0.5805810245233042, 0.5282924083228075, 0.5805810245233042, 0.6900460546698891, 0.0, 0.4892860016468639, 0.5226916471151835, 0.5519890545444841, 0.68712432959947, 0.5211740453327921, 0.6920027397757972, 0.7132845574957944, 0.7407321951585972, 0.7407321951585972]}, {\"categories\": [\"0\", \"1\", \"3\", \"5\", \"10\", \"13\", \"15\", \"18\", \"21\", \"23\", \"24\", \"26\", \"27\", \"28\", \"29\", \"30\", \"31\", \"32\", \"33\", \"34\", \"35\", \"36\", \"37\", \"38\", \"43\"], \"mode\": \"lines\", \"name\": \"matthews_correlation_max\", \"stepped\": true, \"type\": \"scatter\", \"data\": [0.7180430933259171, 0.7180430933259171, 0.7180430933259171, 0.7180430933259171, 0.7180430933259171, 0.7180430933259171, 0.7180430933259171, 0.7180430933259171, 0.7180430933259171, 0.7180430933259171, 0.7456189937817976, 0.7456189937817976, 0.7456189937817976, 0.7456189937817976, 0.7456189937817976, 0.7456189937817976, 0.7456189937817976, 0.7456189937817976, 0.7456189937817976, 0.7456189937817976, 0.7456189937817976, 0.7456189937817976, 0.7456189937817976, 0.7456189937817976, 0.7456189937817976]}], \"f1_score_micro\": [{\"categories\": [\"0\", \"1\", \"3\", \"5\", \"10\", \"13\", \"15\", \"18\", \"21\", \"23\", \"24\", \"26\", \"27\", \"28\", \"29\", \"30\", \"31\", \"32\", \"33\", \"34\", \"35\", \"36\", \"37\", \"38\", \"43\"], \"mode\": \"markers\", \"name\": \"f1_score_micro\", \"stepped\": false, \"type\": \"scatter\", \"data\": [0.8777777777777779, 0.8666666666666667, 0.8666666666666667, 0.6555555555555556, 0.8333333333333334, 0.7333333333333333, 0.8333333333333334, 0.8555555555555555, 0.8666666666666667, 0.7888888888888889, 0.8888888888888888, 0.8111111111111111, 0.8000000000000002, 0.8111111111111111, 0.8666666666666667, 0.6777777777777778, 0.7888888888888889, 0.8000000000000002, 0.8111111111111111, 0.8666666666666667, 0.7888888888888889, 0.8666666666666667, 0.8777777777777779, 0.8888888888888888, 0.8888888888888888]}, {\"categories\": [\"0\", \"1\", \"3\", \"5\", \"10\", \"13\", \"15\", \"18\", \"21\", \"23\", \"24\", \"26\", \"27\", \"28\", \"29\", \"30\", \"31\", \"32\", \"33\", \"34\", \"35\", \"36\", \"37\", \"38\", \"43\"], \"mode\": \"lines\", \"name\": \"f1_score_micro_max\", \"stepped\": true, \"type\": \"scatter\", \"data\": [0.8777777777777779, 0.8777777777777779, 0.8777777777777779, 0.8777777777777779, 0.8777777777777779, 0.8777777777777779, 0.8777777777777779, 0.8777777777777779, 0.8777777777777779, 0.8777777777777779, 0.8888888888888888, 0.8888888888888888, 0.8888888888888888, 0.8888888888888888, 0.8888888888888888, 0.8888888888888888, 0.8888888888888888, 0.8888888888888888, 0.8888888888888888, 0.8888888888888888, 0.8888888888888888, 0.8888888888888888, 0.8888888888888888, 0.8888888888888888, 0.8888888888888888]}], \"precision_score_macro\": [{\"categories\": [\"0\", \"1\", \"3\", \"5\", \"10\", \"13\", \"15\", \"18\", \"21\", \"23\", \"24\", \"26\", \"27\", \"28\", \"29\", \"30\", \"31\", \"32\", \"33\", \"34\", \"35\", \"36\", \"37\", \"38\", \"43\"], \"mode\": \"markers\", \"name\": \"precision_score_macro\", \"stepped\": false, \"type\": \"scatter\", \"data\": [0.9035714285714285, 0.8676184295911745, 0.8799171842650104, 0.5701013513513513, 0.810483870967742, 0.6935817805383022, 0.8541666666666666, 0.8888888888888888, 0.8962194217939214, 0.7610294117647058, 0.8728094968908988, 0.7834051724137931, 0.8511488511488512, 0.7834051724137931, 0.8518518518518519, 0.3388888888888889, 0.775, 0.7800129785853342, 0.7916666666666667, 0.8584615384615384, 0.7583333333333333, 0.8962194217939214, 0.8768939393939394, 0.8968202465931213, 0.8968202465931213]}, {\"categories\": [\"0\", \"1\", \"3\", \"5\", \"10\", \"13\", \"15\", \"18\", \"21\", \"23\", \"24\", \"26\", \"27\", \"28\", \"29\", \"30\", \"31\", \"32\", \"33\", \"34\", \"35\", \"36\", \"37\", \"38\", \"43\"], \"mode\": \"lines\", \"name\": \"precision_score_macro_max\", \"stepped\": true, \"type\": \"scatter\", \"data\": [0.9035714285714285, 0.9035714285714285, 0.9035714285714285, 0.9035714285714285, 0.9035714285714285, 0.9035714285714285, 0.9035714285714285, 0.9035714285714285, 0.9035714285714285, 0.9035714285714285, 0.9035714285714285, 0.9035714285714285, 0.9035714285714285, 0.9035714285714285, 0.9035714285714285, 0.9035714285714285, 0.9035714285714285, 0.9035714285714285, 0.9035714285714285, 0.9035714285714285, 0.9035714285714285, 0.9035714285714285, 0.9035714285714285, 0.9035714285714285, 0.9035714285714285]}], \"recall_score_micro\": [{\"categories\": [\"0\", \"1\", \"3\", \"5\", \"10\", \"13\", \"15\", \"18\", \"21\", \"23\", \"24\", \"26\", \"27\", \"28\", \"29\", \"30\", \"31\", \"32\", \"33\", \"34\", \"35\", \"36\", \"37\", \"38\", \"43\"], \"mode\": \"markers\", \"name\": \"recall_score_micro\", \"stepped\": false, \"type\": \"scatter\", \"data\": [0.8777777777777778, 0.8666666666666667, 0.8666666666666667, 0.6555555555555556, 0.8333333333333334, 0.7333333333333333, 0.8333333333333334, 0.8555555555555555, 0.8666666666666667, 0.7888888888888889, 0.8888888888888888, 0.8111111111111111, 0.8, 0.8111111111111111, 0.8666666666666667, 0.6777777777777778, 0.7888888888888889, 0.8, 0.8111111111111111, 0.8666666666666667, 0.7888888888888889, 0.8666666666666667, 0.8777777777777778, 0.8888888888888888, 0.8888888888888888]}, {\"categories\": [\"0\", \"1\", \"3\", \"5\", \"10\", \"13\", \"15\", \"18\", \"21\", \"23\", \"24\", \"26\", \"27\", \"28\", \"29\", \"30\", \"31\", \"32\", \"33\", \"34\", \"35\", \"36\", \"37\", \"38\", \"43\"], \"mode\": \"lines\", \"name\": \"recall_score_micro_max\", \"stepped\": true, \"type\": \"scatter\", \"data\": [0.8777777777777778, 0.8777777777777778, 0.8777777777777778, 0.8777777777777778, 0.8777777777777778, 0.8777777777777778, 0.8777777777777778, 0.8777777777777778, 0.8777777777777778, 0.8777777777777778, 0.8888888888888888, 0.8888888888888888, 0.8888888888888888, 0.8888888888888888, 0.8888888888888888, 0.8888888888888888, 0.8888888888888888, 0.8888888888888888, 0.8888888888888888, 0.8888888888888888, 0.8888888888888888, 0.8888888888888888, 0.8888888888888888, 0.8888888888888888, 0.8888888888888888]}], \"f1_score_weighted\": [{\"categories\": [\"0\", \"1\", \"3\", \"5\", \"10\", \"13\", \"15\", \"18\", \"21\", \"23\", \"24\", \"26\", \"27\", \"28\", \"29\", \"30\", \"31\", \"32\", \"33\", \"34\", \"35\", \"36\", \"37\", \"38\", \"43\"], \"mode\": \"markers\", \"name\": \"f1_score_weighted\", \"stepped\": false, \"type\": \"scatter\", \"data\": [0.8707517612643021, 0.862099358974359, 0.860102564102564, 0.6223868312757201, 0.8325488518043076, 0.7202051282051282, 0.8207220178104837, 0.8446257487690859, 0.8578282828282828, 0.7927553927553928, 0.8888888888888888, 0.8133749674733283, 0.7734989648033126, 0.8133749674733283, 0.8653609831029184, 0.5476085356880058, 0.7767530421837947, 0.7931490384615385, 0.8059195430759835, 0.8638447971781306, 0.7898056061384259, 0.8578282828282828, 0.8744185278726951, 0.885082799145299, 0.885082799145299]}, {\"categories\": [\"0\", \"1\", \"3\", \"5\", \"10\", \"13\", \"15\", \"18\", \"21\", \"23\", \"24\", \"26\", \"27\", \"28\", \"29\", \"30\", \"31\", \"32\", \"33\", \"34\", \"35\", \"36\", \"37\", \"38\", \"43\"], \"mode\": \"lines\", \"name\": \"f1_score_weighted_max\", \"stepped\": true, \"type\": \"scatter\", \"data\": [0.8707517612643021, 0.8707517612643021, 0.8707517612643021, 0.8707517612643021, 0.8707517612643021, 0.8707517612643021, 0.8707517612643021, 0.8707517612643021, 0.8707517612643021, 0.8707517612643021, 0.8888888888888888, 0.8888888888888888, 0.8888888888888888, 0.8888888888888888, 0.8888888888888888, 0.8888888888888888, 0.8888888888888888, 0.8888888888888888, 0.8888888888888888, 0.8888888888888888, 0.8888888888888888, 0.8888888888888888, 0.8888888888888888, 0.8888888888888888, 0.8888888888888888]}], \"norm_macro_recall\": [{\"categories\": [\"0\", \"1\", \"3\", \"5\", \"10\", \"13\", \"15\", \"18\", \"21\", \"23\", \"24\", \"26\", \"27\", \"28\", \"29\", \"30\", \"31\", \"32\", \"33\", \"34\", \"35\", \"36\", \"37\", \"38\", \"43\"], \"mode\": \"markers\", \"name\": \"norm_macro_recall\", \"stepped\": false, \"type\": \"scatter\", \"data\": [0.6387789711701526, 0.6404748445449406, 0.6223855285472017, 0.09383832673827008, 0.609383832673827, 0.31712832108535904, 0.5189372526851328, 0.5698134539287731, 0.6042962125494631, 0.5618993781797625, 0.7456189937817976, 0.5946862634256642, 0.39739966082532496, 0.5946862634256642, 0.6766534765404182, 0.0, 0.4352741661955908, 0.48784624081401917, 0.5223289994347089, 0.6585641605426795, 0.525720746184285, 0.6042962125494631, 0.6749576031656304, 0.691351045788581, 0.691351045788581]}, {\"categories\": [\"0\", \"1\", \"3\", \"5\", \"10\", \"13\", \"15\", \"18\", \"21\", \"23\", \"24\", \"26\", \"27\", \"28\", \"29\", \"30\", \"31\", \"32\", \"33\", \"34\", \"35\", \"36\", \"37\", \"38\", \"43\"], \"mode\": \"lines\", \"name\": \"norm_macro_recall_max\", \"stepped\": true, \"type\": \"scatter\", \"data\": [0.6387789711701526, 0.6404748445449406, 0.6404748445449406, 0.6404748445449406, 0.6404748445449406, 0.6404748445449406, 0.6404748445449406, 0.6404748445449406, 0.6404748445449406, 0.6404748445449406, 0.7456189937817976, 0.7456189937817976, 0.7456189937817976, 0.7456189937817976, 0.7456189937817976, 0.7456189937817976, 0.7456189937817976, 0.7456189937817976, 0.7456189937817976, 0.7456189937817976, 0.7456189937817976, 0.7456189937817976, 0.7456189937817976, 0.7456189937817976, 0.7456189937817976]}], \"weighted_accuracy\": [{\"categories\": [\"0\", \"1\", \"3\", \"5\", \"10\", \"13\", \"15\", \"18\", \"21\", \"23\", \"24\", \"26\", \"27\", \"28\", \"29\", \"30\", \"31\", \"32\", \"33\", \"34\", \"35\", \"36\", \"37\", \"38\", \"43\"], \"mode\": \"markers\", \"name\": \"weighted_accuracy\", \"stepped\": false, \"type\": \"scatter\", \"data\": [0.9230600613765892, 0.9026742656729504, 0.9096887330118368, 0.7398071021481808, 0.8555458132398072, 0.7913195966681279, 0.8906181499342393, 0.9103463393248575, 0.9167032003507234, 0.7950460324419115, 0.9013590530469092, 0.8217886891714161, 0.8785620341955284, 0.8217886891714161, 0.8886453309951775, 0.8156510302498904, 0.8441473038141165, 0.8434896975010959, 0.8498465585269618, 0.895659798334064, 0.8090749671196844, 0.9167032003507233, 0.9090311266988162, 0.9224024550635685, 0.9224024550635685]}, {\"categories\": [\"0\", \"1\", \"3\", \"5\", \"10\", \"13\", \"15\", \"18\", \"21\", \"23\", \"24\", \"26\", \"27\", \"28\", \"29\", \"30\", \"31\", \"32\", \"33\", \"34\", \"35\", \"36\", \"37\", \"38\", \"43\"], \"mode\": \"lines\", \"name\": \"weighted_accuracy_max\", \"stepped\": true, \"type\": \"scatter\", \"data\": [0.9230600613765892, 0.9230600613765892, 0.9230600613765892, 0.9230600613765892, 0.9230600613765892, 0.9230600613765892, 0.9230600613765892, 0.9230600613765892, 0.9230600613765892, 0.9230600613765892, 0.9230600613765892, 0.9230600613765892, 0.9230600613765892, 0.9230600613765892, 0.9230600613765892, 0.9230600613765892, 0.9230600613765892, 0.9230600613765892, 0.9230600613765892, 0.9230600613765892, 0.9230600613765892, 0.9230600613765892, 0.9230600613765892, 0.9230600613765892, 0.9230600613765892]}], \"AUC_micro\": [{\"categories\": [\"0\", \"1\", \"3\", \"5\", \"10\", \"13\", \"15\", \"18\", \"21\", \"23\", \"24\", \"26\", \"27\", \"28\", \"29\", \"30\", \"31\", \"32\", \"33\", \"34\", \"35\", \"36\", \"37\", \"38\", \"43\"], \"mode\": \"markers\", \"name\": \"AUC_micro\", \"stepped\": false, \"type\": \"scatter\", \"data\": [0.9260493827160493, 0.9160493827160495, 0.9469135802469135, 0.6586419753086421, 0.8862962962962964, 0.7945679012345679, 0.8788888888888889, 0.909753086419753, 0.931604938271605, 0.8660493827160494, 0.9661728395061728, 0.8766666666666667, 0.8871604938271606, 0.8964197530864197, 0.9503703703703703, 0.8662962962962962, 0.8809876543209876, 0.88, 0.8841358024691358, 0.9051851851851852, 0.8887654320987655, 0.9207407407407409, 0.952962962962963, 0.9565432098765432, 0.9562962962962964]}, {\"categories\": [\"0\", \"1\", \"3\", \"5\", \"10\", \"13\", \"15\", \"18\", \"21\", \"23\", \"24\", \"26\", \"27\", \"28\", \"29\", \"30\", \"31\", \"32\", \"33\", \"34\", \"35\", \"36\", \"37\", \"38\", \"43\"], \"mode\": \"lines\", \"name\": \"AUC_micro_max\", \"stepped\": true, \"type\": \"scatter\", \"data\": [0.9260493827160493, 0.9260493827160493, 0.9469135802469135, 0.9469135802469135, 0.9469135802469135, 0.9469135802469135, 0.9469135802469135, 0.9469135802469135, 0.9469135802469135, 0.9469135802469135, 0.9661728395061728, 0.9661728395061728, 0.9661728395061728, 0.9661728395061728, 0.9661728395061728, 0.9661728395061728, 0.9661728395061728, 0.9661728395061728, 0.9661728395061728, 0.9661728395061728, 0.9661728395061728, 0.9661728395061728, 0.9661728395061728, 0.9661728395061728, 0.9661728395061728]}], \"AUC_macro\": [{\"categories\": [\"0\", \"1\", \"3\", \"5\", \"10\", \"13\", \"15\", \"18\", \"21\", \"23\", \"24\", \"26\", \"27\", \"28\", \"29\", \"30\", \"31\", \"32\", \"33\", \"34\", \"35\", \"36\", \"37\", \"38\", \"43\"], \"mode\": \"markers\", \"name\": \"AUC_macro\", \"stepped\": false, \"type\": \"scatter\", \"data\": [0.9067269643866591, 0.8886376483889202, 0.9468626342566422, 0.5336348219332956, 0.8507631430186546, 0.7173544375353307, 0.8501978518937252, 0.889768230638779, 0.9250989259468626, 0.8552854720180894, 0.9559072922555116, 0.8558507631430187, 0.8745053702656869, 0.8773318258903335, 0.933295647258338, 0.93159977388355, 0.8459581684567552, 0.8479366873940078, 0.8507631430186546, 0.8846806105144149, 0.8903335217637083, 0.9169022046353872, 0.9406444318824194, 0.9502543810062183, 0.9581684567552289]}, {\"categories\": [\"0\", \"1\", \"3\", \"5\", \"10\", \"13\", \"15\", \"18\", \"21\", \"23\", \"24\", \"26\", \"27\", \"28\", \"29\", \"30\", \"31\", \"32\", \"33\", \"34\", \"35\", \"36\", \"37\", \"38\", \"43\"], \"mode\": \"lines\", \"name\": \"AUC_macro_max\", \"stepped\": true, \"type\": \"scatter\", \"data\": [0.9067269643866591, 0.9067269643866591, 0.9468626342566422, 0.9468626342566422, 0.9468626342566422, 0.9468626342566422, 0.9468626342566422, 0.9468626342566422, 0.9468626342566422, 0.9468626342566422, 0.9559072922555116, 0.9559072922555116, 0.9559072922555116, 0.9559072922555116, 0.9559072922555116, 0.9559072922555116, 0.9559072922555116, 0.9559072922555116, 0.9559072922555116, 0.9559072922555116, 0.9559072922555116, 0.9559072922555116, 0.9559072922555116, 0.9559072922555116, 0.9581684567552289]}], \"log_loss\": [{\"categories\": [\"0\", \"1\", \"3\", \"5\", \"10\", \"13\", \"15\", \"18\", \"21\", \"23\", \"24\", \"26\", \"27\", \"28\", \"29\", \"30\", \"31\", \"32\", \"33\", \"34\", \"35\", \"36\", \"37\", \"38\", \"43\"], \"mode\": \"markers\", \"name\": \"log_loss\", \"stepped\": false, \"type\": \"scatter\", \"data\": [0.3748013544600234, 0.38338670235135736, 0.30346081207414816, 0.704809365604555, 0.43394065417968003, 1.2578156253613448, 0.49604808174778675, 0.39476958422237424, 0.3441341473165424, 0.46516846340443696, 0.41574904744221386, 0.578275537617155, 0.4471988102253263, 0.5706914411028403, 0.43120708406635017, 0.5101162190702326, 0.43384805550285654, 0.4305032950623141, 0.42577496634164225, 0.3981925207002679, 0.5371835452764185, 0.366525493878003, 0.4062521113904574, 0.36691010542743546, 0.3790175359696535]}, {\"categories\": [\"0\", \"1\", \"3\", \"5\", \"10\", \"13\", \"15\", \"18\", \"21\", \"23\", \"24\", \"26\", \"27\", \"28\", \"29\", \"30\", \"31\", \"32\", \"33\", \"34\", \"35\", \"36\", \"37\", \"38\", \"43\"], \"mode\": \"lines\", \"name\": \"log_loss_min\", \"stepped\": true, \"type\": \"scatter\", \"data\": [0.3748013544600234, 0.3748013544600234, 0.30346081207414816, 0.30346081207414816, 0.30346081207414816, 0.30346081207414816, 0.30346081207414816, 0.30346081207414816, 0.30346081207414816, 0.30346081207414816, 0.30346081207414816, 0.30346081207414816, 0.30346081207414816, 0.30346081207414816, 0.30346081207414816, 0.30346081207414816, 0.30346081207414816, 0.30346081207414816, 0.30346081207414816, 0.30346081207414816, 0.30346081207414816, 0.30346081207414816, 0.30346081207414816, 0.30346081207414816, 0.30346081207414816]}], \"recall_score_macro\": [{\"categories\": [\"0\", \"1\", \"3\", \"5\", \"10\", \"13\", \"15\", \"18\", \"21\", \"23\", \"24\", \"26\", \"27\", \"28\", \"29\", \"30\", \"31\", \"32\", \"33\", \"34\", \"35\", \"36\", \"37\", \"38\", \"43\"], \"mode\": \"markers\", \"name\": \"recall_score_macro\", \"stepped\": false, \"type\": \"scatter\", \"data\": [0.8193894855850763, 0.8202374222724703, 0.8111927642736009, 0.546919163369135, 0.8046919163369135, 0.6585641605426795, 0.7594686263425664, 0.7849067269643866, 0.8021481062747315, 0.7809496890898813, 0.8728094968908988, 0.7973431317128321, 0.6986998304126625, 0.7973431317128321, 0.8383267382702091, 0.5, 0.7176370830977954, 0.7439231204070096, 0.7611644997173544, 0.8292820802713398, 0.7628603730921425, 0.8021481062747315, 0.8374788015828152, 0.8456755228942905, 0.8456755228942905]}, {\"categories\": [\"0\", \"1\", \"3\", \"5\", \"10\", \"13\", \"15\", \"18\", \"21\", \"23\", \"24\", \"26\", \"27\", \"28\", \"29\", \"30\", \"31\", \"32\", \"33\", \"34\", \"35\", \"36\", \"37\", \"38\", \"43\"], \"mode\": \"lines\", \"name\": \"recall_score_macro_max\", \"stepped\": true, \"type\": \"scatter\", \"data\": [0.8193894855850763, 0.8202374222724703, 0.8202374222724703, 0.8202374222724703, 0.8202374222724703, 0.8202374222724703, 0.8202374222724703, 0.8202374222724703, 0.8202374222724703, 0.8202374222724703, 0.8728094968908988, 0.8728094968908988, 0.8728094968908988, 0.8728094968908988, 0.8728094968908988, 0.8728094968908988, 0.8728094968908988, 0.8728094968908988, 0.8728094968908988, 0.8728094968908988, 0.8728094968908988, 0.8728094968908988, 0.8728094968908988, 0.8728094968908988, 0.8728094968908988]}], \"recall_score_weighted\": [{\"categories\": [\"0\", \"1\", \"3\", \"5\", \"10\", \"13\", \"15\", \"18\", \"21\", \"23\", \"24\", \"26\", \"27\", \"28\", \"29\", \"30\", \"31\", \"32\", \"33\", \"34\", \"35\", \"36\", \"37\", \"38\", \"43\"], \"mode\": \"markers\", \"name\": \"recall_score_weighted\", \"stepped\": false, \"type\": \"scatter\", \"data\": [0.8777777777777778, 0.8666666666666667, 0.8666666666666667, 0.6555555555555556, 0.8333333333333334, 0.7333333333333333, 0.8333333333333334, 0.8555555555555555, 0.8666666666666667, 0.7888888888888889, 0.8888888888888888, 0.8111111111111111, 0.8, 0.8111111111111111, 0.8666666666666667, 0.6777777777777778, 0.7888888888888889, 0.8, 0.8111111111111111, 0.8666666666666667, 0.7888888888888889, 0.8666666666666667, 0.8777777777777778, 0.8888888888888888, 0.8888888888888888]}, {\"categories\": [\"0\", \"1\", \"3\", \"5\", \"10\", \"13\", \"15\", \"18\", \"21\", \"23\", \"24\", \"26\", \"27\", \"28\", \"29\", \"30\", \"31\", \"32\", \"33\", \"34\", \"35\", \"36\", \"37\", \"38\", \"43\"], \"mode\": \"lines\", \"name\": \"recall_score_weighted_max\", \"stepped\": true, \"type\": \"scatter\", \"data\": [0.8777777777777778, 0.8777777777777778, 0.8777777777777778, 0.8777777777777778, 0.8777777777777778, 0.8777777777777778, 0.8777777777777778, 0.8777777777777778, 0.8777777777777778, 0.8777777777777778, 0.8888888888888888, 0.8888888888888888, 0.8888888888888888, 0.8888888888888888, 0.8888888888888888, 0.8888888888888888, 0.8888888888888888, 0.8888888888888888, 0.8888888888888888, 0.8888888888888888, 0.8888888888888888, 0.8888888888888888, 0.8888888888888888, 0.8888888888888888, 0.8888888888888888]}]}, \"metricName\": null, \"primaryMetricName\": \"AUC_weighted\", \"showLegend\": false}, \"run_metrics\": [{\"name\": \"experiment_status\", \"run_id\": \"AutoML_23212e55-35dd-4e3e-80ac-4b38f66d122c\", \"categories\": [0, 1, 2, 3, 4, 5, 6, 7, 8, 9, 10, 11, 12], \"series\": [{\"data\": [\"DatasetEvaluation\", \"FeaturesGeneration\", \"DatasetFeaturization\", \"DatasetFeaturizationCompleted\", \"ModelSelection\", \"BestRunExplainModel\", \"ModelExplanationDataSetSetup\", \"PickSurrogateModel\", \"EngineeredFeatureExplanations\", \"EngineeredFeatureExplanations\", \"RawFeaturesExplanations\", \"RawFeaturesExplanations\", \"BestRunExplainModel\"]}]}, {\"name\": \"experiment_status_description\", \"run_id\": \"AutoML_23212e55-35dd-4e3e-80ac-4b38f66d122c\", \"categories\": [0, 1, 2, 3, 4, 5, 6, 7, 8, 9, 10, 11, 12], \"series\": [{\"data\": [\"Gathering dataset statistics.\", \"Generating features for the dataset.\", \"Beginning to fit featurizers and featurize the dataset.\", \"Completed fit featurizers and featurizing the dataset.\", \"Beginning model selection.\", \"Best run model explanations started\", \"Model explanations data setup completed\", \"Choosing LightGBM as the surrogate model for explanations\", \"Computation of engineered features started\", \"Computation of engineered features completed\", \"Computation of raw features started\", \"Computation of raw features completed\", \"Best run model explanations completed\"]}]}, {\"name\": \"weighted_accuracy\", \"run_id\": \"AutoML_23212e55-35dd-4e3e-80ac-4b38f66d122c\", \"categories\": [0], \"series\": [{\"data\": [0.9224024550635685]}]}, {\"name\": \"f1_score_micro\", \"run_id\": \"AutoML_23212e55-35dd-4e3e-80ac-4b38f66d122c\", \"categories\": [0], \"series\": [{\"data\": [0.8888888888888888]}]}, {\"name\": \"precision_score_weighted\", \"run_id\": \"AutoML_23212e55-35dd-4e3e-80ac-4b38f66d122c\", \"categories\": [0], \"series\": [{\"data\": [0.8910519864445886]}]}, {\"name\": \"recall_score_weighted\", \"run_id\": \"AutoML_23212e55-35dd-4e3e-80ac-4b38f66d122c\", \"categories\": [0], \"series\": [{\"data\": [0.8888888888888888]}]}, {\"name\": \"norm_macro_recall\", \"run_id\": \"AutoML_23212e55-35dd-4e3e-80ac-4b38f66d122c\", \"categories\": [0], \"series\": [{\"data\": [0.691351045788581]}]}, {\"name\": \"balanced_accuracy\", \"run_id\": \"AutoML_23212e55-35dd-4e3e-80ac-4b38f66d122c\", \"categories\": [0], \"series\": [{\"data\": [0.8456755228942905]}]}, {\"name\": \"precision_score_macro\", \"run_id\": \"AutoML_23212e55-35dd-4e3e-80ac-4b38f66d122c\", \"categories\": [0], \"series\": [{\"data\": [0.8968202465931213]}]}, {\"name\": \"recall_score_macro\", \"run_id\": \"AutoML_23212e55-35dd-4e3e-80ac-4b38f66d122c\", \"categories\": [0], \"series\": [{\"data\": [0.8456755228942905]}]}, {\"name\": \"f1_score_weighted\", \"run_id\": \"AutoML_23212e55-35dd-4e3e-80ac-4b38f66d122c\", \"categories\": [0], \"series\": [{\"data\": [0.885082799145299]}]}, {\"name\": \"f1_score_macro\", \"run_id\": \"AutoML_23212e55-35dd-4e3e-80ac-4b38f66d122c\", \"categories\": [0], \"series\": [{\"data\": [0.8647836538461537]}]}, {\"name\": \"AUC_macro\", \"run_id\": \"AutoML_23212e55-35dd-4e3e-80ac-4b38f66d122c\", \"categories\": [0], \"series\": [{\"data\": [0.9581684567552289]}]}, {\"name\": \"AUC_weighted\", \"run_id\": \"AutoML_23212e55-35dd-4e3e-80ac-4b38f66d122c\", \"categories\": [0], \"series\": [{\"data\": [0.958168456755229]}]}, {\"name\": \"average_precision_score_micro\", \"run_id\": \"AutoML_23212e55-35dd-4e3e-80ac-4b38f66d122c\", \"categories\": [0], \"series\": [{\"data\": [0.9588779283140292]}]}, {\"name\": \"log_loss\", \"run_id\": \"AutoML_23212e55-35dd-4e3e-80ac-4b38f66d122c\", \"categories\": [0], \"series\": [{\"data\": [0.3790175359696535]}]}, {\"name\": \"recall_score_micro\", \"run_id\": \"AutoML_23212e55-35dd-4e3e-80ac-4b38f66d122c\", \"categories\": [0], \"series\": [{\"data\": [0.8888888888888888]}]}, {\"name\": \"AUC_micro\", \"run_id\": \"AutoML_23212e55-35dd-4e3e-80ac-4b38f66d122c\", \"categories\": [0], \"series\": [{\"data\": [0.9562962962962964]}]}, {\"name\": \"average_precision_score_macro\", \"run_id\": \"AutoML_23212e55-35dd-4e3e-80ac-4b38f66d122c\", \"categories\": [0], \"series\": [{\"data\": [0.9534343574848019]}]}, {\"name\": \"average_precision_score_weighted\", \"run_id\": \"AutoML_23212e55-35dd-4e3e-80ac-4b38f66d122c\", \"categories\": [0], \"series\": [{\"data\": [0.9631311010085262]}]}, {\"name\": \"matthews_correlation\", \"run_id\": \"AutoML_23212e55-35dd-4e3e-80ac-4b38f66d122c\", \"categories\": [0], \"series\": [{\"data\": [0.7407321951585972]}]}, {\"name\": \"precision_score_micro\", \"run_id\": \"AutoML_23212e55-35dd-4e3e-80ac-4b38f66d122c\", \"categories\": [0], \"series\": [{\"data\": [0.8888888888888888]}]}, {\"name\": \"accuracy\", \"run_id\": \"AutoML_23212e55-35dd-4e3e-80ac-4b38f66d122c\", \"categories\": [0], \"series\": [{\"data\": [0.8888888888888888]}]}], \"run_logs\": \"\\nRun is completed.\", \"graph\": {}, \"widget_settings\": {\"childWidgetDisplay\": \"popup\", \"send_telemetry\": false, \"log_level\": \"INFO\", \"sdk_version\": \"1.38.0\"}, \"loading\": false}"
          },
          "metadata": {}
        }
      ],
      "execution_count": 10,
      "metadata": {
        "gather": {
          "logged": 1648507263509
        },
        "jupyter": {
          "outputs_hidden": false,
          "source_hidden": false
        },
        "nteract": {
          "transient": {
            "deleting": false
          }
        }
      }
    },
    {
      "cell_type": "code",
      "source": [
        "remote_run.wait_for_completion(show_output=True)"
      ],
      "outputs": [
        {
          "output_type": "display_data",
          "data": {
            "text/plain": "<IPython.core.display.HTML object>",
            "text/html": "<table style=\"width:100%\"><tr><th>Experiment</th><th>Id</th><th>Type</th><th>Status</th><th>Details Page</th><th>Docs Page</th></tr><tr><td>heart-automl-sdk</td><td>AutoML_23212e55-35dd-4e3e-80ac-4b38f66d122c</td><td>automl</td><td>NotStarted</td><td><a href=\"https://ml.azure.com/runs/AutoML_23212e55-35dd-4e3e-80ac-4b38f66d122c?wsid=/subscriptions/6eee9ed4-ef02-4ad0-bbbd-194153ad2069/resourcegroups/aml-resource/workspaces/aml-workspace&amp;tid=b8f88a0b-3d95-478b-b123-a494d78523a4\" target=\"_blank\" rel=\"noopener\">Link to Azure Machine Learning studio</a></td><td><a href=\"https://docs.microsoft.com/en-us/python/api/overview/azure/ml/intro?view=azure-ml-py\" target=\"_blank\" rel=\"noopener\">Link to Documentation</a></td></tr></table>"
          },
          "metadata": {}
        },
        {
          "output_type": "stream",
          "name": "stdout",
          "text": "\nCurrent status: FeaturesGeneration. Generating features for the dataset.\nCurrent status: ModelSelection. Beginning model selection.\n\n********************************************************************************************\nDATA GUARDRAILS: \n\nTYPE:         Class balancing detection\nSTATUS:       PASSED\nDESCRIPTION:  Your inputs were analyzed, and all classes are balanced in your training data.\n              Learn more about imbalanced data: https://aka.ms/AutomatedMLImbalancedData\n\n********************************************************************************************\n\nTYPE:         Missing feature values imputation\nSTATUS:       PASSED\nDESCRIPTION:  No feature missing values were detected in the training data.\n              Learn more about missing value imputation: https://aka.ms/AutomatedMLFeaturization\n\n********************************************************************************************\n\nTYPE:         High cardinality feature detection\nSTATUS:       PASSED\nDESCRIPTION:  Your inputs were analyzed, and no high cardinality features were detected.\n              Learn more about high cardinality feature handling: https://aka.ms/AutomatedMLFeaturization\n\n********************************************************************************************\n\n********************************************************************************************\nITER: The iteration being evaluated.\nPIPELINE: A summary description of the pipeline being evaluated.\nDURATION: Time taken for the current iteration.\nMETRIC: The result of computing score on the fitted pipeline.\nBEST: The best observed score thus far.\n********************************************************************************************\n\n ITER   PIPELINE                                       DURATION            METRIC      BEST\n    0   MaxAbsScaler LightGBM                          0:00:08             0.9067    0.9067\n    1   MaxAbsScaler XGBoostClassifier                 0:00:08             0.8886    0.9067\n    2   MaxAbsScaler ExtremeRandomTrees                0:00:08             0.8477    0.9067\n    3   MaxAbsScaler RandomForest                      0:00:08             0.9469    0.9469\n    4   StandardScalerWrapper LightGBM                 0:00:08             0.9146    0.9469\n    5   StandardScalerWrapper KNN                      0:00:08             0.5336    0.9469\n    6   SparseNormalizer XGBoostClassifier             0:00:08             0.8683    0.9469\n    7   SparseNormalizer RandomForest                  0:00:08             0.9214    0.9469\n    8   RobustScaler KNN                               0:00:09             0.8615    0.9469\n    9   MinMaxScaler RandomForest                      0:00:08             0.9469    0.9469\n   10   StandardScalerWrapper LogisticRegression       0:00:08             0.8508    0.9469\n   11   StandardScalerWrapper SVM                      0:00:08             0.7880    0.9469\n   12   StandardScalerWrapper XGBoostClassifier        0:00:08             0.8592    0.9469\n   13   SparseNormalizer KNN                           0:00:08             0.7174    0.9469\n   14   RobustScaler ExtremeRandomTrees                0:00:08             0.8819    0.9469\n   15   SparseNormalizer XGBoostClassifier             0:00:08             0.8502    0.9469\n   16   MinMaxScaler ExtremeRandomTrees                0:00:10             0.9050    0.9469\n   17   MinMaxScaler ExtremeRandomTrees                0:00:08             0.8751    0.9469\n   18   SparseNormalizer LightGBM                      0:00:10             0.8898    0.9469\n   19   MaxAbsScaler ExtremeRandomTrees                0:00:09             0.8717    0.9469\n   21   StandardScalerWrapper RandomForest             0:00:04             0.9251    0.9469\n   22   MaxAbsScaler LightGBM                          0:00:04             0.8903    0.9469\n   20   StandardScalerWrapper XGBoostClassifier        0:00:04             0.9271    0.9469\n   23   MaxAbsScaler LogisticRegression                0:00:04             0.8553    0.9469\n   24   MaxAbsScaler RandomForest                      0:00:04             0.9559    0.9559\n   25   StandardScalerWrapper ExtremeRandomTrees       0:00:04             0.9118    0.9559\n   26   RobustScaler ExtremeRandomTrees                0:00:04             0.8559    0.9559\n   27   MaxAbsScaler ExtremeRandomTrees                0:00:04             0.8745    0.9559\n   28   StandardScalerWrapper ExtremeRandomTrees       0:00:04             0.8773    0.9559\n   29   StandardScalerWrapper RandomForest             0:00:04             0.9333    0.9559\n   30   StandardScalerWrapper RandomForest             0:00:05             0.9316    0.9559\n   31   RobustScaler SVM                               0:00:04             0.8460    0.9559\n   32   StandardScalerWrapper SVM                      0:00:04             0.8479    0.9559\n   33   StandardScalerWrapper SVM                      0:00:04             0.8508    0.9559\n   34   RobustScaler SVM                               0:00:04             0.8847    0.9559\n   35   MinMaxScaler RandomForest                      0:00:04             0.8903    0.9559\n   36   MinMaxScaler RandomForest                      0:00:04             0.9169    0.9559\n   37   MaxAbsScaler RandomForest                      0:00:04             0.9406    0.9559\n   38   MaxAbsScaler RandomForest                      0:00:04             0.9503    0.9559\n   39                                                  0:00:00                nan    0.9559\n   40                                                  0:00:01                nan    0.9559\n   41                                                  0:00:00                nan    0.9559\n   42                                                  0:00:00                nan    0.9559\n   43    VotingEnsemble                                0:00:04             0.9582    0.9582\n   44    StackEnsemble                                 0:00:04             0.9525    0.9582\n"
        },
        {
          "output_type": "execute_result",
          "execution_count": 11,
          "data": {
            "text/plain": "{'runId': 'AutoML_23212e55-35dd-4e3e-80ac-4b38f66d122c',\n 'target': 'aml-cluster',\n 'status': 'Completed',\n 'startTimeUtc': '2022-03-28T22:41:11.210552Z',\n 'endTimeUtc': '2022-03-28T23:13:16.131886Z',\n 'services': {},\n 'warnings': [{'source': 'JasmineService',\n   'message': 'No scores improved over last 20 iterations, so experiment stopped early. This early stopping behavior can be disabled by setting enable_early_stopping = False in AutoMLConfig for notebook/python SDK runs.'}],\n 'properties': {'num_iterations': '1000',\n  'training_type': 'TrainFull',\n  'acquisition_function': 'EI',\n  'primary_metric': 'AUC_weighted',\n  'train_split': '0',\n  'acquisition_parameter': '0',\n  'num_cross_validation': None,\n  'target': 'aml-cluster',\n  'AMLSettingsJsonString': '{\"path\":null,\"name\":\"heart-automl-sdk\",\"subscription_id\":\"6eee9ed4-ef02-4ad0-bbbd-194153ad2069\",\"resource_group\":\"aml-resource\",\"workspace_name\":\"aml-workspace\",\"region\":\"westeurope\",\"compute_target\":\"aml-cluster\",\"spark_service\":null,\"azure_service\":\"remote\",\"many_models\":false,\"pipeline_fetch_max_batch_size\":1,\"enable_batch_run\":true,\"enable_run_restructure\":false,\"start_auxiliary_runs_before_parent_complete\":false,\"enable_code_generation\":false,\"iterations\":1000,\"primary_metric\":\"AUC_weighted\",\"task_type\":\"classification\",\"positive_label\":null,\"data_script\":null,\"test_size\":0.0,\"test_include_predictions_only\":false,\"validation_size\":0.0,\"n_cross_validations\":null,\"y_min\":null,\"y_max\":null,\"num_classes\":null,\"featurization\":\"auto\",\"_ignore_package_version_incompatibilities\":false,\"is_timeseries\":false,\"max_cores_per_iteration\":1,\"max_concurrent_iterations\":5,\"iteration_timeout_minutes\":null,\"mem_in_mb\":null,\"enforce_time_on_windows\":false,\"experiment_timeout_minutes\":30,\"experiment_exit_score\":null,\"whitelist_models\":null,\"blacklist_algos\":[\"TensorFlowLinearClassifier\",\"TensorFlowDNN\"],\"supported_models\":[\"LightGBM\",\"KNN\",\"GradientBoosting\",\"TabnetClassifier\",\"XGBoostClassifier\",\"AveragedPerceptronClassifier\",\"TensorFlowDNN\",\"TensorFlowLinearClassifier\",\"MultinomialNaiveBayes\",\"SGD\",\"ExtremeRandomTrees\",\"LogisticRegression\",\"LinearSVM\",\"DecisionTree\",\"RandomForest\",\"SVM\",\"BernoulliNaiveBayes\"],\"private_models\":[],\"auto_blacklist\":true,\"blacklist_samples_reached\":false,\"exclude_nan_labels\":true,\"verbosity\":20,\"_debug_log\":\"azureml_automl.log\",\"show_warnings\":false,\"model_explainability\":true,\"service_url\":null,\"sdk_url\":null,\"sdk_packages\":null,\"enable_onnx_compatible_models\":false,\"enable_split_onnx_featurizer_estimator_models\":false,\"vm_type\":\"STANDARD_DS11_V2\",\"telemetry_verbosity\":20,\"send_telemetry\":true,\"enable_dnn\":false,\"scenario\":\"SDK-1.13.0\",\"environment_label\":null,\"save_mlflow\":false,\"enable_categorical_indicators\":false,\"force_text_dnn\":false,\"enable_feature_sweeping\":true,\"enable_early_stopping\":true,\"early_stopping_n_iters\":10,\"arguments\":null,\"dataset_id\":\"e6c0750e-b28a-4607-b9bd-9bb5ba8afb82\",\"hyperdrive_config\":null,\"validation_dataset_id\":\"5ffcbe41-ceac-4a9b-ba54-000f0dfaf20e\",\"run_source\":null,\"metrics\":null,\"enable_metric_confidence\":false,\"enable_ensembling\":true,\"enable_stack_ensembling\":true,\"ensemble_iterations\":15,\"enable_tf\":false,\"enable_subsampling\":null,\"subsample_seed\":null,\"enable_nimbusml\":false,\"enable_streaming\":false,\"force_streaming\":false,\"track_child_runs\":true,\"allowed_private_models\":[],\"label_column_name\":\"DEATH_EVENT\",\"weight_column_name\":null,\"cv_split_column_names\":null,\"enable_local_managed\":false,\"_local_managed_run_id\":null,\"cost_mode\":1,\"lag_length\":0,\"metric_operation\":\"maximize\",\"preprocess\":true}',\n  'DataPrepJsonString': '{\\\\\"training_data\\\\\": {\\\\\"datasetId\\\\\": \\\\\"e6c0750e-b28a-4607-b9bd-9bb5ba8afb82\\\\\"}, \\\\\"validation_data\\\\\": {\\\\\"datasetId\\\\\": \\\\\"5ffcbe41-ceac-4a9b-ba54-000f0dfaf20e\\\\\"}, \\\\\"datasets\\\\\": 0}',\n  'EnableSubsampling': None,\n  'runTemplate': 'AutoML',\n  'azureml.runsource': 'automl',\n  'display_task_type': 'classification',\n  'dependencies_versions': '{\"azureml-widgets\": \"1.38.0\", \"azureml-train\": \"1.38.0\", \"azureml-train-restclients-hyperdrive\": \"1.38.0\", \"azureml-train-core\": \"1.38.0\", \"azureml-train-automl-client\": \"1.38.0\", \"azureml-tensorboard\": \"1.38.0\", \"azureml-telemetry\": \"1.38.0\", \"azureml-sdk\": \"1.38.0\", \"azureml-samples\": \"0+unknown\", \"azureml-responsibleai\": \"1.38.0\", \"azureml-pipeline\": \"1.38.0\", \"azureml-pipeline-steps\": \"1.38.0\", \"azureml-pipeline-core\": \"1.38.0\", \"azureml-opendatasets\": \"1.38.0\", \"azureml-mlflow\": \"1.38.0\", \"azureml-interpret\": \"1.38.0\", \"azureml-inference-server-http\": \"0.4.2\", \"azureml-explain-model\": \"1.38.0\", \"azureml-defaults\": \"1.38.0\", \"azureml-dataset-runtime\": \"1.38.0\", \"azureml-dataprep\": \"2.26.0\", \"azureml-dataprep-rslex\": \"2.2.0\", \"azureml-dataprep-native\": \"38.0.0\", \"azureml-datadrift\": \"1.38.0\", \"azureml-core\": \"1.38.0\", \"azureml-contrib-services\": \"1.38.0\", \"azureml-contrib-server\": \"1.38.0\", \"azureml-contrib-reinforcementlearning\": \"1.38.0\", \"azureml-contrib-pipeline-steps\": \"1.38.0\", \"azureml-contrib-notebook\": \"1.38.0\", \"azureml-contrib-fairness\": \"1.38.0\", \"azureml-contrib-dataset\": \"1.38.0\", \"azureml-cli-common\": \"1.38.0\", \"azureml-automl-core\": \"1.38.0\", \"azureml-accel-models\": \"1.38.0\"}',\n  '_aml_system_scenario_identification': 'Remote.Parent',\n  'ClientType': 'SDK',\n  'environment_cpu_name': 'AzureML-AutoML',\n  'environment_cpu_label': 'py36',\n  'environment_gpu_name': 'AzureML-AutoML-GPU',\n  'environment_gpu_label': 'py36',\n  'root_attribution': 'automl',\n  'attribution': 'AutoML',\n  'Orchestrator': 'AutoML',\n  'CancelUri': 'https://westeurope.api.azureml.ms/jasmine/v1.0/subscriptions/6eee9ed4-ef02-4ad0-bbbd-194153ad2069/resourceGroups/aml-resource/providers/Microsoft.MachineLearningServices/workspaces/aml-workspace/experimentids/99c73383-d161-4f72-93e1-02b59a5f9652/cancel/AutoML_23212e55-35dd-4e3e-80ac-4b38f66d122c',\n  'azureml.git.repository_uri': 'https://github.com/udacity/nd00333-capstone.git',\n  'mlflow.source.git.repoURL': 'https://github.com/udacity/nd00333-capstone.git',\n  'azureml.git.branch': 'master',\n  'mlflow.source.git.branch': 'master',\n  'azureml.git.commit': 'bda4bde975c124b07c3ad34e75a1d52e292276d3',\n  'mlflow.source.git.commit': 'bda4bde975c124b07c3ad34e75a1d52e292276d3',\n  'azureml.git.dirty': 'False',\n  'ClientSdkVersion': '1.38.0',\n  'snapshotId': '00000000-0000-0000-0000-000000000000',\n  'SetupRunId': 'AutoML_23212e55-35dd-4e3e-80ac-4b38f66d122c_setup',\n  'SetupRunContainerId': 'dcid.AutoML_23212e55-35dd-4e3e-80ac-4b38f66d122c_setup',\n  'FeaturizationRunJsonPath': 'featurizer_container.json',\n  'FeaturizationRunId': 'AutoML_23212e55-35dd-4e3e-80ac-4b38f66d122c_featurize',\n  'ProblemInfoJsonString': '{\"dataset_num_categorical\": 0, \"is_sparse\": false, \"subsampling\": false, \"has_extra_col\": true, \"dataset_classes\": 2, \"dataset_features\": 12, \"dataset_samples\": 209, \"single_frequency_class_detected\": false}',\n  'ModelExplainRunId': 'AutoML_23212e55-35dd-4e3e-80ac-4b38f66d122c_ModelExplain'},\n 'inputDatasets': [{'dataset': {'id': 'e6c0750e-b28a-4607-b9bd-9bb5ba8afb82'}, 'consumptionDetails': {'type': 'RunInput', 'inputName': 'training_data', 'mechanism': 'Direct'}}, {'dataset': {'id': '5ffcbe41-ceac-4a9b-ba54-000f0dfaf20e'}, 'consumptionDetails': {'type': 'RunInput', 'inputName': 'validation_data', 'mechanism': 'Direct'}}],\n 'outputDatasets': [],\n 'logFiles': {},\n 'submittedBy': 'Diego uchendu'}"
          },
          "metadata": {}
        }
      ],
      "execution_count": 11,
      "metadata": {
        "jupyter": {
          "source_hidden": false,
          "outputs_hidden": false
        },
        "nteract": {
          "transient": {
            "deleting": false
          }
        },
        "gather": {
          "logged": 1648509213646
        }
      }
    },
    {
      "cell_type": "markdown",
      "source": [
        "## Best Model\n",
        "\n",
        "TODO: In the cell below, get the best model from the automl experiments and display all the properties of the model.\n",
        "\n"
      ],
      "metadata": {}
    },
    {
      "cell_type": "code",
      "source": [
        "'''\n",
        "for run in automl_run.get_children():\n",
        "    print('Run ID', run.id)\n",
        "    for metric in run.get_metrics():\n",
        "        print('\\t', run.get_metrics(metric))\n",
        "'''"
      ],
      "outputs": [],
      "execution_count": null,
      "metadata": {
        "gather": {
          "logged": 1598431425670
        },
        "jupyter": {
          "outputs_hidden": false,
          "source_hidden": false
        },
        "nteract": {
          "transient": {
            "deleting": false
          }
        }
      }
    },
    {
      "cell_type": "code",
      "source": [
        "# Get the best run, and its metrics and arguments\n",
        "best_run,fitted_model= remote_run.get_output()\n",
        "best_run_metrics = best_run.get_metrics()\n",
        "script_arguments = best_run.get_details() ['runDefinition']['arguments']\n",
        "print('Best Run Id: ', best_run.id)\n",
        "print(' -AUC:', best_run_metrics['AUC_weighted'])\n",
        "print(' -Accuracy:', best_run_metrics['accuracy'])\n",
        "print(' -Arguments:',script_arguments)"
      ],
      "outputs": [
        {
          "output_type": "stream",
          "name": "stderr",
          "text": "WARNING:root:The model you attempted to retrieve requires 'azureml-train-automl-runtime' to be installed at '==1.38.0'. Please install 'azureml-train-automl-runtime==1.38.0' (e.g. `pip install azureml-train-automl-runtime==1.38.0`) and then rerun the previous command.\n"
        },
        {
          "output_type": "stream",
          "name": "stdout",
          "text": "Best Run Id:  AutoML_23212e55-35dd-4e3e-80ac-4b38f66d122c_43\n -AUC: 0.958168456755229\n -Accuracy: 0.8888888888888888\n -Arguments: []\n"
        }
      ],
      "execution_count": 12,
      "metadata": {
        "jupyter": {
          "source_hidden": false,
          "outputs_hidden": false
        },
        "nteract": {
          "transient": {
            "deleting": false
          }
        },
        "gather": {
          "logged": 1648509236842
        }
      }
    },
    {
      "cell_type": "code",
      "source": [
        "best_run, fitted_model = remote_run.get_output()\n",
        "print(best_run)\n",
        "print('\\nBest Model Definition:')\n",
        "print(fitted_model)\n",
        "print('\\nBest Run Transformations:')\n",
        "for step in fitted_model.named_steps:\n",
        "    print(step)\n",
        "print('\\nBest Run Metrics:')\n",
        "best_run_metrics = best_run.get_metrics()\n",
        "for metric_name in best_run_metrics:\n",
        "    metric = best_run_metrics[metric_name]\n",
        "    print(metric_name, metric)"
      ],
      "outputs": [
        {
          "output_type": "stream",
          "name": "stdout",
          "text": "Run(Experiment: heart-automl-sdk,\nId: AutoML_23212e55-35dd-4e3e-80ac-4b38f66d122c_43,\nType: azureml.scriptrun,\nStatus: Completed)\n\nBest Model Definition:\nNone\n\nBest Run Transformations:\n"
        },
        {
          "output_type": "error",
          "ename": "AttributeError",
          "evalue": "'NoneType' object has no attribute 'named_steps'",
          "traceback": [
            "\u001b[0;31m---------------------------------------------------------------------------\u001b[0m",
            "\u001b[0;31mAttributeError\u001b[0m                            Traceback (most recent call last)",
            "Input \u001b[0;32mIn [14]\u001b[0m, in \u001b[0;36m<module>\u001b[0;34m\u001b[0m\n\u001b[1;32m      4\u001b[0m \u001b[38;5;28mprint\u001b[39m(fitted_model)\n\u001b[1;32m      5\u001b[0m \u001b[38;5;28mprint\u001b[39m(\u001b[38;5;124m'\u001b[39m\u001b[38;5;130;01m\\n\u001b[39;00m\u001b[38;5;124mBest Run Transformations:\u001b[39m\u001b[38;5;124m'\u001b[39m)\n\u001b[0;32m----> 6\u001b[0m \u001b[38;5;28;01mfor\u001b[39;00m step \u001b[38;5;129;01min\u001b[39;00m \u001b[43mfitted_model\u001b[49m\u001b[38;5;241;43m.\u001b[39;49m\u001b[43mnamed_steps\u001b[49m:\n\u001b[1;32m      7\u001b[0m     \u001b[38;5;28mprint\u001b[39m(step)\n\u001b[1;32m      8\u001b[0m \u001b[38;5;28mprint\u001b[39m(\u001b[38;5;124m'\u001b[39m\u001b[38;5;130;01m\\n\u001b[39;00m\u001b[38;5;124mBest Run Metrics:\u001b[39m\u001b[38;5;124m'\u001b[39m)\n",
            "\u001b[0;31mAttributeError\u001b[0m: 'NoneType' object has no attribute 'named_steps'"
          ]
        },
        {
          "output_type": "stream",
          "name": "stderr",
          "text": "WARNING:root:The model you attempted to retrieve requires 'azureml-train-automl-runtime' to be installed at '==1.38.0'. Please install 'azureml-train-automl-runtime==1.38.0' (e.g. `pip install azureml-train-automl-runtime==1.38.0`) and then rerun the previous command.\n"
        }
      ],
      "execution_count": 14,
      "metadata": {
        "jupyter": {
          "source_hidden": false,
          "outputs_hidden": false
        },
        "nteract": {
          "transient": {
            "deleting": false
          }
        },
        "gather": {
          "logged": 1648495685481
        }
      }
    },
    {
      "cell_type": "code",
      "source": [
        "import joblib\r\n",
        "import os\r\n",
        "from azureml.core import Model\r\n",
        "#model = ws.models['AutoML_heart_model']\r\n",
        "#print(model.name, 'version', model.version)\r\n",
        "\r\n",
        "# Save the trained model\r\n",
        "model_file = 'heart_model.pkl'\r\n",
        "joblib.dump(value=Model, filename=model_file)\r\n",
        "remote_run.upload_file(name = 'outputs/' + model_file, path_or_stream = './' + model_file)\r\n"
      ],
      "outputs": [
        {
          "output_type": "execute_result",
          "execution_count": 16,
          "data": {
            "text/plain": "<azureml._restclient.models.batch_artifact_content_information_dto.BatchArtifactContentInformationDto at 0x7fb2a5725610>"
          },
          "metadata": {}
        }
      ],
      "execution_count": 16,
      "metadata": {
        "jupyter": {
          "source_hidden": false,
          "outputs_hidden": false
        },
        "nteract": {
          "transient": {
            "deleting": false
          }
        },
        "gather": {
          "logged": 1648509834984
        }
      }
    },
    {
      "cell_type": "code",
      "source": [
        "'''\r\n",
        "import joblib\r\n",
        "import os\r\n",
        "\r\n",
        "from azureml.core import Model\r\n",
        "# Save the trained model in the outputs folder\r\n",
        "os.makedirs('outputs', exist_ok=True)\r\n",
        "joblib.dump(value=Model, filename='outputs/AutoML_heart_model.pkl')\r\n",
        "'''"
      ],
      "outputs": [
        {
          "output_type": "execute_result",
          "execution_count": 28,
          "data": {
            "text/plain": "['outputs/AutoML_heart_model.pkl']"
          },
          "metadata": {}
        }
      ],
      "execution_count": 28,
      "metadata": {
        "jupyter": {
          "source_hidden": false,
          "outputs_hidden": false
        },
        "nteract": {
          "transient": {
            "deleting": false
          }
        },
        "gather": {
          "logged": 1648416613811
        }
      }
    },
    {
      "cell_type": "code",
      "source": [
        "#best_run.properties['model_name']"
      ],
      "outputs": [
        {
          "output_type": "execute_result",
          "execution_count": 18,
          "data": {
            "text/plain": "'AutoML6c8cea2b343'"
          },
          "metadata": {}
        }
      ],
      "execution_count": 18,
      "metadata": {
        "jupyter": {
          "source_hidden": false,
          "outputs_hidden": false
        },
        "nteract": {
          "transient": {
            "deleting": false
          }
        },
        "gather": {
          "logged": 1648413735328
        }
      }
    },
    {
      "cell_type": "code",
      "source": [
        "#TODO: Save the best model\r\n",
        "\r\n",
        "from azureml.core import Model\r\n",
        "\r\n",
        "#model_path='outputs/AutoML_heart_model.pkl', properties={'AUC': best_run_metrics['AUC_weighted'], 'Accuracy': best_run_metrics['accuracy']}\r\n",
        "# Register model\r\n",
        "#remote_run.register_model(model_name='AutoML_heart_model',\r\n",
        "#                        tags={'Training context':'Auto ML'})\r\n",
        "\r\n",
        "\r\n",
        "remote_run.register_model(model_name='AutoML_heart_model',\r\n",
        "                        tags={'Training context':'AutoML'}\r\n",
        "                        )\r\n",
        "\r\n",
        "\r\n",
        "'''\r\n",
        "best_run.register_model(model_path='./', model_name='AutoML_heart_model',\r\n",
        "                        tags={'Training context':'AutoML'},\r\n",
        "                        properties={'AUC': best_run_metrics['AUC_weighted'], 'Accuracy': best_run_metrics['accuracy']})\r\n",
        "'''\r\n",
        "print('Model registered')"
      ],
      "outputs": [
        {
          "output_type": "stream",
          "name": "stdout",
          "text": "Model registered\n"
        }
      ],
      "execution_count": 33,
      "metadata": {
        "gather": {
          "logged": 1648513014104
        },
        "jupyter": {
          "outputs_hidden": false,
          "source_hidden": false
        },
        "nteract": {
          "transient": {
            "deleting": false
          }
        }
      }
    },
    {
      "cell_type": "code",
      "source": [
        "from azureml.core import Model\r\n",
        "\r\n",
        "# List registered models\r\n",
        "for model in Model.list(ws):\r\n",
        "    print(model.name, 'version:', model.version)\r\n",
        "    for tag_name in model.tags:\r\n",
        "        tag = model.tags[tag_name]\r\n",
        "        print ('\\t',tag_name, ':', tag)\r\n",
        "    for prop_name in model.properties:\r\n",
        "        prop = model.properties[prop_name]\r\n",
        "        print ('\\t',prop_name, ':', prop)\r\n",
        "    print('\\n')"
      ],
      "outputs": [
        {
          "output_type": "stream",
          "name": "stdout",
          "text": "AutoML_heart_model version: 2\n\t Training context : AutoML\n\t AUC : 0.958168456755229\n\t Accuracy : 0.8888888888888888\n\n\n"
        }
      ],
      "execution_count": 25,
      "metadata": {
        "jupyter": {
          "source_hidden": false,
          "outputs_hidden": false
        },
        "nteract": {
          "transient": {
            "deleting": false
          }
        },
        "gather": {
          "logged": 1648511015970
        }
      }
    },
    {
      "cell_type": "markdown",
      "source": [
        "## Model Deployment\n",
        "\n",
        "Remember you have to deploy only one of the two models you trained but you still need to register both the models. Perform the steps in the rest of this notebook only if you wish to deploy this model.\n",
        "\n",
        "TODO: In the cell below, register the model, create an inference config and deploy the model as a web service."
      ],
      "metadata": {}
    },
    {
      "cell_type": "code",
      "source": [
        "model = ws.models['AutoML_heart_model']\r\n",
        "print(model.name, 'version', model.version)"
      ],
      "outputs": [
        {
          "output_type": "stream",
          "name": "stdout",
          "text": "AutoML_heart_model version 3\n"
        }
      ],
      "execution_count": 34,
      "metadata": {
        "gather": {
          "logged": 1648513036488
        },
        "jupyter": {
          "outputs_hidden": false,
          "source_hidden": false
        },
        "nteract": {
          "transient": {
            "deleting": false
          }
        }
      }
    },
    {
      "cell_type": "code",
      "source": [
        "#print(model.name)"
      ],
      "outputs": [
        {
          "output_type": "stream",
          "name": "stdout",
          "text": "AutoML_heart_model\n"
        }
      ],
      "execution_count": 33,
      "metadata": {
        "jupyter": {
          "source_hidden": false,
          "outputs_hidden": false
        },
        "nteract": {
          "transient": {
            "deleting": false
          }
        },
        "gather": {
          "logged": 1648495815179
        }
      }
    },
    {
      "cell_type": "markdown",
      "source": [
        "Create a folder for configuration files"
      ],
      "metadata": {
        "nteract": {
          "transient": {
            "deleting": false
          }
        }
      }
    },
    {
      "cell_type": "code",
      "source": [
        "import os\r\n",
        "\r\n",
        "folder_name = 'heart_service'\r\n",
        "\r\n",
        "# Create a folder for the web service files\r\n",
        "experiment_folder = './' + folder_name\r\n",
        "os.makedirs(folder_name, exist_ok=True)\r\n",
        "\r\n",
        "print(folder_name, 'folder created.')"
      ],
      "outputs": [
        {
          "output_type": "stream",
          "name": "stdout",
          "text": "./heart_service folder created.\n"
        }
      ],
      "execution_count": 34,
      "metadata": {
        "jupyter": {
          "source_hidden": false,
          "outputs_hidden": false
        },
        "nteract": {
          "transient": {
            "deleting": false
          }
        },
        "gather": {
          "logged": 1648495830203
        }
      }
    },
    {
      "cell_type": "code",
      "source": [
        "%%writefile $folder_name/score_heart.py\r\n",
        "import json\r\n",
        "import joblib\r\n",
        "import numpy as np\r\n",
        "#import os\r\n",
        "from azureml.core.model import Model\r\n",
        "\r\n",
        "# Called when the service is loaded\r\n",
        "def init():\r\n",
        "    global model\r\n",
        "    # Get the path to the deployed model file and load it\r\n",
        "    #model_path = os.path.join(os.getenv('AZUREML_MODEL_DIR'), 'heart_model.pkl')\r\n",
        "    model_path=Model.get_model_path('AutoML_heart_model')\r\n",
        "    model = joblib.load(model_path)\r\n",
        "\r\n",
        "# Called when a request is received\r\n",
        "def run(raw_data):\r\n",
        "    # Get the input data as a numpy array\r\n",
        "    data = np.array(json.loads(raw_data)['data'])\r\n",
        "    # Get a prediction from the model\r\n",
        "    predictions = model.predict(data)\r\n",
        "    # Get the corresponding classname for each prediction (0 or 1)\r\n",
        "    classnames = [1, 0]\r\n",
        "    predicted_classes = []\r\n",
        "    for prediction in predictions:\r\n",
        "        predicted_classes.append(classnames[prediction])\r\n",
        "    # Return the predictions as JSON\r\n",
        "    return json.dumps(predicted_classes)"
      ],
      "outputs": [
        {
          "output_type": "stream",
          "name": "stdout",
          "text": "Overwriting training/score_heart.py\n"
        }
      ],
      "execution_count": 35,
      "metadata": {
        "jupyter": {
          "source_hidden": false,
          "outputs_hidden": false
        },
        "nteract": {
          "transient": {
            "deleting": false
          }
        }
      }
    },
    {
      "cell_type": "code",
      "source": [
        "\r\n",
        "'''\r\n",
        "from azureml.core import Environment\r\n",
        "from azureml.core.model import InferenceConfig\r\n",
        "from azureml.core.webservice import AciWebservice\r\n",
        "\r\n",
        "# Configure the scoring environment\r\n",
        "service_env = Environment(name='service-env')\r\n",
        "python_packages = ['scikit-learn', 'azureml-defaults', 'azure-ml-api-sdk']\r\n",
        "for package in python_packages:\r\n",
        "    service_env.python.conda_dependencies.add_pip_package(package)\r\n",
        "inference_config = InferenceConfig(source_directory=deployment_folder,\r\n",
        "                                   entry_script=script_file,\r\n",
        "                                   environment=service_env)\r\n",
        "\r\n",
        "# Configure the web service container\r\n",
        "deployment_config = AciWebservice.deploy_configuration(cpu_cores=1, memory_gb=1)\r\n",
        "\r\n",
        "# Deploy the model as a service\r\n",
        "print('Deploying model...')\r\n",
        "service_name = \"heart-service\"\r\n",
        "service = Model.deploy(ws, service_name, [model], inference_config, deployment_config, overwrite=True)\r\n",
        "service.wait_for_deployment(True)\r\n",
        "print(service.state)\r\n",
        "'''\r\n",
        "\r\n"
      ],
      "outputs": [
        {
          "output_type": "execute_result",
          "execution_count": 1,
          "data": {
            "text/plain": "'\\nfrom azureml.core import Environment\\nfrom azureml.core.model import InferenceConfig\\nfrom azureml.core.webservice import AciWebservice\\n\\n# Configure the scoring environment\\nservice_env = Environment(name=\\'service-env\\')\\npython_packages = [\\'scikit-learn\\', \\'azureml-defaults\\', \\'azure-ml-api-sdk\\']\\nfor package in python_packages:\\n    service_env.python.conda_dependencies.add_pip_package(package)\\ninference_config = InferenceConfig(source_directory=deployment_folder,\\n                                   entry_script=script_file,\\n                                   environment=service_env)\\n\\n# Configure the web service container\\ndeployment_config = AciWebservice.deploy_configuration(cpu_cores=1, memory_gb=1)\\n\\n# Deploy the model as a service\\nprint(\\'Deploying model...\\')\\nservice_name = \"heart-service\"\\nservice = Model.deploy(ws, service_name, [model], inference_config, deployment_config, overwrite=True)\\nservice.wait_for_deployment(True)\\nprint(service.state)\\n'"
          },
          "metadata": {}
        }
      ],
      "execution_count": 1,
      "metadata": {
        "jupyter": {
          "source_hidden": false,
          "outputs_hidden": false
        },
        "nteract": {
          "transient": {
            "deleting": false
          }
        },
        "gather": {
          "logged": 1648486312242
        }
      }
    },
    {
      "cell_type": "code",
      "source": [
        "from azureml.core.conda_dependencies import CondaDependencies \r\n",
        "\r\n",
        "# Add the dependencies for our model (AzureML defaults is already included)\r\n",
        "myenv = CondaDependencies()\r\n",
        "myenv.add_conda_package(\"scikit-learn\")\r\n",
        "\r\n",
        "# Save the environment config as a .yml file\r\n",
        "env_file = folder_name + \"/heart_env.yml\"\r\n",
        "with open(env_file,\"w\") as f:\r\n",
        "    f.write(myenv.serialize_to_string())\r\n",
        "print(\"Saved dependency info in\", env_file)\r\n",
        "\r\n",
        "# Print the .yml file\r\n",
        "with open(env_file,\"r\") as f:\r\n",
        "    print(f.read())"
      ],
      "outputs": [
        {
          "output_type": "stream",
          "name": "stdout",
          "text": "Saved dependency info in training/heart_env.yml\n# Conda environment specification. The dependencies defined in this file will\n# be automatically provisioned for runs with userManagedDependencies=False.\n\n# Details about the Conda environment file format:\n# https://conda.io/docs/user-guide/tasks/manage-environments.html#create-env-file-manually\n\nname: project_environment\ndependencies:\n  # The python interpreter version.\n  # Currently Azure ML only supports 3.5.2 and later.\n- python=3.6.2\n\n- pip:\n    # Required packages for AzureML execution, history, and data preparation.\n  - azureml-defaults\n\n- scikit-learn\nchannels:\n- anaconda\n- conda-forge\n\n"
        }
      ],
      "execution_count": 28,
      "metadata": {
        "jupyter": {
          "source_hidden": false,
          "outputs_hidden": false
        },
        "nteract": {
          "transient": {
            "deleting": false
          }
        },
        "gather": {
          "logged": 1648511432406
        }
      }
    },
    {
      "cell_type": "code",
      "source": [
        "from azureml.core.webservice import AciWebservice\r\n",
        "from azureml.core.model import InferenceConfig\r\n",
        "from azureml.core.model import Model\r\n",
        "\r\n",
        "\r\n",
        "# Configure the scoring environment\r\n",
        "inference_config = InferenceConfig(environment=best_run.get_environment(),  #runtime= \"python\",\r\n",
        "                                   source_directory = folder_name,\r\n",
        "                                   entry_script=\"score_heart.py\")\r\n",
        "                                   #conda_file=\"heart_env.yml\")\r\n",
        "\r\n",
        "deployment_config = AciWebservice.deploy_configuration(cpu_cores = 2, memory_gb = 4)\r\n",
        "\r\n",
        "service_name = \"heart-service\"\r\n",
        "\r\n",
        "service = Model.deploy(ws, service_name, [model], inference_config, deployment_config)\r\n",
        "\r\n",
        "service.wait_for_deployment(True)\r\n",
        "print(service.state)"
      ],
      "outputs": [
        {
          "output_type": "stream",
          "name": "stdout",
          "text": "Tips: You can try get_logs(): https://aka.ms/debugimage#dockerlog or local deployment: https://aka.ms/debugimage#debug-locally to debug if deployment takes longer than 10 minutes.\nRunning\n2022-03-29 00:18:49+00:00 Creating Container Registry if not exists.\n2022-03-29 00:18:49+00:00 Registering the environment.\n2022-03-29 00:18:49+00:00 Use the existing image.\n2022-03-29 00:18:49+00:00 Generating deployment configuration.\n2022-03-29 00:18:51+00:00 Submitting deployment to compute.\n2022-03-29 00:18:56+00:00 Checking the status of deployment heart-service..\n2022-03-29 00:21:52+00:00 Checking the status of inference endpoint heart-service.\nSucceeded\nACI service creation operation finished, operation \"Succeeded\"\nHealthy\n"
        }
      ],
      "execution_count": 36,
      "metadata": {
        "jupyter": {
          "source_hidden": false,
          "outputs_hidden": false
        },
        "nteract": {
          "transient": {
            "deleting": false
          }
        },
        "gather": {
          "logged": 1648513316363
        }
      }
    },
    {
      "cell_type": "code",
      "source": [
        "endpoint = service.scoring_uri\r\n",
        "#print(endpoint)"
      ],
      "outputs": [],
      "execution_count": 37,
      "metadata": {
        "jupyter": {
          "source_hidden": false,
          "outputs_hidden": false
        },
        "nteract": {
          "transient": {
            "deleting": false
          }
        },
        "gather": {
          "logged": 1648513688124
        }
      }
    },
    {
      "cell_type": "code",
      "source": [
        "print(service.get_logs())\r\n",
        "\r\n",
        "# If you need to make a change and redeploy, you may need to delete unhealthy service using the following code:\r\n",
        "#service.delete()"
      ],
      "outputs": [
        {
          "output_type": "stream",
          "name": "stdout",
          "text": "\n"
        }
      ],
      "execution_count": 16,
      "metadata": {
        "jupyter": {
          "source_hidden": false,
          "outputs_hidden": false
        },
        "nteract": {
          "transient": {
            "deleting": false
          }
        },
        "gather": {
          "logged": 1648492490291
        }
      }
    },
    {
      "cell_type": "markdown",
      "source": [
        "TODO: In the cell below, send a request to the web service you deployed to test it."
      ],
      "metadata": {
        "collapsed": true,
        "gather": {
          "logged": 1598431657736
        },
        "jupyter": {
          "outputs_hidden": false,
          "source_hidden": false
        },
        "nteract": {
          "transient": {
            "deleting": false
          }
        }
      }
    },
    {
      "cell_type": "code",
      "source": [
        "np.array(train_ds.to_pandas_dataframe().iloc[0:3,0:12]).tolist()"
      ],
      "outputs": [
        {
          "output_type": "execute_result",
          "execution_count": 55,
          "data": {
            "text/plain": "[[55.0, 0.0, 7861.0, 0.0, 38.0, 0.0, 263358.03, 1.1, 136.0, 1.0, 0.0, 6.0],\n [65.0, 0.0, 146.0, 0.0, 20.0, 0.0, 162000.0, 1.3, 129.0, 1.0, 1.0, 7.0],\n [65.0, 1.0, 160.0, 1.0, 20.0, 0.0, 327000.0, 2.7, 116.0, 0.0, 0.0, 8.0]]"
          },
          "metadata": {}
        }
      ],
      "execution_count": 55,
      "metadata": {
        "jupyter": {
          "source_hidden": false,
          "outputs_hidden": false
        },
        "nteract": {
          "transient": {
            "deleting": false
          }
        },
        "gather": {
          "logged": 1648514489632
        }
      }
    },
    {
      "cell_type": "code",
      "source": [
        "import requests\r\n",
        "import json\r\n",
        "\r\n",
        "x_new = np.array(train_ds.to_pandas_dataframe().iloc[0:3,0:12]).tolist() #[[2,180,74,24,21,23.9091702,1.488172308,22],\r\n",
        "         #[0,148,58,11,179,39.19207553,0.160829008,45]]\r\n",
        "\r\n",
        "# Convert the array to a serializable list in a JSON document\r\n",
        "input_json = json.dumps({\"data\": x_new})\r\n",
        "\r\n",
        "# Set the content type\r\n",
        "headers = { 'Content-Type':'application/json' }\r\n",
        "\r\n",
        "predictions = requests.post(endpoint, input_json, headers = headers)\r\n",
        "print(predictions)\r\n",
        "'''\r\n",
        "predicted_classes = json.loads(predictions.json())\r\n",
        "\r\n",
        "for i in range(len(x_new)):\r\n",
        "    print (\"Patient {}\".format(x_new[i]), predicted_classes[i] )\r\n",
        "'''"
      ],
      "outputs": [
        {
          "output_type": "stream",
          "name": "stdout",
          "text": "<Response [502]>\n"
        },
        {
          "output_type": "execute_result",
          "execution_count": 57,
          "data": {
            "text/plain": "'\\npredicted_classes = json.loads(predictions.json())\\n\\nfor i in range(len(x_new)):\\n    print (\"Patient {}\".format(x_new[i]), predicted_classes[i] )\\n'"
          },
          "metadata": {}
        }
      ],
      "execution_count": 57,
      "metadata": {
        "gather": {
          "logged": 1648514876192
        },
        "jupyter": {
          "outputs_hidden": false,
          "source_hidden": false
        },
        "nteract": {
          "transient": {
            "deleting": false
          }
        }
      }
    },
    {
      "cell_type": "markdown",
      "source": [
        "TODO: In the cell below, print the logs of the web service and delete the service"
      ],
      "metadata": {
        "collapsed": true,
        "gather": {
          "logged": 1598432765711
        },
        "jupyter": {
          "outputs_hidden": false,
          "source_hidden": false
        },
        "nteract": {
          "transient": {
            "deleting": false
          }
        }
      }
    },
    {
      "cell_type": "code",
      "source": [],
      "outputs": [],
      "execution_count": null,
      "metadata": {
        "jupyter": {
          "outputs_hidden": false,
          "source_hidden": false
        },
        "nteract": {
          "transient": {
            "deleting": false
          }
        }
      }
    },
    {
      "cell_type": "markdown",
      "source": [
        "**Submission Checklist**\n",
        "- I have registered the model.\n",
        "- I have deployed the model with the best accuracy as a webservice.\n",
        "- I have tested the webservice by sending a request to the model endpoint.\n",
        "- I have deleted the webservice and shutdown all the computes that I have used.\n",
        "- I have taken a screenshot showing the model endpoint as active.\n",
        "- The project includes a file containing the environment details.\n"
      ],
      "metadata": {}
    },
    {
      "cell_type": "markdown",
      "source": [],
      "metadata": {}
    }
  ],
  "metadata": {
    "kernel_info": {
      "name": "python3"
    },
    "kernelspec": {
      "name": "python3",
      "language": "python",
      "display_name": "Python 3"
    },
    "language_info": {
      "name": "python",
      "version": "3.8.1",
      "mimetype": "text/x-python",
      "codemirror_mode": {
        "name": "ipython",
        "version": 3
      },
      "pygments_lexer": "ipython3",
      "nbconvert_exporter": "python",
      "file_extension": ".py"
    },
    "nteract": {
      "version": "nteract-front-end@1.0.0"
    },
    "microsoft": {
      "host": {
        "AzureML": {
          "notebookHasBeenCompleted": true
        }
      }
    }
  },
  "nbformat": 4,
  "nbformat_minor": 2
}