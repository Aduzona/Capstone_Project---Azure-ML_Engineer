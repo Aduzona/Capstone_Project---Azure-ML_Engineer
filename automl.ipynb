{
  "cells": [
    {
      "cell_type": "markdown",
      "source": [
        "# Automated ML\n",
        "\n",
        "TODO: Import Dependencies. In the cell below, import all the dependencies that you will need to complete the project."
      ],
      "metadata": {}
    },
    {
      "cell_type": "code",
      "source": [
        "import logging\n",
        "import os\n",
        "import csv\n",
        "\n",
        "from matplotlib import pyplot as plt\n",
        "import numpy as np\n",
        "import pandas as pd\n",
        "from sklearn import datasets\n",
        "import pkg_resources\n",
        "\n",
        "import azureml.core\n",
        "from azureml.core.experiment import Experiment\n",
        "from azureml.core.workspace import Workspace\n",
        "from azureml.train.automl import AutoMLConfig\n",
        "from azureml.core.dataset import Dataset\n",
        "from azureml.widgets import RunDetails\n",
        "\n",
        "#from azureml.pipeline.steps import AutoMLStep\n",
        "\n",
        "# Check core SDK version number\n",
        "print(\"SDK version:\", azureml.core.VERSION)"
      ],
      "outputs": [
        {
          "output_type": "stream",
          "name": "stdout",
          "text": "SDK version: 1.39.0\n"
        }
      ],
      "execution_count": 1,
      "metadata": {
        "gather": {
          "logged": 1649100958642
        },
        "jupyter": {
          "outputs_hidden": false,
          "source_hidden": false
        },
        "nteract": {
          "transient": {
            "deleting": false
          }
        }
      }
    },
    {
      "cell_type": "markdown",
      "source": [
        "## Dataset\n",
        "\n",
        "### Overview\n",
        "TODO: In this markdown cell, give an overview of the dataset you are using. Also mention the task you will be performing.\n",
        "\n",
        "\n",
        "TODO: Get data. In the cell below, write code to access the data you will be using in this project. Remember that the dataset needs to be external."
      ],
      "metadata": {}
    },
    {
      "cell_type": "code",
      "source": [
        "ws = Workspace.from_config()\n",
        "\n",
        "# choose a name for experiment\n",
        "experiment_name = 'automl_heart_failure_exp'\n",
        "\n",
        "experiment=Experiment(ws, experiment_name)"
      ],
      "outputs": [],
      "execution_count": 2,
      "metadata": {
        "gather": {
          "logged": 1649100966811
        },
        "jupyter": {
          "outputs_hidden": false,
          "source_hidden": false
        },
        "nteract": {
          "transient": {
            "deleting": false
          }
        }
      }
    },
    {
      "cell_type": "markdown",
      "source": [
        "## Dataset"
      ],
      "metadata": {
        "nteract": {
          "transient": {
            "deleting": false
          }
        }
      }
    },
    {
      "cell_type": "code",
      "source": [
        "default_ds = ws.get_default_datastore()\n",
        "\n",
        "if 'Heart Failure' not in ws.datasets:\n",
        "    default_ds.upload_files(files=['./heart_failure_clinical_records_dataset.csv'], # Upload the diabetes csv files in /data\n",
        "                        target_path='data/', # Put it in a folder path in the datastore\n",
        "                        overwrite=True, # Replace existing files of the same name\n",
        "                        show_progress=True)\n",
        "\n",
        "    #Create a tabular dataset from the path on the datastore (this may take a short while)\n",
        "    tab_data_set = Dataset.Tabular.from_delimited_files(path=(default_ds, 'data/*.csv'))\n",
        "\n",
        "    # Register the tabular dataset\n",
        "    try:\n",
        "        tab_data_set = tab_data_set.register(workspace=ws, \n",
        "                                name='Heart Failure',\n",
        "                                description='Clinic data',\n",
        "                                tags = {'format':'CSV'},\n",
        "                                create_new_version=True)\n",
        "        print('Dataset registered.')\n",
        "    except Exception as ex:\n",
        "        print(ex)\n",
        "else:\n",
        "    print('Dataset already registered.')"
      ],
      "outputs": [
        {
          "output_type": "stream",
          "name": "stdout",
          "text": "Dataset already registered.\n"
        }
      ],
      "execution_count": 3,
      "metadata": {
        "gather": {
          "logged": 1649100971925
        },
        "jupyter": {
          "outputs_hidden": false,
          "source_hidden": false
        },
        "nteract": {
          "transient": {
            "deleting": false
          }
        }
      }
    },
    {
      "cell_type": "code",
      "source": [
        "#folder name created in hyperdrive\n",
        "#import os, shutil\n",
        "\n",
        "# Create a folder for the experiment files\n",
        "folder_name = 'training'\n",
        "experiment_folder = './' + folder_name\n",
        "os.makedirs(folder_name, exist_ok=True)"
      ],
      "outputs": [],
      "execution_count": 4,
      "metadata": {
        "gather": {
          "logged": 1649096944143
        },
        "jupyter": {
          "outputs_hidden": false,
          "source_hidden": false
        },
        "nteract": {
          "transient": {
            "deleting": false
          }
        }
      }
    },
    {
      "cell_type": "markdown",
      "source": [
        "## Get data\n",
        "\n",
        "Data has been registered using Hyperdrive, if not run hyperdrive first"
      ],
      "metadata": {
        "nteract": {
          "transient": {
            "deleting": false
          }
        }
      }
    },
    {
      "cell_type": "code",
      "source": [
        "# Split the dataset into training and validation subsets\n",
        "# Get the training dataset\n",
        "heart_ds = ws.datasets.get(\"Heart Failure\")\n",
        "#heart_ds=heart_ds.to_pandas_dataframe()\n",
        "\n",
        "\n",
        "train_ds, test_ds = heart_ds.random_split(percentage=0.7, seed=123)\n",
        "print(\"Data ready!\")"
      ],
      "outputs": [
        {
          "output_type": "stream",
          "name": "stdout",
          "text": "Data ready!\n"
        }
      ],
      "execution_count": 5,
      "metadata": {
        "gather": {
          "logged": 1649096953956
        },
        "jupyter": {
          "outputs_hidden": false,
          "source_hidden": false
        },
        "nteract": {
          "transient": {
            "deleting": false
          }
        }
      }
    },
    {
      "cell_type": "code",
      "source": [
        "from azureml.core.compute import ComputeTarget, AmlCompute\n",
        "from azureml.core.compute_target import ComputeTargetException\n",
        "\n",
        "cluster_name = \"aml-cluster\"\n",
        "\n",
        "try:\n",
        "    # Check for existing compute target\n",
        "    training_cluster = ComputeTarget(workspace=ws, name=cluster_name)\n",
        "    print('Found existing cluster, use it.')\n",
        "except ComputeTargetException:\n",
        "    # If it doesn't already exist, create it\n",
        "    try:\n",
        "        compute_config = AmlCompute.provisioning_configuration(vm_size='STANDARD_DS11_V2', max_nodes=2)\n",
        "        training_cluster = ComputeTarget.create(ws, cluster_name, compute_config)\n",
        "        training_cluster.wait_for_completion(show_output=True)\n",
        "    except Exception as ex:\n",
        "        print(ex)"
      ],
      "outputs": [
        {
          "output_type": "stream",
          "name": "stdout",
          "text": "Found existing cluster, use it.\n"
        }
      ],
      "execution_count": 6,
      "metadata": {
        "gather": {
          "logged": 1649096959765
        },
        "jupyter": {
          "outputs_hidden": false,
          "source_hidden": false
        },
        "nteract": {
          "transient": {
            "deleting": false
          }
        }
      }
    },
    {
      "cell_type": "markdown",
      "source": [
        "## AutoML Configuration\n",
        "\n",
        "TODO: Explain why you chose the automl settings and cofiguration you used below."
      ],
      "metadata": {}
    },
    {
      "cell_type": "code",
      "source": [
        "#from azureml.train.automl import AutoMLConfig\n",
        "\n",
        "# TODO: Put your automl settings here\n",
        "automl_settings = {\n",
        "    \"experiment_timeout_minutes\": 15,\n",
        "    \"max_concurrent_iterations\": 5,\n",
        "    \"primary_metric\" : 'AUC_weighted'\n",
        "}\n",
        "\n",
        "# TODO: Put your automl config here\n",
        "automl_config = AutoMLConfig(compute_target=training_cluster,\n",
        "                             task = \"classification\",\n",
        "                             training_data=train_ds,\n",
        "                             validation_data = test_ds,\n",
        "                             label_column_name=\"DEATH_EVENT\",   \n",
        "                             path = experiment_folder,\n",
        "                             enable_early_stopping= True,\n",
        "                             featurization= 'auto',\n",
        "                             debug_log = \"automl_errors.log\",\n",
        "                             **automl_settings\n",
        "\n",
        ")"
      ],
      "outputs": [],
      "execution_count": 7,
      "metadata": {
        "gather": {
          "logged": 1649096971377
        },
        "jupyter": {
          "outputs_hidden": false,
          "source_hidden": false
        },
        "nteract": {
          "transient": {
            "deleting": false
          }
        }
      }
    },
    {
      "cell_type": "code",
      "source": [
        "from azureml.widgets import RunDetails\n",
        "\n",
        "# TODO: Submit your experiment\n",
        "print('Submitting Auto ML experiment...')\n",
        "automl_experiment = Experiment(ws, 'heart-automl-sdk')\n",
        "remote_run = automl_experiment.submit(automl_config)"
      ],
      "outputs": [
        {
          "output_type": "stream",
          "name": "stdout",
          "text": "Submitting Auto ML experiment...\nSubmitting remote run.\n"
        },
        {
          "output_type": "display_data",
          "data": {
            "text/plain": "<IPython.core.display.HTML object>",
            "text/html": "<table style=\"width:100%\"><tr><th>Experiment</th><th>Id</th><th>Type</th><th>Status</th><th>Details Page</th><th>Docs Page</th></tr><tr><td>heart-automl-sdk</td><td>AutoML_63b8001d-e756-400a-81f9-124f55a794d8</td><td>automl</td><td>NotStarted</td><td><a href=\"https://ml.azure.com/runs/AutoML_63b8001d-e756-400a-81f9-124f55a794d8?wsid=/subscriptions/6eee9ed4-ef02-4ad0-bbbd-194153ad2069/resourcegroups/aml-resource/workspaces/aml-workspace&amp;tid=b8f88a0b-3d95-478b-b123-a494d78523a4\" target=\"_blank\" rel=\"noopener\">Link to Azure Machine Learning studio</a></td><td><a href=\"https://docs.microsoft.com/en-us/python/api/overview/azure/ml/intro?view=azure-ml-py\" target=\"_blank\" rel=\"noopener\">Link to Documentation</a></td></tr></table>"
          },
          "metadata": {}
        }
      ],
      "execution_count": 8,
      "metadata": {
        "gather": {
          "logged": 1649097022590
        },
        "jupyter": {
          "outputs_hidden": false,
          "source_hidden": false
        },
        "nteract": {
          "transient": {
            "deleting": false
          }
        }
      }
    },
    {
      "cell_type": "markdown",
      "source": [
        "## Run Details\n",
        "\n",
        "OPTIONAL: Write about the different models trained and their performance. Why do you think some models did better than others?\n",
        "\n",
        "TODO: In the cell below, use the `RunDetails` widget to show the different experiments."
      ],
      "metadata": {}
    },
    {
      "cell_type": "code",
      "source": [
        "RunDetails(remote_run).show()"
      ],
      "outputs": [
        {
          "output_type": "display_data",
          "data": {
            "text/plain": "_AutoMLWidget(widget_settings={'childWidgetDisplay': 'popup', 'send_telemetry': False, 'log_level': 'INFO', 's…",
            "application/vnd.jupyter.widget-view+json": {
              "version_major": 2,
              "version_minor": 0,
              "model_id": "a1d1a990ecd24612b81a990a23afe7b2"
            }
          },
          "metadata": {}
        },
        {
          "output_type": "display_data",
          "data": {
            "application/aml.mini.widget.v1": "{\"status\": \"Running\", \"workbench_run_details_uri\": \"https://ml.azure.com/runs/AutoML_63b8001d-e756-400a-81f9-124f55a794d8?wsid=/subscriptions/6eee9ed4-ef02-4ad0-bbbd-194153ad2069/resourcegroups/aml-resource/workspaces/aml-workspace&tid=b8f88a0b-3d95-478b-b123-a494d78523a4\", \"run_id\": \"AutoML_63b8001d-e756-400a-81f9-124f55a794d8\", \"run_properties\": {\"run_id\": \"AutoML_63b8001d-e756-400a-81f9-124f55a794d8\", \"created_utc\": \"2022-04-04T18:30:20.77937Z\", \"properties\": {\"num_iterations\": \"1000\", \"training_type\": \"TrainFull\", \"acquisition_function\": \"EI\", \"primary_metric\": \"AUC_weighted\", \"train_split\": \"0\", \"acquisition_parameter\": \"0\", \"num_cross_validation\": null, \"target\": \"aml-cluster\", \"AMLSettingsJsonString\": \"{\\\"path\\\":null,\\\"name\\\":\\\"heart-automl-sdk\\\",\\\"subscription_id\\\":\\\"6eee9ed4-ef02-4ad0-bbbd-194153ad2069\\\",\\\"resource_group\\\":\\\"aml-resource\\\",\\\"workspace_name\\\":\\\"aml-workspace\\\",\\\"region\\\":\\\"westeurope\\\",\\\"compute_target\\\":\\\"aml-cluster\\\",\\\"spark_service\\\":null,\\\"azure_service\\\":\\\"remote\\\",\\\"many_models\\\":false,\\\"pipeline_fetch_max_batch_size\\\":1,\\\"enable_batch_run\\\":true,\\\"enable_run_restructure\\\":false,\\\"start_auxiliary_runs_before_parent_complete\\\":false,\\\"enable_code_generation\\\":false,\\\"iterations\\\":1000,\\\"primary_metric\\\":\\\"AUC_weighted\\\",\\\"task_type\\\":\\\"classification\\\",\\\"positive_label\\\":null,\\\"data_script\\\":null,\\\"test_size\\\":0.0,\\\"test_include_predictions_only\\\":false,\\\"validation_size\\\":0.0,\\\"n_cross_validations\\\":null,\\\"y_min\\\":null,\\\"y_max\\\":null,\\\"num_classes\\\":null,\\\"featurization\\\":\\\"auto\\\",\\\"_ignore_package_version_incompatibilities\\\":false,\\\"is_timeseries\\\":false,\\\"max_cores_per_iteration\\\":1,\\\"max_concurrent_iterations\\\":5,\\\"iteration_timeout_minutes\\\":null,\\\"mem_in_mb\\\":null,\\\"enforce_time_on_windows\\\":false,\\\"experiment_timeout_minutes\\\":15,\\\"experiment_exit_score\\\":null,\\\"partition_column_names\\\":null,\\\"whitelist_models\\\":null,\\\"blacklist_algos\\\":[\\\"TensorFlowLinearClassifier\\\",\\\"TensorFlowDNN\\\"],\\\"supported_models\\\":[\\\"AveragedPerceptronClassifier\\\",\\\"MultinomialNaiveBayes\\\",\\\"SGD\\\",\\\"XGBoostClassifier\\\",\\\"LinearSVM\\\",\\\"SVM\\\",\\\"DecisionTree\\\",\\\"RandomForest\\\",\\\"TabnetClassifier\\\",\\\"LightGBM\\\",\\\"LogisticRegression\\\",\\\"TensorFlowLinearClassifier\\\",\\\"ExtremeRandomTrees\\\",\\\"BernoulliNaiveBayes\\\",\\\"KNN\\\",\\\"TensorFlowDNN\\\",\\\"GradientBoosting\\\"],\\\"private_models\\\":[],\\\"auto_blacklist\\\":true,\\\"blacklist_samples_reached\\\":false,\\\"exclude_nan_labels\\\":true,\\\"verbosity\\\":20,\\\"_debug_log\\\":\\\"azureml_automl.log\\\",\\\"show_warnings\\\":false,\\\"model_explainability\\\":true,\\\"service_url\\\":null,\\\"sdk_url\\\":null,\\\"sdk_packages\\\":null,\\\"enable_onnx_compatible_models\\\":false,\\\"enable_split_onnx_featurizer_estimator_models\\\":false,\\\"vm_type\\\":\\\"STANDARD_DS11_V2\\\",\\\"telemetry_verbosity\\\":20,\\\"send_telemetry\\\":true,\\\"enable_dnn\\\":false,\\\"scenario\\\":\\\"SDK-1.13.0\\\",\\\"environment_label\\\":null,\\\"save_mlflow\\\":false,\\\"enable_categorical_indicators\\\":false,\\\"force_text_dnn\\\":false,\\\"enable_feature_sweeping\\\":true,\\\"enable_early_stopping\\\":true,\\\"early_stopping_n_iters\\\":10,\\\"arguments\\\":null,\\\"dataset_id\\\":\\\"4177e33a-d93c-430a-ad30-7cda42851fd9\\\",\\\"hyperdrive_config\\\":null,\\\"validation_dataset_id\\\":\\\"712d09df-7afd-46ac-9a81-35ddba58787b\\\",\\\"run_source\\\":null,\\\"metrics\\\":null,\\\"enable_metric_confidence\\\":false,\\\"enable_ensembling\\\":true,\\\"enable_stack_ensembling\\\":true,\\\"ensemble_iterations\\\":15,\\\"enable_tf\\\":false,\\\"enable_subsampling\\\":null,\\\"subsample_seed\\\":null,\\\"enable_nimbusml\\\":false,\\\"enable_streaming\\\":false,\\\"force_streaming\\\":false,\\\"track_child_runs\\\":true,\\\"allowed_private_models\\\":[],\\\"label_column_name\\\":\\\"DEATH_EVENT\\\",\\\"weight_column_name\\\":null,\\\"cv_split_column_names\\\":null,\\\"enable_local_managed\\\":false,\\\"_local_managed_run_id\\\":null,\\\"cost_mode\\\":1,\\\"lag_length\\\":0,\\\"metric_operation\\\":\\\"maximize\\\",\\\"preprocess\\\":true}\", \"DataPrepJsonString\": \"{\\\\\\\"training_data\\\\\\\": {\\\\\\\"datasetId\\\\\\\": \\\\\\\"4177e33a-d93c-430a-ad30-7cda42851fd9\\\\\\\"}, \\\\\\\"validation_data\\\\\\\": {\\\\\\\"datasetId\\\\\\\": \\\\\\\"712d09df-7afd-46ac-9a81-35ddba58787b\\\\\\\"}, \\\\\\\"datasets\\\\\\\": 0}\", \"EnableSubsampling\": null, \"runTemplate\": \"AutoML\", \"azureml.runsource\": \"automl\", \"display_task_type\": \"classification\", \"dependencies_versions\": \"{\\\"azureml-widgets\\\": \\\"1.39.0\\\", \\\"azureml-training-tabular\\\": \\\"1.39.0\\\", \\\"azureml-train\\\": \\\"1.39.0\\\", \\\"azureml-train-restclients-hyperdrive\\\": \\\"1.39.0\\\", \\\"azureml-train-core\\\": \\\"1.39.0\\\", \\\"azureml-train-automl\\\": \\\"1.39.0\\\", \\\"azureml-train-automl-runtime\\\": \\\"1.39.0\\\", \\\"azureml-train-automl-client\\\": \\\"1.39.0\\\", \\\"azureml-tensorboard\\\": \\\"1.39.0\\\", \\\"azureml-telemetry\\\": \\\"1.39.0\\\", \\\"azureml-sdk\\\": \\\"1.39.0\\\", \\\"azureml-samples\\\": \\\"0+unknown\\\", \\\"azureml-responsibleai\\\": \\\"1.39.0\\\", \\\"azureml-pipeline\\\": \\\"1.39.0\\\", \\\"azureml-pipeline-steps\\\": \\\"1.39.0\\\", \\\"azureml-pipeline-core\\\": \\\"1.39.0\\\", \\\"azureml-opendatasets\\\": \\\"1.39.0\\\", \\\"azureml-mlflow\\\": \\\"1.39.0\\\", \\\"azureml-interpret\\\": \\\"1.39.0\\\", \\\"azureml-inference-server-http\\\": \\\"0.4.10\\\", \\\"azureml-explain-model\\\": \\\"1.39.0\\\", \\\"azureml-defaults\\\": \\\"1.39.0\\\", \\\"azureml-dataset-runtime\\\": \\\"1.39.0\\\", \\\"azureml-dataprep\\\": \\\"2.27.1\\\", \\\"azureml-dataprep-rslex\\\": \\\"2.3.1\\\", \\\"azureml-dataprep-native\\\": \\\"38.0.0\\\", \\\"azureml-datadrift\\\": \\\"1.39.0\\\", \\\"azureml-core\\\": \\\"1.39.0\\\", \\\"azureml-contrib-services\\\": \\\"1.39.0\\\", \\\"azureml-contrib-server\\\": \\\"1.39.0\\\", \\\"azureml-contrib-reinforcementlearning\\\": \\\"1.39.0\\\", \\\"azureml-contrib-pipeline-steps\\\": \\\"1.39.0\\\", \\\"azureml-contrib-notebook\\\": \\\"1.39.0\\\", \\\"azureml-contrib-fairness\\\": \\\"1.39.0\\\", \\\"azureml-contrib-dataset\\\": \\\"1.39.0\\\", \\\"azureml-contrib-automl-pipeline-steps\\\": \\\"1.39.0\\\", \\\"azureml-cli-common\\\": \\\"1.39.0\\\", \\\"azureml-automl-runtime\\\": \\\"1.39.0\\\", \\\"azureml-automl-dnn-nlp\\\": \\\"1.39.0\\\", \\\"azureml-automl-core\\\": \\\"1.39.0\\\", \\\"azureml-accel-models\\\": \\\"1.39.0\\\"}\", \"_aml_system_scenario_identification\": \"Remote.Parent\", \"ClientType\": \"SDK\", \"environment_cpu_name\": \"AzureML-AutoML\", \"environment_cpu_label\": \"prod\", \"environment_gpu_name\": \"AzureML-AutoML-GPU\", \"environment_gpu_label\": \"prod\", \"root_attribution\": \"automl\", \"attribution\": \"AutoML\", \"Orchestrator\": \"AutoML\", \"CancelUri\": \"https://westeurope.api.azureml.ms/jasmine/v1.0/subscriptions/6eee9ed4-ef02-4ad0-bbbd-194153ad2069/resourceGroups/aml-resource/providers/Microsoft.MachineLearningServices/workspaces/aml-workspace/experimentids/5b2dde74-4824-4b6d-99b1-c42169e4b8b6/cancel/AutoML_63b8001d-e756-400a-81f9-124f55a794d8\", \"azureml.git.repository_uri\": \"https://github.com/Aduzona/Capstone_Project---Azure-ML_Engineer.git\", \"mlflow.source.git.repoURL\": \"https://github.com/Aduzona/Capstone_Project---Azure-ML_Engineer.git\", \"azureml.git.branch\": \"master\", \"mlflow.source.git.branch\": \"master\", \"azureml.git.commit\": \"f3d865e8b43f3141236a882abbeeb477eb04d1b2\", \"mlflow.source.git.commit\": \"f3d865e8b43f3141236a882abbeeb477eb04d1b2\", \"azureml.git.dirty\": \"True\", \"ClientSdkVersion\": \"1.39.1\", \"snapshotId\": \"00000000-0000-0000-0000-000000000000\", \"SetupRunId\": \"AutoML_63b8001d-e756-400a-81f9-124f55a794d8_setup\", \"SetupRunContainerId\": \"dcid.AutoML_63b8001d-e756-400a-81f9-124f55a794d8_setup\", \"FeaturizationRunJsonPath\": \"featurizer_container.json\", \"FeaturizationRunId\": \"AutoML_63b8001d-e756-400a-81f9-124f55a794d8_featurize\", \"ProblemInfoJsonString\": \"{\\\"dataset_num_categorical\\\": 0, \\\"is_sparse\\\": false, \\\"subsampling\\\": false, \\\"has_extra_col\\\": true, \\\"dataset_classes\\\": 2, \\\"dataset_features\\\": 12, \\\"dataset_samples\\\": 209, \\\"single_frequency_class_detected\\\": false}\"}, \"tags\": {\"model_explain_run\": \"best_run\", \"_aml_system_automl_run_workspace_id\": \"6619e5e7-fea0-4faa-884a-70f08a545174\", \"_aml_system_azureml.automlComponent\": \"AutoML\", \"pipeline_id\": \"<5dfac790c5c209f98a1da2dc1c7fb76f0397324f>;<c7af0367625be6ac5c2fecbfc72ed444cb7a2111>;<51ae05309834b29f71340af1008fc94fbd8213f4>;<ce2643edf3d450b10c86c7d034a9bc952dc282d3>;<039a99c3d5147edeb525249e2660628be3e8b83f>;<a18bd1af1629e8f96b25a32ac94e62b3bd9a9605>;<a3dadd95854bf6116ab454844302b51d417d78b7>;<1dfdf370ba770047b14bfa59c40920815defcdab>;<e92a63ad06df7b68a48ce96c06fad3fbf2a25ce2>;<5bc24cef89e67ee668d55e59548e1032cfbc7f0f>;<516a24fb1445632ecf04366c17b960ce157878b3>;<088b94df63b852cc8cba96bb2fa191ce8d1ef2e5>;<294650ec23bc3d067a4972de7ceb12f6e97260fa>;<634afb4b36be9286ca21289f56b5f7cdf1c72fa9>;<b983b703e4d6dbffd4a815a4d1c2ed94225c5027>;<681a59302459aec2cc115ddbc14e1d28f4b3b8df>;<4f207270c6817858b81b8050f1efa1d0053db52e>;<7ea0a64582be36507254a026ac98e9a5a49e1f34>;<6f4a466f84f725a47910c1dff062a1bb46df2a21>;<dea7fdbaedc77258dbfe31dbfed41e768ca38939>;<c74787cd2f0507b852a1ac70d504d83ac9bdec83>;<9610149fbcf43017aa810a290e9c04cbe6fa8684>;<a72eb56f3d4aadb7b7f0149ba6e5f05657a95ca1>;<1e38ae92baee19b18f211a8b14c16015d5ee3dc3>;<a7434e890cabef86b0ce4ae71fb633e1e92b854d>;<5bcf69d12307c5f0246b0d33ab19666443595ac9>;<934fbda25f87f4703ab02c0796a38b132022d111>;<1ca8a330f6ccf3ff9fddc5c604344c3345d2ff74>;<de5498303022d1619f483f3eee6fec99beb02365>;<d98257f76fc4de6c188ba5656991c63b1dfadadb>;<c5b7ff96dae6e4fd54a48879db864ad94b669298>;<1218e7af42590ac0088f0ef8ed0769367ba3429f>;<c7d30ecabb6166b4fa742c9218322a5b9df246d9>;<__AutoML_Stack_Ensemble__>;\", \"score\": \"<0.9022046353872244>;<0.886376483889203>;<0.8937252685132844>;<0.8811977890836001>;<0.9118145845110232>;<0.5336348219332956>;<0.8773318258903335>;<0.9236856981345393>;<0.8615036743923121>;<0.9395138496325608>;<0.8507631430186546>;<0.788015828151498>;<0.8241944601469757>;<0.7173544375353307>;<0.899943470887507>;<0.859807801017524>;<0.9197286602600339>;<0.9106840022611645>;<0.8756359525155456>;<0.8711136235161108>;<0.9270774448841154>;<0.9050310910118711>;<0.9327303561334086>;<0.8552854720180894>;<0.9208592425098926>;<0.9711701526286036>;<0.8790276992651215>;<0.8733747880158281>;<0.8343697003957037>;<NaN>;<NaN>;<NaN>;<NaN>;<0.9468626342566422>;\", \"predicted_cost\": \"<0>;<0>;<0.5>;<0.5>;<0.5>;<0.5>;<0.5>;<0.5>;<0.5>;<0.5>;<0.5>;<0.5>;<0.5>;<0.5>;<0.5>;<0.5>;<0.5>;<0.5>;<0.5>;<0.5>;<0.017662281738767195>;<0.030925102992833957>;<0.010281022139908643>;<0.07057531055663605>;<0.23038998052679452>;<0.03256954634309731>;<0.008198350817143698>;<0.11091423003792765>;<0.1267046426323396>;<0.3127678335172402>;<0.15413537817360562>;<0.07859189624120472>;<0.03963628476704344>;<0>;\", \"fit_time\": \"<0.018677>;<0.031488999999999996>;<0.013416>;<0.01685>;<0.008253>;<0.004539>;<0.010888>;<0.18676399999999999>;<0.006302>;<0.057013>;<0.008321>;<0.015065>;<0.010605>;<0.003473>;<0.031317>;<0.010581>;<0.064389>;<0.032485>;<0.009517>;<0.387505>;<0.014939000000000001>;<0.012114>;<0.129156>;<0.02306>;<0.222051>;<0.040587>;<0.009245>;<0.6218670000000001>;<0.28425900000000004>;<NaN>;<NaN>;<NaN>;<NaN>;<12>;\", \"training_percent\": \"<100>;<100>;<100>;<100>;<100>;<100>;<100>;<100>;<100>;<100>;<100>;<100>;<100>;<100>;<100>;<100>;<100>;<100>;<100>;<100>;<100>;<100>;<100>;<100>;<100>;<100>;<100>;<100>;<100>;<100>;<100>;<100>;<100>;<100>;\", \"iteration\": \"<0>;<1>;<2>;<3>;<4>;<5>;<6>;<7>;<8>;<9>;<10>;<11>;<12>;<13>;<14>;<15>;<16>;<17>;<18>;<19>;<20>;<22>;<21>;<23>;<25>;<24>;<26>;<27>;<28>;<32>;<29>;<31>;<30>;<34>;\", \"run_preprocessor\": \"<MaxAbsScaler>;<MaxAbsScaler>;<MaxAbsScaler>;<MaxAbsScaler>;<StandardScalerWrapper>;<StandardScalerWrapper>;<SparseNormalizer>;<SparseNormalizer>;<RobustScaler>;<MinMaxScaler>;<StandardScalerWrapper>;<StandardScalerWrapper>;<StandardScalerWrapper>;<SparseNormalizer>;<RobustScaler>;<SparseNormalizer>;<MinMaxScaler>;<MinMaxScaler>;<SparseNormalizer>;<MaxAbsScaler>;<StandardScalerWrapper>;<MaxAbsScaler>;<StandardScalerWrapper>;<MaxAbsScaler>;<StandardScalerWrapper>;<MaxAbsScaler>;<StandardScalerWrapper>;<MinMaxScaler>;<StandardScalerWrapper>;<>;<>;<>;<>;<>;\", \"run_algorithm\": \"<LightGBM>;<XGBoostClassifier>;<ExtremeRandomTrees>;<RandomForest>;<LightGBM>;<KNN>;<XGBoostClassifier>;<RandomForest>;<KNN>;<RandomForest>;<LogisticRegression>;<SVM>;<XGBoostClassifier>;<KNN>;<ExtremeRandomTrees>;<XGBoostClassifier>;<ExtremeRandomTrees>;<ExtremeRandomTrees>;<LightGBM>;<ExtremeRandomTrees>;<XGBoostClassifier>;<LightGBM>;<RandomForest>;<LogisticRegression>;<ExtremeRandomTrees>;<RandomForest>;<LogisticRegression>;<ExtremeRandomTrees>;<ExtremeRandomTrees>;<>;<>;<>;<>;<StackEnsemble>;\", \"dynamic_whitelisting_iterations\": \"<24>;<30>;\", \"_aml_system_azureml.automl_early_exit_message\": \"Experiment timeout reached, hence experiment stopped. Current experiment timeout: 0 hour(s) 15 minute(s)\"}, \"end_time_utc\": null, \"status\": \"Running\", \"log_files\": {}, \"log_groups\": [], \"run_duration\": \"0:24:29\", \"run_number\": \"1649097020\", \"run_queued_details\": {\"status\": \"Running\", \"details\": null}}, \"child_runs\": [{\"run_id\": \"AutoML_63b8001d-e756-400a-81f9-124f55a794d8_setup\", \"run_number\": 1649097032, \"metric\": null, \"status\": \"Completed\", \"run_type\": \"azureml.scriptrun\", \"training_percent\": null, \"start_time\": \"2022-04-04T18:34:38.460905Z\", \"end_time\": \"2022-04-04T18:35:21.859815Z\", \"created_time\": \"2022-04-04T18:30:32.984687Z\", \"created_time_dt\": \"2022-04-04T18:30:32.984687Z\", \"duration\": \"0:04:48\", \"iteration\": null, \"goal\": null, \"run_name\": \"Completed\", \"run_properties\": null}, {\"run_id\": \"AutoML_63b8001d-e756-400a-81f9-124f55a794d8_featurize\", \"run_number\": 1649097322, \"metric\": null, \"status\": \"Completed\", \"run_type\": \"automl.featurization\", \"training_percent\": null, \"start_time\": \"2022-04-04T18:35:22.652211Z\", \"end_time\": \"2022-04-04T18:36:03.669395Z\", \"created_time\": \"2022-04-04T18:35:22.27881Z\", \"created_time_dt\": \"2022-04-04T18:35:22.27881Z\", \"duration\": \"0:00:41\", \"iteration\": null, \"goal\": null, \"run_name\": \"Completed\", \"run_properties\": null}, {\"run_id\": \"AutoML_63b8001d-e756-400a-81f9-124f55a794d8_0\", \"run_number\": 1649097364, \"metric\": null, \"status\": \"Completed\", \"run_type\": null, \"training_percent\": \"100\", \"start_time\": \"2022-04-04T18:36:51.311476Z\", \"end_time\": \"2022-04-04T18:37:06.682474Z\", \"created_time\": \"2022-04-04T18:36:04.972803Z\", \"created_time_dt\": \"2022-04-04T18:36:04.972803Z\", \"duration\": \"0:01:01\", \"iteration\": \"0\", \"goal\": \"AUC_weighted_max\", \"run_name\": \"MaxAbsScaler, LightGBM\", \"run_properties\": \"copy=True\", \"primary_metric\": 0.90220464, \"best_metric\": 0.90220464}, {\"run_id\": \"AutoML_63b8001d-e756-400a-81f9-124f55a794d8_1\", \"run_number\": 1649097365, \"metric\": null, \"status\": \"Completed\", \"run_type\": null, \"training_percent\": \"100\", \"start_time\": \"2022-04-04T18:37:07.008022Z\", \"end_time\": \"2022-04-04T18:37:20.571682Z\", \"created_time\": \"2022-04-04T18:36:05.390118Z\", \"created_time_dt\": \"2022-04-04T18:36:05.390118Z\", \"duration\": \"0:01:15\", \"iteration\": \"1\", \"goal\": \"AUC_weighted_max\", \"run_name\": \"MaxAbsScaler, XGBoostClassifier\", \"run_properties\": \"copy=True\", \"primary_metric\": 0.88637648, \"best_metric\": 0.90220464}, {\"run_id\": \"AutoML_63b8001d-e756-400a-81f9-124f55a794d8_3\", \"run_number\": 1649097366, \"metric\": null, \"status\": \"Completed\", \"run_type\": null, \"training_percent\": \"100\", \"start_time\": \"2022-04-04T18:37:34.516758Z\", \"end_time\": \"2022-04-04T18:37:47.558937Z\", \"created_time\": \"2022-04-04T18:36:06.268518Z\", \"created_time_dt\": \"2022-04-04T18:36:06.268518Z\", \"duration\": \"0:01:41\", \"iteration\": \"3\", \"goal\": \"AUC_weighted_max\", \"run_name\": \"MaxAbsScaler, RandomForest\", \"run_properties\": \"copy=True\", \"primary_metric\": 0.88119779, \"best_metric\": 0.90220464}, {\"run_id\": \"AutoML_63b8001d-e756-400a-81f9-124f55a794d8_5\", \"run_number\": 1649097367, \"metric\": null, \"status\": \"Completed\", \"run_type\": null, \"training_percent\": \"100\", \"start_time\": \"2022-04-04T18:38:20.939133Z\", \"end_time\": \"2022-04-04T18:38:35.089957Z\", \"created_time\": \"2022-04-04T18:36:07.23132Z\", \"created_time_dt\": \"2022-04-04T18:36:07.23132Z\", \"duration\": \"0:02:27\", \"iteration\": \"5\", \"goal\": \"AUC_weighted_max\", \"run_name\": \"StandardScalerWrapper, KNN\", \"run_properties\": \"copy=True, with_mean=True, with_std=False\", \"primary_metric\": 0.53363482, \"best_metric\": 0.90220464}, {\"run_id\": \"AutoML_63b8001d-e756-400a-81f9-124f55a794d8_7\", \"run_number\": 1649097368, \"metric\": null, \"status\": \"Completed\", \"run_type\": null, \"training_percent\": \"100\", \"start_time\": \"2022-04-04T18:38:50.007761Z\", \"end_time\": \"2022-04-04T18:39:03.921686Z\", \"created_time\": \"2022-04-04T18:36:08.095315Z\", \"created_time_dt\": \"2022-04-04T18:36:08.095315Z\", \"duration\": \"0:02:55\", \"iteration\": \"7\", \"goal\": \"AUC_weighted_max\", \"run_name\": \"SparseNormalizer, RandomForest\", \"run_properties\": \"copy=True, norm='l2'\", \"primary_metric\": 0.9236857, \"best_metric\": 0.9236857}, {\"run_id\": \"AutoML_63b8001d-e756-400a-81f9-124f55a794d8_9\", \"run_number\": 1649097369, \"metric\": null, \"status\": \"Completed\", \"run_type\": null, \"training_percent\": \"100\", \"start_time\": \"2022-04-04T18:39:34.438607Z\", \"end_time\": \"2022-04-04T18:39:47.794295Z\", \"created_time\": \"2022-04-04T18:36:09.063996Z\", \"created_time_dt\": \"2022-04-04T18:36:09.063996Z\", \"duration\": \"0:03:38\", \"iteration\": \"9\", \"goal\": \"AUC_weighted_max\", \"run_name\": \"MinMaxScaler, RandomForest\", \"run_properties\": \"copy=True, feature_range=(0, 1\", \"primary_metric\": 0.93951385, \"best_metric\": 0.93951385}, {\"run_id\": \"AutoML_63b8001d-e756-400a-81f9-124f55a794d8_worker_2\", \"run_number\": 1649097370, \"metric\": null, \"status\": \"Completed\", \"run_type\": \"azureml.scriptrun\", \"training_percent\": null, \"start_time\": \"2022-04-04T18:40:16.913218Z\", \"end_time\": \"2022-04-04T18:40:20.543085Z\", \"created_time\": \"2022-04-04T18:36:10.131193Z\", \"created_time_dt\": \"2022-04-04T18:36:10.131193Z\", \"duration\": \"0:04:10\", \"iteration\": null, \"goal\": null, \"run_name\": \"Completed\", \"run_properties\": null}, {\"run_id\": \"AutoML_63b8001d-e756-400a-81f9-124f55a794d8_14\", \"run_number\": 1649097371, \"metric\": null, \"status\": \"Completed\", \"run_type\": null, \"training_percent\": \"100\", \"start_time\": \"2022-04-04T18:41:00.911157Z\", \"end_time\": \"2022-04-04T18:41:14.902069Z\", \"created_time\": \"2022-04-04T18:36:11.177179Z\", \"created_time_dt\": \"2022-04-04T18:36:11.177179Z\", \"duration\": \"0:05:03\", \"iteration\": \"14\", \"goal\": \"AUC_weighted_max\", \"run_name\": \"RobustScaler, ExtremeRandomTrees\", \"run_properties\": \"copy=True, quantile_range=[10, 90], with_centering=True,\\n             with_scaling=False\", \"primary_metric\": 0.89994347, \"best_metric\": 0.93951385}, {\"run_id\": \"AutoML_63b8001d-e756-400a-81f9-124f55a794d8_worker_3\", \"run_number\": 1649097372, \"metric\": null, \"status\": \"Completed\", \"run_type\": \"azureml.scriptrun\", \"training_percent\": null, \"start_time\": \"2022-04-04T18:41:32.059269Z\", \"end_time\": \"2022-04-04T18:41:35.651385Z\", \"created_time\": \"2022-04-04T18:36:12.343568Z\", \"created_time_dt\": \"2022-04-04T18:36:12.343568Z\", \"duration\": \"0:05:23\", \"iteration\": null, \"goal\": null, \"run_name\": \"Completed\", \"run_properties\": null}, {\"run_id\": \"AutoML_63b8001d-e756-400a-81f9-124f55a794d8_18\", \"run_number\": 1649097373, \"metric\": null, \"status\": \"Completed\", \"run_type\": null, \"training_percent\": \"100\", \"start_time\": \"2022-04-04T18:42:14.621577Z\", \"end_time\": \"2022-04-04T18:42:28.215911Z\", \"created_time\": \"2022-04-04T18:36:13.318842Z\", \"created_time_dt\": \"2022-04-04T18:36:13.318842Z\", \"duration\": \"0:06:14\", \"iteration\": \"18\", \"goal\": \"AUC_weighted_max\", \"run_name\": \"SparseNormalizer, LightGBM\", \"run_properties\": \"copy=True, norm='l1'\", \"primary_metric\": 0.87563595, \"best_metric\": 0.93951385}, {\"run_id\": \"AutoML_63b8001d-e756-400a-81f9-124f55a794d8_20\", \"run_number\": 1649097694, \"metric\": null, \"status\": \"Completed\", \"run_type\": \"azureml.scriptrun\", \"training_percent\": \"100\", \"start_time\": \"2022-04-04T18:44:03.708254Z\", \"end_time\": \"2022-04-04T18:44:07.305986Z\", \"created_time\": \"2022-04-04T18:41:34.002643Z\", \"created_time_dt\": \"2022-04-04T18:41:34.002643Z\", \"duration\": \"0:02:33\", \"iteration\": \"20\", \"goal\": \"AUC_weighted_max\", \"run_name\": \"StandardScalerWrapper, XGBoostClassifier\", \"run_properties\": \"copy=True, with_mean=False, with_std=False\", \"primary_metric\": 0.92707744, \"best_metric\": 0.93951385}, {\"run_id\": \"AutoML_63b8001d-e756-400a-81f9-124f55a794d8_23\", \"run_number\": 1649097750, \"metric\": null, \"status\": \"Completed\", \"run_type\": \"azureml.scriptrun\", \"training_percent\": \"100\", \"start_time\": \"2022-04-04T18:46:31.844691Z\", \"end_time\": \"2022-04-04T18:46:35.410805Z\", \"created_time\": \"2022-04-04T18:42:30.828231Z\", \"created_time_dt\": \"2022-04-04T18:42:30.828231Z\", \"duration\": \"0:04:04\", \"iteration\": \"23\", \"goal\": \"AUC_weighted_max\", \"run_name\": \"MaxAbsScaler, LogisticRegression\", \"run_properties\": \"copy=True\", \"primary_metric\": 0.85528547, \"best_metric\": 0.93951385}, {\"run_id\": \"AutoML_63b8001d-e756-400a-81f9-124f55a794d8_25\", \"run_number\": 1649097852, \"metric\": null, \"status\": \"Completed\", \"run_type\": \"azureml.scriptrun\", \"training_percent\": \"100\", \"start_time\": \"2022-04-04T18:48:12.003393Z\", \"end_time\": \"2022-04-04T18:48:15.624568Z\", \"created_time\": \"2022-04-04T18:44:12.115176Z\", \"created_time_dt\": \"2022-04-04T18:44:12.115176Z\", \"duration\": \"0:04:03\", \"iteration\": \"25\", \"goal\": \"AUC_weighted_max\", \"run_name\": \"StandardScalerWrapper, ExtremeRandomTrees\", \"run_properties\": \"copy=True, with_mean=False, with_std=True\", \"primary_metric\": 0.92085924, \"best_metric\": 0.93951385}, {\"run_id\": \"AutoML_63b8001d-e756-400a-81f9-124f55a794d8_26\", \"run_number\": 1649097879, \"metric\": null, \"status\": \"Completed\", \"run_type\": \"azureml.scriptrun\", \"training_percent\": \"100\", \"start_time\": \"2022-04-04T18:50:09.456143Z\", \"end_time\": \"2022-04-04T18:50:13.113582Z\", \"created_time\": \"2022-04-04T18:44:39.397582Z\", \"created_time_dt\": \"2022-04-04T18:44:39.397582Z\", \"duration\": \"0:05:33\", \"iteration\": \"26\", \"goal\": \"AUC_weighted_max\", \"run_name\": \"StandardScalerWrapper, LogisticRegression\", \"run_properties\": \"copy=True, with_mean=False, with_std=True\", \"primary_metric\": 0.8790277, \"best_metric\": 0.93951385}, {\"run_id\": \"AutoML_63b8001d-e756-400a-81f9-124f55a794d8_27\", \"run_number\": 1649097968, \"metric\": null, \"status\": \"Completed\", \"run_type\": \"azureml.scriptrun\", \"training_percent\": \"100\", \"start_time\": \"2022-04-04T18:50:41.007967Z\", \"end_time\": \"2022-04-04T18:50:44.585598Z\", \"created_time\": \"2022-04-04T18:46:08.136344Z\", \"created_time_dt\": \"2022-04-04T18:46:08.136344Z\", \"duration\": \"0:04:36\", \"iteration\": \"27\", \"goal\": \"AUC_weighted_max\", \"run_name\": \"MinMaxScaler, ExtremeRandomTrees\", \"run_properties\": \"copy=True, feature_range=(0, 1\", \"primary_metric\": 0.87337479, \"best_metric\": 0.93951385}, {\"run_id\": \"AutoML_63b8001d-e756-400a-81f9-124f55a794d8_28\", \"run_number\": 1649097997, \"metric\": null, \"status\": \"Completed\", \"run_type\": \"azureml.scriptrun\", \"training_percent\": \"100\", \"start_time\": \"2022-04-04T18:52:12.646612Z\", \"end_time\": \"2022-04-04T18:52:16.27056Z\", \"created_time\": \"2022-04-04T18:46:37.132637Z\", \"created_time_dt\": \"2022-04-04T18:46:37.132637Z\", \"duration\": \"0:05:39\", \"iteration\": \"28\", \"goal\": \"AUC_weighted_max\", \"run_name\": \"StandardScalerWrapper, ExtremeRandomTrees\", \"run_properties\": \"copy=True, with_mean=True, with_std=True\", \"primary_metric\": 0.8343697, \"best_metric\": 0.93951385}, {\"run_id\": \"AutoML_63b8001d-e756-400a-81f9-124f55a794d8_29\", \"run_number\": 1649098097, \"metric\": null, \"status\": \"Canceled\", \"run_type\": \"azureml.scriptrun\", \"training_percent\": \"100\", \"start_time\": \"2022-04-04T18:52:17.031407Z\", \"end_time\": \"2022-04-04T18:52:17.278689Z\", \"created_time\": \"2022-04-04T18:48:17.956809Z\", \"created_time_dt\": \"2022-04-04T18:48:17.956809Z\", \"duration\": \"0:03:59\", \"iteration\": \"29\", \"goal\": null, \"run_name\": \"Canceled\", \"run_properties\": null}, {\"run_id\": \"AutoML_63b8001d-e756-400a-81f9-124f55a794d8_30\", \"run_number\": 1649098126, \"metric\": null, \"status\": \"Canceled\", \"run_type\": \"azureml.scriptrun\", \"training_percent\": \"100\", \"start_time\": \"2022-04-04T18:52:17.06096Z\", \"end_time\": \"2022-04-04T18:52:17.397424Z\", \"created_time\": \"2022-04-04T18:48:46.613377Z\", \"created_time_dt\": \"2022-04-04T18:48:46.613377Z\", \"duration\": \"0:03:30\", \"iteration\": \"30\", \"goal\": null, \"run_name\": \"Canceled\", \"run_properties\": null}, {\"run_id\": \"AutoML_63b8001d-e756-400a-81f9-124f55a794d8_31\", \"run_number\": 1649098214, \"metric\": null, \"status\": \"Canceled\", \"run_type\": \"azureml.scriptrun\", \"training_percent\": \"100\", \"start_time\": \"2022-04-04T18:52:17.046727Z\", \"end_time\": \"2022-04-04T18:52:17.372542Z\", \"created_time\": \"2022-04-04T18:50:14.836798Z\", \"created_time_dt\": \"2022-04-04T18:50:14.836798Z\", \"duration\": \"0:02:02\", \"iteration\": \"31\", \"goal\": null, \"run_name\": \"Canceled\", \"run_properties\": null}, {\"run_id\": \"AutoML_63b8001d-e756-400a-81f9-124f55a794d8_32\", \"run_number\": 1649098246, \"metric\": null, \"status\": \"Canceled\", \"run_type\": \"azureml.scriptrun\", \"training_percent\": \"100\", \"start_time\": \"2022-04-04T18:52:17.123311Z\", \"end_time\": \"2022-04-04T18:52:17.491732Z\", \"created_time\": \"2022-04-04T18:50:46.178557Z\", \"created_time_dt\": \"2022-04-04T18:50:46.178557Z\", \"duration\": \"0:01:31\", \"iteration\": \"32\", \"goal\": null, \"run_name\": \"Canceled\", \"run_properties\": null}, {\"run_id\": \"AutoML_63b8001d-e756-400a-81f9-124f55a794d8_33\", \"run_number\": 1649098339, \"metric\": null, \"status\": \"Queued\", \"run_type\": \"azureml.scriptrun\", \"training_percent\": \"100\", \"start_time\": \"\", \"end_time\": \"\", \"created_time\": \"2022-04-04T18:52:19.544671Z\", \"created_time_dt\": \"2022-04-04T18:52:19.544671Z\", \"duration\": \"0:02:31\", \"iteration\": \"33\", \"goal\": null, \"run_name\": \"Queued\", \"run_properties\": null}], \"children_metrics\": {\"categories\": [0], \"series\": {\"recall_score_macro\": [{\"categories\": [\"0\", \"1\", \"3\", \"5\", \"7\", \"9\", \"14\", \"18\", \"20\", \"23\", \"25\", \"26\", \"27\", \"28\"], \"mode\": \"markers\", \"name\": \"recall_score_macro\", \"stepped\": false, \"type\": \"scatter\", \"data\": [0.8111927642736009, 0.7947993216506501, 0.7594686263425664, 0.546919163369135, 0.8210853589598643, 0.8021481062747315, 0.8120407009609949, 0.7685132843414357, 0.8021481062747315, 0.7809496890898813, 0.8021481062747315, 0.8292820802713398, 0.813736574335783, 0.7801017524024874]}, {\"categories\": [\"0\", \"1\", \"3\", \"5\", \"7\", \"9\", \"14\", \"18\", \"20\", \"23\", \"25\", \"26\", \"27\", \"28\"], \"mode\": \"lines\", \"name\": \"recall_score_macro_max\", \"stepped\": true, \"type\": \"scatter\", \"data\": [0.8111927642736009, 0.8111927642736009, 0.8111927642736009, 0.8111927642736009, 0.8210853589598643, 0.8210853589598643, 0.8210853589598643, 0.8210853589598643, 0.8210853589598643, 0.8210853589598643, 0.8210853589598643, 0.8292820802713398, 0.8292820802713398, 0.8292820802713398]}], \"average_precision_score_micro\": [{\"categories\": [\"0\", \"1\", \"3\", \"5\", \"7\", \"9\", \"14\", \"18\", \"20\", \"23\", \"25\", \"26\", \"27\", \"28\"], \"mode\": \"markers\", \"name\": \"average_precision_score_micro\", \"stepped\": false, \"type\": \"scatter\", \"data\": [0.9246674485582461, 0.9104821805784891, 0.9002813921673606, 0.6335261434617832, 0.9386973786119951, 0.9397727694007438, 0.9276559012967678, 0.8972939967607452, 0.9352522593372958, 0.8715740793255565, 0.9364970694078604, 0.9046897777410063, 0.902256969940066, 0.8672373700060965]}, {\"categories\": [\"0\", \"1\", \"3\", \"5\", \"7\", \"9\", \"14\", \"18\", \"20\", \"23\", \"25\", \"26\", \"27\", \"28\"], \"mode\": \"lines\", \"name\": \"average_precision_score_micro_max\", \"stepped\": true, \"type\": \"scatter\", \"data\": [0.9246674485582461, 0.9246674485582461, 0.9246674485582461, 0.9246674485582461, 0.9386973786119951, 0.9397727694007438, 0.9397727694007438, 0.9397727694007438, 0.9397727694007438, 0.9397727694007438, 0.9397727694007438, 0.9397727694007438, 0.9397727694007438, 0.9397727694007438]}], \"recall_score_micro\": [{\"categories\": [\"0\", \"1\", \"3\", \"5\", \"7\", \"9\", \"14\", \"18\", \"20\", \"23\", \"25\", \"26\", \"27\", \"28\"], \"mode\": \"markers\", \"name\": \"recall_score_micro\", \"stepped\": false, \"type\": \"scatter\", \"data\": [0.8666666666666667, 0.8444444444444444, 0.8333333333333334, 0.6555555555555556, 0.8555555555555555, 0.8666666666666667, 0.8555555555555555, 0.8333333333333334, 0.8666666666666667, 0.7888888888888889, 0.8666666666666667, 0.8666666666666667, 0.8333333333333334, 0.8]}, {\"categories\": [\"0\", \"1\", \"3\", \"5\", \"7\", \"9\", \"14\", \"18\", \"20\", \"23\", \"25\", \"26\", \"27\", \"28\"], \"mode\": \"lines\", \"name\": \"recall_score_micro_max\", \"stepped\": true, \"type\": \"scatter\", \"data\": [0.8666666666666667, 0.8666666666666667, 0.8666666666666667, 0.8666666666666667, 0.8666666666666667, 0.8666666666666667, 0.8666666666666667, 0.8666666666666667, 0.8666666666666667, 0.8666666666666667, 0.8666666666666667, 0.8666666666666667, 0.8666666666666667, 0.8666666666666667]}], \"weighted_accuracy\": [{\"categories\": [\"0\", \"1\", \"3\", \"5\", \"7\", \"9\", \"14\", \"18\", \"20\", \"23\", \"25\", \"26\", \"27\", \"28\"], \"mode\": \"markers\", \"name\": \"weighted_accuracy\", \"stepped\": false, \"type\": \"scatter\", \"data\": [0.9096887330118368, 0.8829460762823322, 0.8906181499342393, 0.7398071021481808, 0.8822884699693117, 0.9167032003507234, 0.8893029373081981, 0.8836036825953528, 0.9167032003507234, 0.7950460324419115, 0.9167032003507234, 0.895659798334064, 0.8485313459009207, 0.8154318281455503]}, {\"categories\": [\"0\", \"1\", \"3\", \"5\", \"7\", \"9\", \"14\", \"18\", \"20\", \"23\", \"25\", \"26\", \"27\", \"28\"], \"mode\": \"lines\", \"name\": \"weighted_accuracy_max\", \"stepped\": true, \"type\": \"scatter\", \"data\": [0.9096887330118368, 0.9096887330118368, 0.9096887330118368, 0.9096887330118368, 0.9096887330118368, 0.9167032003507234, 0.9167032003507234, 0.9167032003507234, 0.9167032003507234, 0.9167032003507234, 0.9167032003507234, 0.9167032003507234, 0.9167032003507234, 0.9167032003507234]}], \"accuracy\": [{\"categories\": [\"0\", \"1\", \"3\", \"5\", \"7\", \"9\", \"14\", \"18\", \"20\", \"23\", \"25\", \"26\", \"27\", \"28\"], \"mode\": \"markers\", \"name\": \"accuracy\", \"stepped\": false, \"type\": \"scatter\", \"data\": [0.8666666666666667, 0.8444444444444444, 0.8333333333333334, 0.6555555555555556, 0.8555555555555555, 0.8666666666666667, 0.8555555555555555, 0.8333333333333334, 0.8666666666666667, 0.7888888888888889, 0.8666666666666667, 0.8666666666666667, 0.8333333333333334, 0.8]}, {\"categories\": [\"0\", \"1\", \"3\", \"5\", \"7\", \"9\", \"14\", \"18\", \"20\", \"23\", \"25\", \"26\", \"27\", \"28\"], \"mode\": \"lines\", \"name\": \"accuracy_max\", \"stepped\": true, \"type\": \"scatter\", \"data\": [0.8666666666666667, 0.8666666666666667, 0.8666666666666667, 0.8666666666666667, 0.8666666666666667, 0.8666666666666667, 0.8666666666666667, 0.8666666666666667, 0.8666666666666667, 0.8666666666666667, 0.8666666666666667, 0.8666666666666667, 0.8666666666666667, 0.8666666666666667]}], \"norm_macro_recall\": [{\"categories\": [\"0\", \"1\", \"3\", \"5\", \"7\", \"9\", \"14\", \"18\", \"20\", \"23\", \"25\", \"26\", \"27\", \"28\"], \"mode\": \"markers\", \"name\": \"norm_macro_recall\", \"stepped\": false, \"type\": \"scatter\", \"data\": [0.6223855285472017, 0.5895986433013003, 0.5189372526851328, 0.09383832673827008, 0.6421707179197287, 0.6042962125494631, 0.6240814019219898, 0.5370265686828715, 0.6042962125494631, 0.5618993781797625, 0.6042962125494631, 0.6585641605426795, 0.6274731486715659, 0.5602035048049747]}, {\"categories\": [\"0\", \"1\", \"3\", \"5\", \"7\", \"9\", \"14\", \"18\", \"20\", \"23\", \"25\", \"26\", \"27\", \"28\"], \"mode\": \"lines\", \"name\": \"norm_macro_recall_max\", \"stepped\": true, \"type\": \"scatter\", \"data\": [0.6223855285472017, 0.6223855285472017, 0.6223855285472017, 0.6223855285472017, 0.6421707179197287, 0.6421707179197287, 0.6421707179197287, 0.6421707179197287, 0.6421707179197287, 0.6421707179197287, 0.6421707179197287, 0.6585641605426795, 0.6585641605426795, 0.6585641605426795]}], \"f1_score_micro\": [{\"categories\": [\"0\", \"1\", \"3\", \"5\", \"7\", \"9\", \"14\", \"18\", \"20\", \"23\", \"25\", \"26\", \"27\", \"28\"], \"mode\": \"markers\", \"name\": \"f1_score_micro\", \"stepped\": false, \"type\": \"scatter\", \"data\": [0.8666666666666667, 0.8444444444444444, 0.8333333333333334, 0.6555555555555556, 0.8555555555555555, 0.8666666666666667, 0.8555555555555555, 0.8333333333333334, 0.8666666666666667, 0.7888888888888889, 0.8666666666666667, 0.8666666666666667, 0.8333333333333334, 0.8000000000000002]}, {\"categories\": [\"0\", \"1\", \"3\", \"5\", \"7\", \"9\", \"14\", \"18\", \"20\", \"23\", \"25\", \"26\", \"27\", \"28\"], \"mode\": \"lines\", \"name\": \"f1_score_micro_max\", \"stepped\": true, \"type\": \"scatter\", \"data\": [0.8666666666666667, 0.8666666666666667, 0.8666666666666667, 0.8666666666666667, 0.8666666666666667, 0.8666666666666667, 0.8666666666666667, 0.8666666666666667, 0.8666666666666667, 0.8666666666666667, 0.8666666666666667, 0.8666666666666667, 0.8666666666666667, 0.8666666666666667]}], \"matthews_correlation\": [{\"categories\": [\"0\", \"1\", \"3\", \"5\", \"7\", \"9\", \"14\", \"18\", \"20\", \"23\", \"25\", \"26\", \"27\", \"28\"], \"mode\": \"markers\", \"name\": \"matthews_correlation\", \"stepped\": false, \"type\": \"scatter\", \"data\": [0.6876844589387536, 0.6317119211368903, 0.6062842188159794, 0.1147012947869586, 0.6621215971021075, 0.6920027397757972, 0.6595193898453577, 0.6036645474863905, 0.6920027397757972, 0.5416128952623219, 0.6920027397757972, 0.68712432959947, 0.622046441203655, 0.5509381993850838]}, {\"categories\": [\"0\", \"1\", \"3\", \"5\", \"7\", \"9\", \"14\", \"18\", \"20\", \"23\", \"25\", \"26\", \"27\", \"28\"], \"mode\": \"lines\", \"name\": \"matthews_correlation_max\", \"stepped\": true, \"type\": \"scatter\", \"data\": [0.6876844589387536, 0.6876844589387536, 0.6876844589387536, 0.6876844589387536, 0.6876844589387536, 0.6920027397757972, 0.6920027397757972, 0.6920027397757972, 0.6920027397757972, 0.6920027397757972, 0.6920027397757972, 0.6920027397757972, 0.6920027397757972, 0.6920027397757972]}], \"average_precision_score_macro\": [{\"categories\": [\"0\", \"1\", \"3\", \"5\", \"7\", \"9\", \"14\", \"18\", \"20\", \"23\", \"25\", \"26\", \"27\", \"28\"], \"mode\": \"markers\", \"name\": \"average_precision_score_macro\", \"stepped\": false, \"type\": \"scatter\", \"data\": [0.9065259896532297, 0.895200719970373, 0.8807327037211016, 0.5424076475967792, 0.9189772715691147, 0.9288856448467776, 0.9046389693592178, 0.8789796899783806, 0.927001130317168, 0.8567502843589203, 0.9188645916834394, 0.8780960891995229, 0.8830630636342485, 0.8541559536318132]}, {\"categories\": [\"0\", \"1\", \"3\", \"5\", \"7\", \"9\", \"14\", \"18\", \"20\", \"23\", \"25\", \"26\", \"27\", \"28\"], \"mode\": \"lines\", \"name\": \"average_precision_score_macro_max\", \"stepped\": true, \"type\": \"scatter\", \"data\": [0.9065259896532297, 0.9065259896532297, 0.9065259896532297, 0.9065259896532297, 0.9189772715691147, 0.9288856448467776, 0.9288856448467776, 0.9288856448467776, 0.9288856448467776, 0.9288856448467776, 0.9288856448467776, 0.9288856448467776, 0.9288856448467776, 0.9288856448467776]}], \"log_loss\": [{\"categories\": [\"0\", \"1\", \"3\", \"5\", \"7\", \"9\", \"14\", \"18\", \"20\", \"23\", \"25\", \"26\", \"27\", \"28\"], \"mode\": \"markers\", \"name\": \"log_loss\", \"stepped\": false, \"type\": \"scatter\", \"data\": [0.3786010774807543, 0.46600001663784674, 0.3983561663491969, 0.704809365604555, 0.3724068771772102, 0.3318257020845741, 0.42862693558817094, 0.41008210413334517, 0.34919261341523605, 0.46516846340443696, 0.35067919316871865, 0.39908353051602746, 0.5473249315419695, 0.5752454326941778]}, {\"categories\": [\"0\", \"1\", \"3\", \"5\", \"7\", \"9\", \"14\", \"18\", \"20\", \"23\", \"25\", \"26\", \"27\", \"28\"], \"mode\": \"lines\", \"name\": \"log_loss_min\", \"stepped\": true, \"type\": \"scatter\", \"data\": [0.3786010774807543, 0.3786010774807543, 0.3786010774807543, 0.3786010774807543, 0.3724068771772102, 0.3318257020845741, 0.3318257020845741, 0.3318257020845741, 0.3318257020845741, 0.3318257020845741, 0.3318257020845741, 0.3318257020845741, 0.3318257020845741, 0.3318257020845741]}], \"precision_score_micro\": [{\"categories\": [\"0\", \"1\", \"3\", \"5\", \"7\", \"9\", \"14\", \"18\", \"20\", \"23\", \"25\", \"26\", \"27\", \"28\"], \"mode\": \"markers\", \"name\": \"precision_score_micro\", \"stepped\": false, \"type\": \"scatter\", \"data\": [0.8666666666666667, 0.8444444444444444, 0.8333333333333334, 0.6555555555555556, 0.8555555555555555, 0.8666666666666667, 0.8555555555555555, 0.8333333333333334, 0.8666666666666667, 0.7888888888888889, 0.8666666666666667, 0.8666666666666667, 0.8333333333333334, 0.8]}, {\"categories\": [\"0\", \"1\", \"3\", \"5\", \"7\", \"9\", \"14\", \"18\", \"20\", \"23\", \"25\", \"26\", \"27\", \"28\"], \"mode\": \"lines\", \"name\": \"precision_score_micro_max\", \"stepped\": true, \"type\": \"scatter\", \"data\": [0.8666666666666667, 0.8666666666666667, 0.8666666666666667, 0.8666666666666667, 0.8666666666666667, 0.8666666666666667, 0.8666666666666667, 0.8666666666666667, 0.8666666666666667, 0.8666666666666667, 0.8666666666666667, 0.8666666666666667, 0.8666666666666667, 0.8666666666666667]}], \"f1_score_weighted\": [{\"categories\": [\"0\", \"1\", \"3\", \"5\", \"7\", \"9\", \"14\", \"18\", \"20\", \"23\", \"25\", \"26\", \"27\", \"28\"], \"mode\": \"markers\", \"name\": \"f1_score_weighted\", \"stepped\": false, \"type\": \"scatter\", \"data\": [0.860102564102564, 0.839115918803419, 0.8207220178104837, 0.6223868312757201, 0.8533494949494949, 0.8578282828282828, 0.8515855329404579, 0.8237524017240484, 0.8578282828282828, 0.7927553927553928, 0.8578282828282828, 0.8638447971781306, 0.8340570574777045, 0.8016666666666667]}, {\"categories\": [\"0\", \"1\", \"3\", \"5\", \"7\", \"9\", \"14\", \"18\", \"20\", \"23\", \"25\", \"26\", \"27\", \"28\"], \"mode\": \"lines\", \"name\": \"f1_score_weighted_max\", \"stepped\": true, \"type\": \"scatter\", \"data\": [0.860102564102564, 0.860102564102564, 0.860102564102564, 0.860102564102564, 0.860102564102564, 0.860102564102564, 0.860102564102564, 0.860102564102564, 0.860102564102564, 0.860102564102564, 0.860102564102564, 0.8638447971781306, 0.8638447971781306, 0.8638447971781306]}], \"balanced_accuracy\": [{\"categories\": [\"0\", \"1\", \"3\", \"5\", \"7\", \"9\", \"14\", \"18\", \"20\", \"23\", \"25\", \"26\", \"27\", \"28\"], \"mode\": \"markers\", \"name\": \"balanced_accuracy\", \"stepped\": false, \"type\": \"scatter\", \"data\": [0.8111927642736009, 0.7947993216506501, 0.7594686263425664, 0.546919163369135, 0.8210853589598643, 0.8021481062747315, 0.8120407009609949, 0.7685132843414357, 0.8021481062747315, 0.7809496890898813, 0.8021481062747315, 0.8292820802713398, 0.813736574335783, 0.7801017524024874]}, {\"categories\": [\"0\", \"1\", \"3\", \"5\", \"7\", \"9\", \"14\", \"18\", \"20\", \"23\", \"25\", \"26\", \"27\", \"28\"], \"mode\": \"lines\", \"name\": \"balanced_accuracy_max\", \"stepped\": true, \"type\": \"scatter\", \"data\": [0.8111927642736009, 0.8111927642736009, 0.8111927642736009, 0.8111927642736009, 0.8210853589598643, 0.8210853589598643, 0.8210853589598643, 0.8210853589598643, 0.8210853589598643, 0.8210853589598643, 0.8210853589598643, 0.8292820802713398, 0.8292820802713398, 0.8292820802713398]}], \"AUC_macro\": [{\"categories\": [\"0\", \"1\", \"3\", \"5\", \"7\", \"9\", \"14\", \"18\", \"20\", \"23\", \"25\", \"26\", \"27\", \"28\"], \"mode\": \"markers\", \"name\": \"AUC_macro\", \"stepped\": false, \"type\": \"scatter\", \"data\": [0.9022046353872244, 0.886376483889203, 0.8811475409836065, 0.5336348219332956, 0.9236856981345393, 0.9395138496325608, 0.899943470887507, 0.8756359525155455, 0.9270774448841153, 0.8552854720180894, 0.9208592425098926, 0.8790276992651215, 0.873374788015828, 0.8343697003957038]}, {\"categories\": [\"0\", \"1\", \"3\", \"5\", \"7\", \"9\", \"14\", \"18\", \"20\", \"23\", \"25\", \"26\", \"27\", \"28\"], \"mode\": \"lines\", \"name\": \"AUC_macro_max\", \"stepped\": true, \"type\": \"scatter\", \"data\": [0.9022046353872244, 0.9022046353872244, 0.9022046353872244, 0.9022046353872244, 0.9236856981345393, 0.9395138496325608, 0.9395138496325608, 0.9395138496325608, 0.9395138496325608, 0.9395138496325608, 0.9395138496325608, 0.9395138496325608, 0.9395138496325608, 0.9395138496325608]}], \"recall_score_weighted\": [{\"categories\": [\"0\", \"1\", \"3\", \"5\", \"7\", \"9\", \"14\", \"18\", \"20\", \"23\", \"25\", \"26\", \"27\", \"28\"], \"mode\": \"markers\", \"name\": \"recall_score_weighted\", \"stepped\": false, \"type\": \"scatter\", \"data\": [0.8666666666666667, 0.8444444444444444, 0.8333333333333334, 0.6555555555555556, 0.8555555555555555, 0.8666666666666667, 0.8555555555555555, 0.8333333333333334, 0.8666666666666667, 0.7888888888888889, 0.8666666666666667, 0.8666666666666667, 0.8333333333333334, 0.8]}, {\"categories\": [\"0\", \"1\", \"3\", \"5\", \"7\", \"9\", \"14\", \"18\", \"20\", \"23\", \"25\", \"26\", \"27\", \"28\"], \"mode\": \"lines\", \"name\": \"recall_score_weighted_max\", \"stepped\": true, \"type\": \"scatter\", \"data\": [0.8666666666666667, 0.8666666666666667, 0.8666666666666667, 0.8666666666666667, 0.8666666666666667, 0.8666666666666667, 0.8666666666666667, 0.8666666666666667, 0.8666666666666667, 0.8666666666666667, 0.8666666666666667, 0.8666666666666667, 0.8666666666666667, 0.8666666666666667]}], \"AUC_micro\": [{\"categories\": [\"0\", \"1\", \"3\", \"5\", \"7\", \"9\", \"14\", \"18\", \"20\", \"23\", \"25\", \"26\", \"27\", \"28\"], \"mode\": \"markers\", \"name\": \"AUC_micro\", \"stepped\": false, \"type\": \"scatter\", \"data\": [0.9244444444444444, 0.9111111111111111, 0.9015432098765431, 0.6586419753086421, 0.9398765432098766, 0.9365432098765433, 0.927283950617284, 0.8998765432098766, 0.9320987654320988, 0.8660493827160494, 0.934320987654321, 0.9039506172839505, 0.8979012345679013, 0.8646913580246913]}, {\"categories\": [\"0\", \"1\", \"3\", \"5\", \"7\", \"9\", \"14\", \"18\", \"20\", \"23\", \"25\", \"26\", \"27\", \"28\"], \"mode\": \"lines\", \"name\": \"AUC_micro_max\", \"stepped\": true, \"type\": \"scatter\", \"data\": [0.9244444444444444, 0.9244444444444444, 0.9244444444444444, 0.9244444444444444, 0.9398765432098766, 0.9398765432098766, 0.9398765432098766, 0.9398765432098766, 0.9398765432098766, 0.9398765432098766, 0.9398765432098766, 0.9398765432098766, 0.9398765432098766, 0.9398765432098766]}], \"average_precision_score_weighted\": [{\"categories\": [\"0\", \"1\", \"3\", \"5\", \"7\", \"9\", \"14\", \"18\", \"20\", \"23\", \"25\", \"26\", \"27\", \"28\"], \"mode\": \"markers\", \"name\": \"average_precision_score_weighted\", \"stepped\": false, \"type\": \"scatter\", \"data\": [0.9208829749458941, 0.9097921818690512, 0.8992544024855069, 0.5990556578484114, 0.9323704103613624, 0.9440433267786912, 0.9176369266095404, 0.8965467816341011, 0.940238584671836, 0.8795460399429713, 0.9331606316351162, 0.8981888088299687, 0.899413288028053, 0.870070469871861]}, {\"categories\": [\"0\", \"1\", \"3\", \"5\", \"7\", \"9\", \"14\", \"18\", \"20\", \"23\", \"25\", \"26\", \"27\", \"28\"], \"mode\": \"lines\", \"name\": \"average_precision_score_weighted_max\", \"stepped\": true, \"type\": \"scatter\", \"data\": [0.9208829749458941, 0.9208829749458941, 0.9208829749458941, 0.9208829749458941, 0.9323704103613624, 0.9440433267786912, 0.9440433267786912, 0.9440433267786912, 0.9440433267786912, 0.9440433267786912, 0.9440433267786912, 0.9440433267786912, 0.9440433267786912, 0.9440433267786912]}], \"AUC_weighted\": [{\"categories\": [\"0\", \"1\", \"3\", \"5\", \"7\", \"9\", \"14\", \"18\", \"20\", \"23\", \"25\", \"26\", \"27\", \"28\"], \"mode\": \"markers\", \"name\": \"AUC_weighted\", \"stepped\": false, \"type\": \"scatter\", \"data\": [0.9022046353872244, 0.886376483889203, 0.8811977890836001, 0.5336348219332956, 0.9236856981345393, 0.9395138496325608, 0.899943470887507, 0.8756359525155456, 0.9270774448841154, 0.8552854720180894, 0.9208592425098926, 0.8790276992651215, 0.8733747880158281, 0.8343697003957037]}, {\"categories\": [\"0\", \"1\", \"3\", \"5\", \"7\", \"9\", \"14\", \"18\", \"20\", \"23\", \"25\", \"26\", \"27\", \"28\"], \"mode\": \"lines\", \"name\": \"AUC_weighted_max\", \"stepped\": true, \"type\": \"scatter\", \"data\": [0.9022046353872244, 0.9022046353872244, 0.9022046353872244, 0.9022046353872244, 0.9236856981345393, 0.9395138496325608, 0.9395138496325608, 0.9395138496325608, 0.9395138496325608, 0.9395138496325608, 0.9395138496325608, 0.9395138496325608, 0.9395138496325608, 0.9395138496325608]}], \"f1_score_macro\": [{\"categories\": [\"0\", \"1\", \"3\", \"5\", \"7\", \"9\", \"14\", \"18\", \"20\", \"23\", \"25\", \"26\", \"27\", \"28\"], \"mode\": \"markers\", \"name\": \"f1_score_macro\", \"stepped\": false, \"type\": \"scatter\", \"data\": [0.8338461538461538, 0.8106971153846154, 0.7840345544712846, 0.5407407407407407, 0.8298181818181818, 0.8295454545454546, 0.826177388203833, 0.7896868671132575, 0.8295454545454546, 0.768009768009768, 0.8295454545454546, 0.8412698412698413, 0.8108978848578232, 0.7749999999999999]}, {\"categories\": [\"0\", \"1\", \"3\", \"5\", \"7\", \"9\", \"14\", \"18\", \"20\", \"23\", \"25\", \"26\", \"27\", \"28\"], \"mode\": \"lines\", \"name\": \"f1_score_macro_max\", \"stepped\": true, \"type\": \"scatter\", \"data\": [0.8338461538461538, 0.8338461538461538, 0.8338461538461538, 0.8338461538461538, 0.8338461538461538, 0.8338461538461538, 0.8338461538461538, 0.8338461538461538, 0.8338461538461538, 0.8338461538461538, 0.8338461538461538, 0.8412698412698413, 0.8412698412698413, 0.8412698412698413]}], \"precision_score_macro\": [{\"categories\": [\"0\", \"1\", \"3\", \"5\", \"7\", \"9\", \"14\", \"18\", \"20\", \"23\", \"25\", \"26\", \"27\", \"28\"], \"mode\": \"markers\", \"name\": \"precision_score_macro\", \"stepped\": false, \"type\": \"scatter\", \"data\": [0.8799171842650104, 0.8384166125892278, 0.8541666666666666, 0.5701013513513513, 0.8413461538461539, 0.8962194217939214, 0.8484848484848485, 0.8392857142857143, 0.8962194217939214, 0.7610294117647058, 0.8962194217939214, 0.8584615384615384, 0.8083333333333333, 0.7709130672498633]}, {\"categories\": [\"0\", \"1\", \"3\", \"5\", \"7\", \"9\", \"14\", \"18\", \"20\", \"23\", \"25\", \"26\", \"27\", \"28\"], \"mode\": \"lines\", \"name\": \"precision_score_macro_max\", \"stepped\": true, \"type\": \"scatter\", \"data\": [0.8799171842650104, 0.8799171842650104, 0.8799171842650104, 0.8799171842650104, 0.8799171842650104, 0.8962194217939214, 0.8962194217939214, 0.8962194217939214, 0.8962194217939214, 0.8962194217939214, 0.8962194217939214, 0.8962194217939214, 0.8962194217939214, 0.8962194217939214]}], \"precision_score_weighted\": [{\"categories\": [\"0\", \"1\", \"3\", \"5\", \"7\", \"9\", \"14\", \"18\", \"20\", \"23\", \"25\", \"26\", \"27\", \"28\"], \"mode\": \"markers\", \"name\": \"precision_score_weighted\", \"stepped\": false, \"type\": \"scatter\", \"data\": [0.8710835058661145, 0.8428004903021127, 0.841820987654321, 0.6172484984984986, 0.8533119658119658, 0.87803311094638, 0.8538720538720538, 0.8354761904761906, 0.87803311094638, 0.8015522875816994, 0.87803311094638, 0.865025641025641, 0.8350000000000001, 0.8041552761071623]}, {\"categories\": [\"0\", \"1\", \"3\", \"5\", \"7\", \"9\", \"14\", \"18\", \"20\", \"23\", \"25\", \"26\", \"27\", \"28\"], \"mode\": \"lines\", \"name\": \"precision_score_weighted_max\", \"stepped\": true, \"type\": \"scatter\", \"data\": [0.8710835058661145, 0.8710835058661145, 0.8710835058661145, 0.8710835058661145, 0.8710835058661145, 0.87803311094638, 0.87803311094638, 0.87803311094638, 0.87803311094638, 0.87803311094638, 0.87803311094638, 0.87803311094638, 0.87803311094638, 0.87803311094638]}]}, \"metricName\": null, \"primaryMetricName\": \"AUC_weighted\", \"showLegend\": false}, \"run_metrics\": [{\"name\": \"experiment_status\", \"run_id\": \"AutoML_63b8001d-e756-400a-81f9-124f55a794d8\", \"categories\": [0, 1, 2, 3, 4], \"series\": [{\"data\": [\"DatasetEvaluation\", \"FeaturesGeneration\", \"DatasetFeaturization\", \"DatasetFeaturizationCompleted\", \"ModelSelection\"]}]}, {\"name\": \"experiment_status_description\", \"run_id\": \"AutoML_63b8001d-e756-400a-81f9-124f55a794d8\", \"categories\": [0, 1, 2, 3, 4], \"series\": [{\"data\": [\"Gathering dataset statistics.\", \"Generating features for the dataset.\", \"Beginning to fit featurizers and featurize the dataset.\", \"Completed fit featurizers and featurizing the dataset.\", \"Beginning model selection.\"]}]}], \"run_logs\": \"Your job is submitted in Azure cloud and we are monitoring to get logs...\", \"graph\": {}, \"widget_settings\": {\"childWidgetDisplay\": \"popup\", \"send_telemetry\": false, \"log_level\": \"INFO\", \"sdk_version\": \"1.39.0\"}, \"loading\": false}"
          },
          "metadata": {}
        }
      ],
      "execution_count": 9,
      "metadata": {
        "gather": {
          "logged": 1649097054876
        },
        "jupyter": {
          "outputs_hidden": false,
          "source_hidden": false
        },
        "nteract": {
          "transient": {
            "deleting": false
          }
        }
      }
    },
    {
      "cell_type": "code",
      "source": [
        "remote_run.wait_for_completion(show_output=True)"
      ],
      "outputs": [
        {
          "output_type": "display_data",
          "data": {
            "text/plain": "<IPython.core.display.HTML object>",
            "text/html": "<table style=\"width:100%\"><tr><th>Experiment</th><th>Id</th><th>Type</th><th>Status</th><th>Details Page</th><th>Docs Page</th></tr><tr><td>heart-automl-sdk</td><td>AutoML_63b8001d-e756-400a-81f9-124f55a794d8</td><td>automl</td><td>Running</td><td><a href=\"https://ml.azure.com/runs/AutoML_63b8001d-e756-400a-81f9-124f55a794d8?wsid=/subscriptions/6eee9ed4-ef02-4ad0-bbbd-194153ad2069/resourcegroups/aml-resource/workspaces/aml-workspace&amp;tid=b8f88a0b-3d95-478b-b123-a494d78523a4\" target=\"_blank\" rel=\"noopener\">Link to Azure Machine Learning studio</a></td><td><a href=\"https://docs.microsoft.com/en-us/python/api/overview/azure/ml/intro?view=azure-ml-py\" target=\"_blank\" rel=\"noopener\">Link to Documentation</a></td></tr></table>"
          },
          "metadata": {}
        },
        {
          "output_type": "stream",
          "name": "stdout",
          "text": "\nCurrent status: FeaturesGeneration. Generating features for the dataset.\nCurrent status: DatasetFeaturizationCompleted. Completed fit featurizers and featurizing the dataset.\nCurrent status: ModelSelection. Beginning model selection.\n\n********************************************************************************************\nDATA GUARDRAILS: \n\nTYPE:         Class balancing detection\nSTATUS:       PASSED\nDESCRIPTION:  Your inputs were analyzed, and all classes are balanced in your training data.\n              Learn more about imbalanced data: https://aka.ms/AutomatedMLImbalancedData\n\n********************************************************************************************\n\nTYPE:         Missing feature values imputation\nSTATUS:       PASSED\nDESCRIPTION:  No feature missing values were detected in the training data.\n              Learn more about missing value imputation: https://aka.ms/AutomatedMLFeaturization\n\n********************************************************************************************\n\nTYPE:         High cardinality feature detection\nSTATUS:       PASSED\nDESCRIPTION:  Your inputs were analyzed, and no high cardinality features were detected.\n              Learn more about high cardinality feature handling: https://aka.ms/AutomatedMLFeaturization\n\n********************************************************************************************\n\n********************************************************************************************\nITER: The iteration being evaluated.\nPIPELINE: A summary description of the pipeline being evaluated.\nDURATION: Time taken for the current iteration.\nMETRIC: The result of computing score on the fitted pipeline.\nBEST: The best observed score thus far.\n********************************************************************************************\n\n ITER   PIPELINE                                       DURATION            METRIC      BEST\n    0   MaxAbsScaler LightGBM                          0:00:15             0.9022    0.9022\n    1   MaxAbsScaler XGBoostClassifier                 0:00:14             0.8864    0.9022\n    2   MaxAbsScaler ExtremeRandomTrees                0:00:14             0.8937    0.9022\n    3   MaxAbsScaler RandomForest                      0:00:13             0.8812    0.9022\n    4   StandardScalerWrapper LightGBM                 0:00:14             0.9118    0.9118\n    5   StandardScalerWrapper KNN                      0:00:14             0.5336    0.9118\n    6   SparseNormalizer XGBoostClassifier             0:00:14             0.8773    0.9118\n    7   SparseNormalizer RandomForest                  0:00:14             0.9237    0.9237\n    8   RobustScaler KNN                               0:00:15             0.8615    0.9237\n    9   MinMaxScaler RandomForest                      0:00:13             0.9395    0.9395\n   10   StandardScalerWrapper LogisticRegression       0:00:14             0.8508    0.9395\n   11   StandardScalerWrapper SVM                      0:00:14             0.7880    0.9395\n   12   StandardScalerWrapper XGBoostClassifier        0:00:14             0.8242    0.9395\n   13   SparseNormalizer KNN                           0:00:14             0.7174    0.9395\n   14   RobustScaler ExtremeRandomTrees                0:00:14             0.8999    0.9395\n   15   SparseNormalizer XGBoostClassifier             0:00:15             0.8598    0.9395\n   16   MinMaxScaler ExtremeRandomTrees                0:00:13             0.9197    0.9395\n   17   MinMaxScaler ExtremeRandomTrees                0:00:13             0.9107    0.9395\n   18   SparseNormalizer LightGBM                      0:00:14             0.8756    0.9395\n   19   MaxAbsScaler ExtremeRandomTrees                0:00:14             0.8711    0.9395\n   20   StandardScalerWrapper XGBoostClassifier        0:00:04             0.9271    0.9395\n   22   MaxAbsScaler LightGBM                          0:00:04             0.9050    0.9395\n   21   StandardScalerWrapper RandomForest             0:00:04             0.9327    0.9395\n   23   MaxAbsScaler LogisticRegression                0:00:04             0.8553    0.9395\n   25   StandardScalerWrapper ExtremeRandomTrees       0:00:04             0.9209    0.9395\n   24   MaxAbsScaler RandomForest                      0:00:04             0.9712    0.9712\n   26   StandardScalerWrapper LogisticRegression       0:00:04             0.8790    0.9712\n   27   MinMaxScaler ExtremeRandomTrees                0:00:04             0.8734    0.9712\n   28   StandardScalerWrapper ExtremeRandomTrees       0:00:04             0.8344    0.9712\n   29                                                  0:00:00                nan    0.9712\nERROR: {\n    \"additional_properties\": {},\n    \"error\": {\n        \"additional_properties\": {\n            \"debugInfo\": null\n        },\n        \"code\": \"UserError\",\n        \"severity\": null,\n        \"message\": \"Experiment timeout reached, please consider increasing your experiment timeout.\",\n        \"message_format\": \"Experiment timeout reached, please consider increasing your experiment timeout.\",\n        \"message_parameters\": {},\n        \"reference_code\": null,\n        \"details_uri\": null,\n        \"target\": null,\n        \"details\": [],\n        \"inner_error\": {\n            \"additional_properties\": {},\n            \"code\": \"ResourceExhausted\",\n            \"inner_error\": {\n                \"additional_properties\": {},\n                \"code\": \"Timeout\",\n                \"inner_error\": {\n                    \"additional_properties\": {},\n                    \"code\": \"ExperimentTimeoutForIterations\",\n                    \"inner_error\": null\n                }\n            }\n        },\n        \"additional_info\": null\n    },\n    \"correlation\": null,\n    \"environment\": null,\n    \"location\": null,\n    \"time\": {},\n    \"component_name\": null\n}\n   30                                                  0:00:00                nan    0.9712\nERROR: {\n    \"additional_properties\": {},\n    \"error\": {\n        \"additional_properties\": {\n            \"debugInfo\": null\n        },\n        \"code\": \"UserError\",\n        \"severity\": null,\n        \"message\": \"Experiment timeout reached, please consider increasing your experiment timeout.\",\n        \"message_format\": \"Experiment timeout reached, please consider increasing your experiment timeout.\",\n        \"message_parameters\": {},\n        \"reference_code\": null,\n        \"details_uri\": null,\n        \"target\": null,\n        \"details\": [],\n        \"inner_error\": {\n            \"additional_properties\": {},\n            \"code\": \"ResourceExhausted\",\n            \"inner_error\": {\n                \"additional_properties\": {},\n                \"code\": \"Timeout\",\n                \"inner_error\": {\n                    \"additional_properties\": {},\n                    \"code\": \"ExperimentTimeoutForIterations\",\n                    \"inner_error\": null\n                }\n            }\n        },\n        \"additional_info\": null\n    },\n    \"correlation\": null,\n    \"environment\": null,\n    \"location\": null,\n    \"time\": {},\n    \"component_name\": null\n}\n   31                                                  0:00:00                nan    0.9712\nERROR: {\n    \"additional_properties\": {},\n    \"error\": {\n        \"additional_properties\": {\n            \"debugInfo\": null\n        },\n        \"code\": \"UserError\",\n        \"severity\": null,\n        \"message\": \"Experiment timeout reached, please consider increasing your experiment timeout.\",\n        \"message_format\": \"Experiment timeout reached, please consider increasing your experiment timeout.\",\n        \"message_parameters\": {},\n        \"reference_code\": null,\n        \"details_uri\": null,\n        \"target\": null,\n        \"details\": [],\n        \"inner_error\": {\n            \"additional_properties\": {},\n            \"code\": \"ResourceExhausted\",\n            \"inner_error\": {\n                \"additional_properties\": {},\n                \"code\": \"Timeout\",\n                \"inner_error\": {\n                    \"additional_properties\": {},\n                    \"code\": \"ExperimentTimeoutForIterations\",\n                    \"inner_error\": null\n                }\n            }\n        },\n        \"additional_info\": null\n    },\n    \"correlation\": null,\n    \"environment\": null,\n    \"location\": null,\n    \"time\": {},\n    \"component_name\": null\n}\n   32                                                  0:00:00                nan    0.9712\nERROR: {\n    \"additional_properties\": {},\n    \"error\": {\n        \"additional_properties\": {\n            \"debugInfo\": null\n        },\n        \"code\": \"UserError\",\n        \"severity\": null,\n        \"message\": \"Experiment timeout reached, please consider increasing your experiment timeout.\",\n        \"message_format\": \"Experiment timeout reached, please consider increasing your experiment timeout.\",\n        \"message_parameters\": {},\n        \"reference_code\": null,\n        \"details_uri\": null,\n        \"target\": null,\n        \"details\": [],\n        \"inner_error\": {\n            \"additional_properties\": {},\n            \"code\": \"ResourceExhausted\",\n            \"inner_error\": {\n                \"additional_properties\": {},\n                \"code\": \"Timeout\",\n                \"inner_error\": {\n                    \"additional_properties\": {},\n                    \"code\": \"ExperimentTimeoutForIterations\",\n                    \"inner_error\": null\n                }\n            }\n        },\n        \"additional_info\": null\n    },\n    \"correlation\": null,\n    \"environment\": null,\n    \"location\": null,\n    \"time\": {},\n    \"component_name\": null\n}\n   34    StackEnsemble                                 0:00:04             0.9469    0.9712\n"
        }
      ],
      "execution_count": 10,
      "metadata": {
        "gather": {
          "logged": 1649088417449
        },
        "jupyter": {
          "outputs_hidden": false,
          "source_hidden": false
        },
        "nteract": {
          "transient": {
            "deleting": false
          }
        }
      }
    },
    {
      "cell_type": "markdown",
      "source": [
        "## Best Model\n",
        "\n",
        "TODO: In the cell below, get the best model from the automl experiments and display all the properties of the model.\n",
        "\n"
      ],
      "metadata": {}
    },
    {
      "cell_type": "code",
      "source": [
        "'''\n",
        "for run in automl_run.get_children():\n",
        "    print('Run ID', run.id)\n",
        "    for metric in run.get_metrics():\n",
        "        print('\\t', run.get_metrics(metric))\n",
        "'''"
      ],
      "outputs": [],
      "execution_count": null,
      "metadata": {
        "gather": {
          "logged": 1598431425670
        },
        "jupyter": {
          "outputs_hidden": false,
          "source_hidden": false
        },
        "nteract": {
          "transient": {
            "deleting": false
          }
        }
      }
    },
    {
      "cell_type": "code",
      "source": [
        "# Get the best run, and its metrics and arguments\n",
        "best_run,fitted_model= remote_run.get_output()\n",
        "best_run_metrics = best_run.get_metrics()\n",
        "script_arguments = best_run.get_details() ['runDefinition']['arguments']\n",
        "print('Best Run Id: ', best_run.id)\n",
        "print(' -AUC:', best_run_metrics['AUC_weighted'])\n",
        "print(' -Accuracy:', best_run_metrics['accuracy'])\n",
        "print(' -Arguments:',script_arguments)"
      ],
      "outputs": [
        {
          "output_type": "stream",
          "name": "stdout",
          "text": "Best Run Id:  AutoML_63b8001d-e756-400a-81f9-124f55a794d8_24\n -AUC: 0.9711701526286036\n -Accuracy: 0.9\n -Arguments: []\n"
        }
      ],
      "execution_count": 12,
      "metadata": {
        "gather": {
          "logged": 1649099242825
        },
        "jupyter": {
          "outputs_hidden": false,
          "source_hidden": false
        },
        "nteract": {
          "transient": {
            "deleting": false
          }
        }
      }
    },
    {
      "cell_type": "code",
      "source": [
        "best_run, fitted_model = remote_run.get_output()\n",
        "print(best_run)\n",
        "print('\\nBest Model Definition:')\n",
        "print(fitted_model)\n",
        "print('\\nBest Run Transformations:')\n",
        "for step in fitted_model.named_steps:\n",
        "    print(step)\n",
        "print('\\nBest Run Metrics:')\n",
        "best_run_metrics = best_run.get_metrics()\n",
        "for metric_name in best_run_metrics:\n",
        "    metric = best_run_metrics[metric_name]\n",
        "    print(metric_name, metric)"
      ],
      "outputs": [
        {
          "output_type": "stream",
          "name": "stdout",
          "text": "Run(Experiment: heart-automl-sdk,\nId: AutoML_63b8001d-e756-400a-81f9-124f55a794d8_24,\nType: azureml.scriptrun,\nStatus: Completed)\n\nBest Model Definition:\nPipeline(memory=None,\n         steps=[('datatransformer',\n                 DataTransformer(enable_dnn=False, enable_feature_sweeping=True, feature_sweeping_config={}, feature_sweeping_timeout=86400, featurization_config=None, force_text_dnn=False, is_cross_validation=False, is_onnx_compatible=False, observer=None, task='classification', working_dir='/mnt/batch/tasks/shared/LS_root/moun...\n                                        class_weight='balanced',\n                                        criterion='gini', max_depth=None,\n                                        max_features='log2',\n                                        max_leaf_nodes=None, max_samples=None,\n                                        min_impurity_decrease=0.0,\n                                        min_impurity_split=None,\n                                        min_samples_leaf=0.06157894736842105,\n                                        min_samples_split=0.10368421052631578,\n                                        min_weight_fraction_leaf=0.0,\n                                        n_estimators=25, n_jobs=1,\n                                        oob_score=True, random_state=None,\n                                        verbose=0, warm_start=False))],\n         verbose=False)\n\nBest Run Transformations:\ndatatransformer\nMaxAbsScaler\nRandomForestClassifier\n\nBest Run Metrics:\nprecision_score_macro 0.8954326923076923\nprecision_score_weighted 0.8992788461538462\naverage_precision_score_macro 0.9661798013782218\nAUC_macro 0.9711701526286037\nAUC_weighted 0.9711701526286036\nAUC_micro 0.9751851851851852\naccuracy 0.9\nprecision_score_micro 0.9\nrecall_score_weighted 0.9\nf1_score_micro 0.9\nrecall_score_micro 0.9\naverage_precision_score_weighted 0.9735556815314943\nnorm_macro_recall 0.7439231204070096\nmatthews_correlation 0.7670352304457513\nf1_score_weighted 0.8984727272727273\nbalanced_accuracy 0.8719615602035048\nf1_score_macro 0.8821818181818182\naverage_precision_score_micro 0.9767081270024789\nweighted_accuracy 0.921744848750548\nlog_loss 0.3701077832012079\nrecall_score_macro 0.8719615602035048\nconfusion_matrix aml://artifactId/ExperimentRun/dcid.AutoML_63b8001d-e756-400a-81f9-124f55a794d8_24/confusion_matrix\naccuracy_table aml://artifactId/ExperimentRun/dcid.AutoML_63b8001d-e756-400a-81f9-124f55a794d8_24/accuracy_table\n"
        }
      ],
      "execution_count": 13,
      "metadata": {
        "gather": {
          "logged": 1649099294433
        },
        "jupyter": {
          "outputs_hidden": false,
          "source_hidden": false
        },
        "nteract": {
          "transient": {
            "deleting": false
          }
        }
      }
    },
    {
      "cell_type": "code",
      "source": [
        "'''\n",
        "import joblib\n",
        "import os\n",
        "from azureml.core import Model\n",
        "#model = ws.models['AutoML_heart_model']\n",
        "#print(model.name, 'version', model.version)\n",
        "\n",
        "# Save the trained model\n",
        "model_file = 'heart_model.pkl'\n",
        "joblib.dump(value=Model, filename=model_file)\n",
        "remote_run.upload_file(name = 'outputs/' + model_file, path_or_stream = './' + model_file)\n",
        "'''\n"
      ],
      "outputs": [
        {
          "output_type": "execute_result",
          "execution_count": 13,
          "data": {
            "text/plain": "<azureml._restclient.models.batch_artifact_content_information_dto.BatchArtifactContentInformationDto at 0x7f769eee6130>"
          },
          "metadata": {}
        }
      ],
      "execution_count": 13,
      "metadata": {
        "gather": {
          "logged": 1648990494215
        },
        "jupyter": {
          "outputs_hidden": false,
          "source_hidden": false
        },
        "nteract": {
          "transient": {
            "deleting": false
          }
        }
      }
    },
    {
      "cell_type": "code",
      "source": [
        "'''\n",
        "import joblib\n",
        "import os\n",
        "\n",
        "from azureml.core import Model\n",
        "# Save the trained model in the outputs folder\n",
        "os.makedirs('outputs', exist_ok=True)\n",
        "joblib.dump(value=Model, filename='outputs/AutoML_heart_model.pkl')\n",
        "'''"
      ],
      "outputs": [
        {
          "output_type": "execute_result",
          "execution_count": 28,
          "data": {
            "text/plain": "['outputs/AutoML_heart_model.pkl']"
          },
          "metadata": {}
        }
      ],
      "execution_count": 28,
      "metadata": {
        "gather": {
          "logged": 1648416613811
        },
        "jupyter": {
          "outputs_hidden": false,
          "source_hidden": false
        },
        "nteract": {
          "transient": {
            "deleting": false
          }
        }
      }
    },
    {
      "cell_type": "code",
      "source": [
        "#best_run.properties['model_name']"
      ],
      "outputs": [
        {
          "output_type": "execute_result",
          "execution_count": 18,
          "data": {
            "text/plain": "'AutoML6c8cea2b343'"
          },
          "metadata": {}
        }
      ],
      "execution_count": 18,
      "metadata": {
        "gather": {
          "logged": 1648413735328
        },
        "jupyter": {
          "outputs_hidden": false,
          "source_hidden": false
        },
        "nteract": {
          "transient": {
            "deleting": false
          }
        }
      }
    },
    {
      "cell_type": "code",
      "source": [
        "#TODO: Save the best model\n",
        "\n",
        "from azureml.core import Model\n",
        "\n",
        "\n",
        "model=remote_run.register_model(model_name='AutoML_heart_model',\n",
        "                        tags={'Training context':'AutoML'}\n",
        "                        )\n",
        "\n",
        "\n",
        "print('Model registered')\n",
        "print(\"Model ID\", remote_run.model_id)"
      ],
      "outputs": [
        {
          "output_type": "stream",
          "name": "stdout",
          "text": "Model registered\nModel ID AutoML_heart_model\n"
        }
      ],
      "execution_count": 14,
      "metadata": {
        "gather": {
          "logged": 1649099354956
        },
        "jupyter": {
          "outputs_hidden": false,
          "source_hidden": false
        },
        "nteract": {
          "transient": {
            "deleting": false
          }
        }
      }
    },
    {
      "cell_type": "code",
      "source": [
        "from azureml.core import Model\n",
        "\n",
        "# List registered models\n",
        "for model in Model.list(ws):\n",
        "    print(model.name, 'version:', model.version)\n",
        "    for tag_name in model.tags:\n",
        "        tag = model.tags[tag_name]\n",
        "        print ('\\t',tag_name, ':', tag)\n",
        "    for prop_name in model.properties:\n",
        "        prop = model.properties[prop_name]\n",
        "        print ('\\t',prop_name, ':', prop)\n",
        "    print('\\n')"
      ],
      "outputs": [
        {
          "output_type": "stream",
          "name": "stdout",
          "text": "AutoML_heart_model version: 2\n\t Training context : AutoML\n\n\nAutoML_heart_model version: 1\n\t Training context : AutoML\n\n\nHyperDrive_heart_model version: 1\n\t Training context : Hyperdrive\n\t AUC : 0.9291474654377879\n\t Accuracy : 0.8666666666666667\n\n\n"
        }
      ],
      "execution_count": 15,
      "metadata": {
        "gather": {
          "logged": 1649099408925
        },
        "jupyter": {
          "outputs_hidden": false,
          "source_hidden": false
        },
        "nteract": {
          "transient": {
            "deleting": false
          }
        }
      }
    },
    {
      "cell_type": "markdown",
      "source": [
        "## Model Deployment\n",
        "\n",
        "Remember you have to deploy only one of the two models you trained but you still need to register both the models. Perform the steps in the rest of this notebook only if you wish to deploy this model.\n",
        "\n",
        "TODO: In the cell below, register the model, create an inference config and deploy the model as a web service."
      ],
      "metadata": {}
    },
    {
      "cell_type": "code",
      "source": [
        "#model = ws.models['AutoML_heart_model']\n",
        "#print(model.name, 'version', model.version)"
      ],
      "outputs": [
        {
          "output_type": "stream",
          "name": "stdout",
          "text": "AutoML_heart_model version 2\n"
        }
      ],
      "execution_count": 4,
      "metadata": {
        "gather": {
          "logged": 1649101022439
        },
        "jupyter": {
          "outputs_hidden": false,
          "source_hidden": false
        },
        "nteract": {
          "transient": {
            "deleting": false
          }
        }
      }
    },
    {
      "cell_type": "code",
      "source": [
        "#print(model.name)"
      ],
      "outputs": [
        {
          "output_type": "stream",
          "name": "stdout",
          "text": "AutoML_heart_model\n"
        }
      ],
      "execution_count": 33,
      "metadata": {
        "gather": {
          "logged": 1648495815179
        },
        "jupyter": {
          "outputs_hidden": false,
          "source_hidden": false
        },
        "nteract": {
          "transient": {
            "deleting": false
          }
        }
      }
    },
    {
      "cell_type": "markdown",
      "source": [
        "Create a folder for configuration files"
      ],
      "metadata": {
        "nteract": {
          "transient": {
            "deleting": false
          }
        }
      }
    },
    {
      "cell_type": "code",
      "source": [
        "'''\n",
        "import os\n",
        "\n",
        "folder_name = 'heart_service'\n",
        "\n",
        "# Create a folder for the web service files\n",
        "experiment_folder = './' + folder_name\n",
        "os.makedirs(folder_name, exist_ok=True)\n",
        "\n",
        "print(folder_name, 'folder created.')\n",
        "'''"
      ],
      "outputs": [
        {
          "output_type": "stream",
          "name": "stdout",
          "text": "heart_service folder created.\n"
        }
      ],
      "execution_count": 16,
      "metadata": {
        "gather": {
          "logged": 1648990572756
        },
        "jupyter": {
          "outputs_hidden": false,
          "source_hidden": false
        },
        "nteract": {
          "transient": {
            "deleting": false
          }
        }
      }
    },
    {
      "cell_type": "code",
      "source": [
        "\n",
        "'''\n",
        "\n",
        "%%writefile $folder_name/score_heart.py\n",
        "import json\n",
        "import joblib\n",
        "import numpy as np\n",
        "#import os\n",
        "from azureml.core.model import Model\n",
        "\n",
        "# Called when the service is loaded\n",
        "def init():\n",
        "    global model\n",
        "    # Get the path to the deployed model file and load it\n",
        "    #model_path = os.path.join(os.getenv('AZUREML_MODEL_DIR'), 'heart_model.pkl')\n",
        "    model_path=Model.get_model_path('AutoML_heart_model')\n",
        "    model = joblib.load(model_path)\n",
        "\n",
        "\n",
        "def run(raw_data):\n",
        "    # Get the input data as a numpy array\n",
        "    data = np.array(json.loads(raw_data)['data'])\n",
        "    # Get a prediction from the model\n",
        "    predictions = model.predict(data)\n",
        "    # Get the corresponding classname for each prediction (0 or 1)\n",
        "    classnames = [1, 0]\n",
        "    predicted_classes = []\n",
        "    for prediction in predictions:\n",
        "        predicted_classes.append(classnames[prediction])\n",
        "    # Return the predictions as JSON\n",
        "    return json.dumps(predicted_classes)\n",
        "'''"
      ],
      "outputs": [
        {
          "output_type": "stream",
          "name": "stdout",
          "text": "Overwriting heart_service/score_heart.py\n"
        }
      ],
      "execution_count": 56,
      "metadata": {
        "jupyter": {
          "outputs_hidden": false,
          "source_hidden": false
        },
        "nteract": {
          "transient": {
            "deleting": false
          }
        }
      }
    },
    {
      "cell_type": "code",
      "source": [
        "\r\n",
        "#best_run, fitted_model = remote_run.get_output()\r\n",
        "\r\n",
        "script_file_name = 'inference/score.py'\r\n",
        "#download file from our latest run from outputs/scoring_file_v_1_0_0.py to inference/score.py\r\n",
        "best_run.download_file(\"outputs/scoring_file_v_2_0_0.py\",script_file_name)"
      ],
      "outputs": [
        {
          "output_type": "error",
          "ename": "NameError",
          "evalue": "name 'best_run' is not defined",
          "traceback": [
            "\u001b[0;31m---------------------------------------------------------------------------\u001b[0m",
            "\u001b[0;31mNameError\u001b[0m                                 Traceback (most recent call last)",
            "\u001b[0;32m<ipython-input-6-deb76279725f>\u001b[0m in \u001b[0;36m<module>\u001b[0;34m\u001b[0m\n\u001b[1;32m      3\u001b[0m \u001b[0mscript_file_name\u001b[0m \u001b[0;34m=\u001b[0m \u001b[0;34m'inference/score.py'\u001b[0m\u001b[0;34m\u001b[0m\u001b[0;34m\u001b[0m\u001b[0m\n\u001b[1;32m      4\u001b[0m \u001b[0;31m#download file from our latest run from outputs/scoring_file_v_1_0_0.py to inference/score.py\u001b[0m\u001b[0;34m\u001b[0m\u001b[0;34m\u001b[0m\u001b[0;34m\u001b[0m\u001b[0m\n\u001b[0;32m----> 5\u001b[0;31m \u001b[0mbest_run\u001b[0m\u001b[0;34m.\u001b[0m\u001b[0mdownload_file\u001b[0m\u001b[0;34m(\u001b[0m\u001b[0;34m\"outputs/scoring_file_v_2_0_0.py\"\u001b[0m\u001b[0;34m,\u001b[0m\u001b[0mscript_file_name\u001b[0m\u001b[0;34m)\u001b[0m\u001b[0;34m\u001b[0m\u001b[0;34m\u001b[0m\u001b[0m\n\u001b[0m",
            "\u001b[0;31mNameError\u001b[0m: name 'best_run' is not defined"
          ]
        }
      ],
      "execution_count": 6,
      "metadata": {
        "jupyter": {
          "source_hidden": false,
          "outputs_hidden": false
        },
        "nteract": {
          "transient": {
            "deleting": false
          }
        },
        "gather": {
          "logged": 1649101095002
        }
      }
    },
    {
      "cell_type": "code",
      "source": [
        "## Use the below to prevent the 'No usable environment found' error\r\n",
        "## download a yml file\r\n",
        "from azureml.core.environment import Environment\r\n",
        "from azureml.automl.core.shared import constants\r\n",
        "best_run.download_file(constants.CONDA_ENV_FILE_PATH, 'myenv.yml')\r\n",
        "myenv = Environment.from_conda_specification(name=\"myenv\", file_path=\"myenv.yml\")"
      ],
      "outputs": [],
      "execution_count": 17,
      "metadata": {
        "jupyter": {
          "source_hidden": false,
          "outputs_hidden": false
        },
        "nteract": {
          "transient": {
            "deleting": false
          }
        },
        "gather": {
          "logged": 1649099969166
        }
      }
    },
    {
      "cell_type": "code",
      "source": [
        "from azureml.core.webservice import AciWebservice,Webservice\n",
        "from azureml.core.model import InferenceConfig\n",
        "from azureml.core.model import Model\n",
        "from azureml.core.environment import Environment\n",
        "\n",
        "\n",
        "'''\n",
        "# Configure the scoring environment\n",
        "inference_config = InferenceConfig(environment=best_run.get_environment(),  #runtime= \"python\",\n",
        "                                   source_directory = folder_name,\n",
        "                                   entry_script=\"score_heart.py\")\n",
        "                                   #conda_file=\"heart_env.yml\")\n",
        "'''\n",
        "#myenv\n",
        "\n",
        "inference_config = InferenceConfig(entry_script=script_file_name ,environment=myenv)\n",
        "\n",
        "# What kind of configuration will our endpoint be hosted on?\n",
        "deployment_config = AciWebservice.deploy_configuration(cpu_cores = 2, memory_gb = 4,description=\"Heart failure classification\")\n",
        "\n",
        "service_name = \"heart-service\"\n",
        "\n",
        "service = Model.deploy(ws, service_name, [model], inference_config, deployment_config,overwrite=True)\n",
        "\n",
        "service.wait_for_deployment(True)\n",
        "print(service.state)"
      ],
      "outputs": [],
      "execution_count": null,
      "metadata": {
        "gather": {
          "logged": 1649100568593
        },
        "jupyter": {
          "outputs_hidden": false,
          "source_hidden": false
        },
        "nteract": {
          "transient": {
            "deleting": false
          }
        }
      }
    },
    {
      "cell_type": "code",
      "source": [
        "endpoint = service.scoring_uri\n",
        "#print(endpoint)"
      ],
      "outputs": [],
      "execution_count": 63,
      "metadata": {
        "gather": {
          "logged": 1649006981753
        },
        "jupyter": {
          "outputs_hidden": false,
          "source_hidden": false
        },
        "nteract": {
          "transient": {
            "deleting": false
          }
        }
      }
    },
    {
      "cell_type": "markdown",
      "source": [
        "TODO: In the cell below, send a request to the web service you deployed to test it."
      ],
      "metadata": {
        "collapsed": true,
        "gather": {
          "logged": 1598431657736
        },
        "jupyter": {
          "outputs_hidden": false,
          "source_hidden": false
        },
        "nteract": {
          "transient": {
            "deleting": false
          }
        }
      }
    },
    {
      "cell_type": "markdown",
      "source": [
        "Enable Application insights and get service logs"
      ],
      "metadata": {
        "nteract": {
          "transient": {
            "deleting": false
          }
        }
      }
    },
    {
      "cell_type": "code",
      "source": [
        "# enable application insight\n",
        "service.update(enable_app_insights=True)\n",
        "\n",
        "logs = service.get_logs()\n",
        "\n",
        "for line in logs.split('\\n'):\n",
        "    print(line)\n",
        "#print('Swagger URI: {}'.format(service.swagger_uri))"
      ],
      "outputs": [],
      "execution_count": 27,
      "metadata": {
        "gather": {
          "logged": 1649096679022
        },
        "jupyter": {
          "outputs_hidden": false,
          "source_hidden": false
        },
        "nteract": {
          "transient": {
            "deleting": false
          }
        }
      }
    },
    {
      "cell_type": "code",
      "source": [
        "import requests\n",
        "import urllib.request\n",
        "import json\n",
        "\n",
        "\n",
        "x_new=train_ds.to_pandas_dataframe().iloc[0:3,0:12]\n",
        "# Convert the array to a serializable list in a JSON document\n",
        "#input_json = json.dumps({\"data\": x_new})\n",
        "input_json=str.encode(json.dumps({'data': x_new.to_dict(orient='records')}))\n",
        "\n",
        "# Set the content type\n",
        "headers = { 'Content-Type':'application/json' }\n",
        "\n",
        "req = urllib.request.Request(endpoint, input_json, headers = headers)\n",
        "\n",
        "try:\n",
        "    response = urllib.request.urlopen(req)\n",
        "\n",
        "    result = response.read()\n",
        "    print(result)\n",
        "except urllib.error.HTTPError as error:\n",
        "    print(\"The request failed with status code: \" + str(error.code))\n",
        "\n",
        "    # Print the headers - they include the requert ID and the timestamp, which are useful for debugging the failure\n",
        "    print(error.info())\n",
        "    print(error.read().decode(\"utf8\", 'ignore'))\n"
      ],
      "outputs": [
        {
          "output_type": "stream",
          "name": "stdout",
          "text": "b'\"{\\\\\"error\\\\\": \\\\\"DataException:\\\\\\\\n\\\\\\\\tMessage: The number of features in [fitted data](12) does not match with those in [input data](1). Please inspect your data, and make sure that features are aligned in both the Datasets.\\\\\\\\n\\\\\\\\tInnerException: None\\\\\\\\n\\\\\\\\tErrorResponse \\\\\\\\n{\\\\\\\\n    \\\\\\\\\\\\\"error\\\\\\\\\\\\\": {\\\\\\\\n        \\\\\\\\\\\\\"code\\\\\\\\\\\\\": \\\\\\\\\\\\\"UserError\\\\\\\\\\\\\",\\\\\\\\n        \\\\\\\\\\\\\"message\\\\\\\\\\\\\": \\\\\\\\\\\\\"The number of features in [fitted data](12) does not match with those in [input data](1). Please inspect your data, and make sure that features are aligned in both the Datasets.\\\\\\\\\\\\\",\\\\\\\\n        \\\\\\\\\\\\\"target\\\\\\\\\\\\\": \\\\\\\\\\\\\"X\\\\\\\\\\\\\",\\\\\\\\n        \\\\\\\\\\\\\"inner_error\\\\\\\\\\\\\": {\\\\\\\\n            \\\\\\\\\\\\\"code\\\\\\\\\\\\\": \\\\\\\\\\\\\"BadData\\\\\\\\\\\\\",\\\\\\\\n            \\\\\\\\\\\\\"inner_error\\\\\\\\\\\\\": {\\\\\\\\n                \\\\\\\\\\\\\"code\\\\\\\\\\\\\": \\\\\\\\\\\\\"InvalidDimension\\\\\\\\\\\\\",\\\\\\\\n                \\\\\\\\\\\\\"inner_error\\\\\\\\\\\\\": {\\\\\\\\n                    \\\\\\\\\\\\\"code\\\\\\\\\\\\\": \\\\\\\\\\\\\"DataShapeMismatch\\\\\\\\\\\\\"\\\\\\\\n                }\\\\\\\\n            }\\\\\\\\n        },\\\\\\\\n        \\\\\\\\\\\\\"reference_code\\\\\\\\\\\\\": \\\\\\\\\\\\\"c402b6c2-3870-45a7-8745-c063bd385962\\\\\\\\\\\\\"\\\\\\\\n    }\\\\\\\\n}\\\\\"}\"'\n"
        },
        {
          "output_type": "execute_result",
          "execution_count": 61,
          "data": {
            "text/plain": "'\\npredicted_classes = json.loads(predictions.json())\\n\\nfor i in range(len(x_new)):\\n    print (\"Patient {}\".format(x_new[i]), predicted_classes[i] )\\n'"
          },
          "metadata": {}
        }
      ],
      "execution_count": 61,
      "metadata": {
        "gather": {
          "logged": 1649006701036
        },
        "jupyter": {
          "outputs_hidden": false,
          "source_hidden": false
        },
        "nteract": {
          "transient": {
            "deleting": false
          }
        }
      }
    },
    {
      "cell_type": "markdown",
      "source": [
        "TODO: In the cell below, print the logs of the web service and delete the service"
      ],
      "metadata": {
        "collapsed": true,
        "gather": {
          "logged": 1598432765711
        },
        "jupyter": {
          "outputs_hidden": false,
          "source_hidden": false
        },
        "nteract": {
          "transient": {
            "deleting": false
          }
        }
      }
    },
    {
      "cell_type": "code",
      "source": [],
      "outputs": [],
      "execution_count": null,
      "metadata": {
        "jupyter": {
          "outputs_hidden": false,
          "source_hidden": false
        },
        "nteract": {
          "transient": {
            "deleting": false
          }
        }
      }
    },
    {
      "cell_type": "markdown",
      "source": [
        "**Submission Checklist**\n",
        "- I have registered the model.\n",
        "- I have deployed the model with the best accuracy as a webservice.\n",
        "- I have tested the webservice by sending a request to the model endpoint.\n",
        "- I have deleted the webservice and shutdown all the computes that I have used.\n",
        "- I have taken a screenshot showing the model endpoint as active.\n",
        "- The project includes a file containing the environment details.\n"
      ],
      "metadata": {}
    },
    {
      "cell_type": "markdown",
      "source": [],
      "metadata": {}
    }
  ],
  "metadata": {
    "kernel_info": {
      "name": "python38-azureml"
    },
    "kernelspec": {
      "name": "python38-azureml",
      "language": "python",
      "display_name": "Python 3.8 - AzureML"
    },
    "language_info": {
      "name": "python",
      "version": "3.8.5",
      "mimetype": "text/x-python",
      "codemirror_mode": {
        "name": "ipython",
        "version": 3
      },
      "pygments_lexer": "ipython3",
      "nbconvert_exporter": "python",
      "file_extension": ".py"
    },
    "microsoft": {
      "host": {
        "AzureML": {
          "notebookHasBeenCompleted": true
        }
      }
    },
    "nteract": {
      "version": "nteract-front-end@1.0.0"
    }
  },
  "nbformat": 4,
  "nbformat_minor": 2
}